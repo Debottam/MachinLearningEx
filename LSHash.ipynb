{
  "nbformat": 4,
  "nbformat_minor": 0,
  "metadata": {
    "colab": {
      "name": "Untitled3.ipynb",
      "provenance": [],
      "include_colab_link": true
    },
    "kernelspec": {
      "name": "python3",
      "display_name": "Python 3"
    }
  },
  "cells": [
    {
      "cell_type": "markdown",
      "metadata": {
        "id": "view-in-github",
        "colab_type": "text"
      },
      "source": [
        "<a href=\"https://colab.research.google.com/github/Debottam/MachinLearningEx/blob/master/LSHash.ipynb\" target=\"_parent\"><img src=\"https://colab.research.google.com/assets/colab-badge.svg\" alt=\"Open In Colab\"/></a>"
      ]
    },
    {
      "cell_type": "code",
      "metadata": {
        "id": "tm1MXu46kpo1",
        "colab_type": "code",
        "colab": {
          "base_uri": "https://localhost:8080/",
          "height": 202
        },
        "outputId": "16050afe-40d8-4073-e31f-bde758aea78d"
      },
      "source": [
        "from keras.layers import Input, Dense\n",
        "from keras.models import Model\n",
        "\n",
        "# this is the size of our encoded representations\n",
        "encoding_dim = 32  # 32 floats -> compression of factor 24.5, assuming the input is 784 floats\n",
        "\n",
        "# this is our input placeholder\n",
        "input_img = Input(shape=(784,))\n",
        "# \"encoded\" is the encoded representation of the input\n",
        "encoded = Dense(encoding_dim, activation='relu')(input_img)\n",
        "# \"decoded\" is the lossy reconstruction of the input\n",
        "decoded = Dense(784, activation='sigmoid')(encoded)\n",
        "\n",
        "# this model maps an input to its reconstruction\n",
        "autoencoder = Model(input_img, decoded)"
      ],
      "execution_count": 1,
      "outputs": [
        {
          "output_type": "stream",
          "text": [
            "Using TensorFlow backend.\n"
          ],
          "name": "stderr"
        },
        {
          "output_type": "display_data",
          "data": {
            "text/html": [
              "<p style=\"color: red;\">\n",
              "The default version of TensorFlow in Colab will soon switch to TensorFlow 2.x.<br>\n",
              "We recommend you <a href=\"https://www.tensorflow.org/guide/migrate\" target=\"_blank\">upgrade</a> now \n",
              "or ensure your notebook will continue to use TensorFlow 1.x via the <code>%tensorflow_version 1.x</code> magic:\n",
              "<a href=\"https://colab.research.google.com/notebooks/tensorflow_version.ipynb\" target=\"_blank\">more info</a>.</p>\n"
            ],
            "text/plain": [
              "<IPython.core.display.HTML object>"
            ]
          },
          "metadata": {
            "tags": []
          }
        },
        {
          "output_type": "stream",
          "text": [
            "WARNING:tensorflow:From /usr/local/lib/python3.6/dist-packages/keras/backend/tensorflow_backend.py:66: The name tf.get_default_graph is deprecated. Please use tf.compat.v1.get_default_graph instead.\n",
            "\n",
            "WARNING:tensorflow:From /usr/local/lib/python3.6/dist-packages/keras/backend/tensorflow_backend.py:541: The name tf.placeholder is deprecated. Please use tf.compat.v1.placeholder instead.\n",
            "\n",
            "WARNING:tensorflow:From /usr/local/lib/python3.6/dist-packages/keras/backend/tensorflow_backend.py:4432: The name tf.random_uniform is deprecated. Please use tf.random.uniform instead.\n",
            "\n"
          ],
          "name": "stdout"
        }
      ]
    },
    {
      "cell_type": "code",
      "metadata": {
        "id": "fzsFe2YNlFI0",
        "colab_type": "code",
        "colab": {}
      },
      "source": [
        "# this model maps an input to its encoded representation\n",
        "encoder = Model(input_img, encoded)"
      ],
      "execution_count": 0,
      "outputs": []
    },
    {
      "cell_type": "code",
      "metadata": {
        "id": "uztUyFM3lQR4",
        "colab_type": "code",
        "colab": {}
      },
      "source": [
        "# create a placeholder for an encoded (32-dimensional) input\n",
        "encoded_input = Input(shape=(encoding_dim,))\n",
        "# retrieve the last layer of the autoencoder model\n",
        "decoder_layer = autoencoder.layers[-1]\n",
        "# create the decoder model\n",
        "decoder = Model(encoded_input, decoder_layer(encoded_input))"
      ],
      "execution_count": 0,
      "outputs": []
    },
    {
      "cell_type": "code",
      "metadata": {
        "id": "IJV0xBsRluZU",
        "colab_type": "code",
        "colab": {
          "base_uri": "https://localhost:8080/",
          "height": 156
        },
        "outputId": "b318bdff-b23d-45c4-bec9-d61d9ffba988"
      },
      "source": [
        "autoencoder.compile(optimizer='adadelta', loss='binary_crossentropy')"
      ],
      "execution_count": 4,
      "outputs": [
        {
          "output_type": "stream",
          "text": [
            "WARNING:tensorflow:From /usr/local/lib/python3.6/dist-packages/keras/optimizers.py:793: The name tf.train.Optimizer is deprecated. Please use tf.compat.v1.train.Optimizer instead.\n",
            "\n",
            "WARNING:tensorflow:From /usr/local/lib/python3.6/dist-packages/keras/backend/tensorflow_backend.py:3657: The name tf.log is deprecated. Please use tf.math.log instead.\n",
            "\n",
            "WARNING:tensorflow:From /usr/local/lib/python3.6/dist-packages/tensorflow_core/python/ops/nn_impl.py:183: where (from tensorflow.python.ops.array_ops) is deprecated and will be removed in a future version.\n",
            "Instructions for updating:\n",
            "Use tf.where in 2.0, which has the same broadcast rule as np.where\n"
          ],
          "name": "stdout"
        }
      ]
    },
    {
      "cell_type": "code",
      "metadata": {
        "id": "5E2XZYqll2Dz",
        "colab_type": "code",
        "colab": {
          "base_uri": "https://localhost:8080/",
          "height": 255
        },
        "outputId": "c241d711-48e2-40fc-8a15-98ee013617f3"
      },
      "source": [
        "autoencoder.summary()"
      ],
      "execution_count": 5,
      "outputs": [
        {
          "output_type": "stream",
          "text": [
            "Model: \"model_1\"\n",
            "_________________________________________________________________\n",
            "Layer (type)                 Output Shape              Param #   \n",
            "=================================================================\n",
            "input_1 (InputLayer)         (None, 784)               0         \n",
            "_________________________________________________________________\n",
            "dense_1 (Dense)              (None, 32)                25120     \n",
            "_________________________________________________________________\n",
            "dense_2 (Dense)              (None, 784)               25872     \n",
            "=================================================================\n",
            "Total params: 50,992\n",
            "Trainable params: 50,992\n",
            "Non-trainable params: 0\n",
            "_________________________________________________________________\n"
          ],
          "name": "stdout"
        }
      ]
    },
    {
      "cell_type": "code",
      "metadata": {
        "id": "qeYnfrbll7VX",
        "colab_type": "code",
        "colab": {
          "base_uri": "https://localhost:8080/",
          "height": 221
        },
        "outputId": "793fca1e-18d2-4016-b37c-f33ce8cd5b1d"
      },
      "source": [
        "encoder.summary()"
      ],
      "execution_count": 6,
      "outputs": [
        {
          "output_type": "stream",
          "text": [
            "Model: \"model_2\"\n",
            "_________________________________________________________________\n",
            "Layer (type)                 Output Shape              Param #   \n",
            "=================================================================\n",
            "input_1 (InputLayer)         (None, 784)               0         \n",
            "_________________________________________________________________\n",
            "dense_1 (Dense)              (None, 32)                25120     \n",
            "=================================================================\n",
            "Total params: 25,120\n",
            "Trainable params: 25,120\n",
            "Non-trainable params: 0\n",
            "_________________________________________________________________\n"
          ],
          "name": "stdout"
        }
      ]
    },
    {
      "cell_type": "code",
      "metadata": {
        "id": "WgfsxqZ_mAcc",
        "colab_type": "code",
        "colab": {
          "base_uri": "https://localhost:8080/",
          "height": 51
        },
        "outputId": "885a762c-fedf-491d-9ef5-af517d460a8c"
      },
      "source": [
        "from keras.datasets import mnist\n",
        "import numpy as np\n",
        "(x_train, _), (x_test, _) = mnist.load_data()"
      ],
      "execution_count": 7,
      "outputs": [
        {
          "output_type": "stream",
          "text": [
            "Downloading data from https://s3.amazonaws.com/img-datasets/mnist.npz\n",
            "11493376/11490434 [==============================] - 1s 0us/step\n"
          ],
          "name": "stdout"
        }
      ]
    },
    {
      "cell_type": "code",
      "metadata": {
        "id": "72BuawF0mPWX",
        "colab_type": "code",
        "colab": {
          "base_uri": "https://localhost:8080/",
          "height": 51
        },
        "outputId": "b08583df-b28e-4bee-a07d-14cfd5a24fb9"
      },
      "source": [
        "x_train = x_train.astype('float32') / 255.\n",
        "x_test = x_test.astype('float32') / 255.\n",
        "x_train = x_train.reshape((len(x_train), np.prod(x_train.shape[1:])))\n",
        "x_test = x_test.reshape((len(x_test), np.prod(x_test.shape[1:])))\n",
        "print(x_train.shape)\n",
        "print(x_test.shape)"
      ],
      "execution_count": 9,
      "outputs": [
        {
          "output_type": "stream",
          "text": [
            "(60000, 784)\n",
            "(10000, 784)\n"
          ],
          "name": "stdout"
        }
      ]
    },
    {
      "cell_type": "code",
      "metadata": {
        "id": "PShZj4LrmToq",
        "colab_type": "code",
        "colab": {
          "base_uri": "https://localhost:8080/",
          "height": 1000
        },
        "outputId": "3f49a50c-98c6-44f6-df43-7777962b1dbc"
      },
      "source": [
        "autoencoder.fit(x_train, x_train,\n",
        "                epochs=50,\n",
        "                batch_size=256,\n",
        "                shuffle=True,\n",
        "                validation_data=(x_test, x_test))"
      ],
      "execution_count": 10,
      "outputs": [
        {
          "output_type": "stream",
          "text": [
            "WARNING:tensorflow:From /usr/local/lib/python3.6/dist-packages/keras/backend/tensorflow_backend.py:1033: The name tf.assign_add is deprecated. Please use tf.compat.v1.assign_add instead.\n",
            "\n",
            "WARNING:tensorflow:From /usr/local/lib/python3.6/dist-packages/keras/backend/tensorflow_backend.py:1020: The name tf.assign is deprecated. Please use tf.compat.v1.assign instead.\n",
            "\n",
            "WARNING:tensorflow:From /usr/local/lib/python3.6/dist-packages/keras/backend/tensorflow_backend.py:3005: The name tf.Session is deprecated. Please use tf.compat.v1.Session instead.\n",
            "\n",
            "Train on 60000 samples, validate on 10000 samples\n",
            "Epoch 1/50\n",
            "WARNING:tensorflow:From /usr/local/lib/python3.6/dist-packages/keras/backend/tensorflow_backend.py:190: The name tf.get_default_session is deprecated. Please use tf.compat.v1.get_default_session instead.\n",
            "\n",
            "WARNING:tensorflow:From /usr/local/lib/python3.6/dist-packages/keras/backend/tensorflow_backend.py:197: The name tf.ConfigProto is deprecated. Please use tf.compat.v1.ConfigProto instead.\n",
            "\n",
            "WARNING:tensorflow:From /usr/local/lib/python3.6/dist-packages/keras/backend/tensorflow_backend.py:207: The name tf.global_variables is deprecated. Please use tf.compat.v1.global_variables instead.\n",
            "\n",
            "WARNING:tensorflow:From /usr/local/lib/python3.6/dist-packages/keras/backend/tensorflow_backend.py:216: The name tf.is_variable_initialized is deprecated. Please use tf.compat.v1.is_variable_initialized instead.\n",
            "\n",
            "WARNING:tensorflow:From /usr/local/lib/python3.6/dist-packages/keras/backend/tensorflow_backend.py:223: The name tf.variables_initializer is deprecated. Please use tf.compat.v1.variables_initializer instead.\n",
            "\n",
            "60000/60000 [==============================] - 4s 72us/step - loss: 0.3577 - val_loss: 0.2705\n",
            "Epoch 2/50\n",
            "60000/60000 [==============================] - 4s 66us/step - loss: 0.2631 - val_loss: 0.2518\n",
            "Epoch 3/50\n",
            "60000/60000 [==============================] - 4s 61us/step - loss: 0.2419 - val_loss: 0.2301\n",
            "Epoch 4/50\n",
            "60000/60000 [==============================] - 4s 62us/step - loss: 0.2230 - val_loss: 0.2132\n",
            "Epoch 5/50\n",
            "60000/60000 [==============================] - 4s 62us/step - loss: 0.2081 - val_loss: 0.2002\n",
            "Epoch 6/50\n",
            "60000/60000 [==============================] - 4s 63us/step - loss: 0.1966 - val_loss: 0.1903\n",
            "Epoch 7/50\n",
            "60000/60000 [==============================] - 4s 62us/step - loss: 0.1877 - val_loss: 0.1824\n",
            "Epoch 8/50\n",
            "60000/60000 [==============================] - 4s 61us/step - loss: 0.1806 - val_loss: 0.1759\n",
            "Epoch 9/50\n",
            "60000/60000 [==============================] - 4s 62us/step - loss: 0.1745 - val_loss: 0.1704\n",
            "Epoch 10/50\n",
            "60000/60000 [==============================] - 4s 62us/step - loss: 0.1693 - val_loss: 0.1654\n",
            "Epoch 11/50\n",
            "60000/60000 [==============================] - 4s 63us/step - loss: 0.1647 - val_loss: 0.1612\n",
            "Epoch 12/50\n",
            "60000/60000 [==============================] - 4s 63us/step - loss: 0.1605 - val_loss: 0.1570\n",
            "Epoch 13/50\n",
            "60000/60000 [==============================] - 4s 64us/step - loss: 0.1565 - val_loss: 0.1533\n",
            "Epoch 14/50\n",
            "60000/60000 [==============================] - 4s 64us/step - loss: 0.1529 - val_loss: 0.1497\n",
            "Epoch 15/50\n",
            "60000/60000 [==============================] - 4s 62us/step - loss: 0.1494 - val_loss: 0.1464\n",
            "Epoch 16/50\n",
            "60000/60000 [==============================] - 4s 63us/step - loss: 0.1463 - val_loss: 0.1432\n",
            "Epoch 17/50\n",
            "60000/60000 [==============================] - 4s 62us/step - loss: 0.1433 - val_loss: 0.1404\n",
            "Epoch 18/50\n",
            "60000/60000 [==============================] - 4s 62us/step - loss: 0.1405 - val_loss: 0.1377\n",
            "Epoch 19/50\n",
            "60000/60000 [==============================] - 4s 62us/step - loss: 0.1379 - val_loss: 0.1352\n",
            "Epoch 20/50\n",
            "60000/60000 [==============================] - 4s 62us/step - loss: 0.1354 - val_loss: 0.1327\n",
            "Epoch 21/50\n",
            "60000/60000 [==============================] - 4s 63us/step - loss: 0.1331 - val_loss: 0.1304\n",
            "Epoch 22/50\n",
            "60000/60000 [==============================] - 4s 62us/step - loss: 0.1309 - val_loss: 0.1282\n",
            "Epoch 23/50\n",
            "60000/60000 [==============================] - 4s 62us/step - loss: 0.1288 - val_loss: 0.1262\n",
            "Epoch 24/50\n",
            "60000/60000 [==============================] - 4s 62us/step - loss: 0.1269 - val_loss: 0.1243\n",
            "Epoch 25/50\n",
            "60000/60000 [==============================] - 4s 63us/step - loss: 0.1250 - val_loss: 0.1224\n",
            "Epoch 26/50\n",
            "60000/60000 [==============================] - 4s 62us/step - loss: 0.1232 - val_loss: 0.1207\n",
            "Epoch 27/50\n",
            "60000/60000 [==============================] - 4s 62us/step - loss: 0.1216 - val_loss: 0.1191\n",
            "Epoch 28/50\n",
            "60000/60000 [==============================] - 4s 65us/step - loss: 0.1200 - val_loss: 0.1176\n",
            "Epoch 29/50\n",
            "60000/60000 [==============================] - 4s 64us/step - loss: 0.1186 - val_loss: 0.1162\n",
            "Epoch 30/50\n",
            "60000/60000 [==============================] - 4s 62us/step - loss: 0.1172 - val_loss: 0.1149\n",
            "Epoch 31/50\n",
            "60000/60000 [==============================] - 4s 62us/step - loss: 0.1159 - val_loss: 0.1136\n",
            "Epoch 32/50\n",
            "60000/60000 [==============================] - 4s 61us/step - loss: 0.1147 - val_loss: 0.1125\n",
            "Epoch 33/50\n",
            "60000/60000 [==============================] - 4s 63us/step - loss: 0.1136 - val_loss: 0.1114\n",
            "Epoch 34/50\n",
            "60000/60000 [==============================] - 4s 62us/step - loss: 0.1126 - val_loss: 0.1104\n",
            "Epoch 35/50\n",
            "60000/60000 [==============================] - 4s 61us/step - loss: 0.1116 - val_loss: 0.1095\n",
            "Epoch 36/50\n",
            "60000/60000 [==============================] - 4s 62us/step - loss: 0.1107 - val_loss: 0.1086\n",
            "Epoch 37/50\n",
            "60000/60000 [==============================] - 4s 63us/step - loss: 0.1099 - val_loss: 0.1078\n",
            "Epoch 38/50\n",
            "60000/60000 [==============================] - 4s 63us/step - loss: 0.1091 - val_loss: 0.1071\n",
            "Epoch 39/50\n",
            "60000/60000 [==============================] - 4s 62us/step - loss: 0.1084 - val_loss: 0.1064\n",
            "Epoch 40/50\n",
            "60000/60000 [==============================] - 4s 63us/step - loss: 0.1077 - val_loss: 0.1058\n",
            "Epoch 41/50\n",
            "60000/60000 [==============================] - 4s 63us/step - loss: 0.1071 - val_loss: 0.1052\n",
            "Epoch 42/50\n",
            "60000/60000 [==============================] - 4s 63us/step - loss: 0.1065 - val_loss: 0.1046\n",
            "Epoch 43/50\n",
            "60000/60000 [==============================] - 4s 63us/step - loss: 0.1060 - val_loss: 0.1041\n",
            "Epoch 44/50\n",
            "60000/60000 [==============================] - 4s 64us/step - loss: 0.1055 - val_loss: 0.1036\n",
            "Epoch 45/50\n",
            "60000/60000 [==============================] - 4s 67us/step - loss: 0.1050 - val_loss: 0.1032\n",
            "Epoch 46/50\n",
            "60000/60000 [==============================] - 4s 63us/step - loss: 0.1046 - val_loss: 0.1027\n",
            "Epoch 47/50\n",
            "60000/60000 [==============================] - 4s 62us/step - loss: 0.1041 - val_loss: 0.1023\n",
            "Epoch 48/50\n",
            "60000/60000 [==============================] - 4s 61us/step - loss: 0.1037 - val_loss: 0.1020\n",
            "Epoch 49/50\n",
            "60000/60000 [==============================] - 4s 62us/step - loss: 0.1034 - val_loss: 0.1016\n",
            "Epoch 50/50\n",
            "60000/60000 [==============================] - 4s 62us/step - loss: 0.1030 - val_loss: 0.1013\n"
          ],
          "name": "stdout"
        },
        {
          "output_type": "execute_result",
          "data": {
            "text/plain": [
              "<keras.callbacks.History at 0x7f3e5d83b6a0>"
            ]
          },
          "metadata": {
            "tags": []
          },
          "execution_count": 10
        }
      ]
    },
    {
      "cell_type": "code",
      "metadata": {
        "id": "eVpCRysomkv8",
        "colab_type": "code",
        "colab": {}
      },
      "source": [
        "(_, y_train), (_, y_test) = mnist.load_data()"
      ],
      "execution_count": 0,
      "outputs": []
    },
    {
      "cell_type": "code",
      "metadata": {
        "id": "OcAgj9cRnmoh",
        "colab_type": "code",
        "colab": {
          "base_uri": "https://localhost:8080/",
          "height": 51
        },
        "outputId": "d6cc7c4c-d429-4667-ee39-0f7c7d49e15b"
      },
      "source": [
        "print(y_train.shape)\n",
        "print(y_test.shape)"
      ],
      "execution_count": 12,
      "outputs": [
        {
          "output_type": "stream",
          "text": [
            "(60000,)\n",
            "(10000,)\n"
          ],
          "name": "stdout"
        }
      ]
    },
    {
      "cell_type": "code",
      "metadata": {
        "id": "alrG_515ntKP",
        "colab_type": "code",
        "colab": {}
      },
      "source": [
        "import numpy as np"
      ],
      "execution_count": 0,
      "outputs": []
    },
    {
      "cell_type": "code",
      "metadata": {
        "id": "qDKqdjgsn6tl",
        "colab_type": "code",
        "colab": {}
      },
      "source": [
        "class HashTable:\n",
        "    def __init__(self, hash_size, inp_dimensions):\n",
        "        self.hash_size = hash_size\n",
        "        self.inp_dimensions = inp_dimensions\n",
        "        self.hash_table = dict()\n",
        "        self.projections = np.random.randn(self.hash_size, inp_dimensions)\n",
        "        \n",
        "    def generate_hash(self, inp_vector):\n",
        "        bools = (np.dot(inp_vector, self.projections.T) > 0).astype('int')\n",
        "        return ''.join(bools.astype('str'))\n",
        "\n",
        "    def __setitem__(self, inp_vec, label):\n",
        "        hash_value = self.generate_hash(inp_vec)\n",
        "        self.hash_table[hash_value] = self.hash_table.get(hash_value, list()) + [label]\n",
        "        \n",
        "    def __getitem__(self, inp_vec):\n",
        "        hash_value = self.generate_hash(inp_vec)\n",
        "        return self.hash_table.get(hash_value, [])"
      ],
      "execution_count": 0,
      "outputs": []
    },
    {
      "cell_type": "code",
      "metadata": {
        "id": "mhZZ7-BkoGZX",
        "colab_type": "code",
        "colab": {}
      },
      "source": [
        "input_vec = encoder.predict(x_train)\n",
        "input_vec_test = encoder.predict(x_test)"
      ],
      "execution_count": 0,
      "outputs": []
    },
    {
      "cell_type": "code",
      "metadata": {
        "id": "oOHpmP0DpOuY",
        "colab_type": "code",
        "colab": {
          "base_uri": "https://localhost:8080/",
          "height": 34
        },
        "outputId": "24205345-7614-4343-a03f-350307a682fa"
      },
      "source": [
        "print(input_vec.shape)"
      ],
      "execution_count": 16,
      "outputs": [
        {
          "output_type": "stream",
          "text": [
            "(60000, 32)\n"
          ],
          "name": "stdout"
        }
      ]
    },
    {
      "cell_type": "code",
      "metadata": {
        "id": "QGgocDAfpT9q",
        "colab_type": "code",
        "colab": {}
      },
      "source": [
        "hash_table = HashTable(hash_size=30, inp_dimensions=32)"
      ],
      "execution_count": 0,
      "outputs": []
    },
    {
      "cell_type": "code",
      "metadata": {
        "id": "DLUr7ayatafa",
        "colab_type": "code",
        "colab": {
          "base_uri": "https://localhost:8080/",
          "height": 34
        },
        "outputId": "403bc63a-43c7-4f7d-e567-c9972954373a"
      },
      "source": [
        "hash_table.generate_hash(input_vec[0])"
      ],
      "execution_count": 112,
      "outputs": [
        {
          "output_type": "execute_result",
          "data": {
            "text/plain": [
              "'1101100110'"
            ]
          },
          "metadata": {
            "tags": []
          },
          "execution_count": 112
        }
      ]
    },
    {
      "cell_type": "code",
      "metadata": {
        "id": "h79uUm7rt3oy",
        "colab_type": "code",
        "colab": {
          "base_uri": "https://localhost:8080/",
          "height": 34
        },
        "outputId": "02bddedc-af3a-44f6-8b77-8db466bc7f0b"
      },
      "source": [
        "hash_table.generate_hash(input_vec[1])"
      ],
      "execution_count": 113,
      "outputs": [
        {
          "output_type": "execute_result",
          "data": {
            "text/plain": [
              "'1001100110'"
            ]
          },
          "metadata": {
            "tags": []
          },
          "execution_count": 113
        }
      ]
    },
    {
      "cell_type": "code",
      "metadata": {
        "id": "_Ou17Lh0uIlQ",
        "colab_type": "code",
        "colab": {
          "base_uri": "https://localhost:8080/",
          "height": 34
        },
        "outputId": "20476962-fcf6-4118-d412-5b29ba2f6f5b"
      },
      "source": [
        "hash_table.generate_hash(input_vec[2])"
      ],
      "execution_count": 58,
      "outputs": [
        {
          "output_type": "execute_result",
          "data": {
            "text/plain": [
              "'0110110011111111010100101111000010011010'"
            ]
          },
          "metadata": {
            "tags": []
          },
          "execution_count": 58
        }
      ]
    },
    {
      "cell_type": "code",
      "metadata": {
        "id": "JSuvQObHpkoX",
        "colab_type": "code",
        "colab": {}
      },
      "source": [
        "for i in range(60000):\n",
        "  hash_table.__setitem__(input_vec[i], y_train[i])"
      ],
      "execution_count": 0,
      "outputs": []
    },
    {
      "cell_type": "code",
      "metadata": {
        "id": "RVqmqk4_p9PI",
        "colab_type": "code",
        "colab": {
          "base_uri": "https://localhost:8080/",
          "height": 34
        },
        "outputId": "76b26755-f3ec-4208-c667-5df085f39c18"
      },
      "source": [
        "y_test[10]"
      ],
      "execution_count": 120,
      "outputs": [
        {
          "output_type": "execute_result",
          "data": {
            "text/plain": [
              "0"
            ]
          },
          "metadata": {
            "tags": []
          },
          "execution_count": 120
        }
      ]
    },
    {
      "cell_type": "code",
      "metadata": {
        "id": "Ay4BLZt5qy_V",
        "colab_type": "code",
        "colab": {
          "base_uri": "https://localhost:8080/",
          "height": 34
        },
        "outputId": "f8131ac9-11c7-4fd0-bc52-46dc9820b1a7"
      },
      "source": [
        "hash_table.__getitem__(input_vec_test[10])"
      ],
      "execution_count": 124,
      "outputs": [
        {
          "output_type": "execute_result",
          "data": {
            "text/plain": [
              "[0, 0, 0, 8, 5, 0, 0, 0, 0, 0, 0, 0, 5, 0, 0, 0]"
            ]
          },
          "metadata": {
            "tags": []
          },
          "execution_count": 124
        }
      ]
    },
    {
      "cell_type": "code",
      "metadata": {
        "id": "7KThD5b3rYoV",
        "colab_type": "code",
        "colab": {
          "base_uri": "https://localhost:8080/",
          "height": 34
        },
        "outputId": "98a7f567-e3d9-4da2-c227-a944f08fd868"
      },
      "source": [
        "len(l)"
      ],
      "execution_count": 87,
      "outputs": [
        {
          "output_type": "execute_result",
          "data": {
            "text/plain": [
              "1"
            ]
          },
          "metadata": {
            "tags": []
          },
          "execution_count": 87
        }
      ]
    },
    {
      "cell_type": "code",
      "metadata": {
        "id": "w6XxbCgvr6RI",
        "colab_type": "code",
        "colab": {}
      },
      "source": [
        "class LSH:\n",
        "    def __init__(self, num_tables, hash_size, inp_dimensions):\n",
        "        self.num_tables = num_tables\n",
        "        self.hash_size = hash_size\n",
        "        self.inp_dimensions = inp_dimensions\n",
        "        self.hash_tables = list()\n",
        "        for i in range(self.num_tables):\n",
        "            self.hash_tables.append(HashTable(self.hash_size, self.inp_dimensions))\n",
        "    \n",
        "    def __setitem__(self, inp_vec, label):\n",
        "        for table in self.hash_tables:\n",
        "            table[inp_vec] = label\n",
        "    \n",
        "    def __getitem__(self, inp_vec):\n",
        "        results = list()\n",
        "        for table in self.hash_tables:\n",
        "            results.extend(table[inp_vec])\n",
        "        return list(set(results))"
      ],
      "execution_count": 0,
      "outputs": []
    },
    {
      "cell_type": "code",
      "metadata": {
        "id": "ETrey7ratCUW",
        "colab_type": "code",
        "colab": {}
      },
      "source": [
        "lsh = LSH(4, 40, 32)"
      ],
      "execution_count": 0,
      "outputs": []
    },
    {
      "cell_type": "code",
      "metadata": {
        "id": "O3H_IfzitJ68",
        "colab_type": "code",
        "colab": {}
      },
      "source": [
        "for i in range(60000):\n",
        "  lsh.__setitem__(input_vec[i], y_train[i])"
      ],
      "execution_count": 0,
      "outputs": []
    },
    {
      "cell_type": "code",
      "metadata": {
        "id": "xgHgLCmYxCL8",
        "colab_type": "code",
        "colab": {
          "base_uri": "https://localhost:8080/",
          "height": 34
        },
        "outputId": "fbc5921b-d670-434c-854c-1757039252c2"
      },
      "source": [
        "lsh.__getitem__(input_vec[3])"
      ],
      "execution_count": 82,
      "outputs": [
        {
          "output_type": "execute_result",
          "data": {
            "text/plain": [
              "[1, 2, 4, 7, 9]"
            ]
          },
          "metadata": {
            "tags": []
          },
          "execution_count": 82
        }
      ]
    },
    {
      "cell_type": "code",
      "metadata": {
        "id": "PRFqpizPxSrF",
        "colab_type": "code",
        "colab": {}
      },
      "source": [
        ""
      ],
      "execution_count": 0,
      "outputs": []
    }
  ]
}