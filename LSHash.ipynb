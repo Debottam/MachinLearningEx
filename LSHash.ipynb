{
  "nbformat": 4,
  "nbformat_minor": 0,
  "metadata": {
    "colab": {
      "name": "Untitled3.ipynb",
      "provenance": [],
      "include_colab_link": true
    },
    "kernelspec": {
      "name": "python3",
      "display_name": "Python 3"
    }
  },
  "cells": [
    {
      "cell_type": "markdown",
      "metadata": {
        "id": "view-in-github",
        "colab_type": "text"
      },
      "source": [
        "<a href=\"https://colab.research.google.com/github/Debottam/MachinLearningEx/blob/master/LSHash.ipynb\" target=\"_parent\"><img src=\"https://colab.research.google.com/assets/colab-badge.svg\" alt=\"Open In Colab\"/></a>"
      ]
    },
    {
      "cell_type": "code",
      "metadata": {
        "id": "tm1MXu46kpo1",
        "colab_type": "code",
        "outputId": "cb2b12d0-d6ad-4e82-cef1-13ad12cfb3d5",
        "colab": {
          "base_uri": "https://localhost:8080/",
          "height": 202
        }
      },
      "source": [
        "from keras.layers import Input, Dense\n",
        "from keras.models import Model\n",
        "\n",
        "# this is the size of our encoded representations\n",
        "encoding_dim = 32  # 32 floats -> compression of factor 24.5, assuming the input is 784 floats\n",
        "\n",
        "# this is our input placeholder\n",
        "input_img = Input(shape=(784,))\n",
        "# \"encoded\" is the encoded representation of the input\n",
        "encoded = Dense(encoding_dim, activation='relu')(input_img)\n",
        "# \"decoded\" is the lossy reconstruction of the input\n",
        "decoded = Dense(784, activation='sigmoid')(encoded)\n",
        "\n",
        "# this model maps an input to its reconstruction\n",
        "autoencoder = Model(input_img, decoded)"
      ],
      "execution_count": 1,
      "outputs": [
        {
          "output_type": "stream",
          "text": [
            "Using TensorFlow backend.\n"
          ],
          "name": "stderr"
        },
        {
          "output_type": "display_data",
          "data": {
            "text/html": [
              "<p style=\"color: red;\">\n",
              "The default version of TensorFlow in Colab will soon switch to TensorFlow 2.x.<br>\n",
              "We recommend you <a href=\"https://www.tensorflow.org/guide/migrate\" target=\"_blank\">upgrade</a> now \n",
              "or ensure your notebook will continue to use TensorFlow 1.x via the <code>%tensorflow_version 1.x</code> magic:\n",
              "<a href=\"https://colab.research.google.com/notebooks/tensorflow_version.ipynb\" target=\"_blank\">more info</a>.</p>\n"
            ],
            "text/plain": [
              "<IPython.core.display.HTML object>"
            ]
          },
          "metadata": {
            "tags": []
          }
        },
        {
          "output_type": "stream",
          "text": [
            "WARNING:tensorflow:From /usr/local/lib/python3.6/dist-packages/keras/backend/tensorflow_backend.py:66: The name tf.get_default_graph is deprecated. Please use tf.compat.v1.get_default_graph instead.\n",
            "\n",
            "WARNING:tensorflow:From /usr/local/lib/python3.6/dist-packages/keras/backend/tensorflow_backend.py:541: The name tf.placeholder is deprecated. Please use tf.compat.v1.placeholder instead.\n",
            "\n",
            "WARNING:tensorflow:From /usr/local/lib/python3.6/dist-packages/keras/backend/tensorflow_backend.py:4432: The name tf.random_uniform is deprecated. Please use tf.random.uniform instead.\n",
            "\n"
          ],
          "name": "stdout"
        }
      ]
    },
    {
      "cell_type": "code",
      "metadata": {
        "id": "fzsFe2YNlFI0",
        "colab_type": "code",
        "colab": {}
      },
      "source": [
        "# this model maps an input to its encoded representation\n",
        "encoder = Model(input_img, encoded)"
      ],
      "execution_count": 0,
      "outputs": []
    },
    {
      "cell_type": "code",
      "metadata": {
        "id": "uztUyFM3lQR4",
        "colab_type": "code",
        "colab": {}
      },
      "source": [
        "# create a placeholder for an encoded (32-dimensional) input\n",
        "encoded_input = Input(shape=(encoding_dim,))\n",
        "# retrieve the last layer of the autoencoder model\n",
        "decoder_layer = autoencoder.layers[-1]\n",
        "# create the decoder model\n",
        "decoder = Model(encoded_input, decoder_layer(encoded_input))"
      ],
      "execution_count": 0,
      "outputs": []
    },
    {
      "cell_type": "code",
      "metadata": {
        "id": "IJV0xBsRluZU",
        "colab_type": "code",
        "outputId": "ae4ad5b1-cd20-4249-ea82-cc85f8c501e5",
        "colab": {
          "base_uri": "https://localhost:8080/",
          "height": 156
        }
      },
      "source": [
        "autoencoder.compile(optimizer='adadelta', loss='binary_crossentropy')"
      ],
      "execution_count": 5,
      "outputs": [
        {
          "output_type": "stream",
          "text": [
            "WARNING:tensorflow:From /usr/local/lib/python3.6/dist-packages/keras/optimizers.py:793: The name tf.train.Optimizer is deprecated. Please use tf.compat.v1.train.Optimizer instead.\n",
            "\n",
            "WARNING:tensorflow:From /usr/local/lib/python3.6/dist-packages/keras/backend/tensorflow_backend.py:3657: The name tf.log is deprecated. Please use tf.math.log instead.\n",
            "\n",
            "WARNING:tensorflow:From /usr/local/lib/python3.6/dist-packages/tensorflow_core/python/ops/nn_impl.py:183: where (from tensorflow.python.ops.array_ops) is deprecated and will be removed in a future version.\n",
            "Instructions for updating:\n",
            "Use tf.where in 2.0, which has the same broadcast rule as np.where\n"
          ],
          "name": "stdout"
        }
      ]
    },
    {
      "cell_type": "code",
      "metadata": {
        "id": "5E2XZYqll2Dz",
        "colab_type": "code",
        "outputId": "692aa218-d6f5-47cb-9e47-c6d23cead322",
        "colab": {
          "base_uri": "https://localhost:8080/",
          "height": 255
        }
      },
      "source": [
        "autoencoder.summary()"
      ],
      "execution_count": 6,
      "outputs": [
        {
          "output_type": "stream",
          "text": [
            "Model: \"model_1\"\n",
            "_________________________________________________________________\n",
            "Layer (type)                 Output Shape              Param #   \n",
            "=================================================================\n",
            "input_1 (InputLayer)         (None, 784)               0         \n",
            "_________________________________________________________________\n",
            "dense_1 (Dense)              (None, 32)                25120     \n",
            "_________________________________________________________________\n",
            "dense_2 (Dense)              (None, 784)               25872     \n",
            "=================================================================\n",
            "Total params: 50,992\n",
            "Trainable params: 50,992\n",
            "Non-trainable params: 0\n",
            "_________________________________________________________________\n"
          ],
          "name": "stdout"
        }
      ]
    },
    {
      "cell_type": "code",
      "metadata": {
        "id": "qeYnfrbll7VX",
        "colab_type": "code",
        "outputId": "fde86a40-cbf9-4272-9de5-8ad38a4d0239",
        "colab": {
          "base_uri": "https://localhost:8080/",
          "height": 221
        }
      },
      "source": [
        "encoder.summary()"
      ],
      "execution_count": 7,
      "outputs": [
        {
          "output_type": "stream",
          "text": [
            "Model: \"model_2\"\n",
            "_________________________________________________________________\n",
            "Layer (type)                 Output Shape              Param #   \n",
            "=================================================================\n",
            "input_1 (InputLayer)         (None, 784)               0         \n",
            "_________________________________________________________________\n",
            "dense_1 (Dense)              (None, 32)                25120     \n",
            "=================================================================\n",
            "Total params: 25,120\n",
            "Trainable params: 25,120\n",
            "Non-trainable params: 0\n",
            "_________________________________________________________________\n"
          ],
          "name": "stdout"
        }
      ]
    },
    {
      "cell_type": "code",
      "metadata": {
        "id": "WgfsxqZ_mAcc",
        "colab_type": "code",
        "outputId": "3ff8375a-3807-43c9-81a6-6a70efac9f1b",
        "colab": {
          "base_uri": "https://localhost:8080/",
          "height": 51
        }
      },
      "source": [
        "from keras.datasets import mnist\n",
        "import numpy as np\n",
        "(x_train, _), (x_test, _) = mnist.load_data()"
      ],
      "execution_count": 8,
      "outputs": [
        {
          "output_type": "stream",
          "text": [
            "Downloading data from https://s3.amazonaws.com/img-datasets/mnist.npz\n",
            "11493376/11490434 [==============================] - 0s 0us/step\n"
          ],
          "name": "stdout"
        }
      ]
    },
    {
      "cell_type": "code",
      "metadata": {
        "id": "72BuawF0mPWX",
        "colab_type": "code",
        "outputId": "2333d81f-c595-40e2-a4d5-3338896b448d",
        "colab": {
          "base_uri": "https://localhost:8080/",
          "height": 51
        }
      },
      "source": [
        "x_train = x_train.astype('float32') / 255.\n",
        "x_test = x_test.astype('float32') / 255.\n",
        "x_train = x_train.reshape((len(x_train), np.prod(x_train.shape[1:])))\n",
        "x_test = x_test.reshape((len(x_test), np.prod(x_test.shape[1:])))\n",
        "print(x_train.shape)\n",
        "print(x_test.shape)"
      ],
      "execution_count": 9,
      "outputs": [
        {
          "output_type": "stream",
          "text": [
            "(60000, 784)\n",
            "(10000, 784)\n"
          ],
          "name": "stdout"
        }
      ]
    },
    {
      "cell_type": "code",
      "metadata": {
        "id": "PShZj4LrmToq",
        "colab_type": "code",
        "outputId": "b54a2884-80b2-4942-da02-feaf87cce14b",
        "colab": {
          "base_uri": "https://localhost:8080/",
          "height": 1000
        }
      },
      "source": [
        "autoencoder.fit(x_train, x_train,\n",
        "                epochs=50,\n",
        "                batch_size=256,\n",
        "                shuffle=True,\n",
        "                validation_data=(x_test, x_test))"
      ],
      "execution_count": 10,
      "outputs": [
        {
          "output_type": "stream",
          "text": [
            "WARNING:tensorflow:From /usr/local/lib/python3.6/dist-packages/keras/backend/tensorflow_backend.py:1033: The name tf.assign_add is deprecated. Please use tf.compat.v1.assign_add instead.\n",
            "\n",
            "WARNING:tensorflow:From /usr/local/lib/python3.6/dist-packages/keras/backend/tensorflow_backend.py:1020: The name tf.assign is deprecated. Please use tf.compat.v1.assign instead.\n",
            "\n",
            "WARNING:tensorflow:From /usr/local/lib/python3.6/dist-packages/keras/backend/tensorflow_backend.py:3005: The name tf.Session is deprecated. Please use tf.compat.v1.Session instead.\n",
            "\n",
            "Train on 60000 samples, validate on 10000 samples\n",
            "Epoch 1/50\n",
            "WARNING:tensorflow:From /usr/local/lib/python3.6/dist-packages/keras/backend/tensorflow_backend.py:190: The name tf.get_default_session is deprecated. Please use tf.compat.v1.get_default_session instead.\n",
            "\n",
            "WARNING:tensorflow:From /usr/local/lib/python3.6/dist-packages/keras/backend/tensorflow_backend.py:197: The name tf.ConfigProto is deprecated. Please use tf.compat.v1.ConfigProto instead.\n",
            "\n",
            "WARNING:tensorflow:From /usr/local/lib/python3.6/dist-packages/keras/backend/tensorflow_backend.py:207: The name tf.global_variables is deprecated. Please use tf.compat.v1.global_variables instead.\n",
            "\n",
            "WARNING:tensorflow:From /usr/local/lib/python3.6/dist-packages/keras/backend/tensorflow_backend.py:216: The name tf.is_variable_initialized is deprecated. Please use tf.compat.v1.is_variable_initialized instead.\n",
            "\n",
            "WARNING:tensorflow:From /usr/local/lib/python3.6/dist-packages/keras/backend/tensorflow_backend.py:223: The name tf.variables_initializer is deprecated. Please use tf.compat.v1.variables_initializer instead.\n",
            "\n",
            "60000/60000 [==============================] - 4s 66us/step - loss: 0.3508 - val_loss: 0.2702\n",
            "Epoch 2/50\n",
            "60000/60000 [==============================] - 3s 56us/step - loss: 0.2622 - val_loss: 0.2508\n",
            "Epoch 3/50\n",
            "60000/60000 [==============================] - 3s 56us/step - loss: 0.2412 - val_loss: 0.2289\n",
            "Epoch 4/50\n",
            "60000/60000 [==============================] - 3s 56us/step - loss: 0.2206 - val_loss: 0.2100\n",
            "Epoch 5/50\n",
            "60000/60000 [==============================] - 3s 56us/step - loss: 0.2048 - val_loss: 0.1971\n",
            "Epoch 6/50\n",
            "60000/60000 [==============================] - 3s 55us/step - loss: 0.1937 - val_loss: 0.1875\n",
            "Epoch 7/50\n",
            "60000/60000 [==============================] - 3s 56us/step - loss: 0.1852 - val_loss: 0.1801\n",
            "Epoch 8/50\n",
            "60000/60000 [==============================] - 3s 55us/step - loss: 0.1784 - val_loss: 0.1739\n",
            "Epoch 9/50\n",
            "60000/60000 [==============================] - 3s 56us/step - loss: 0.1728 - val_loss: 0.1688\n",
            "Epoch 10/50\n",
            "60000/60000 [==============================] - 3s 56us/step - loss: 0.1679 - val_loss: 0.1642\n",
            "Epoch 11/50\n",
            "60000/60000 [==============================] - 3s 55us/step - loss: 0.1636 - val_loss: 0.1601\n",
            "Epoch 12/50\n",
            "60000/60000 [==============================] - 3s 55us/step - loss: 0.1596 - val_loss: 0.1563\n",
            "Epoch 13/50\n",
            "60000/60000 [==============================] - 3s 55us/step - loss: 0.1559 - val_loss: 0.1527\n",
            "Epoch 14/50\n",
            "60000/60000 [==============================] - 3s 56us/step - loss: 0.1524 - val_loss: 0.1493\n",
            "Epoch 15/50\n",
            "60000/60000 [==============================] - 3s 54us/step - loss: 0.1491 - val_loss: 0.1460\n",
            "Epoch 16/50\n",
            "60000/60000 [==============================] - 3s 55us/step - loss: 0.1459 - val_loss: 0.1430\n",
            "Epoch 17/50\n",
            "60000/60000 [==============================] - 3s 55us/step - loss: 0.1430 - val_loss: 0.1401\n",
            "Epoch 18/50\n",
            "60000/60000 [==============================] - 3s 55us/step - loss: 0.1402 - val_loss: 0.1374\n",
            "Epoch 19/50\n",
            "60000/60000 [==============================] - 3s 56us/step - loss: 0.1376 - val_loss: 0.1348\n",
            "Epoch 20/50\n",
            "60000/60000 [==============================] - 3s 57us/step - loss: 0.1352 - val_loss: 0.1324\n",
            "Epoch 21/50\n",
            "60000/60000 [==============================] - 3s 56us/step - loss: 0.1329 - val_loss: 0.1302\n",
            "Epoch 22/50\n",
            "60000/60000 [==============================] - 3s 56us/step - loss: 0.1307 - val_loss: 0.1281\n",
            "Epoch 23/50\n",
            "60000/60000 [==============================] - 3s 57us/step - loss: 0.1287 - val_loss: 0.1261\n",
            "Epoch 24/50\n",
            "60000/60000 [==============================] - 3s 56us/step - loss: 0.1268 - val_loss: 0.1242\n",
            "Epoch 25/50\n",
            "60000/60000 [==============================] - 3s 55us/step - loss: 0.1250 - val_loss: 0.1224\n",
            "Epoch 26/50\n",
            "60000/60000 [==============================] - 3s 56us/step - loss: 0.1232 - val_loss: 0.1207\n",
            "Epoch 27/50\n",
            "60000/60000 [==============================] - 3s 56us/step - loss: 0.1216 - val_loss: 0.1191\n",
            "Epoch 28/50\n",
            "60000/60000 [==============================] - 3s 56us/step - loss: 0.1201 - val_loss: 0.1177\n",
            "Epoch 29/50\n",
            "60000/60000 [==============================] - 3s 57us/step - loss: 0.1187 - val_loss: 0.1163\n",
            "Epoch 30/50\n",
            "60000/60000 [==============================] - 3s 56us/step - loss: 0.1174 - val_loss: 0.1150\n",
            "Epoch 31/50\n",
            "60000/60000 [==============================] - 3s 56us/step - loss: 0.1161 - val_loss: 0.1138\n",
            "Epoch 32/50\n",
            "60000/60000 [==============================] - 3s 55us/step - loss: 0.1150 - val_loss: 0.1128\n",
            "Epoch 33/50\n",
            "60000/60000 [==============================] - 3s 56us/step - loss: 0.1140 - val_loss: 0.1117\n",
            "Epoch 34/50\n",
            "60000/60000 [==============================] - 3s 56us/step - loss: 0.1130 - val_loss: 0.1108\n",
            "Epoch 35/50\n",
            "60000/60000 [==============================] - 3s 56us/step - loss: 0.1121 - val_loss: 0.1099\n",
            "Epoch 36/50\n",
            "60000/60000 [==============================] - 3s 55us/step - loss: 0.1113 - val_loss: 0.1092\n",
            "Epoch 37/50\n",
            "60000/60000 [==============================] - 3s 56us/step - loss: 0.1105 - val_loss: 0.1084\n",
            "Epoch 38/50\n",
            "60000/60000 [==============================] - 3s 55us/step - loss: 0.1098 - val_loss: 0.1077\n",
            "Epoch 39/50\n",
            "60000/60000 [==============================] - 3s 56us/step - loss: 0.1091 - val_loss: 0.1071\n",
            "Epoch 40/50\n",
            "60000/60000 [==============================] - 3s 56us/step - loss: 0.1085 - val_loss: 0.1065\n",
            "Epoch 41/50\n",
            "60000/60000 [==============================] - 3s 56us/step - loss: 0.1079 - val_loss: 0.1059\n",
            "Epoch 42/50\n",
            "60000/60000 [==============================] - 3s 57us/step - loss: 0.1074 - val_loss: 0.1054\n",
            "Epoch 43/50\n",
            "60000/60000 [==============================] - 3s 57us/step - loss: 0.1069 - val_loss: 0.1049\n",
            "Epoch 44/50\n",
            "60000/60000 [==============================] - 3s 56us/step - loss: 0.1064 - val_loss: 0.1045\n",
            "Epoch 45/50\n",
            "60000/60000 [==============================] - 3s 57us/step - loss: 0.1060 - val_loss: 0.1040\n",
            "Epoch 46/50\n",
            "60000/60000 [==============================] - 3s 58us/step - loss: 0.1055 - val_loss: 0.1036\n",
            "Epoch 47/50\n",
            "60000/60000 [==============================] - 3s 57us/step - loss: 0.1051 - val_loss: 0.1032\n",
            "Epoch 48/50\n",
            "60000/60000 [==============================] - 3s 57us/step - loss: 0.1048 - val_loss: 0.1029\n",
            "Epoch 49/50\n",
            "60000/60000 [==============================] - 3s 58us/step - loss: 0.1044 - val_loss: 0.1025\n",
            "Epoch 50/50\n",
            "60000/60000 [==============================] - 4s 59us/step - loss: 0.1041 - val_loss: 0.1022\n"
          ],
          "name": "stdout"
        },
        {
          "output_type": "execute_result",
          "data": {
            "text/plain": [
              "<keras.callbacks.History at 0x7f19bd811630>"
            ]
          },
          "metadata": {
            "tags": []
          },
          "execution_count": 10
        }
      ]
    },
    {
      "cell_type": "code",
      "metadata": {
        "id": "eVpCRysomkv8",
        "colab_type": "code",
        "colab": {}
      },
      "source": [
        "(_, y_train), (_, y_test) = mnist.load_data()"
      ],
      "execution_count": 0,
      "outputs": []
    },
    {
      "cell_type": "code",
      "metadata": {
        "id": "OcAgj9cRnmoh",
        "colab_type": "code",
        "outputId": "f34d9071-aedf-40a6-de67-18a398403c38",
        "colab": {
          "base_uri": "https://localhost:8080/",
          "height": 51
        }
      },
      "source": [
        "print(y_train.shape)\n",
        "print(y_test.shape)"
      ],
      "execution_count": 12,
      "outputs": [
        {
          "output_type": "stream",
          "text": [
            "(60000,)\n",
            "(10000,)\n"
          ],
          "name": "stdout"
        }
      ]
    },
    {
      "cell_type": "code",
      "metadata": {
        "id": "alrG_515ntKP",
        "colab_type": "code",
        "colab": {}
      },
      "source": [
        "import numpy as np"
      ],
      "execution_count": 0,
      "outputs": []
    },
    {
      "cell_type": "code",
      "metadata": {
        "id": "qDKqdjgsn6tl",
        "colab_type": "code",
        "colab": {}
      },
      "source": [
        "class HashTable:\n",
        "    def __init__(self, hash_size, inp_dimensions):\n",
        "        self.hash_size = hash_size\n",
        "        self.inp_dimensions = inp_dimensions\n",
        "        self.hash_table = dict()\n",
        "        self.projections = np.random.randn(self.hash_size, inp_dimensions)\n",
        "        \n",
        "    def generate_hash(self, inp_vector):\n",
        "        bools = (np.dot(inp_vector, self.projections.T) > 0).astype('int')\n",
        "        return ''.join(bools.astype('str'))\n",
        "\n",
        "    def __setitem__(self, inp_vec, label):\n",
        "        hash_value = self.generate_hash(inp_vec)\n",
        "        self.hash_table[hash_value] = self.hash_table.get(hash_value, list()) + [label]\n",
        "        \n",
        "    def __getitem__(self, inp_vec):\n",
        "        hash_value = self.generate_hash(inp_vec)\n",
        "        return self.hash_table.get(hash_value, [])"
      ],
      "execution_count": 0,
      "outputs": []
    },
    {
      "cell_type": "code",
      "metadata": {
        "id": "mhZZ7-BkoGZX",
        "colab_type": "code",
        "colab": {}
      },
      "source": [
        "input_vec = encoder.predict(x_train)\n",
        "input_vec_test = encoder.predict(x_test)"
      ],
      "execution_count": 0,
      "outputs": []
    },
    {
      "cell_type": "code",
      "metadata": {
        "id": "oOHpmP0DpOuY",
        "colab_type": "code",
        "outputId": "96024d18-dd3d-4f08-91cf-d1abb5f34354",
        "colab": {
          "base_uri": "https://localhost:8080/",
          "height": 34
        }
      },
      "source": [
        "print(input_vec.shape)"
      ],
      "execution_count": 16,
      "outputs": [
        {
          "output_type": "stream",
          "text": [
            "(60000, 32)\n"
          ],
          "name": "stdout"
        }
      ]
    },
    {
      "cell_type": "code",
      "metadata": {
        "id": "QGgocDAfpT9q",
        "colab_type": "code",
        "colab": {}
      },
      "source": [
        "hash_table = HashTable(hash_size=30, inp_dimensions=32)"
      ],
      "execution_count": 0,
      "outputs": []
    },
    {
      "cell_type": "code",
      "metadata": {
        "id": "DLUr7ayatafa",
        "colab_type": "code",
        "outputId": "27d26120-a955-4a6b-ba81-4c8d75848bf7",
        "colab": {
          "base_uri": "https://localhost:8080/",
          "height": 34
        }
      },
      "source": [
        "hash_table.generate_hash(input_vec[0])"
      ],
      "execution_count": 18,
      "outputs": [
        {
          "output_type": "execute_result",
          "data": {
            "text/plain": [
              "'010001000010000000011101110001'"
            ]
          },
          "metadata": {
            "tags": []
          },
          "execution_count": 18
        }
      ]
    },
    {
      "cell_type": "code",
      "metadata": {
        "id": "h79uUm7rt3oy",
        "colab_type": "code",
        "outputId": "8da0d446-64e8-42c7-b2b7-209737e63c88",
        "colab": {
          "base_uri": "https://localhost:8080/",
          "height": 34
        }
      },
      "source": [
        "hash_table.generate_hash(input_vec[1])"
      ],
      "execution_count": 19,
      "outputs": [
        {
          "output_type": "execute_result",
          "data": {
            "text/plain": [
              "'010001101010000000011101010001'"
            ]
          },
          "metadata": {
            "tags": []
          },
          "execution_count": 19
        }
      ]
    },
    {
      "cell_type": "code",
      "metadata": {
        "id": "_Ou17Lh0uIlQ",
        "colab_type": "code",
        "outputId": "9b7c1c11-3f7c-4280-af7c-6e65e015c377",
        "colab": {
          "base_uri": "https://localhost:8080/",
          "height": 34
        }
      },
      "source": [
        "hash_table.generate_hash(input_vec[2])"
      ],
      "execution_count": 20,
      "outputs": [
        {
          "output_type": "execute_result",
          "data": {
            "text/plain": [
              "'010011000010000000001011110001'"
            ]
          },
          "metadata": {
            "tags": []
          },
          "execution_count": 20
        }
      ]
    },
    {
      "cell_type": "code",
      "metadata": {
        "id": "JSuvQObHpkoX",
        "colab_type": "code",
        "colab": {}
      },
      "source": [
        "for i in range(60000):\n",
        "  hash_table.__setitem__(input_vec[i], y_train[i])"
      ],
      "execution_count": 0,
      "outputs": []
    },
    {
      "cell_type": "code",
      "metadata": {
        "id": "RVqmqk4_p9PI",
        "colab_type": "code",
        "outputId": "de6618c4-317a-42c2-a9a4-85dd70a6dd3e",
        "colab": {
          "base_uri": "https://localhost:8080/",
          "height": 34
        }
      },
      "source": [
        "y_test[5]"
      ],
      "execution_count": 40,
      "outputs": [
        {
          "output_type": "execute_result",
          "data": {
            "text/plain": [
              "1"
            ]
          },
          "metadata": {
            "tags": []
          },
          "execution_count": 40
        }
      ]
    },
    {
      "cell_type": "code",
      "metadata": {
        "id": "Ay4BLZt5qy_V",
        "colab_type": "code",
        "outputId": "5774e50d-c653-45ed-e946-40de9eeb2410",
        "colab": {
          "base_uri": "https://localhost:8080/",
          "height": 34
        }
      },
      "source": [
        "hash_table.__getitem__(input_vec_test[5])"
      ],
      "execution_count": 41,
      "outputs": [
        {
          "output_type": "execute_result",
          "data": {
            "text/plain": [
              "[1, 1, 1, 1, 1, 2, 1, 1, 1, 1, 1, 1, 1]"
            ]
          },
          "metadata": {
            "tags": []
          },
          "execution_count": 41
        }
      ]
    },
    {
      "cell_type": "code",
      "metadata": {
        "id": "7KThD5b3rYoV",
        "colab_type": "code",
        "colab": {}
      },
      "source": [
        "xs, ys=zip(*((int(x), k) for k in hash_table.hash_table for x in hash_table.hash_table[k]))"
      ],
      "execution_count": 0,
      "outputs": []
    },
    {
      "cell_type": "code",
      "metadata": {
        "id": "W9e6_kLXthtl",
        "colab_type": "code",
        "colab": {}
      },
      "source": [
        "import matplotlib.pyplot as plt"
      ],
      "execution_count": 0,
      "outputs": []
    },
    {
      "cell_type": "code",
      "metadata": {
        "id": "9krubGgouKhl",
        "colab_type": "code",
        "colab": {}
      },
      "source": [
        "#plt.plot(xs, ys, 'ro')"
      ],
      "execution_count": 0,
      "outputs": []
    },
    {
      "cell_type": "code",
      "metadata": {
        "id": "PRFqpizPxSrF",
        "colab_type": "code",
        "colab": {}
      },
      "source": [
        ""
      ],
      "execution_count": 0,
      "outputs": []
    }
  ]
}