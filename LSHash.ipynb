{
  "nbformat": 4,
  "nbformat_minor": 0,
  "metadata": {
    "colab": {
      "name": "Untitled1.ipynb",
      "provenance": [],
      "include_colab_link": true
    },
    "kernelspec": {
      "name": "python2",
      "display_name": "Python 2"
    }
  },
  "cells": [
    {
      "cell_type": "markdown",
      "metadata": {
        "id": "view-in-github",
        "colab_type": "text"
      },
      "source": [
        "<a href=\"https://colab.research.google.com/github/Debottam/MachinLearningEx/blob/master/LSHash.ipynb\" target=\"_parent\"><img src=\"https://colab.research.google.com/assets/colab-badge.svg\" alt=\"Open In Colab\"/></a>"
      ]
    },
    {
      "cell_type": "code",
      "metadata": {
        "id": "1AlQhCulpUWI",
        "colab_type": "code",
        "colab": {}
      },
      "source": [
        "import numpy as np"
      ],
      "execution_count": 0,
      "outputs": []
    },
    {
      "cell_type": "code",
      "metadata": {
        "id": "-D-txLsmptV5",
        "colab_type": "code",
        "colab": {}
      },
      "source": [
        "vec1 = np.random.rand(5)\n",
        "vec2 = np.random.rand(5)\n",
        "vec3 = np.random.rand(5)"
      ],
      "execution_count": 0,
      "outputs": []
    },
    {
      "cell_type": "code",
      "metadata": {
        "id": "p3G74KH8r0F6",
        "colab_type": "code",
        "outputId": "6b80bac6-79e6-40cf-a4d3-45246af122ac",
        "colab": {
          "base_uri": "https://localhost:8080/",
          "height": 68
        }
      },
      "source": [
        "vec1, vec2, vec3"
      ],
      "execution_count": 3,
      "outputs": [
        {
          "output_type": "execute_result",
          "data": {
            "text/plain": [
              "(array([0.5451425 , 0.7868748 , 0.82286995, 0.45989078, 0.12072714]),\n",
              " array([0.01548088, 0.06736177, 0.8137304 , 0.47010442, 0.02598073]),\n",
              " array([0.68912075, 0.70650266, 0.13144711, 0.41443441, 0.99413623]))"
            ]
          },
          "metadata": {
            "tags": []
          },
          "execution_count": 3
        }
      ]
    },
    {
      "cell_type": "code",
      "metadata": {
        "id": "eIZG4_Mcr-bY",
        "colab_type": "code",
        "colab": {}
      },
      "source": [
        "projections = np.random.randn(2,5)"
      ],
      "execution_count": 0,
      "outputs": []
    },
    {
      "cell_type": "code",
      "metadata": {
        "id": "2y-l0H6MtTfI",
        "colab_type": "code",
        "outputId": "e97a235e-6907-411d-c40e-a9b6135a9b29",
        "colab": {
          "base_uri": "https://localhost:8080/",
          "height": 34
        }
      },
      "source": [
        "np.dot(vec1, projections.T)"
      ],
      "execution_count": 0,
      "outputs": [
        {
          "output_type": "execute_result",
          "data": {
            "text/plain": [
              "array([-0.48402468, -0.38112615])"
            ]
          },
          "metadata": {
            "tags": []
          },
          "execution_count": 12
        }
      ]
    },
    {
      "cell_type": "code",
      "metadata": {
        "id": "kk02G0FZtkdi",
        "colab_type": "code",
        "colab": {}
      },
      "source": [
        "class HashTable:\n",
        "    def __init__(self, hash_size, inp_dimensions):\n",
        "        self.hash_size = hash_size\n",
        "        self.inp_dimensions = inp_dimensions\n",
        "        self.hash_table = dict()\n",
        "        self.projections = np.random.randn(self.hash_size, inp_dimensions)\n",
        "        \n",
        "    def generate_hash(self, inp_vector):\n",
        "        bools = (np.dot(inp_vector, self.projections.T) > 0).astype('int')\n",
        "        return ''.join(bools.astype('str'))\n",
        "\n",
        "    def __setitem__(self, inp_vec, label):\n",
        "        hash_value = self.generate_hash(inp_vec)\n",
        "        self.hash_table[hash_value] = self.hash_table.get(hash_value, list()) + [label]\n",
        "        \n",
        "    def __getitem__(self, inp_vec):\n",
        "        hash_value = self.generate_hash(inp_vec)\n",
        "        return self.hash_table.get(hash_value, [])"
      ],
      "execution_count": 0,
      "outputs": []
    },
    {
      "cell_type": "code",
      "metadata": {
        "id": "hSt2395FZmYo",
        "colab_type": "code",
        "colab": {}
      },
      "source": [
        "hash_table = HashTable(hash_size=3, inp_dimensions=5)"
      ],
      "execution_count": 0,
      "outputs": []
    },
    {
      "cell_type": "code",
      "metadata": {
        "id": "RkeJFr60Z6af",
        "colab_type": "code",
        "colab": {}
      },
      "source": [
        "l = hash_table.generate_hash(vec1)"
      ],
      "execution_count": 0,
      "outputs": []
    },
    {
      "cell_type": "code",
      "metadata": {
        "id": "WpJm3wPqbjxV",
        "colab_type": "code",
        "colab": {
          "base_uri": "https://localhost:8080/",
          "height": 34
        },
        "outputId": "7d87016c-cb19-4b48-bb02-2f150a0aa293"
      },
      "source": [
        "l"
      ],
      "execution_count": 16,
      "outputs": [
        {
          "output_type": "execute_result",
          "data": {
            "text/plain": [
              "'111'"
            ]
          },
          "metadata": {
            "tags": []
          },
          "execution_count": 16
        }
      ]
    },
    {
      "cell_type": "code",
      "metadata": {
        "id": "KDCeVT_yboqf",
        "colab_type": "code",
        "colab": {
          "base_uri": "https://localhost:8080/",
          "height": 164
        },
        "outputId": "d13f0a98-2145-4228-8e50-21e04c160c9d"
      },
      "source": [
        ""
      ],
      "execution_count": 11,
      "outputs": [
        {
          "output_type": "error",
          "ename": "AttributeError",
          "evalue": "ignored",
          "traceback": [
            "\u001b[0;31m\u001b[0m",
            "\u001b[0;31mAttributeError\u001b[0mTraceback (most recent call last)",
            "\u001b[0;32m<ipython-input-11-7b2aa0776a21>\u001b[0m in \u001b[0;36m<module>\u001b[0;34m()\u001b[0m\n\u001b[0;32m----> 1\u001b[0;31m \u001b[0ml\u001b[0m\u001b[0;34m.\u001b[0m\u001b[0mshape\u001b[0m\u001b[0;34m\u001b[0m\u001b[0m\n\u001b[0m",
            "\u001b[0;31mAttributeError\u001b[0m: 'NoneType' object has no attribute 'shape'"
          ]
        }
      ]
    },
    {
      "cell_type": "code",
      "metadata": {
        "id": "NJQLopYbbwZt",
        "colab_type": "code",
        "colab": {}
      },
      "source": [
        ""
      ],
      "execution_count": 0,
      "outputs": []
    }
  ]
}