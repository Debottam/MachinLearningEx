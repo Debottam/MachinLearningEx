{
 "cells": [
  {
   "cell_type": "code",
   "execution_count": 1,
   "id": "d9e9cab4",
   "metadata": {},
   "outputs": [],
   "source": [
    "import os\n",
    "import pandas as pd\n",
    "import numpy as np\n",
    "import networkx as nx\n",
    "import matplotlib.pyplot as plt\n",
    "import tensorflow as tf\n",
    "from tensorflow import keras\n",
    "from tensorflow.keras import layers"
   ]
  },
  {
   "cell_type": "code",
   "execution_count": 2,
   "id": "53e4b14b",
   "metadata": {},
   "outputs": [],
   "source": [
    "zip_file = keras.utils.get_file(\n",
    "    fname=\"cora.tgz\",\n",
    "    origin=\"https://linqs-data.soe.ucsc.edu/public/lbc/cora.tgz\",\n",
    "    extract=True,\n",
    ")\n",
    "data_dir = os.path.join(os.path.dirname(zip_file), \"cora\")"
   ]
  },
  {
   "cell_type": "code",
   "execution_count": 4,
   "id": "8ed09aaa",
   "metadata": {},
   "outputs": [
    {
     "data": {
      "text/plain": [
       "'/Users/bakshiguptad/.keras/datasets/cora'"
      ]
     },
     "execution_count": 4,
     "metadata": {},
     "output_type": "execute_result"
    }
   ],
   "source": [
    "data_dir"
   ]
  },
  {
   "cell_type": "code",
   "execution_count": 5,
   "id": "e9ebc921",
   "metadata": {},
   "outputs": [
    {
     "name": "stdout",
     "output_type": "stream",
     "text": [
      "\u001b[31mREADME\u001b[m\u001b[m       \u001b[31mcora.cites\u001b[m\u001b[m   \u001b[31mcora.content\u001b[m\u001b[m\r\n"
     ]
    }
   ],
   "source": [
    "!ls /Users/bakshiguptad/.keras/datasets/cora"
   ]
  },
  {
   "cell_type": "code",
   "execution_count": 6,
   "id": "7d512d15",
   "metadata": {},
   "outputs": [
    {
     "name": "stdout",
     "output_type": "stream",
     "text": [
      "Citations shape: (5429, 2)\n"
     ]
    }
   ],
   "source": [
    "citations = pd.read_csv(\n",
    "    os.path.join(data_dir, \"cora.cites\"),\n",
    "    sep=\"\\t\",\n",
    "    header=None,\n",
    "    names=[\"target\", \"source\"],\n",
    ")\n",
    "print(\"Citations shape:\", citations.shape)"
   ]
  },
  {
   "cell_type": "code",
   "execution_count": 7,
   "id": "c4485a1d",
   "metadata": {},
   "outputs": [
    {
     "data": {
      "text/html": [
       "<div>\n",
       "<style scoped>\n",
       "    .dataframe tbody tr th:only-of-type {\n",
       "        vertical-align: middle;\n",
       "    }\n",
       "\n",
       "    .dataframe tbody tr th {\n",
       "        vertical-align: top;\n",
       "    }\n",
       "\n",
       "    .dataframe thead th {\n",
       "        text-align: right;\n",
       "    }\n",
       "</style>\n",
       "<table border=\"1\" class=\"dataframe\">\n",
       "  <thead>\n",
       "    <tr style=\"text-align: right;\">\n",
       "      <th></th>\n",
       "      <th>target</th>\n",
       "      <th>source</th>\n",
       "    </tr>\n",
       "  </thead>\n",
       "  <tbody>\n",
       "    <tr>\n",
       "      <th>4152</th>\n",
       "      <td>133563</td>\n",
       "      <td>105856</td>\n",
       "    </tr>\n",
       "    <tr>\n",
       "      <th>3883</th>\n",
       "      <td>94639</td>\n",
       "      <td>593942</td>\n",
       "    </tr>\n",
       "    <tr>\n",
       "      <th>3558</th>\n",
       "      <td>70442</td>\n",
       "      <td>1107215</td>\n",
       "    </tr>\n",
       "    <tr>\n",
       "      <th>5209</th>\n",
       "      <td>643221</td>\n",
       "      <td>642894</td>\n",
       "    </tr>\n",
       "    <tr>\n",
       "      <th>1646</th>\n",
       "      <td>9586</td>\n",
       "      <td>33818</td>\n",
       "    </tr>\n",
       "  </tbody>\n",
       "</table>\n",
       "</div>"
      ],
      "text/plain": [
       "      target   source\n",
       "4152  133563   105856\n",
       "3883   94639   593942\n",
       "3558   70442  1107215\n",
       "5209  643221   642894\n",
       "1646    9586    33818"
      ]
     },
     "execution_count": 7,
     "metadata": {},
     "output_type": "execute_result"
    }
   ],
   "source": [
    "citations.sample(frac=1).head()"
   ]
  },
  {
   "cell_type": "code",
   "execution_count": 10,
   "id": "84baa176",
   "metadata": {},
   "outputs": [
    {
     "data": {
      "text/html": [
       "<div>\n",
       "<style scoped>\n",
       "    .dataframe tbody tr th:only-of-type {\n",
       "        vertical-align: middle;\n",
       "    }\n",
       "\n",
       "    .dataframe tbody tr th {\n",
       "        vertical-align: top;\n",
       "    }\n",
       "\n",
       "    .dataframe thead th {\n",
       "        text-align: right;\n",
       "    }\n",
       "</style>\n",
       "<table border=\"1\" class=\"dataframe\">\n",
       "  <thead>\n",
       "    <tr style=\"text-align: right;\">\n",
       "      <th></th>\n",
       "      <th>target</th>\n",
       "      <th>source</th>\n",
       "    </tr>\n",
       "  </thead>\n",
       "  <tbody>\n",
       "    <tr>\n",
       "      <th>0</th>\n",
       "      <td>35</td>\n",
       "      <td>1033</td>\n",
       "    </tr>\n",
       "    <tr>\n",
       "      <th>1</th>\n",
       "      <td>35</td>\n",
       "      <td>103482</td>\n",
       "    </tr>\n",
       "    <tr>\n",
       "      <th>2</th>\n",
       "      <td>35</td>\n",
       "      <td>103515</td>\n",
       "    </tr>\n",
       "    <tr>\n",
       "      <th>3</th>\n",
       "      <td>35</td>\n",
       "      <td>1050679</td>\n",
       "    </tr>\n",
       "    <tr>\n",
       "      <th>4</th>\n",
       "      <td>35</td>\n",
       "      <td>1103960</td>\n",
       "    </tr>\n",
       "  </tbody>\n",
       "</table>\n",
       "</div>"
      ],
      "text/plain": [
       "   target   source\n",
       "0      35     1033\n",
       "1      35   103482\n",
       "2      35   103515\n",
       "3      35  1050679\n",
       "4      35  1103960"
      ]
     },
     "execution_count": 10,
     "metadata": {},
     "output_type": "execute_result"
    }
   ],
   "source": [
    "citations.head()"
   ]
  },
  {
   "cell_type": "code",
   "execution_count": 8,
   "id": "c5a87bb3",
   "metadata": {},
   "outputs": [
    {
     "name": "stdout",
     "output_type": "stream",
     "text": [
      "Papers shape: (2708, 1435)\n"
     ]
    }
   ],
   "source": [
    "column_names = [\"paper_id\"] + [f\"term_{idx}\" for idx in range(1433)] + [\"subject\"]\n",
    "papers = pd.read_csv(\n",
    "    os.path.join(data_dir, \"cora.content\"), sep=\"\\t\", header=None, names=column_names,\n",
    ")\n",
    "print(\"Papers shape:\", papers.shape)"
   ]
  },
  {
   "cell_type": "code",
   "execution_count": 9,
   "id": "d8897ed8",
   "metadata": {},
   "outputs": [
    {
     "data": {
      "text/plain": [
       "'term_0'"
      ]
     },
     "execution_count": 9,
     "metadata": {},
     "output_type": "execute_result"
    }
   ],
   "source": [
    "column_names[1]"
   ]
  },
  {
   "cell_type": "code",
   "execution_count": 10,
   "id": "425dde09",
   "metadata": {},
   "outputs": [
    {
     "name": "stdout",
     "output_type": "stream",
     "text": [
      "Neural_Networks           818\n",
      "Probabilistic_Methods     426\n",
      "Genetic_Algorithms        418\n",
      "Theory                    351\n",
      "Case_Based                298\n",
      "Reinforcement_Learning    217\n",
      "Rule_Learning             180\n",
      "Name: subject, dtype: int64\n"
     ]
    }
   ],
   "source": [
    "print(papers.subject.value_counts())"
   ]
  },
  {
   "cell_type": "code",
   "execution_count": 11,
   "id": "35d392ea",
   "metadata": {},
   "outputs": [],
   "source": [
    "class_values = sorted(papers[\"subject\"].unique())"
   ]
  },
  {
   "cell_type": "code",
   "execution_count": 12,
   "id": "ff5d5035",
   "metadata": {},
   "outputs": [
    {
     "data": {
      "text/plain": [
       "['Case_Based',\n",
       " 'Genetic_Algorithms',\n",
       " 'Neural_Networks',\n",
       " 'Probabilistic_Methods',\n",
       " 'Reinforcement_Learning',\n",
       " 'Rule_Learning',\n",
       " 'Theory']"
      ]
     },
     "execution_count": 12,
     "metadata": {},
     "output_type": "execute_result"
    }
   ],
   "source": [
    "class_values"
   ]
  },
  {
   "cell_type": "code",
   "execution_count": 13,
   "id": "fbf3a7cc",
   "metadata": {},
   "outputs": [],
   "source": [
    "class_idx = {name: id for id, name in enumerate(class_values)}"
   ]
  },
  {
   "cell_type": "code",
   "execution_count": 14,
   "id": "bbe5779b",
   "metadata": {},
   "outputs": [
    {
     "data": {
      "text/plain": [
       "{'Case_Based': 0,\n",
       " 'Genetic_Algorithms': 1,\n",
       " 'Neural_Networks': 2,\n",
       " 'Probabilistic_Methods': 3,\n",
       " 'Reinforcement_Learning': 4,\n",
       " 'Rule_Learning': 5,\n",
       " 'Theory': 6}"
      ]
     },
     "execution_count": 14,
     "metadata": {},
     "output_type": "execute_result"
    }
   ],
   "source": [
    "class_idx"
   ]
  },
  {
   "cell_type": "code",
   "execution_count": 15,
   "id": "b60a93ac",
   "metadata": {},
   "outputs": [],
   "source": [
    "paper_idx = {name: idx for idx, name in enumerate(sorted(papers[\"paper_id\"].unique()))}"
   ]
  },
  {
   "cell_type": "code",
   "execution_count": 16,
   "id": "0ee6c06a",
   "metadata": {},
   "outputs": [
    {
     "data": {
      "text/plain": [
       "0         31336\n",
       "1       1061127\n",
       "2       1106406\n",
       "3         13195\n",
       "4         37879\n",
       "         ...   \n",
       "2703    1128975\n",
       "2704    1128977\n",
       "2705    1128978\n",
       "2706     117328\n",
       "2707      24043\n",
       "Name: paper_id, Length: 2708, dtype: int64"
      ]
     },
     "execution_count": 16,
     "metadata": {},
     "output_type": "execute_result"
    }
   ],
   "source": [
    "papers[\"paper_id\"]"
   ]
  },
  {
   "cell_type": "code",
   "execution_count": 17,
   "id": "e219648e",
   "metadata": {},
   "outputs": [],
   "source": [
    "papers[\"paper_id\"] = papers[\"paper_id\"].apply(lambda name: paper_idx[name])\n",
    "citations[\"source\"] = citations[\"source\"].apply(lambda name: paper_idx[name])\n",
    "citations[\"target\"] = citations[\"target\"].apply(lambda name: paper_idx[name])\n",
    "papers[\"subject\"] = papers[\"subject\"].apply(lambda value: class_idx[value])"
   ]
  },
  {
   "cell_type": "code",
   "execution_count": 25,
   "id": "d6f4e45b",
   "metadata": {},
   "outputs": [],
   "source": [
    "#papers[\"paper_id\"]"
   ]
  },
  {
   "cell_type": "code",
   "execution_count": 18,
   "id": "772551c9",
   "metadata": {},
   "outputs": [],
   "source": [
    "#citations[\"source\"]"
   ]
  },
  {
   "cell_type": "code",
   "execution_count": 18,
   "id": "7d2bb7cc",
   "metadata": {},
   "outputs": [
    {
     "data": {
      "text/plain": [
       "<Figure size 720x720 with 0 Axes>"
      ]
     },
     "metadata": {},
     "output_type": "display_data"
    }
   ],
   "source": [
    "plt.figure(figsize=(10, 10))\n",
    "cora_graph = nx.from_pandas_edgelist(citations.sample(n=1500))\n",
    "subjects = list(papers[papers[\"paper_id\"].isin(list(cora_graph.nodes))][\"subject\"])"
   ]
  },
  {
   "cell_type": "code",
   "execution_count": 19,
   "id": "c28f7b87",
   "metadata": {},
   "outputs": [
    {
     "data": {
      "image/png": "[encoded data removed]",
      "text/plain": [
       "<Figure size 432x288 with 1 Axes>"
      ]
     },
     "metadata": {},
     "output_type": "display_data"
    }
   ],
   "source": [
    "nx.draw_spring(cora_graph, node_size=15, node_color=subjects)"
   ]
  },
  {
   "cell_type": "code",
   "execution_count": 20,
   "id": "d7c56308",
   "metadata": {},
   "outputs": [
    {
     "data": {
      "text/plain": [
       "0       2\n",
       "1       5\n",
       "2       4\n",
       "3       4\n",
       "4       3\n",
       "       ..\n",
       "2703    1\n",
       "2704    1\n",
       "2705    1\n",
       "2706    0\n",
       "2707    2\n",
       "Name: subject, Length: 2708, dtype: int64"
      ]
     },
     "execution_count": 20,
     "metadata": {},
     "output_type": "execute_result"
    }
   ],
   "source": [
    "papers[\"subject\"]"
   ]
  },
  {
   "cell_type": "code",
   "execution_count": 42,
   "id": "3225a51c",
   "metadata": {},
   "outputs": [],
   "source": [
    "#"
   ]
  },
  {
   "cell_type": "code",
   "execution_count": 21,
   "id": "b163ab77",
   "metadata": {},
   "outputs": [
    {
     "name": "stdout",
     "output_type": "stream",
     "text": [
      "groupIndex: 0\n",
      "groupIndex: 1\n",
      "groupIndex: 2\n",
      "groupIndex: 3\n",
      "groupIndex: 4\n",
      "groupIndex: 5\n",
      "groupIndex: 6\n",
      "Train data shape: (1349, 1435)\n",
      "Test data shape: (1359, 1435)\n"
     ]
    }
   ],
   "source": [
    "train_data, test_data = [], []\n",
    "i = 0\n",
    "for groupIndex, group_data in papers.groupby(\"subject\"):\n",
    "    # Select around 50% of the dataset for training.\n",
    "    random_selection = np.random.rand(len(group_data.index)) <= 0.5\n",
    "    train_data.append(group_data[random_selection])\n",
    "    test_data.append(group_data[~random_selection])\n",
    "    #i= i+1\n",
    "    print(\"groupIndex:\",groupIndex)\n",
    "\n",
    "train_data = pd.concat(train_data).sample(frac=1)\n",
    "test_data = pd.concat(test_data).sample(frac=1)\n",
    "\n",
    "print(\"Train data shape:\", train_data.shape)\n",
    "print(\"Test data shape:\", test_data.shape)"
   ]
  },
  {
   "cell_type": "code",
   "execution_count": 22,
   "id": "a2954c31",
   "metadata": {},
   "outputs": [],
   "source": [
    "hidden_units = [32, 32]\n",
    "learning_rate = 0.01\n",
    "dropout_rate = 0.5\n",
    "num_epochs = 300\n",
    "batch_size = 256"
   ]
  },
  {
   "cell_type": "code",
   "execution_count": 23,
   "id": "78dba3f1",
   "metadata": {},
   "outputs": [],
   "source": [
    "def run_experiment(model, x_train, y_train):\n",
    "    # Compile the model.\n",
    "    model.compile(\n",
    "        optimizer=keras.optimizers.Adam(learning_rate),\n",
    "        loss=keras.losses.SparseCategoricalCrossentropy(from_logits=True),\n",
    "        metrics=[keras.metrics.SparseCategoricalAccuracy(name=\"acc\")],\n",
    "    )\n",
    "    # Create an early stopping callback.\n",
    "    early_stopping = keras.callbacks.EarlyStopping(\n",
    "        monitor=\"val_acc\", patience=50, restore_best_weights=True\n",
    "    )\n",
    "    # Fit the model.\n",
    "    history = model.fit(\n",
    "        x=x_train,\n",
    "        y=y_train,\n",
    "        epochs=num_epochs,\n",
    "        batch_size=batch_size,\n",
    "        validation_split=0.15,\n",
    "        callbacks=[early_stopping],\n",
    "    )\n",
    "\n",
    "    return history"
   ]
  },
  {
   "cell_type": "code",
   "execution_count": 24,
   "id": "ea0e5036",
   "metadata": {},
   "outputs": [],
   "source": [
    "def display_learning_curves(history):\n",
    "    fig, (ax1, ax2) = plt.subplots(1, 2, figsize=(15, 5))\n",
    "\n",
    "    ax1.plot(history.history[\"loss\"])\n",
    "    ax1.plot(history.history[\"val_loss\"])\n",
    "    ax1.legend([\"train\", \"test\"], loc=\"upper right\")\n",
    "    ax1.set_xlabel(\"Epochs\")\n",
    "    ax1.set_ylabel(\"Loss\")\n",
    "\n",
    "    ax2.plot(history.history[\"acc\"])\n",
    "    ax2.plot(history.history[\"val_acc\"])\n",
    "    ax2.legend([\"train\", \"test\"], loc=\"upper right\")\n",
    "    ax2.set_xlabel(\"Epochs\")\n",
    "    ax2.set_ylabel(\"Accuracy\")\n",
    "    plt.show()"
   ]
  },
  {
   "cell_type": "code",
   "execution_count": 25,
   "id": "4d66a395",
   "metadata": {},
   "outputs": [],
   "source": [
    "def create_ffn(hidden_units, dropout_rate, name=None):\n",
    "    fnn_layers = []\n",
    "\n",
    "    for units in hidden_units:\n",
    "        fnn_layers.append(layers.BatchNormalization())\n",
    "        fnn_layers.append(layers.Dropout(dropout_rate))\n",
    "        fnn_layers.append(layers.Dense(units, activation=tf.nn.gelu))\n",
    "\n",
    "    return keras.Sequential(fnn_layers, name=name)"
   ]
  },
  {
   "cell_type": "code",
   "execution_count": 26,
   "id": "1b4ba203",
   "metadata": {},
   "outputs": [
    {
     "name": "stderr",
     "output_type": "stream",
     "text": [
      "/var/folders/k8/cklb1sxj1p35mft4gbkymsc091k_dc/T/ipykernel_52806/3641831727.py:6: FutureWarning: Passing a set as an indexer is deprecated and will raise in a future version. Use a list instead.\n",
      "  x_train = train_data[feature_names].to_numpy()\n",
      "/var/folders/k8/cklb1sxj1p35mft4gbkymsc091k_dc/T/ipykernel_52806/3641831727.py:7: FutureWarning: Passing a set as an indexer is deprecated and will raise in a future version. Use a list instead.\n",
      "  x_test = test_data[feature_names].to_numpy()\n"
     ]
    }
   ],
   "source": [
    "feature_names = set(papers.columns) - {\"paper_id\", \"subject\"}\n",
    "num_features = len(feature_names)\n",
    "num_classes = len(class_idx)\n",
    "\n",
    "# Create train and test features as a numpy array.\n",
    "x_train = train_data[feature_names].to_numpy()\n",
    "x_test = test_data[feature_names].to_numpy()\n",
    "# Create train and test targets as a numpy array.\n",
    "y_train = train_data[\"subject\"]\n",
    "y_test = test_data[\"subject\"]"
   ]
  },
  {
   "cell_type": "code",
   "execution_count": 27,
   "id": "c22a08bc",
   "metadata": {},
   "outputs": [
    {
     "name": "stderr",
     "output_type": "stream",
     "text": [
      "2022-08-18 15:12:33.965636: I tensorflow/core/platform/cpu_feature_guard.cc:151] This TensorFlow binary is optimized with oneAPI Deep Neural Network Library (oneDNN) to use the following CPU instructions in performance-critical operations:  AVX2 FMA\n",
      "To enable them in other operations, rebuild TensorFlow with the appropriate compiler flags.\n"
     ]
    },
    {
     "name": "stdout",
     "output_type": "stream",
     "text": [
      "Model: \"baseline\"\n",
      "__________________________________________________________________________________________________\n",
      " Layer (type)                   Output Shape         Param #     Connected to                     \n",
      "==================================================================================================\n",
      " input_features (InputLayer)    [(None, 1433)]       0           []                               \n",
      "                                                                                                  \n",
      " ffn_block1 (Sequential)        (None, 32)           52804       ['input_features[0][0]']         \n",
      "                                                                                                  \n",
      " ffn_block2 (Sequential)        (None, 32)           2368        ['ffn_block1[0][0]']             \n",
      "                                                                                                  \n",
      " skip_connection2 (Add)         (None, 32)           0           ['ffn_block1[0][0]',             \n",
      "                                                                  'ffn_block2[0][0]']             \n",
      "                                                                                                  \n",
      " ffn_block3 (Sequential)        (None, 32)           2368        ['skip_connection2[0][0]']       \n",
      "                                                                                                  \n",
      " skip_connection3 (Add)         (None, 32)           0           ['skip_connection2[0][0]',       \n",
      "                                                                  'ffn_block3[0][0]']             \n",
      "                                                                                                  \n",
      " ffn_block4 (Sequential)        (None, 32)           2368        ['skip_connection3[0][0]']       \n",
      "                                                                                                  \n",
      " skip_connection4 (Add)         (None, 32)           0           ['skip_connection3[0][0]',       \n",
      "                                                                  'ffn_block4[0][0]']             \n",
      "                                                                                                  \n",
      " ffn_block5 (Sequential)        (None, 32)           2368        ['skip_connection4[0][0]']       \n",
      "                                                                                                  \n",
      " skip_connection5 (Add)         (None, 32)           0           ['skip_connection4[0][0]',       \n",
      "                                                                  'ffn_block5[0][0]']             \n",
      "                                                                                                  \n",
      " logits (Dense)                 (None, 7)            231         ['skip_connection5[0][0]']       \n",
      "                                                                                                  \n",
      "==================================================================================================\n",
      "Total params: 62,507\n",
      "Trainable params: 59,065\n",
      "Non-trainable params: 3,442\n",
      "__________________________________________________________________________________________________\n"
     ]
    }
   ],
   "source": [
    "def create_baseline_model(hidden_units, num_classes, dropout_rate=0.2):\n",
    "    inputs = layers.Input(shape=(num_features,), name=\"input_features\")\n",
    "    x = create_ffn(hidden_units, dropout_rate, name=f\"ffn_block1\")(inputs)\n",
    "    for block_idx in range(4):\n",
    "        # Create an FFN block.\n",
    "        x1 = create_ffn(hidden_units, dropout_rate, name=f\"ffn_block{block_idx + 2}\")(x)\n",
    "        # Add skip connection.\n",
    "        x = layers.Add(name=f\"skip_connection{block_idx + 2}\")([x, x1])\n",
    "    # Compute logits.\n",
    "    logits = layers.Dense(num_classes, name=\"logits\")(x)\n",
    "    # Create the model.\n",
    "    return keras.Model(inputs=inputs, outputs=logits, name=\"baseline\")\n",
    "\n",
    "\n",
    "baseline_model = create_baseline_model(hidden_units, num_classes, dropout_rate)\n",
    "baseline_model.summary()"
   ]
  },
  {
   "cell_type": "code",
   "execution_count": 28,
   "id": "da853dee",
   "metadata": {},
   "outputs": [
    {
     "name": "stdout",
     "output_type": "stream",
     "text": [
      "Epoch 1/300\n",
      "5/5 [==============================] - 4s 111ms/step - loss: 3.2868 - acc: 0.1789 - val_loss: 1.8457 - val_acc: 0.3941\n",
      "Epoch 2/300\n",
      "5/5 [==============================] - 0s 21ms/step - loss: 2.6226 - acc: 0.2426 - val_loss: 1.8573 - val_acc: 0.2118\n",
      "Epoch 3/300\n",
      "5/5 [==============================] - 0s 21ms/step - loss: 2.1750 - acc: 0.2461 - val_loss: 1.8934 - val_acc: 0.1232\n",
      "Epoch 4/300\n",
      "5/5 [==============================] - 0s 16ms/step - loss: 2.0418 - acc: 0.2644 - val_loss: 1.8602 - val_acc: 0.2217\n",
      "Epoch 5/300\n",
      "5/5 [==============================] - 0s 49ms/step - loss: 1.9621 - acc: 0.2792 - val_loss: 1.8260 - val_acc: 0.4384\n",
      "Epoch 6/300\n",
      "5/5 [==============================] - 0s 28ms/step - loss: 1.8758 - acc: 0.3072 - val_loss: 1.8086 - val_acc: 0.4926\n",
      "Epoch 7/300\n",
      "5/5 [==============================] - 0s 17ms/step - loss: 1.7698 - acc: 0.3333 - val_loss: 1.8103 - val_acc: 0.3596\n",
      "Epoch 8/300\n",
      "5/5 [==============================] - 0s 17ms/step - loss: 1.7217 - acc: 0.3709 - val_loss: 1.7985 - val_acc: 0.3498\n",
      "Epoch 9/300\n",
      "5/5 [==============================] - 0s 24ms/step - loss: 1.6233 - acc: 0.4241 - val_loss: 1.7301 - val_acc: 0.5025\n",
      "Epoch 10/300\n",
      "5/5 [==============================] - 0s 22ms/step - loss: 1.5252 - acc: 0.4581 - val_loss: 1.6499 - val_acc: 0.5961\n",
      "Epoch 11/300\n",
      "5/5 [==============================] - 0s 16ms/step - loss: 1.4187 - acc: 0.4983 - val_loss: 1.5613 - val_acc: 0.5961\n",
      "Epoch 12/300\n",
      "5/5 [==============================] - 0s 23ms/step - loss: 1.4111 - acc: 0.4834 - val_loss: 1.4323 - val_acc: 0.6601\n",
      "Epoch 13/300\n",
      "5/5 [==============================] - 0s 23ms/step - loss: 1.3372 - acc: 0.5244 - val_loss: 1.3062 - val_acc: 0.6355\n",
      "Epoch 14/300\n",
      "5/5 [==============================] - 0s 22ms/step - loss: 1.1976 - acc: 0.5838 - val_loss: 1.1926 - val_acc: 0.6601\n",
      "Epoch 15/300\n",
      "5/5 [==============================] - 0s 18ms/step - loss: 1.1631 - acc: 0.5881 - val_loss: 1.1271 - val_acc: 0.6453\n",
      "Epoch 16/300\n",
      "5/5 [==============================] - 0s 21ms/step - loss: 1.1036 - acc: 0.6065 - val_loss: 1.0844 - val_acc: 0.6355\n",
      "Epoch 17/300\n",
      "5/5 [==============================] - 0s 21ms/step - loss: 0.9953 - acc: 0.6492 - val_loss: 1.0296 - val_acc: 0.6798\n",
      "Epoch 18/300\n",
      "5/5 [==============================] - 0s 26ms/step - loss: 1.0173 - acc: 0.6431 - val_loss: 0.9816 - val_acc: 0.6897\n",
      "Epoch 19/300\n",
      "5/5 [==============================] - 0s 25ms/step - loss: 0.9678 - acc: 0.6684 - val_loss: 0.9365 - val_acc: 0.6897\n",
      "Epoch 20/300\n",
      "5/5 [==============================] - 0s 22ms/step - loss: 0.9460 - acc: 0.6736 - val_loss: 0.8942 - val_acc: 0.7143\n",
      "Epoch 21/300\n",
      "5/5 [==============================] - 0s 21ms/step - loss: 0.9125 - acc: 0.6867 - val_loss: 0.8650 - val_acc: 0.7291\n",
      "Epoch 22/300\n",
      "5/5 [==============================] - 0s 21ms/step - loss: 0.8841 - acc: 0.6832 - val_loss: 0.8702 - val_acc: 0.7094\n",
      "Epoch 23/300\n",
      "5/5 [==============================] - 0s 21ms/step - loss: 0.8315 - acc: 0.7138 - val_loss: 0.8648 - val_acc: 0.7143\n",
      "Epoch 24/300\n",
      "5/5 [==============================] - 0s 22ms/step - loss: 0.7956 - acc: 0.7173 - val_loss: 0.8439 - val_acc: 0.7389\n",
      "Epoch 25/300\n",
      "5/5 [==============================] - 0s 21ms/step - loss: 0.7487 - acc: 0.7513 - val_loss: 0.8432 - val_acc: 0.7192\n",
      "Epoch 26/300\n",
      "5/5 [==============================] - 0s 20ms/step - loss: 0.7191 - acc: 0.7513 - val_loss: 0.8698 - val_acc: 0.7094\n",
      "Epoch 27/300\n",
      "5/5 [==============================] - 0s 17ms/step - loss: 0.6955 - acc: 0.7435 - val_loss: 0.8534 - val_acc: 0.7241\n",
      "Epoch 28/300\n",
      "5/5 [==============================] - 0s 23ms/step - loss: 0.7069 - acc: 0.7548 - val_loss: 0.8058 - val_acc: 0.7438\n",
      "Epoch 29/300\n",
      "5/5 [==============================] - 0s 23ms/step - loss: 0.6687 - acc: 0.7661 - val_loss: 0.7687 - val_acc: 0.7734\n",
      "Epoch 30/300\n",
      "5/5 [==============================] - 0s 22ms/step - loss: 0.6448 - acc: 0.7670 - val_loss: 0.7796 - val_acc: 0.7291\n",
      "Epoch 31/300\n",
      "5/5 [==============================] - 0s 20ms/step - loss: 0.6513 - acc: 0.7661 - val_loss: 0.8391 - val_acc: 0.7094\n",
      "Epoch 32/300\n",
      "5/5 [==============================] - 0s 19ms/step - loss: 0.6620 - acc: 0.7723 - val_loss: 0.8079 - val_acc: 0.7438\n",
      "Epoch 33/300\n",
      "5/5 [==============================] - 0s 17ms/step - loss: 0.5939 - acc: 0.7906 - val_loss: 0.7371 - val_acc: 0.7586\n",
      "Epoch 34/300\n",
      "5/5 [==============================] - 0s 21ms/step - loss: 0.5986 - acc: 0.7906 - val_loss: 0.7126 - val_acc: 0.7734\n",
      "Epoch 35/300\n",
      "5/5 [==============================] - 0s 34ms/step - loss: 0.5867 - acc: 0.7984 - val_loss: 0.7090 - val_acc: 0.7734\n",
      "Epoch 36/300\n",
      "5/5 [==============================] - 0s 20ms/step - loss: 0.5681 - acc: 0.7949 - val_loss: 0.6920 - val_acc: 0.7783\n",
      "Epoch 37/300\n",
      "5/5 [==============================] - 0s 18ms/step - loss: 0.5420 - acc: 0.8072 - val_loss: 0.6801 - val_acc: 0.7734\n",
      "Epoch 38/300\n",
      "5/5 [==============================] - 0s 17ms/step - loss: 0.5570 - acc: 0.8115 - val_loss: 0.6583 - val_acc: 0.7882\n",
      "Epoch 39/300\n",
      "5/5 [==============================] - 0s 69ms/step - loss: 0.5459 - acc: 0.8202 - val_loss: 0.6648 - val_acc: 0.7931\n",
      "Epoch 40/300\n",
      "5/5 [==============================] - 0s 22ms/step - loss: 0.5290 - acc: 0.8316 - val_loss: 0.7530 - val_acc: 0.7340\n",
      "Epoch 41/300\n",
      "5/5 [==============================] - 0s 24ms/step - loss: 0.5716 - acc: 0.8010 - val_loss: 0.7730 - val_acc: 0.7291\n",
      "Epoch 42/300\n",
      "5/5 [==============================] - 0s 21ms/step - loss: 0.5308 - acc: 0.8264 - val_loss: 0.7637 - val_acc: 0.7340\n",
      "Epoch 43/300\n",
      "5/5 [==============================] - 0s 17ms/step - loss: 0.4962 - acc: 0.8325 - val_loss: 0.7296 - val_acc: 0.7488\n",
      "Epoch 44/300\n",
      "5/5 [==============================] - 0s 17ms/step - loss: 0.5342 - acc: 0.8045 - val_loss: 0.7569 - val_acc: 0.7438\n",
      "Epoch 45/300\n",
      "5/5 [==============================] - 0s 17ms/step - loss: 0.5184 - acc: 0.8220 - val_loss: 0.7346 - val_acc: 0.7635\n",
      "Epoch 46/300\n",
      "5/5 [==============================] - 0s 19ms/step - loss: 0.5191 - acc: 0.8325 - val_loss: 0.6563 - val_acc: 0.7783\n",
      "Epoch 47/300\n",
      "5/5 [==============================] - 0s 23ms/step - loss: 0.4516 - acc: 0.8429 - val_loss: 0.6398 - val_acc: 0.7882\n",
      "Epoch 48/300\n",
      "5/5 [==============================] - 0s 23ms/step - loss: 0.4731 - acc: 0.8316 - val_loss: 0.6266 - val_acc: 0.7980\n",
      "Epoch 49/300\n",
      "5/5 [==============================] - 0s 28ms/step - loss: 0.4945 - acc: 0.8290 - val_loss: 0.6410 - val_acc: 0.7882\n",
      "Epoch 50/300\n",
      "5/5 [==============================] - 0s 18ms/step - loss: 0.4597 - acc: 0.8316 - val_loss: 0.6353 - val_acc: 0.7980\n",
      "Epoch 51/300\n",
      "5/5 [==============================] - 0s 25ms/step - loss: 0.4964 - acc: 0.8307 - val_loss: 0.6547 - val_acc: 0.7882\n",
      "Epoch 52/300\n",
      "5/5 [==============================] - 0s 23ms/step - loss: 0.5102 - acc: 0.8307 - val_loss: 0.6987 - val_acc: 0.7685\n",
      "Epoch 53/300\n",
      "5/5 [==============================] - 0s 23ms/step - loss: 0.4617 - acc: 0.8377 - val_loss: 0.7157 - val_acc: 0.7635\n",
      "Epoch 54/300\n",
      "5/5 [==============================] - 0s 19ms/step - loss: 0.4876 - acc: 0.8333 - val_loss: 0.6967 - val_acc: 0.7537\n",
      "Epoch 55/300\n",
      "5/5 [==============================] - 0s 18ms/step - loss: 0.4993 - acc: 0.8272 - val_loss: 0.6684 - val_acc: 0.7685\n",
      "Epoch 56/300\n",
      "5/5 [==============================] - 0s 17ms/step - loss: 0.4915 - acc: 0.8333 - val_loss: 0.6795 - val_acc: 0.7734\n",
      "Epoch 57/300\n",
      "5/5 [==============================] - 0s 14ms/step - loss: 0.4776 - acc: 0.8307 - val_loss: 0.6364 - val_acc: 0.7931\n",
      "Epoch 58/300\n",
      "5/5 [==============================] - 0s 14ms/step - loss: 0.5356 - acc: 0.8220 - val_loss: 0.6184 - val_acc: 0.7980\n",
      "Epoch 59/300\n",
      "5/5 [==============================] - 0s 16ms/step - loss: 0.4506 - acc: 0.8560 - val_loss: 0.6227 - val_acc: 0.8128\n",
      "Epoch 60/300\n",
      "5/5 [==============================] - 0s 16ms/step - loss: 0.4446 - acc: 0.8482 - val_loss: 0.6300 - val_acc: 0.8030\n",
      "Epoch 61/300\n",
      "5/5 [==============================] - 0s 15ms/step - loss: 0.4147 - acc: 0.8499 - val_loss: 0.6361 - val_acc: 0.8030\n",
      "Epoch 62/300\n",
      "5/5 [==============================] - 0s 15ms/step - loss: 0.4676 - acc: 0.8455 - val_loss: 0.6352 - val_acc: 0.7931\n",
      "Epoch 63/300\n"
     ]
    },
    {
     "name": "stdout",
     "output_type": "stream",
     "text": [
      "5/5 [==============================] - 0s 17ms/step - loss: 0.4274 - acc: 0.8569 - val_loss: 0.6363 - val_acc: 0.7980\n",
      "Epoch 64/300\n",
      "5/5 [==============================] - 0s 15ms/step - loss: 0.4404 - acc: 0.8386 - val_loss: 0.6297 - val_acc: 0.7980\n",
      "Epoch 65/300\n",
      "5/5 [==============================] - 0s 15ms/step - loss: 0.3972 - acc: 0.8525 - val_loss: 0.6327 - val_acc: 0.7931\n",
      "Epoch 66/300\n",
      "5/5 [==============================] - 0s 16ms/step - loss: 0.4073 - acc: 0.8551 - val_loss: 0.6499 - val_acc: 0.7882\n",
      "Epoch 67/300\n",
      "5/5 [==============================] - 0s 20ms/step - loss: 0.3898 - acc: 0.8613 - val_loss: 0.6737 - val_acc: 0.7783\n",
      "Epoch 68/300\n",
      "5/5 [==============================] - 0s 14ms/step - loss: 0.4103 - acc: 0.8482 - val_loss: 0.6774 - val_acc: 0.7833\n",
      "Epoch 69/300\n",
      "5/5 [==============================] - 0s 16ms/step - loss: 0.4764 - acc: 0.8360 - val_loss: 0.6572 - val_acc: 0.7833\n",
      "Epoch 70/300\n",
      "5/5 [==============================] - 0s 19ms/step - loss: 0.4434 - acc: 0.8412 - val_loss: 0.6730 - val_acc: 0.7734\n",
      "Epoch 71/300\n",
      "5/5 [==============================] - 0s 16ms/step - loss: 0.4418 - acc: 0.8621 - val_loss: 0.6606 - val_acc: 0.7783\n",
      "Epoch 72/300\n",
      "5/5 [==============================] - 0s 14ms/step - loss: 0.4464 - acc: 0.8342 - val_loss: 0.6458 - val_acc: 0.7882\n",
      "Epoch 73/300\n",
      "5/5 [==============================] - 0s 15ms/step - loss: 0.4025 - acc: 0.8656 - val_loss: 0.6481 - val_acc: 0.7783\n",
      "Epoch 74/300\n",
      "5/5 [==============================] - 0s 15ms/step - loss: 0.3965 - acc: 0.8630 - val_loss: 0.6618 - val_acc: 0.7783\n",
      "Epoch 75/300\n",
      "5/5 [==============================] - 0s 19ms/step - loss: 0.3890 - acc: 0.8639 - val_loss: 0.6513 - val_acc: 0.7783\n",
      "Epoch 76/300\n",
      "5/5 [==============================] - 0s 15ms/step - loss: 0.4116 - acc: 0.8551 - val_loss: 0.6421 - val_acc: 0.7931\n",
      "Epoch 77/300\n",
      "5/5 [==============================] - 0s 14ms/step - loss: 0.4407 - acc: 0.8421 - val_loss: 0.6471 - val_acc: 0.7734\n",
      "Epoch 78/300\n",
      "5/5 [==============================] - 0s 15ms/step - loss: 0.3803 - acc: 0.8735 - val_loss: 0.6495 - val_acc: 0.8030\n",
      "Epoch 79/300\n",
      "5/5 [==============================] - 0s 14ms/step - loss: 0.4281 - acc: 0.8534 - val_loss: 0.6406 - val_acc: 0.8030\n",
      "Epoch 80/300\n",
      "5/5 [==============================] - 0s 15ms/step - loss: 0.3916 - acc: 0.8569 - val_loss: 0.6445 - val_acc: 0.7931\n",
      "Epoch 81/300\n",
      "5/5 [==============================] - 0s 14ms/step - loss: 0.4326 - acc: 0.8464 - val_loss: 0.6591 - val_acc: 0.7931\n",
      "Epoch 82/300\n",
      "5/5 [==============================] - 0s 21ms/step - loss: 0.4376 - acc: 0.8551 - val_loss: 0.6844 - val_acc: 0.7783\n",
      "Epoch 83/300\n",
      "5/5 [==============================] - 0s 16ms/step - loss: 0.3879 - acc: 0.8630 - val_loss: 0.6886 - val_acc: 0.7882\n",
      "Epoch 84/300\n",
      "5/5 [==============================] - 0s 14ms/step - loss: 0.3860 - acc: 0.8656 - val_loss: 0.6851 - val_acc: 0.7833\n",
      "Epoch 85/300\n",
      "5/5 [==============================] - 0s 15ms/step - loss: 0.3985 - acc: 0.8499 - val_loss: 0.6623 - val_acc: 0.8030\n",
      "Epoch 86/300\n",
      "5/5 [==============================] - 0s 14ms/step - loss: 0.4240 - acc: 0.8534 - val_loss: 0.6691 - val_acc: 0.7980\n",
      "Epoch 87/300\n",
      "5/5 [==============================] - 0s 20ms/step - loss: 0.3950 - acc: 0.8613 - val_loss: 0.6640 - val_acc: 0.7931\n",
      "Epoch 88/300\n",
      "5/5 [==============================] - 0s 16ms/step - loss: 0.4202 - acc: 0.8543 - val_loss: 0.6582 - val_acc: 0.8030\n",
      "Epoch 89/300\n",
      "5/5 [==============================] - 0s 15ms/step - loss: 0.4495 - acc: 0.8473 - val_loss: 0.6662 - val_acc: 0.7882\n",
      "Epoch 90/300\n",
      "5/5 [==============================] - 0s 14ms/step - loss: 0.4262 - acc: 0.8455 - val_loss: 0.6854 - val_acc: 0.7882\n",
      "Epoch 91/300\n",
      "5/5 [==============================] - 0s 20ms/step - loss: 0.3611 - acc: 0.8770 - val_loss: 0.7097 - val_acc: 0.7980\n",
      "Epoch 92/300\n",
      "5/5 [==============================] - 0s 16ms/step - loss: 0.3737 - acc: 0.8613 - val_loss: 0.6841 - val_acc: 0.8030\n",
      "Epoch 93/300\n",
      "5/5 [==============================] - 0s 15ms/step - loss: 0.3987 - acc: 0.8604 - val_loss: 0.6824 - val_acc: 0.7980\n",
      "Epoch 94/300\n",
      "5/5 [==============================] - 0s 16ms/step - loss: 0.3885 - acc: 0.8700 - val_loss: 0.6973 - val_acc: 0.7980\n",
      "Epoch 95/300\n",
      "5/5 [==============================] - 0s 14ms/step - loss: 0.3894 - acc: 0.8551 - val_loss: 0.7225 - val_acc: 0.7931\n",
      "Epoch 96/300\n",
      "5/5 [==============================] - 0s 19ms/step - loss: 0.3973 - acc: 0.8595 - val_loss: 0.7295 - val_acc: 0.7833\n",
      "Epoch 97/300\n",
      "5/5 [==============================] - 0s 15ms/step - loss: 0.3627 - acc: 0.8752 - val_loss: 0.7231 - val_acc: 0.7882\n",
      "Epoch 98/300\n",
      "5/5 [==============================] - 0s 20ms/step - loss: 0.3899 - acc: 0.8647 - val_loss: 0.7147 - val_acc: 0.7882\n",
      "Epoch 99/300\n",
      "5/5 [==============================] - 0s 15ms/step - loss: 0.3465 - acc: 0.8735 - val_loss: 0.7058 - val_acc: 0.7882\n",
      "Epoch 100/300\n",
      "5/5 [==============================] - 0s 17ms/step - loss: 0.3861 - acc: 0.8691 - val_loss: 0.7087 - val_acc: 0.8030\n",
      "Epoch 101/300\n",
      "5/5 [==============================] - 0s 19ms/step - loss: 0.3869 - acc: 0.8647 - val_loss: 0.7364 - val_acc: 0.7931\n",
      "Epoch 102/300\n",
      "5/5 [==============================] - 0s 20ms/step - loss: 0.4083 - acc: 0.8647 - val_loss: 0.7591 - val_acc: 0.7833\n",
      "Epoch 103/300\n",
      "5/5 [==============================] - 0s 20ms/step - loss: 0.3736 - acc: 0.8674 - val_loss: 0.7540 - val_acc: 0.7833\n",
      "Epoch 104/300\n",
      "5/5 [==============================] - 0s 19ms/step - loss: 0.3608 - acc: 0.8752 - val_loss: 0.7581 - val_acc: 0.7882\n",
      "Epoch 105/300\n",
      "5/5 [==============================] - 0s 16ms/step - loss: 0.3919 - acc: 0.8709 - val_loss: 0.7675 - val_acc: 0.7882\n",
      "Epoch 106/300\n",
      "5/5 [==============================] - 0s 15ms/step - loss: 0.4264 - acc: 0.8595 - val_loss: 0.7621 - val_acc: 0.7882\n",
      "Epoch 107/300\n",
      "5/5 [==============================] - 0s 14ms/step - loss: 0.4236 - acc: 0.8534 - val_loss: 0.7761 - val_acc: 0.7783\n",
      "Epoch 108/300\n",
      "5/5 [==============================] - 0s 14ms/step - loss: 0.4156 - acc: 0.8604 - val_loss: 0.7834 - val_acc: 0.7734\n",
      "Epoch 109/300\n",
      "5/5 [==============================] - 0s 16ms/step - loss: 0.4066 - acc: 0.8586 - val_loss: 0.7921 - val_acc: 0.7734\n"
     ]
    }
   ],
   "source": [
    "# train baseline classifier\n",
    "history = run_experiment(baseline_model, x_train, y_train)"
   ]
  },
  {
   "cell_type": "code",
   "execution_count": 30,
   "id": "6bd07fbc",
   "metadata": {},
   "outputs": [
    {
     "data": {
      "image/png": "[encoded data removed]",
      "text/plain": [
       "<Figure size 1080x360 with 2 Axes>"
      ]
     },
     "metadata": {
      "needs_background": "light"
     },
     "output_type": "display_data"
    }
   ],
   "source": [
    "display_learning_curves(history)"
   ]
  },
  {
   "cell_type": "code",
   "execution_count": 31,
   "id": "13f7019a",
   "metadata": {},
   "outputs": [
    {
     "name": "stdout",
     "output_type": "stream",
     "text": [
      "Test accuracy: 74.83%\n"
     ]
    }
   ],
   "source": [
    "_, test_accuracy = baseline_model.evaluate(x=x_test, y=y_test, verbose=0)\n",
    "print(f\"Test accuracy: {round(test_accuracy * 100, 2)}%\")"
   ]
  },
  {
   "cell_type": "code",
   "execution_count": 32,
   "id": "2a4231e3",
   "metadata": {},
   "outputs": [],
   "source": [
    "def generate_random_instances(num_instances):\n",
    "    token_probability = x_train.mean(axis=0)\n",
    "    instances = []\n",
    "    for _ in range(num_instances):\n",
    "        probabilities = np.random.uniform(size=len(token_probability))\n",
    "        instance = (probabilities <= token_probability).astype(int)\n",
    "        instances.append(instance)\n",
    "\n",
    "    return np.array(instances)\n",
    "\n",
    "\n",
    "def display_class_probabilities(probabilities):\n",
    "    for instance_idx, probs in enumerate(probabilities):\n",
    "        print(f\"Instance {instance_idx + 1}:\")\n",
    "        for class_idx, prob in enumerate(probs):\n",
    "            print(f\"- {class_values[class_idx]}: {round(prob * 100, 2)}%\")"
   ]
  },
  {
   "cell_type": "code",
   "execution_count": 33,
   "id": "8d557d55",
   "metadata": {},
   "outputs": [
    {
     "name": "stdout",
     "output_type": "stream",
     "text": [
      "Instance 1:\n",
      "- Case_Based: 21.16%\n",
      "- Genetic_Algorithms: 4.75%\n",
      "- Neural_Networks: 30.64%\n",
      "- Probabilistic_Methods: 6.99%\n",
      "- Reinforcement_Learning: 13.26%\n",
      "- Rule_Learning: 3.1%\n",
      "- Theory: 20.09%\n",
      "Instance 2:\n",
      "- Case_Based: 0.55%\n",
      "- Genetic_Algorithms: 6.46%\n",
      "- Neural_Networks: 85.38%\n",
      "- Probabilistic_Methods: 5.13%\n",
      "- Reinforcement_Learning: 0.85%\n",
      "- Rule_Learning: 0.36%\n",
      "- Theory: 1.27%\n",
      "Instance 3:\n",
      "- Case_Based: 11.9%\n",
      "- Genetic_Algorithms: 8.72%\n",
      "- Neural_Networks: 61.98%\n",
      "- Probabilistic_Methods: 8.64%\n",
      "- Reinforcement_Learning: 1.45%\n",
      "- Rule_Learning: 2.99%\n",
      "- Theory: 4.31%\n",
      "Instance 4:\n",
      "- Case_Based: 2.63%\n",
      "- Genetic_Algorithms: 6.36%\n",
      "- Neural_Networks: 56.03%\n",
      "- Probabilistic_Methods: 14.6%\n",
      "- Reinforcement_Learning: 2.47%\n",
      "- Rule_Learning: 2.05%\n",
      "- Theory: 15.85%\n",
      "Instance 5:\n",
      "- Case_Based: 0.62%\n",
      "- Genetic_Algorithms: 0.72%\n",
      "- Neural_Networks: 3.11%\n",
      "- Probabilistic_Methods: 90.89%\n",
      "- Reinforcement_Learning: 0.87%\n",
      "- Rule_Learning: 2.12%\n",
      "- Theory: 1.68%\n",
      "Instance 6:\n",
      "- Case_Based: 47.58%\n",
      "- Genetic_Algorithms: 2.61%\n",
      "- Neural_Networks: 38.59%\n",
      "- Probabilistic_Methods: 3.14%\n",
      "- Reinforcement_Learning: 1.52%\n",
      "- Rule_Learning: 2.63%\n",
      "- Theory: 3.94%\n",
      "Instance 7:\n",
      "- Case_Based: 2.75%\n",
      "- Genetic_Algorithms: 39.33%\n",
      "- Neural_Networks: 39.53%\n",
      "- Probabilistic_Methods: 7.12%\n",
      "- Reinforcement_Learning: 7.76%\n",
      "- Rule_Learning: 1.14%\n",
      "- Theory: 2.36%\n"
     ]
    }
   ],
   "source": [
    "new_instances = generate_random_instances(num_classes)\n",
    "logits = baseline_model.predict(new_instances)\n",
    "probabilities = keras.activations.softmax(tf.convert_to_tensor(logits)).numpy()\n",
    "display_class_probabilities(probabilities)"
   ]
  },
  {
   "cell_type": "code",
   "execution_count": 34,
   "id": "24938577",
   "metadata": {},
   "outputs": [
    {
     "name": "stdout",
     "output_type": "stream",
     "text": [
      "Edges shape: (2, 5429)\n",
      "Nodes shape: (2708, 1433)\n"
     ]
    },
    {
     "name": "stderr",
     "output_type": "stream",
     "text": [
      "/var/folders/k8/cklb1sxj1p35mft4gbkymsc091k_dc/T/ipykernel_52806/2468639763.py:7: FutureWarning: Passing a set as an indexer is deprecated and will raise in a future version. Use a list instead.\n",
      "  papers.sort_values(\"paper_id\")[feature_names].to_numpy(), dtype=tf.dtypes.float32\n"
     ]
    }
   ],
   "source": [
    "# Create an edges array (sparse adjacency matrix) of shape [2, num_edges].\n",
    "edges = citations[[\"source\", \"target\"]].to_numpy().T\n",
    "# Create an edge weights array of ones.\n",
    "edge_weights = tf.ones(shape=edges.shape[1])\n",
    "# Create a node features array of shape [num_nodes, num_features].\n",
    "node_features = tf.cast(\n",
    "    papers.sort_values(\"paper_id\")[feature_names].to_numpy(), dtype=tf.dtypes.float32\n",
    ")\n",
    "# Create graph info tuple with node_features, edges, and edge_weights.\n",
    "graph_info = (node_features, edges, edge_weights)\n",
    "\n",
    "print(\"Edges shape:\", edges.shape)\n",
    "print(\"Nodes shape:\", node_features.shape)"
   ]
  },
  {
   "cell_type": "code",
   "execution_count": 100,
   "id": "324d8e9d",
   "metadata": {},
   "outputs": [
    {
     "data": {
      "text/plain": [
       "<tf.Tensor: shape=(2708, 1433), dtype=float32, numpy=\n",
       "array([[0., 0., 0., ..., 0., 0., 0.],\n",
       "       [0., 0., 0., ..., 0., 0., 0.],\n",
       "       [0., 0., 0., ..., 0., 0., 0.],\n",
       "       ...,\n",
       "       [0., 0., 0., ..., 0., 0., 0.],\n",
       "       [0., 0., 0., ..., 0., 0., 0.],\n",
       "       [0., 0., 0., ..., 0., 0., 0.]], dtype=float32)>"
      ]
     },
     "execution_count": 100,
     "metadata": {},
     "output_type": "execute_result"
    }
   ],
   "source": [
    "node_features"
   ]
  },
  {
   "cell_type": "code",
   "execution_count": 35,
   "id": "6cd07323",
   "metadata": {},
   "outputs": [
    {
     "data": {
      "text/plain": [
       "(1349,)"
      ]
     },
     "execution_count": 35,
     "metadata": {},
     "output_type": "execute_result"
    }
   ],
   "source": [
    "y_train.shape"
   ]
  },
  {
   "cell_type": "code",
   "execution_count": 36,
   "id": "82615b7c",
   "metadata": {},
   "outputs": [],
   "source": [
    "class GraphConvLayer(layers.Layer):\n",
    "    def __init__(\n",
    "        self,\n",
    "        hidden_units,\n",
    "        dropout_rate=0.2,\n",
    "        aggregation_type=\"mean\",\n",
    "        combination_type=\"concat\",\n",
    "        normalize=False,\n",
    "        *args,\n",
    "        **kwargs,\n",
    "    ):\n",
    "        super(GraphConvLayer, self).__init__(*args, **kwargs)\n",
    "\n",
    "        self.aggregation_type = aggregation_type\n",
    "        self.combination_type = combination_type\n",
    "        self.normalize = normalize\n",
    "\n",
    "        self.ffn_prepare = create_ffn(hidden_units, dropout_rate)\n",
    "        if self.combination_type == \"gated\":\n",
    "            self.update_fn = layers.GRU(\n",
    "                units=hidden_units,\n",
    "                activation=\"tanh\",\n",
    "                recurrent_activation=\"sigmoid\",\n",
    "                dropout=dropout_rate,\n",
    "                return_state=True,\n",
    "                recurrent_dropout=dropout_rate,\n",
    "            )\n",
    "        else:\n",
    "            self.update_fn = create_ffn(hidden_units, dropout_rate)\n",
    "            \n",
    "    def prepare(self, node_repesentations, weights=None):\n",
    "        # node_repesentations shape is [num_edges, embedding_dim].\n",
    "        messages = self.ffn_prepare(node_repesentations)\n",
    "        if weights is not None:\n",
    "            messages = messages * tf.expand_dims(weights, -1)\n",
    "        return messages\n",
    "\n",
    "    def aggregate(self, node_indices, neighbour_messages):\n",
    "        # node_indices shape is [num_edges].\n",
    "        # neighbour_messages shape: [num_edges, representation_dim].\n",
    "        num_nodes = tf.math.reduce_max(node_indices) + 1\n",
    "        print(\"num_nodes: \",num_nodes)\n",
    "        print(\"neighbour_messages.shape: \",neighbour_messages.shape)\n",
    "        print(\"neighbour_messages: \",neighbour_messages)\n",
    "        print(\"node_indices.shape: \",node_indices.shape)\n",
    "        print(\"node_indices: \",node_indices)\n",
    "        if self.aggregation_type == \"sum\":\n",
    "            aggregated_message = tf.math.unsorted_segment_sum(\n",
    "                neighbour_messages, node_indices, num_segments=num_nodes\n",
    "            )\n",
    "        elif self.aggregation_type == \"mean\":\n",
    "            aggregated_message = tf.math.unsorted_segment_mean(\n",
    "                neighbour_messages, node_indices, num_segments=num_nodes\n",
    "            )\n",
    "        elif self.aggregation_type == \"max\":\n",
    "            aggregated_message = tf.math.unsorted_segment_max(\n",
    "                neighbour_messages, node_indices, num_segments=num_nodes\n",
    "            )\n",
    "        else:\n",
    "            raise ValueError(f\"Invalid aggregation type: {self.aggregation_type}.\")\n",
    "        print(\"aggregated_message: \",aggregated_message.shape)\n",
    "        return aggregated_message\n",
    "\n",
    "    def update(self, node_repesentations, aggregated_messages):\n",
    "        # node_repesentations shape is [num_nodes, representation_dim].\n",
    "        # aggregated_messages shape is [num_nodes, representation_dim].\n",
    "        if self.combination_type == \"gru\":\n",
    "            # Create a sequence of two elements for the GRU layer.\n",
    "            h = tf.stack([node_repesentations, aggregated_messages], axis=1)\n",
    "        elif self.combination_type == \"concat\":\n",
    "            # Concatenate the node_repesentations and aggregated_messages.\n",
    "            h = tf.concat([node_repesentations, aggregated_messages], axis=1)\n",
    "        elif self.combination_type == \"add\":\n",
    "            # Add node_repesentations and aggregated_messages.\n",
    "            h = node_repesentations + aggregated_messages\n",
    "        else:\n",
    "            raise ValueError(f\"Invalid combination type: {self.combination_type}.\")\n",
    "\n",
    "        # Apply the processing function.\n",
    "        print(\"h.shape: \",h.shape)\n",
    "        node_embeddings = self.update_fn(h)\n",
    "        print(\"h.shape after update: \",h.shape )\n",
    "        if self.combination_type == \"gru\":\n",
    "            node_embeddings = tf.unstack(node_embeddings, axis=1)[-1]\n",
    "\n",
    "        if self.normalize:\n",
    "            node_embeddings = tf.nn.l2_normalize(node_embeddings, axis=-1)\n",
    "        return node_embeddings\n",
    "\n",
    "    def call(self, inputs):\n",
    "        \"\"\"Process the inputs to produce the node_embeddings.\n",
    "\n",
    "        inputs: a tuple of three elements: node_repesentations, edges, edge_weights.\n",
    "        Returns: node_embeddings of shape [num_nodes, representation_dim].\n",
    "        \"\"\"\n",
    "\n",
    "        node_repesentations, edges, edge_weights = inputs\n",
    "        # Get node_indices (source) and neighbour_indices (target) from edges.\n",
    "        node_indices, neighbour_indices = edges[0], edges[1]\n",
    "        # neighbour_repesentations shape is [num_edges, representation_dim].\n",
    "        print(\"node_repesentations: \",node_repesentations)\n",
    "        print(\"node_repesentations shape: \",node_repesentations.shape)\n",
    "        neighbour_repesentations = tf.gather(node_repesentations, neighbour_indices)\n",
    "        print(\"neighbour_repesentations: \",neighbour_repesentations)\n",
    "        print(\"neighbour_repesentations shape: \",neighbour_repesentations.shape)\n",
    "        # Prepare the messages of the neighbours.\n",
    "        neighbour_messages = self.prepare(neighbour_repesentations, edge_weights)\n",
    "        # Aggregate the neighbour messages.\n",
    "        aggregated_messages = self.aggregate(node_indices, neighbour_messages)\n",
    "        # Update the node embedding with the neighbour messages.\n",
    "        return self.update(node_repesentations, aggregated_messages)"
   ]
  },
  {
   "cell_type": "code",
   "execution_count": 37,
   "id": "c773c915",
   "metadata": {},
   "outputs": [],
   "source": [
    "class GNNNodeClassifier(tf.keras.Model):\n",
    "    def __init__(\n",
    "        self,\n",
    "        graph_info,\n",
    "        num_classes,\n",
    "        hidden_units,\n",
    "        aggregation_type=\"sum\",\n",
    "        combination_type=\"concat\",\n",
    "        dropout_rate=0.2,\n",
    "        normalize=True,\n",
    "        *args,\n",
    "        **kwargs,\n",
    "    ):\n",
    "        super(GNNNodeClassifier, self).__init__(*args, **kwargs)\n",
    "\n",
    "        # Unpack graph_info to three elements: node_features, edges, and edge_weight.\n",
    "        node_features, edges, edge_weights = graph_info\n",
    "        self.node_features = node_features\n",
    "        self.edges = edges\n",
    "        self.edge_weights = edge_weights\n",
    "        # Set edge_weights to ones if not provided.\n",
    "        if self.edge_weights is None:\n",
    "            self.edge_weights = tf.ones(shape=edges.shape[1])\n",
    "        # Scale edge_weights to sum to 1.\n",
    "        self.edge_weights = self.edge_weights / tf.math.reduce_sum(self.edge_weights)\n",
    "\n",
    "        # Create a process layer.\n",
    "        self.preprocess = create_ffn(hidden_units, dropout_rate, name=\"preprocess\")\n",
    "        # Create the first GraphConv layer.\n",
    "        self.conv1 = GraphConvLayer(\n",
    "            hidden_units,\n",
    "            dropout_rate,\n",
    "            aggregation_type,\n",
    "            combination_type,\n",
    "            normalize,\n",
    "            name=\"graph_conv1\",\n",
    "        )\n",
    "        # Create the second GraphConv layer.\n",
    "        self.conv2 = GraphConvLayer(\n",
    "            hidden_units,\n",
    "            dropout_rate,\n",
    "            aggregation_type,\n",
    "            combination_type,\n",
    "            normalize,\n",
    "            name=\"graph_conv2\",\n",
    "        )\n",
    "        # Create a postprocess layer.\n",
    "        self.postprocess = create_ffn(hidden_units, dropout_rate, name=\"postprocess\")\n",
    "        # Create a compute logits layer.\n",
    "        self.compute_logits = layers.Dense(units=num_classes, name=\"logits\")\n",
    "\n",
    "    def call(self, input_node_indices):\n",
    "        # Preprocess the node_features to produce node representations.\n",
    "        x = self.preprocess(self.node_features)\n",
    "        print(\"Initial x: \",x.shape)\n",
    "        # Apply the first graph conv layer.\n",
    "        x1 = self.conv1((x, self.edges, self.edge_weights))\n",
    "        # Skip connection.\n",
    "        x = x1 + x\n",
    "        print(\"x1: \",x1.shape)\n",
    "        print(\"1st conv x: \",x.shape)\n",
    "        # Apply the second graph conv layer.\n",
    "        x2 = self.conv2((x, self.edges, self.edge_weights))\n",
    "        # Skip connection.\n",
    "        x = x2 + x\n",
    "        print(\"x2: \",x2.shape)\n",
    "        print(\"2nd conv x: \",x.shape)\n",
    "        # Postprocess node embedding.\n",
    "        x = self.postprocess(x)\n",
    "        # Fetch node embeddings for the input node_indices.\n",
    "        node_embeddings = tf.gather(x, input_node_indices)\n",
    "        # Compute logits\n",
    "        return self.compute_logits(node_embeddings)"
   ]
  },
  {
   "cell_type": "code",
   "execution_count": 38,
   "id": "5a4c5109",
   "metadata": {},
   "outputs": [],
   "source": [
    "x_train = train_data.paper_id.to_numpy()"
   ]
  },
  {
   "cell_type": "code",
   "execution_count": 39,
   "id": "adc8eefe",
   "metadata": {},
   "outputs": [
    {
     "data": {
      "text/plain": [
       "array([1886, 1034, 2247, ..., 2259,  111,  570])"
      ]
     },
     "execution_count": 39,
     "metadata": {},
     "output_type": "execute_result"
    }
   ],
   "source": [
    "x_train"
   ]
  },
  {
   "cell_type": "code",
   "execution_count": 40,
   "id": "15ff901d",
   "metadata": {},
   "outputs": [
    {
     "name": "stdout",
     "output_type": "stream",
     "text": [
      "Initial x:  (2708, 32)\n",
      "node_repesentations:  tf.Tensor(\n",
      "[[-0.00484795 -0.0559248   0.02102095 ...  0.02540728 -0.02054118\n",
      "  -0.05268823]\n",
      " [ 0.06826943 -0.0219587   0.11286195 ...  0.03166911  0.02849369\n",
      "  -0.07039548]\n",
      " [ 0.01693402 -0.01591313  0.00962231 ...  0.01152     0.02034927\n",
      "  -0.03527375]\n",
      " ...\n",
      " [ 0.02017046  0.06053612 -0.01477915 ... -0.02691436  0.00120134\n",
      "   0.01130981]\n",
      " [ 0.11886419  0.10269045  0.04358207 ...  0.14887173  0.01367483\n",
      "   0.0179258 ]\n",
      " [ 0.0258988   0.06000807 -0.01415087 ...  0.10354127 -0.00742902\n",
      "  -0.01395308]], shape=(2708, 32), dtype=float32)\n",
      "node_repesentations shape:  (2708, 32)\n",
      "neighbour_repesentations:  tf.Tensor(\n",
      "[[-0.00484795 -0.0559248   0.02102095 ...  0.02540728 -0.02054118\n",
      "  -0.05268823]\n",
      " [-0.00484795 -0.0559248   0.02102095 ...  0.02540728 -0.02054118\n",
      "  -0.05268823]\n",
      " [-0.00484795 -0.0559248   0.02102095 ...  0.02540728 -0.02054118\n",
      "  -0.05268823]\n",
      " ...\n",
      " [ 0.00083064  0.04273793 -0.01073588 ...  0.01225821 -0.03048003\n",
      "  -0.01829925]\n",
      " [-0.03094783 -0.02950298 -0.02316682 ... -0.10682821 -0.02582037\n",
      "  -0.04293745]\n",
      " [ 0.01594456 -0.00652737 -0.02701188 ...  0.06515212 -0.04144095\n",
      "   0.11338955]], shape=(5429, 32), dtype=float32)\n",
      "neighbour_repesentations shape:  (5429, 32)\n",
      "num_nodes:  tf.Tensor(2708, shape=(), dtype=int64)\n",
      "neighbour_messages.shape:  (5429, 32)\n",
      "neighbour_messages:  tf.Tensor(\n",
      "[[ 1.0528025e-07 -9.9033264e-07 -1.2596213e-06 ...  3.1716414e-07\n",
      "  -1.0649492e-06 -1.4488928e-06]\n",
      " [ 1.0528025e-07 -9.9033264e-07 -1.2596213e-06 ...  3.1716414e-07\n",
      "  -1.0649492e-06 -1.4488928e-06]\n",
      " [ 1.0528025e-07 -9.9033264e-07 -1.2596213e-06 ...  3.1716414e-07\n",
      "  -1.0649492e-06 -1.4488928e-06]\n",
      " ...\n",
      " [-1.0491207e-06 -5.2282269e-07  5.2965493e-07 ... -1.3117622e-06\n",
      "   2.0718712e-06 -1.6184943e-06]\n",
      " [ 2.7728886e-06 -2.1646933e-06  3.1388345e-06 ...  2.5205879e-06\n",
      "   1.7525213e-08 -2.8831160e-08]\n",
      " [ 7.6744044e-07  3.7993148e-06 -1.5665283e-06 ... -2.9365224e-06\n",
      "  -1.2698076e-06 -1.5881473e-06]], shape=(5429, 32), dtype=float32)\n",
      "node_indices.shape:  (5429,)\n",
      "node_indices:  tf.Tensor([  21  905  906 ... 2586 1874 2707], shape=(5429,), dtype=int64)\n",
      "aggregated_message:  (2708, 32)\n",
      "h.shape:  (2708, 64)\n",
      "h.shape after update:  (2708, 64)\n",
      "x1:  (2708, 32)\n",
      "1st conv x:  (2708, 32)\n",
      "node_repesentations:  tf.Tensor(\n",
      "[[ 1.31253988e-01 -2.85040587e-04 -1.02307864e-01 ... -3.10294241e-01\n",
      "  -1.79582700e-01  2.09043816e-01]\n",
      " [ 1.28195435e-01 -5.27446568e-02  1.82535648e-02 ... -1.43030718e-01\n",
      "   5.72257042e-02  2.21319318e-01]\n",
      " [-1.40375458e-02  3.06984782e-02  1.32366940e-01 ...  1.52956858e-01\n",
      "  -1.17185093e-01 -3.98049980e-01]\n",
      " ...\n",
      " [-1.88892156e-01 -8.41261670e-02  7.07114190e-02 ... -1.62888616e-02\n",
      "   9.18916538e-02 -2.31965892e-02]\n",
      " [ 2.01003253e-01  1.75080016e-01 -2.57338673e-01 ...  2.40013003e-03\n",
      "  -5.74326739e-02  1.81821421e-01]\n",
      " [ 9.02757570e-02 -6.30455688e-02 -1.63867608e-01 ...  9.07278210e-02\n",
      "  -1.01446606e-01 -2.51251683e-02]], shape=(2708, 32), dtype=float32)\n",
      "node_repesentations shape:  (2708, 32)\n",
      "neighbour_repesentations:  tf.Tensor(\n",
      "[[ 1.3125399e-01 -2.8504059e-04 -1.0230786e-01 ... -3.1029424e-01\n",
      "  -1.7958270e-01  2.0904382e-01]\n",
      " [ 1.3125399e-01 -2.8504059e-04 -1.0230786e-01 ... -3.1029424e-01\n",
      "  -1.7958270e-01  2.0904382e-01]\n",
      " [ 1.3125399e-01 -2.8504059e-04 -1.0230786e-01 ... -3.1029424e-01\n",
      "  -1.7958270e-01  2.0904382e-01]\n",
      " ...\n",
      " [ 1.2555490e-01  8.0338866e-02  5.1058296e-02 ... -5.0491620e-02\n",
      "  -9.4568603e-02 -3.9142168e-01]\n",
      " [-2.0082034e-03 -8.6223558e-02 -3.2482573e-01 ... -2.8399283e-01\n",
      "   1.3760264e-01  6.8745807e-02]\n",
      " [-7.4768819e-02 -5.2924599e-02 -3.6976793e-01 ... -2.8169885e-02\n",
      "   2.0944937e-01  1.8968967e-01]], shape=(5429, 32), dtype=float32)\n",
      "neighbour_repesentations shape:  (5429, 32)\n",
      "num_nodes:  tf.Tensor(2708, shape=(), dtype=int64)\n",
      "neighbour_messages.shape:  (5429, 32)\n",
      "neighbour_messages:  tf.Tensor(\n",
      "[[-7.8212897e-06 -3.5274963e-06  7.4276013e-06 ... -4.9748933e-06\n",
      "  -1.5118848e-05  1.2903621e-06]\n",
      " [-7.8212897e-06 -3.5274963e-06  7.4276013e-06 ... -4.9748933e-06\n",
      "  -1.5118848e-05  1.2903621e-06]\n",
      " [-7.8212897e-06 -3.5274963e-06  7.4276013e-06 ... -4.9748933e-06\n",
      "  -1.5118848e-05  1.2903621e-06]\n",
      " ...\n",
      " [ 2.0132265e-06 -3.7325824e-06  1.7751976e-05 ... -1.0564465e-05\n",
      "   8.6336713e-06 -6.8748582e-06]\n",
      " [-5.6427039e-06  5.1133302e-06  3.5790702e-06 ... -9.7222767e-07\n",
      "   1.7165744e-06  8.7769467e-06]\n",
      " [ 7.3557831e-06 -2.2770703e-06  7.5855605e-06 ... -3.1023678e-06\n",
      "  -7.3781293e-06 -4.8845902e-07]], shape=(5429, 32), dtype=float32)\n",
      "node_indices.shape:  (5429,)\n",
      "node_indices:  tf.Tensor([  21  905  906 ... 2586 1874 2707], shape=(5429,), dtype=int64)\n",
      "aggregated_message:  (2708, 32)\n",
      "h.shape:  (2708, 64)\n",
      "h.shape after update:  (2708, 64)\n",
      "x2:  (2708, 32)\n",
      "2nd conv x:  (2708, 32)\n",
      "GNN output shape: tf.Tensor(\n",
      "[[-0.01148839 -0.05910844 -0.11182647 -0.04787503  0.06463188  0.06175253\n",
      "   0.05175781]], shape=(1, 7), dtype=float32)\n",
      "Model: \"gnn_model\"\n",
      "_________________________________________________________________\n",
      " Layer (type)                Output Shape              Param #   \n",
      "=================================================================\n",
      " preprocess (Sequential)     (2708, 32)                52804     \n",
      "                                                                 \n",
      " graph_conv1 (GraphConvLayer  multiple                 5888      \n",
      " )                                                               \n",
      "                                                                 \n",
      " graph_conv2 (GraphConvLayer  multiple                 5888      \n",
      " )                                                               \n",
      "                                                                 \n",
      " postprocess (Sequential)    (2708, 32)                2368      \n",
      "                                                                 \n",
      " logits (Dense)              multiple                  231       \n",
      "                                                                 \n",
      "=================================================================\n",
      "Total params: 67,179\n",
      "Trainable params: 63,481\n",
      "Non-trainable params: 3,698\n",
      "_________________________________________________________________\n"
     ]
    }
   ],
   "source": [
    "gnn_model = GNNNodeClassifier(\n",
    "    graph_info=graph_info,\n",
    "    num_classes=num_classes,\n",
    "    hidden_units=hidden_units,\n",
    "    dropout_rate=dropout_rate,\n",
    "    name=\"gnn_model\",\n",
    ")\n",
    "\n",
    "print(\"GNN output shape:\", gnn_model([1]))\n",
    "\n",
    "gnn_model.summary()"
   ]
  },
  {
   "cell_type": "code",
   "execution_count": 41,
   "id": "3549a7d0",
   "metadata": {},
   "outputs": [
    {
     "name": "stdout",
     "output_type": "stream",
     "text": [
      "Epoch 1/300\n",
      "Initial x:  (2708, 32)\n",
      "node_repesentations:  Tensor(\"gnn_model/preprocess/dense_11/Gelu/mul_1:0\", shape=(2708, 32), dtype=float32)\n",
      "node_repesentations shape:  (2708, 32)\n",
      "neighbour_repesentations:  Tensor(\"gnn_model/graph_conv1/GatherV2:0\", shape=(5429, 32), dtype=float32)\n",
      "neighbour_repesentations shape:  (5429, 32)\n",
      "num_nodes:  Tensor(\"gnn_model/graph_conv1/add:0\", shape=(), dtype=int64)\n",
      "neighbour_messages.shape:  (5429, 32)\n",
      "neighbour_messages:  Tensor(\"gnn_model/graph_conv1/mul:0\", shape=(5429, 32), dtype=float32)\n",
      "node_indices.shape:  (5429,)\n",
      "node_indices:  Tensor(\"gnn_model/graph_conv1/strided_slice:0\", shape=(5429,), dtype=int64)\n",
      "aggregated_message:  (2708, 32)\n",
      "h.shape:  (2708, 64)\n",
      "h.shape after update:  (2708, 64)\n",
      "x1:  (2708, 32)\n",
      "1st conv x:  (2708, 32)\n",
      "node_repesentations:  Tensor(\"gnn_model/add:0\", shape=(2708, 32), dtype=float32)\n",
      "node_repesentations shape:  (2708, 32)\n",
      "neighbour_repesentations:  Tensor(\"gnn_model/graph_conv2/GatherV2:0\", shape=(5429, 32), dtype=float32)\n",
      "neighbour_repesentations shape:  (5429, 32)\n",
      "num_nodes:  Tensor(\"gnn_model/graph_conv2/add:0\", shape=(), dtype=int64)\n",
      "neighbour_messages.shape:  (5429, 32)\n",
      "neighbour_messages:  Tensor(\"gnn_model/graph_conv2/mul:0\", shape=(5429, 32), dtype=float32)\n",
      "node_indices.shape:  (5429,)\n",
      "node_indices:  Tensor(\"gnn_model/graph_conv2/strided_slice:0\", shape=(5429,), dtype=int64)\n",
      "aggregated_message:  (2708, 32)\n",
      "h.shape:  (2708, 64)\n",
      "h.shape after update:  (2708, 64)\n",
      "x2:  (2708, 32)\n",
      "2nd conv x:  (2708, 32)\n",
      "Initial x:  (2708, 32)\n",
      "node_repesentations:  Tensor(\"gnn_model/preprocess/dense_11/Gelu/mul_1:0\", shape=(2708, 32), dtype=float32)\n",
      "node_repesentations shape:  (2708, 32)\n",
      "neighbour_repesentations:  Tensor(\"gnn_model/graph_conv1/GatherV2:0\", shape=(5429, 32), dtype=float32)\n",
      "neighbour_repesentations shape:  (5429, 32)\n",
      "num_nodes:  Tensor(\"gnn_model/graph_conv1/add:0\", shape=(), dtype=int64)\n",
      "neighbour_messages.shape:  (5429, 32)\n",
      "neighbour_messages:  Tensor(\"gnn_model/graph_conv1/mul:0\", shape=(5429, 32), dtype=float32)\n",
      "node_indices.shape:  (5429,)\n",
      "node_indices:  Tensor(\"gnn_model/graph_conv1/strided_slice:0\", shape=(5429,), dtype=int64)\n",
      "aggregated_message:  (2708, 32)\n",
      "h.shape:  (2708, 64)\n",
      "h.shape after update:  (2708, 64)\n",
      "x1:  (2708, 32)\n",
      "1st conv x:  (2708, 32)\n",
      "node_repesentations:  Tensor(\"gnn_model/add:0\", shape=(2708, 32), dtype=float32)\n",
      "node_repesentations shape:  (2708, 32)\n",
      "neighbour_repesentations:  Tensor(\"gnn_model/graph_conv2/GatherV2:0\", shape=(5429, 32), dtype=float32)\n",
      "neighbour_repesentations shape:  (5429, 32)\n",
      "num_nodes:  Tensor(\"gnn_model/graph_conv2/add:0\", shape=(), dtype=int64)\n",
      "neighbour_messages.shape:  (5429, 32)\n",
      "neighbour_messages:  Tensor(\"gnn_model/graph_conv2/mul:0\", shape=(5429, 32), dtype=float32)\n",
      "node_indices.shape:  (5429,)\n",
      "node_indices:  Tensor(\"gnn_model/graph_conv2/strided_slice:0\", shape=(5429,), dtype=int64)\n",
      "aggregated_message:  (2708, 32)\n",
      "h.shape:  (2708, 64)\n",
      "h.shape after update:  (2708, 64)\n",
      "x2:  (2708, 32)\n",
      "2nd conv x:  (2708, 32)\n",
      "5/5 [==============================] - ETA: 0s - loss: 2.2619 - acc: 0.1632Initial x:  (2708, 32)\n",
      "node_repesentations:  Tensor(\"gnn_model/preprocess/dense_11/Gelu/mul_1:0\", shape=(2708, 32), dtype=float32)\n",
      "node_repesentations shape:  (2708, 32)\n",
      "neighbour_repesentations:  Tensor(\"gnn_model/graph_conv1/GatherV2:0\", shape=(5429, 32), dtype=float32)\n",
      "neighbour_repesentations shape:  (5429, 32)\n",
      "num_nodes:  Tensor(\"gnn_model/graph_conv1/add:0\", shape=(), dtype=int64)\n",
      "neighbour_messages.shape:  (5429, 32)\n",
      "neighbour_messages:  Tensor(\"gnn_model/graph_conv1/mul:0\", shape=(5429, 32), dtype=float32)\n",
      "node_indices.shape:  (5429,)\n",
      "node_indices:  Tensor(\"gnn_model/graph_conv1/strided_slice:0\", shape=(5429,), dtype=int64)\n",
      "aggregated_message:  (2708, 32)\n",
      "h.shape:  (2708, 64)\n",
      "h.shape after update:  (2708, 64)\n",
      "x1:  (2708, 32)\n",
      "1st conv x:  (2708, 32)\n",
      "node_repesentations:  Tensor(\"gnn_model/add:0\", shape=(2708, 32), dtype=float32)\n",
      "node_repesentations shape:  (2708, 32)\n",
      "neighbour_repesentations:  Tensor(\"gnn_model/graph_conv2/GatherV2:0\", shape=(5429, 32), dtype=float32)\n",
      "neighbour_repesentations shape:  (5429, 32)\n",
      "num_nodes:  Tensor(\"gnn_model/graph_conv2/add:0\", shape=(), dtype=int64)\n",
      "neighbour_messages.shape:  (5429, 32)\n",
      "neighbour_messages:  Tensor(\"gnn_model/graph_conv2/mul:0\", shape=(5429, 32), dtype=float32)\n",
      "node_indices.shape:  (5429,)\n",
      "node_indices:  Tensor(\"gnn_model/graph_conv2/strided_slice:0\", shape=(5429,), dtype=int64)\n",
      "aggregated_message:  (2708, 32)\n",
      "h.shape:  (2708, 64)\n",
      "h.shape after update:  (2708, 64)\n",
      "x2:  (2708, 32)\n",
      "2nd conv x:  (2708, 32)\n",
      "5/5 [==============================] - 5s 218ms/step - loss: 2.2619 - acc: 0.1632 - val_loss: 1.8736 - val_acc: 0.3941\n",
      "Epoch 2/300\n",
      "5/5 [==============================] - 1s 115ms/step - loss: 1.9886 - acc: 0.2365 - val_loss: 1.8479 - val_acc: 0.3941\n",
      "Epoch 3/300\n",
      "5/5 [==============================] - 1s 108ms/step - loss: 1.9509 - acc: 0.2845 - val_loss: 1.8544 - val_acc: 0.3941\n",
      "Epoch 4/300\n",
      "5/5 [==============================] - 1s 108ms/step - loss: 1.8927 - acc: 0.2557 - val_loss: 1.8639 - val_acc: 0.3695\n",
      "Epoch 5/300\n",
      "5/5 [==============================] - 1s 133ms/step - loss: 1.9120 - acc: 0.2644 - val_loss: 1.8602 - val_acc: 0.3941\n",
      "Epoch 6/300\n",
      "5/5 [==============================] - 1s 113ms/step - loss: 1.8868 - acc: 0.2635 - val_loss: 1.8481 - val_acc: 0.3990\n",
      "Epoch 7/300\n",
      "5/5 [==============================] - 1s 102ms/step - loss: 1.8577 - acc: 0.2757 - val_loss: 1.8363 - val_acc: 0.3990\n",
      "Epoch 8/300\n",
      "5/5 [==============================] - 1s 105ms/step - loss: 1.8633 - acc: 0.2906 - val_loss: 1.8188 - val_acc: 0.4089\n",
      "Epoch 9/300\n",
      "5/5 [==============================] - 1s 130ms/step - loss: 1.8369 - acc: 0.2862 - val_loss: 1.8000 - val_acc: 0.4089\n",
      "Epoch 10/300\n",
      "5/5 [==============================] - 1s 164ms/step - loss: 1.8199 - acc: 0.2853 - val_loss: 1.7948 - val_acc: 0.4187\n",
      "Epoch 11/300\n",
      "5/5 [==============================] - 1s 104ms/step - loss: 1.7982 - acc: 0.3010 - val_loss: 1.7835 - val_acc: 0.4236\n",
      "Epoch 12/300\n",
      "5/5 [==============================] - 1s 106ms/step - loss: 1.7967 - acc: 0.3054 - val_loss: 1.7645 - val_acc: 0.4680\n",
      "Epoch 13/300\n",
      "5/5 [==============================] - 1s 105ms/step - loss: 1.7770 - acc: 0.3089 - val_loss: 1.7337 - val_acc: 0.4926\n",
      "Epoch 14/300\n",
      "5/5 [==============================] - 0s 98ms/step - loss: 1.7213 - acc: 0.3351 - val_loss: 1.6858 - val_acc: 0.4828\n",
      "Epoch 15/300\n",
      "5/5 [==============================] - 1s 118ms/step - loss: 1.7107 - acc: 0.3499 - val_loss: 1.6269 - val_acc: 0.4483\n",
      "Epoch 16/300\n",
      "5/5 [==============================] - 1s 106ms/step - loss: 1.7082 - acc: 0.3394 - val_loss: 1.5816 - val_acc: 0.4778\n",
      "Epoch 17/300\n",
      "5/5 [==============================] - 1s 108ms/step - loss: 1.6419 - acc: 0.3682 - val_loss: 1.5383 - val_acc: 0.5025\n",
      "Epoch 18/300\n",
      "5/5 [==============================] - 0s 99ms/step - loss: 1.6134 - acc: 0.3874 - val_loss: 1.5094 - val_acc: 0.4532\n",
      "Epoch 19/300\n",
      "5/5 [==============================] - 1s 105ms/step - loss: 1.5674 - acc: 0.3970 - val_loss: 1.4870 - val_acc: 0.3892\n",
      "Epoch 20/300\n",
      "5/5 [==============================] - 1s 104ms/step - loss: 1.5459 - acc: 0.4250 - val_loss: 1.4317 - val_acc: 0.4039\n",
      "Epoch 21/300\n",
      "5/5 [==============================] - 1s 104ms/step - loss: 1.4664 - acc: 0.4459 - val_loss: 1.2670 - val_acc: 0.5419\n",
      "Epoch 22/300\n",
      "5/5 [==============================] - 1s 110ms/step - loss: 1.4321 - acc: 0.4581 - val_loss: 1.2303 - val_acc: 0.5764\n",
      "Epoch 23/300\n",
      "5/5 [==============================] - 1s 127ms/step - loss: 1.3905 - acc: 0.4738 - val_loss: 1.3826 - val_acc: 0.5813\n",
      "Epoch 24/300\n",
      "5/5 [==============================] - 1s 160ms/step - loss: 1.3665 - acc: 0.5079 - val_loss: 1.4537 - val_acc: 0.5813\n",
      "Epoch 25/300\n",
      "5/5 [==============================] - 1s 162ms/step - loss: 1.2902 - acc: 0.5349 - val_loss: 1.5417 - val_acc: 0.5567\n",
      "Epoch 26/300\n",
      "5/5 [==============================] - 1s 154ms/step - loss: 1.3016 - acc: 0.5410 - val_loss: 1.3915 - val_acc: 0.6059\n",
      "Epoch 27/300\n",
      "5/5 [==============================] - 1s 106ms/step - loss: 1.2395 - acc: 0.5480 - val_loss: 1.2134 - val_acc: 0.6355\n",
      "Epoch 28/300\n",
      "5/5 [==============================] - 1s 136ms/step - loss: 1.2042 - acc: 0.5497 - val_loss: 1.0534 - val_acc: 0.6552\n"
     ]
    },
    {
     "name": "stdout",
     "output_type": "stream",
     "text": [
      "Epoch 29/300\n",
      "5/5 [==============================] - 1s 131ms/step - loss: 1.2107 - acc: 0.5454 - val_loss: 1.0021 - val_acc: 0.6601\n",
      "Epoch 30/300\n",
      "5/5 [==============================] - 1s 230ms/step - loss: 1.1396 - acc: 0.5812 - val_loss: 1.0820 - val_acc: 0.6552\n",
      "Epoch 31/300\n",
      "5/5 [==============================] - 1s 104ms/step - loss: 1.0923 - acc: 0.5855 - val_loss: 1.4361 - val_acc: 0.6207\n",
      "Epoch 32/300\n",
      "5/5 [==============================] - 0s 99ms/step - loss: 1.0901 - acc: 0.6065 - val_loss: 1.4923 - val_acc: 0.5911\n",
      "Epoch 33/300\n",
      "5/5 [==============================] - 1s 122ms/step - loss: 1.0645 - acc: 0.5916 - val_loss: 1.5514 - val_acc: 0.5813\n",
      "Epoch 34/300\n",
      "5/5 [==============================] - 0s 95ms/step - loss: 1.0747 - acc: 0.5934 - val_loss: 1.4964 - val_acc: 0.5911\n",
      "Epoch 35/300\n",
      "5/5 [==============================] - 0s 92ms/step - loss: 1.0650 - acc: 0.6195 - val_loss: 1.6842 - val_acc: 0.5714\n",
      "Epoch 36/300\n",
      "5/5 [==============================] - 0s 95ms/step - loss: 1.0337 - acc: 0.6204 - val_loss: 1.6847 - val_acc: 0.5567\n",
      "Epoch 37/300\n",
      "5/5 [==============================] - 1s 121ms/step - loss: 1.0416 - acc: 0.6099 - val_loss: 1.4683 - val_acc: 0.5714\n",
      "Epoch 38/300\n",
      "5/5 [==============================] - 1s 116ms/step - loss: 0.9954 - acc: 0.6501 - val_loss: 1.2319 - val_acc: 0.6108\n",
      "Epoch 39/300\n",
      "5/5 [==============================] - 1s 200ms/step - loss: 0.9510 - acc: 0.6640 - val_loss: 1.1323 - val_acc: 0.6305\n",
      "Epoch 40/300\n",
      "5/5 [==============================] - 1s 135ms/step - loss: 0.9352 - acc: 0.6640 - val_loss: 1.1933 - val_acc: 0.6355\n",
      "Epoch 41/300\n",
      "5/5 [==============================] - 0s 100ms/step - loss: 0.9163 - acc: 0.6562 - val_loss: 1.2009 - val_acc: 0.6256\n",
      "Epoch 42/300\n",
      "5/5 [==============================] - 1s 144ms/step - loss: 0.9332 - acc: 0.6693 - val_loss: 1.0735 - val_acc: 0.6749\n",
      "Epoch 43/300\n",
      "5/5 [==============================] - 1s 136ms/step - loss: 0.9070 - acc: 0.6562 - val_loss: 0.9403 - val_acc: 0.6798\n",
      "Epoch 44/300\n",
      "5/5 [==============================] - 1s 109ms/step - loss: 0.8946 - acc: 0.6754 - val_loss: 0.8963 - val_acc: 0.6995\n",
      "Epoch 45/300\n",
      "5/5 [==============================] - 1s 132ms/step - loss: 0.8728 - acc: 0.6841 - val_loss: 0.8388 - val_acc: 0.7143\n",
      "Epoch 46/300\n",
      "5/5 [==============================] - 1s 151ms/step - loss: 0.8871 - acc: 0.6728 - val_loss: 0.8461 - val_acc: 0.7192\n",
      "Epoch 47/300\n",
      "5/5 [==============================] - 1s 102ms/step - loss: 0.8455 - acc: 0.7059 - val_loss: 0.9018 - val_acc: 0.7044\n",
      "Epoch 48/300\n",
      "5/5 [==============================] - 1s 127ms/step - loss: 0.8686 - acc: 0.6832 - val_loss: 0.9307 - val_acc: 0.6847\n",
      "Epoch 49/300\n",
      "5/5 [==============================] - 1s 112ms/step - loss: 0.8543 - acc: 0.6937 - val_loss: 0.9450 - val_acc: 0.6847\n",
      "Epoch 50/300\n",
      "5/5 [==============================] - 1s 108ms/step - loss: 0.7919 - acc: 0.7225 - val_loss: 1.0134 - val_acc: 0.6847\n",
      "Epoch 51/300\n",
      "5/5 [==============================] - 1s 112ms/step - loss: 0.8212 - acc: 0.6963 - val_loss: 1.1881 - val_acc: 0.6453\n",
      "Epoch 52/300\n",
      "5/5 [==============================] - 1s 112ms/step - loss: 0.8102 - acc: 0.7059 - val_loss: 1.2754 - val_acc: 0.6404\n",
      "Epoch 53/300\n",
      "5/5 [==============================] - 1s 119ms/step - loss: 0.8593 - acc: 0.6946 - val_loss: 1.0317 - val_acc: 0.6847\n",
      "Epoch 54/300\n",
      "5/5 [==============================] - 1s 120ms/step - loss: 0.8106 - acc: 0.7042 - val_loss: 0.9337 - val_acc: 0.6601\n",
      "Epoch 55/300\n",
      "5/5 [==============================] - 1s 115ms/step - loss: 0.7751 - acc: 0.7234 - val_loss: 0.9036 - val_acc: 0.6995\n",
      "Epoch 56/300\n",
      "5/5 [==============================] - 1s 116ms/step - loss: 0.8099 - acc: 0.7024 - val_loss: 0.8644 - val_acc: 0.6995\n",
      "Epoch 57/300\n",
      "5/5 [==============================] - 1s 115ms/step - loss: 0.7829 - acc: 0.7373 - val_loss: 0.8474 - val_acc: 0.7192\n",
      "Epoch 58/300\n",
      "5/5 [==============================] - 1s 114ms/step - loss: 0.8080 - acc: 0.7321 - val_loss: 0.9687 - val_acc: 0.6897\n",
      "Epoch 59/300\n",
      "5/5 [==============================] - 1s 103ms/step - loss: 0.7427 - acc: 0.7382 - val_loss: 0.9857 - val_acc: 0.6995\n",
      "Epoch 60/300\n",
      "5/5 [==============================] - 1s 111ms/step - loss: 0.7377 - acc: 0.7513 - val_loss: 0.9629 - val_acc: 0.7044\n",
      "Epoch 61/300\n",
      "5/5 [==============================] - 0s 102ms/step - loss: 0.7042 - acc: 0.7461 - val_loss: 0.9605 - val_acc: 0.6897\n",
      "Epoch 62/300\n",
      "5/5 [==============================] - 0s 102ms/step - loss: 0.6870 - acc: 0.7714 - val_loss: 0.8720 - val_acc: 0.7094\n",
      "Epoch 63/300\n",
      "5/5 [==============================] - 1s 103ms/step - loss: 0.6717 - acc: 0.7810 - val_loss: 0.7536 - val_acc: 0.7389\n",
      "Epoch 64/300\n",
      "5/5 [==============================] - 1s 106ms/step - loss: 0.6645 - acc: 0.7679 - val_loss: 0.8319 - val_acc: 0.7192\n",
      "Epoch 65/300\n",
      "5/5 [==============================] - 0s 101ms/step - loss: 0.6661 - acc: 0.7635 - val_loss: 0.8377 - val_acc: 0.7537\n",
      "Epoch 66/300\n",
      "5/5 [==============================] - 1s 105ms/step - loss: 0.6481 - acc: 0.7714 - val_loss: 0.8287 - val_acc: 0.7635\n",
      "Epoch 67/300\n",
      "5/5 [==============================] - 1s 107ms/step - loss: 0.6303 - acc: 0.7906 - val_loss: 0.7731 - val_acc: 0.7734\n",
      "Epoch 68/300\n",
      "5/5 [==============================] - 1s 104ms/step - loss: 0.6288 - acc: 0.7775 - val_loss: 0.7577 - val_acc: 0.7783\n",
      "Epoch 69/300\n",
      "5/5 [==============================] - 1s 102ms/step - loss: 0.7016 - acc: 0.7539 - val_loss: 0.8061 - val_acc: 0.7586\n",
      "Epoch 70/300\n",
      "5/5 [==============================] - 1s 101ms/step - loss: 0.5998 - acc: 0.7897 - val_loss: 0.7716 - val_acc: 0.7980\n",
      "Epoch 71/300\n",
      "5/5 [==============================] - 1s 103ms/step - loss: 0.5677 - acc: 0.8045 - val_loss: 0.8709 - val_acc: 0.7685\n",
      "Epoch 72/300\n",
      "5/5 [==============================] - 1s 104ms/step - loss: 0.5876 - acc: 0.7923 - val_loss: 0.9288 - val_acc: 0.7537\n",
      "Epoch 73/300\n",
      "5/5 [==============================] - 1s 102ms/step - loss: 0.6806 - acc: 0.7784 - val_loss: 0.8730 - val_acc: 0.7586\n",
      "Epoch 74/300\n",
      "5/5 [==============================] - 1s 103ms/step - loss: 0.6079 - acc: 0.7862 - val_loss: 0.8593 - val_acc: 0.7685\n",
      "Epoch 75/300\n",
      "5/5 [==============================] - 1s 105ms/step - loss: 0.5966 - acc: 0.7941 - val_loss: 0.7533 - val_acc: 0.7833\n",
      "Epoch 76/300\n",
      "5/5 [==============================] - 1s 103ms/step - loss: 0.6089 - acc: 0.7941 - val_loss: 0.6528 - val_acc: 0.8030\n",
      "Epoch 77/300\n",
      "5/5 [==============================] - 0s 102ms/step - loss: 0.6224 - acc: 0.7757 - val_loss: 0.6558 - val_acc: 0.8128\n",
      "Epoch 78/300\n",
      "5/5 [==============================] - 1s 104ms/step - loss: 0.6386 - acc: 0.7897 - val_loss: 0.7535 - val_acc: 0.7783\n",
      "Epoch 79/300\n",
      "5/5 [==============================] - 0s 102ms/step - loss: 0.5926 - acc: 0.8028 - val_loss: 0.7794 - val_acc: 0.7833\n",
      "Epoch 80/300\n",
      "5/5 [==============================] - 1s 105ms/step - loss: 0.5760 - acc: 0.8089 - val_loss: 0.6961 - val_acc: 0.8227\n",
      "Epoch 81/300\n",
      "5/5 [==============================] - 1s 109ms/step - loss: 0.5439 - acc: 0.8098 - val_loss: 0.8037 - val_acc: 0.7980\n",
      "Epoch 82/300\n",
      "5/5 [==============================] - 1s 101ms/step - loss: 0.5684 - acc: 0.8098 - val_loss: 0.8471 - val_acc: 0.7783\n",
      "Epoch 83/300\n",
      "5/5 [==============================] - 1s 102ms/step - loss: 0.5960 - acc: 0.7993 - val_loss: 0.7526 - val_acc: 0.8030\n",
      "Epoch 84/300\n",
      "5/5 [==============================] - 1s 103ms/step - loss: 0.5324 - acc: 0.8168 - val_loss: 0.6450 - val_acc: 0.8177\n",
      "Epoch 85/300\n",
      "5/5 [==============================] - 1s 108ms/step - loss: 0.6144 - acc: 0.7880 - val_loss: 0.6243 - val_acc: 0.8128\n",
      "Epoch 86/300\n",
      "5/5 [==============================] - 1s 102ms/step - loss: 0.5530 - acc: 0.8010 - val_loss: 0.6294 - val_acc: 0.8177\n",
      "Epoch 87/300\n",
      "5/5 [==============================] - 1s 103ms/step - loss: 0.5706 - acc: 0.8298 - val_loss: 0.6959 - val_acc: 0.7734\n",
      "Epoch 88/300\n",
      "5/5 [==============================] - 0s 100ms/step - loss: 0.5217 - acc: 0.8202 - val_loss: 0.7486 - val_acc: 0.7783\n",
      "Epoch 89/300\n",
      "5/5 [==============================] - 1s 101ms/step - loss: 0.5509 - acc: 0.8272 - val_loss: 0.6785 - val_acc: 0.8128\n",
      "Epoch 90/300\n",
      "5/5 [==============================] - 0s 101ms/step - loss: 0.5211 - acc: 0.8255 - val_loss: 0.7011 - val_acc: 0.7980\n",
      "Epoch 91/300\n"
     ]
    },
    {
     "name": "stdout",
     "output_type": "stream",
     "text": [
      "5/5 [==============================] - 0s 97ms/step - loss: 0.5444 - acc: 0.8220 - val_loss: 0.8389 - val_acc: 0.7833\n",
      "Epoch 92/300\n",
      "5/5 [==============================] - 0s 99ms/step - loss: 0.5456 - acc: 0.8168 - val_loss: 0.8031 - val_acc: 0.7931\n",
      "Epoch 93/300\n",
      "5/5 [==============================] - 0s 98ms/step - loss: 0.5701 - acc: 0.8098 - val_loss: 0.7235 - val_acc: 0.7980\n",
      "Epoch 94/300\n",
      "5/5 [==============================] - 0s 98ms/step - loss: 0.5397 - acc: 0.8211 - val_loss: 0.6924 - val_acc: 0.7833\n",
      "Epoch 95/300\n",
      "5/5 [==============================] - 0s 100ms/step - loss: 0.5165 - acc: 0.8464 - val_loss: 0.7444 - val_acc: 0.7488\n",
      "Epoch 96/300\n",
      "5/5 [==============================] - 1s 100ms/step - loss: 0.4754 - acc: 0.8412 - val_loss: 0.7181 - val_acc: 0.7537\n",
      "Epoch 97/300\n",
      "5/5 [==============================] - 0s 100ms/step - loss: 0.5311 - acc: 0.8246 - val_loss: 0.7050 - val_acc: 0.7833\n",
      "Epoch 98/300\n",
      "5/5 [==============================] - 0s 101ms/step - loss: 0.5815 - acc: 0.8028 - val_loss: 0.6928 - val_acc: 0.7635\n",
      "Epoch 99/300\n",
      "5/5 [==============================] - 1s 97ms/step - loss: 0.4995 - acc: 0.8316 - val_loss: 0.6653 - val_acc: 0.7685\n",
      "Epoch 100/300\n",
      "5/5 [==============================] - 0s 97ms/step - loss: 0.5118 - acc: 0.8377 - val_loss: 0.6530 - val_acc: 0.8030\n",
      "Epoch 101/300\n",
      "5/5 [==============================] - 0s 101ms/step - loss: 0.4941 - acc: 0.8438 - val_loss: 0.6148 - val_acc: 0.8325\n",
      "Epoch 102/300\n",
      "5/5 [==============================] - 0s 98ms/step - loss: 0.5231 - acc: 0.8403 - val_loss: 0.5832 - val_acc: 0.8473\n",
      "Epoch 103/300\n",
      "5/5 [==============================] - 0s 100ms/step - loss: 0.5027 - acc: 0.8325 - val_loss: 0.6380 - val_acc: 0.8177\n",
      "Epoch 104/300\n",
      "5/5 [==============================] - 1s 106ms/step - loss: 0.5173 - acc: 0.8342 - val_loss: 0.7827 - val_acc: 0.7882\n",
      "Epoch 105/300\n",
      "5/5 [==============================] - 1s 129ms/step - loss: 0.5011 - acc: 0.8342 - val_loss: 0.6285 - val_acc: 0.8325\n",
      "Epoch 106/300\n",
      "5/5 [==============================] - 1s 106ms/step - loss: 0.4742 - acc: 0.8508 - val_loss: 0.5962 - val_acc: 0.8276\n",
      "Epoch 107/300\n",
      "5/5 [==============================] - 0s 99ms/step - loss: 0.4163 - acc: 0.8586 - val_loss: 0.6966 - val_acc: 0.8030\n",
      "Epoch 108/300\n",
      "5/5 [==============================] - 0s 96ms/step - loss: 0.4634 - acc: 0.8517 - val_loss: 0.7429 - val_acc: 0.7931\n",
      "Epoch 109/300\n",
      "5/5 [==============================] - 0s 100ms/step - loss: 0.4536 - acc: 0.8586 - val_loss: 0.6459 - val_acc: 0.8227\n",
      "Epoch 110/300\n",
      "5/5 [==============================] - 0s 98ms/step - loss: 0.4906 - acc: 0.8421 - val_loss: 0.6371 - val_acc: 0.8227\n",
      "Epoch 111/300\n",
      "5/5 [==============================] - 0s 101ms/step - loss: 0.4751 - acc: 0.8447 - val_loss: 0.6759 - val_acc: 0.8276\n",
      "Epoch 112/300\n",
      "5/5 [==============================] - 0s 99ms/step - loss: 0.5170 - acc: 0.8342 - val_loss: 0.5993 - val_acc: 0.8571\n",
      "Epoch 113/300\n",
      "5/5 [==============================] - 0s 100ms/step - loss: 0.4818 - acc: 0.8464 - val_loss: 0.5440 - val_acc: 0.8571\n",
      "Epoch 114/300\n",
      "5/5 [==============================] - 1s 105ms/step - loss: 0.4760 - acc: 0.8290 - val_loss: 0.5736 - val_acc: 0.8522\n",
      "Epoch 115/300\n",
      "5/5 [==============================] - 0s 100ms/step - loss: 0.4993 - acc: 0.8333 - val_loss: 0.6304 - val_acc: 0.8473\n",
      "Epoch 116/300\n",
      "5/5 [==============================] - 0s 99ms/step - loss: 0.4737 - acc: 0.8473 - val_loss: 0.6264 - val_acc: 0.8325\n",
      "Epoch 117/300\n",
      "5/5 [==============================] - 0s 99ms/step - loss: 0.4879 - acc: 0.8386 - val_loss: 0.5757 - val_acc: 0.8276\n",
      "Epoch 118/300\n",
      "5/5 [==============================] - 0s 102ms/step - loss: 0.4717 - acc: 0.8534 - val_loss: 0.6301 - val_acc: 0.7931\n",
      "Epoch 119/300\n",
      "5/5 [==============================] - 0s 100ms/step - loss: 0.4434 - acc: 0.8674 - val_loss: 0.6485 - val_acc: 0.8177\n",
      "Epoch 120/300\n",
      "5/5 [==============================] - 0s 98ms/step - loss: 0.4501 - acc: 0.8473 - val_loss: 0.6085 - val_acc: 0.8276\n",
      "Epoch 121/300\n",
      "5/5 [==============================] - 0s 101ms/step - loss: 0.4802 - acc: 0.8464 - val_loss: 0.6112 - val_acc: 0.8374\n",
      "Epoch 122/300\n",
      "5/5 [==============================] - 0s 101ms/step - loss: 0.4683 - acc: 0.8482 - val_loss: 0.6449 - val_acc: 0.8177\n",
      "Epoch 123/300\n",
      "5/5 [==============================] - 0s 99ms/step - loss: 0.5050 - acc: 0.8421 - val_loss: 0.6077 - val_acc: 0.8030\n",
      "Epoch 124/300\n",
      "5/5 [==============================] - 0s 99ms/step - loss: 0.4709 - acc: 0.8438 - val_loss: 0.5363 - val_acc: 0.8128\n",
      "Epoch 125/300\n",
      "5/5 [==============================] - 0s 101ms/step - loss: 0.4918 - acc: 0.8543 - val_loss: 0.5086 - val_acc: 0.8276\n",
      "Epoch 126/300\n",
      "5/5 [==============================] - 1s 102ms/step - loss: 0.4623 - acc: 0.8490 - val_loss: 0.5177 - val_acc: 0.8473\n",
      "Epoch 127/300\n",
      "5/5 [==============================] - 1s 105ms/step - loss: 0.4571 - acc: 0.8482 - val_loss: 0.4986 - val_acc: 0.8571\n",
      "Epoch 128/300\n",
      "5/5 [==============================] - 1s 114ms/step - loss: 0.4311 - acc: 0.8613 - val_loss: 0.5252 - val_acc: 0.8522\n",
      "Epoch 129/300\n",
      "5/5 [==============================] - 1s 114ms/step - loss: 0.4143 - acc: 0.8709 - val_loss: 0.5109 - val_acc: 0.8522\n",
      "Epoch 130/300\n",
      "5/5 [==============================] - 1s 115ms/step - loss: 0.4032 - acc: 0.8682 - val_loss: 0.4957 - val_acc: 0.8374\n",
      "Epoch 131/300\n",
      "5/5 [==============================] - 1s 111ms/step - loss: 0.4437 - acc: 0.8569 - val_loss: 0.4971 - val_acc: 0.8374\n",
      "Epoch 132/300\n",
      "5/5 [==============================] - 1s 103ms/step - loss: 0.4365 - acc: 0.8586 - val_loss: 0.4860 - val_acc: 0.8522\n",
      "Epoch 133/300\n",
      "5/5 [==============================] - 1s 108ms/step - loss: 0.4294 - acc: 0.8569 - val_loss: 0.4994 - val_acc: 0.8473\n",
      "Epoch 134/300\n",
      "5/5 [==============================] - 1s 104ms/step - loss: 0.4566 - acc: 0.8578 - val_loss: 0.4832 - val_acc: 0.8571\n",
      "Epoch 135/300\n",
      "5/5 [==============================] - 1s 104ms/step - loss: 0.4126 - acc: 0.8691 - val_loss: 0.4792 - val_acc: 0.8571\n",
      "Epoch 136/300\n",
      "5/5 [==============================] - 1s 103ms/step - loss: 0.4535 - acc: 0.8534 - val_loss: 0.5389 - val_acc: 0.8473\n",
      "Epoch 137/300\n",
      "5/5 [==============================] - 1s 117ms/step - loss: 0.4537 - acc: 0.8595 - val_loss: 0.5168 - val_acc: 0.8571\n",
      "Epoch 138/300\n",
      "5/5 [==============================] - 1s 112ms/step - loss: 0.4306 - acc: 0.8656 - val_loss: 0.4943 - val_acc: 0.8522\n",
      "Epoch 139/300\n",
      "5/5 [==============================] - 1s 114ms/step - loss: 0.4372 - acc: 0.8578 - val_loss: 0.4972 - val_acc: 0.8621\n",
      "Epoch 140/300\n",
      "5/5 [==============================] - 1s 106ms/step - loss: 0.4169 - acc: 0.8726 - val_loss: 0.5036 - val_acc: 0.8522\n",
      "Epoch 141/300\n",
      "5/5 [==============================] - 0s 101ms/step - loss: 0.4122 - acc: 0.8639 - val_loss: 0.5108 - val_acc: 0.8522\n",
      "Epoch 142/300\n",
      "5/5 [==============================] - 1s 113ms/step - loss: 0.3918 - acc: 0.8805 - val_loss: 0.5260 - val_acc: 0.8424\n",
      "Epoch 143/300\n",
      "5/5 [==============================] - 1s 108ms/step - loss: 0.4333 - acc: 0.8551 - val_loss: 0.5362 - val_acc: 0.8473\n",
      "Epoch 144/300\n",
      "5/5 [==============================] - 1s 110ms/step - loss: 0.4292 - acc: 0.8499 - val_loss: 0.5380 - val_acc: 0.8621\n",
      "Epoch 145/300\n",
      "5/5 [==============================] - 1s 114ms/step - loss: 0.4127 - acc: 0.8709 - val_loss: 0.5171 - val_acc: 0.8571\n",
      "Epoch 146/300\n",
      "5/5 [==============================] - 1s 107ms/step - loss: 0.4173 - acc: 0.8604 - val_loss: 0.4986 - val_acc: 0.8571\n",
      "Epoch 147/300\n",
      "5/5 [==============================] - 1s 104ms/step - loss: 0.4327 - acc: 0.8691 - val_loss: 0.4962 - val_acc: 0.8473\n",
      "Epoch 148/300\n",
      "5/5 [==============================] - 1s 102ms/step - loss: 0.4323 - acc: 0.8569 - val_loss: 0.4909 - val_acc: 0.8571\n",
      "Epoch 149/300\n",
      "5/5 [==============================] - 0s 102ms/step - loss: 0.4124 - acc: 0.8656 - val_loss: 0.4808 - val_acc: 0.8522\n",
      "Epoch 150/300\n",
      "5/5 [==============================] - 1s 103ms/step - loss: 0.4100 - acc: 0.8604 - val_loss: 0.4755 - val_acc: 0.8374\n",
      "Epoch 151/300\n",
      "5/5 [==============================] - 0s 100ms/step - loss: 0.4019 - acc: 0.8805 - val_loss: 0.4975 - val_acc: 0.8325\n",
      "Epoch 152/300\n",
      "5/5 [==============================] - 1s 109ms/step - loss: 0.3943 - acc: 0.8743 - val_loss: 0.4768 - val_acc: 0.8424\n"
     ]
    },
    {
     "name": "stdout",
     "output_type": "stream",
     "text": [
      "Epoch 153/300\n",
      "5/5 [==============================] - 1s 110ms/step - loss: 0.4236 - acc: 0.8613 - val_loss: 0.4810 - val_acc: 0.8424\n",
      "Epoch 154/300\n",
      "5/5 [==============================] - 1s 118ms/step - loss: 0.4215 - acc: 0.8621 - val_loss: 0.4914 - val_acc: 0.8473\n",
      "Epoch 155/300\n",
      "5/5 [==============================] - 1s 105ms/step - loss: 0.3736 - acc: 0.8831 - val_loss: 0.5192 - val_acc: 0.8227\n",
      "Epoch 156/300\n",
      "5/5 [==============================] - 1s 106ms/step - loss: 0.4221 - acc: 0.8586 - val_loss: 0.5066 - val_acc: 0.8374\n",
      "Epoch 157/300\n",
      "5/5 [==============================] - 1s 122ms/step - loss: 0.4803 - acc: 0.8534 - val_loss: 0.5144 - val_acc: 0.8473\n",
      "Epoch 158/300\n",
      "5/5 [==============================] - 1s 109ms/step - loss: 0.4310 - acc: 0.8691 - val_loss: 0.5492 - val_acc: 0.8325\n",
      "Epoch 159/300\n",
      "5/5 [==============================] - 1s 105ms/step - loss: 0.4081 - acc: 0.8674 - val_loss: 0.5262 - val_acc: 0.8571\n",
      "Epoch 160/300\n",
      "5/5 [==============================] - 1s 113ms/step - loss: 0.3461 - acc: 0.8822 - val_loss: 0.5211 - val_acc: 0.8522\n",
      "Epoch 161/300\n",
      "5/5 [==============================] - 1s 106ms/step - loss: 0.4046 - acc: 0.8787 - val_loss: 0.5175 - val_acc: 0.8571\n",
      "Epoch 162/300\n",
      "5/5 [==============================] - 1s 101ms/step - loss: 0.3913 - acc: 0.8770 - val_loss: 0.5245 - val_acc: 0.8571\n",
      "Epoch 163/300\n",
      "5/5 [==============================] - 1s 106ms/step - loss: 0.3991 - acc: 0.8770 - val_loss: 0.5529 - val_acc: 0.8522\n",
      "Epoch 164/300\n",
      "5/5 [==============================] - 1s 103ms/step - loss: 0.3695 - acc: 0.8778 - val_loss: 0.5563 - val_acc: 0.8424\n",
      "Epoch 165/300\n",
      "5/5 [==============================] - 1s 107ms/step - loss: 0.3652 - acc: 0.8909 - val_loss: 0.5603 - val_acc: 0.8473\n",
      "Epoch 166/300\n",
      "5/5 [==============================] - 1s 104ms/step - loss: 0.4274 - acc: 0.8508 - val_loss: 0.5721 - val_acc: 0.8424\n",
      "Epoch 167/300\n",
      "5/5 [==============================] - 1s 106ms/step - loss: 0.4177 - acc: 0.8647 - val_loss: 0.5399 - val_acc: 0.8374\n",
      "Epoch 168/300\n",
      "5/5 [==============================] - 1s 194ms/step - loss: 0.3630 - acc: 0.8796 - val_loss: 0.5442 - val_acc: 0.8473\n",
      "Epoch 169/300\n",
      "5/5 [==============================] - 1s 116ms/step - loss: 0.4126 - acc: 0.8656 - val_loss: 0.5453 - val_acc: 0.8473\n",
      "Epoch 170/300\n",
      "5/5 [==============================] - 1s 118ms/step - loss: 0.3868 - acc: 0.8805 - val_loss: 0.5414 - val_acc: 0.8424\n",
      "Epoch 171/300\n",
      "5/5 [==============================] - 1s 111ms/step - loss: 0.4032 - acc: 0.8726 - val_loss: 0.4914 - val_acc: 0.8522\n",
      "Epoch 172/300\n",
      "5/5 [==============================] - 1s 110ms/step - loss: 0.3863 - acc: 0.8682 - val_loss: 0.4895 - val_acc: 0.8621\n",
      "Epoch 173/300\n",
      "5/5 [==============================] - 1s 115ms/step - loss: 0.3901 - acc: 0.8813 - val_loss: 0.5118 - val_acc: 0.8621\n",
      "Epoch 174/300\n",
      "5/5 [==============================] - 1s 109ms/step - loss: 0.3877 - acc: 0.8822 - val_loss: 0.5327 - val_acc: 0.8670\n",
      "Epoch 175/300\n",
      "5/5 [==============================] - 1s 108ms/step - loss: 0.4200 - acc: 0.8665 - val_loss: 0.5377 - val_acc: 0.8473\n",
      "Epoch 176/300\n",
      "5/5 [==============================] - 1s 107ms/step - loss: 0.4260 - acc: 0.8743 - val_loss: 0.5238 - val_acc: 0.8571\n",
      "Epoch 177/300\n",
      "5/5 [==============================] - 1s 102ms/step - loss: 0.3806 - acc: 0.8831 - val_loss: 0.5458 - val_acc: 0.8571\n",
      "Epoch 178/300\n",
      "5/5 [==============================] - 1s 103ms/step - loss: 0.4363 - acc: 0.8595 - val_loss: 0.5519 - val_acc: 0.8571\n",
      "Epoch 179/300\n",
      "5/5 [==============================] - 0s 102ms/step - loss: 0.3945 - acc: 0.8709 - val_loss: 0.5328 - val_acc: 0.8621\n",
      "Epoch 180/300\n",
      "5/5 [==============================] - 0s 99ms/step - loss: 0.3409 - acc: 0.8892 - val_loss: 0.5215 - val_acc: 0.8522\n",
      "Epoch 181/300\n",
      "5/5 [==============================] - 0s 101ms/step - loss: 0.3619 - acc: 0.8866 - val_loss: 0.5386 - val_acc: 0.8473\n",
      "Epoch 182/300\n",
      "5/5 [==============================] - 0s 100ms/step - loss: 0.4179 - acc: 0.8613 - val_loss: 0.5518 - val_acc: 0.8325\n",
      "Epoch 183/300\n",
      "5/5 [==============================] - 1s 103ms/step - loss: 0.3600 - acc: 0.8822 - val_loss: 0.5154 - val_acc: 0.8571\n",
      "Epoch 184/300\n",
      "5/5 [==============================] - 0s 101ms/step - loss: 0.4041 - acc: 0.8787 - val_loss: 0.5036 - val_acc: 0.8719\n",
      "Epoch 185/300\n",
      "5/5 [==============================] - 1s 117ms/step - loss: 0.3798 - acc: 0.8674 - val_loss: 0.5063 - val_acc: 0.8670\n",
      "Epoch 186/300\n",
      "5/5 [==============================] - 0s 100ms/step - loss: 0.3280 - acc: 0.8901 - val_loss: 0.4876 - val_acc: 0.8621\n",
      "Epoch 187/300\n",
      "5/5 [==============================] - 0s 101ms/step - loss: 0.3724 - acc: 0.8874 - val_loss: 0.4977 - val_acc: 0.8719\n",
      "Epoch 188/300\n",
      "5/5 [==============================] - 0s 99ms/step - loss: 0.3336 - acc: 0.8927 - val_loss: 0.5131 - val_acc: 0.8522\n",
      "Epoch 189/300\n",
      "5/5 [==============================] - 1s 109ms/step - loss: 0.3933 - acc: 0.8770 - val_loss: 0.5235 - val_acc: 0.8571\n",
      "Epoch 190/300\n",
      "5/5 [==============================] - 1s 99ms/step - loss: 0.3946 - acc: 0.8752 - val_loss: 0.5165 - val_acc: 0.8473\n",
      "Epoch 191/300\n",
      "5/5 [==============================] - 1s 104ms/step - loss: 0.3741 - acc: 0.8848 - val_loss: 0.5184 - val_acc: 0.8473\n",
      "Epoch 192/300\n",
      "5/5 [==============================] - 1s 122ms/step - loss: 0.3198 - acc: 0.9084 - val_loss: 0.5303 - val_acc: 0.8621\n",
      "Epoch 193/300\n",
      "5/5 [==============================] - 1s 107ms/step - loss: 0.3857 - acc: 0.8761 - val_loss: 0.5426 - val_acc: 0.8670\n",
      "Epoch 194/300\n",
      "5/5 [==============================] - 1s 107ms/step - loss: 0.4048 - acc: 0.8735 - val_loss: 0.5521 - val_acc: 0.8719\n",
      "Epoch 195/300\n",
      "5/5 [==============================] - 1s 101ms/step - loss: 0.3973 - acc: 0.8796 - val_loss: 0.5475 - val_acc: 0.8621\n",
      "Epoch 196/300\n",
      "5/5 [==============================] - 1s 106ms/step - loss: 0.3755 - acc: 0.8962 - val_loss: 0.5676 - val_acc: 0.8424\n",
      "Epoch 197/300\n",
      "5/5 [==============================] - 1s 111ms/step - loss: 0.3757 - acc: 0.8787 - val_loss: 0.5124 - val_acc: 0.8818\n",
      "Epoch 198/300\n",
      "5/5 [==============================] - 1s 120ms/step - loss: 0.3503 - acc: 0.8944 - val_loss: 0.4867 - val_acc: 0.8916\n",
      "Epoch 199/300\n",
      "5/5 [==============================] - 1s 114ms/step - loss: 0.3544 - acc: 0.8839 - val_loss: 0.4871 - val_acc: 0.8768\n",
      "Epoch 200/300\n",
      "5/5 [==============================] - 1s 105ms/step - loss: 0.3583 - acc: 0.8962 - val_loss: 0.5207 - val_acc: 0.8621\n",
      "Epoch 201/300\n",
      "5/5 [==============================] - 0s 101ms/step - loss: 0.4184 - acc: 0.8726 - val_loss: 0.5415 - val_acc: 0.8522\n",
      "Epoch 202/300\n",
      "5/5 [==============================] - 1s 103ms/step - loss: 0.3614 - acc: 0.8848 - val_loss: 0.5095 - val_acc: 0.8522\n",
      "Epoch 203/300\n",
      "5/5 [==============================] - 1s 104ms/step - loss: 0.3761 - acc: 0.8726 - val_loss: 0.5351 - val_acc: 0.8325\n",
      "Epoch 204/300\n",
      "5/5 [==============================] - 1s 103ms/step - loss: 0.4046 - acc: 0.8682 - val_loss: 0.5521 - val_acc: 0.8473\n",
      "Epoch 205/300\n",
      "5/5 [==============================] - 0s 100ms/step - loss: 0.3355 - acc: 0.8909 - val_loss: 0.5224 - val_acc: 0.8473\n",
      "Epoch 206/300\n",
      "5/5 [==============================] - 1s 115ms/step - loss: 0.3795 - acc: 0.8743 - val_loss: 0.5138 - val_acc: 0.8621\n",
      "Epoch 207/300\n",
      "5/5 [==============================] - 1s 108ms/step - loss: 0.3452 - acc: 0.9005 - val_loss: 0.5232 - val_acc: 0.8719\n",
      "Epoch 208/300\n",
      "5/5 [==============================] - 1s 102ms/step - loss: 0.3814 - acc: 0.8848 - val_loss: 0.5424 - val_acc: 0.8719\n",
      "Epoch 209/300\n",
      "5/5 [==============================] - 1s 110ms/step - loss: 0.3242 - acc: 0.8944 - val_loss: 0.5457 - val_acc: 0.8719\n",
      "Epoch 210/300\n",
      "5/5 [==============================] - 1s 108ms/step - loss: 0.3155 - acc: 0.9014 - val_loss: 0.5474 - val_acc: 0.8818\n",
      "Epoch 211/300\n",
      "5/5 [==============================] - 1s 121ms/step - loss: 0.3564 - acc: 0.8848 - val_loss: 0.5438 - val_acc: 0.8768\n",
      "Epoch 212/300\n",
      "5/5 [==============================] - 1s 160ms/step - loss: 0.3576 - acc: 0.8857 - val_loss: 0.6015 - val_acc: 0.8719\n",
      "Epoch 213/300\n",
      "5/5 [==============================] - 1s 143ms/step - loss: 0.3594 - acc: 0.8866 - val_loss: 0.5989 - val_acc: 0.8621\n",
      "Epoch 214/300\n"
     ]
    },
    {
     "name": "stdout",
     "output_type": "stream",
     "text": [
      "5/5 [==============================] - 1s 128ms/step - loss: 0.3603 - acc: 0.8839 - val_loss: 0.6263 - val_acc: 0.8325\n",
      "Epoch 215/300\n",
      "5/5 [==============================] - 1s 117ms/step - loss: 0.3745 - acc: 0.8927 - val_loss: 0.6309 - val_acc: 0.8276\n",
      "Epoch 216/300\n",
      "5/5 [==============================] - 1s 121ms/step - loss: 0.3373 - acc: 0.8927 - val_loss: 0.6682 - val_acc: 0.8177\n",
      "Epoch 217/300\n",
      "5/5 [==============================] - 1s 181ms/step - loss: 0.3824 - acc: 0.8778 - val_loss: 0.6718 - val_acc: 0.8374\n",
      "Epoch 218/300\n",
      "5/5 [==============================] - 1s 221ms/step - loss: 0.3556 - acc: 0.8848 - val_loss: 0.6472 - val_acc: 0.8276\n",
      "Epoch 219/300\n",
      "5/5 [==============================] - 1s 162ms/step - loss: 0.3317 - acc: 0.8927 - val_loss: 0.5979 - val_acc: 0.8325\n",
      "Epoch 220/300\n",
      "5/5 [==============================] - 1s 130ms/step - loss: 0.3464 - acc: 0.8909 - val_loss: 0.5679 - val_acc: 0.8621\n",
      "Epoch 221/300\n",
      "5/5 [==============================] - 1s 138ms/step - loss: 0.3445 - acc: 0.8822 - val_loss: 0.5793 - val_acc: 0.8571\n",
      "Epoch 222/300\n",
      "5/5 [==============================] - 1s 120ms/step - loss: 0.3429 - acc: 0.8918 - val_loss: 0.5547 - val_acc: 0.8719\n",
      "Epoch 223/300\n",
      "5/5 [==============================] - 1s 148ms/step - loss: 0.3373 - acc: 0.8979 - val_loss: 0.5225 - val_acc: 0.8768\n",
      "Epoch 224/300\n",
      "5/5 [==============================] - 1s 142ms/step - loss: 0.3433 - acc: 0.8979 - val_loss: 0.5332 - val_acc: 0.8670\n",
      "Epoch 225/300\n",
      "5/5 [==============================] - 1s 128ms/step - loss: 0.3785 - acc: 0.8787 - val_loss: 0.5441 - val_acc: 0.8621\n",
      "Epoch 226/300\n",
      "5/5 [==============================] - 1s 100ms/step - loss: 0.3560 - acc: 0.8953 - val_loss: 0.5455 - val_acc: 0.8621\n",
      "Epoch 227/300\n",
      "5/5 [==============================] - 1s 171ms/step - loss: 0.3245 - acc: 0.8970 - val_loss: 0.5338 - val_acc: 0.8571\n",
      "Epoch 228/300\n",
      "5/5 [==============================] - 1s 127ms/step - loss: 0.3546 - acc: 0.8988 - val_loss: 0.5265 - val_acc: 0.8621\n",
      "Epoch 229/300\n",
      "5/5 [==============================] - 1s 120ms/step - loss: 0.3299 - acc: 0.8979 - val_loss: 0.5328 - val_acc: 0.8621\n",
      "Epoch 230/300\n",
      "5/5 [==============================] - 1s 109ms/step - loss: 0.3745 - acc: 0.8866 - val_loss: 0.5253 - val_acc: 0.8522\n",
      "Epoch 231/300\n",
      "5/5 [==============================] - 1s 117ms/step - loss: 0.3251 - acc: 0.8918 - val_loss: 0.5346 - val_acc: 0.8571\n",
      "Epoch 232/300\n",
      "5/5 [==============================] - 1s 114ms/step - loss: 0.3667 - acc: 0.8700 - val_loss: 0.5694 - val_acc: 0.8522\n",
      "Epoch 233/300\n",
      "5/5 [==============================] - 1s 112ms/step - loss: 0.3123 - acc: 0.9014 - val_loss: 0.5601 - val_acc: 0.8621\n",
      "Epoch 234/300\n",
      "5/5 [==============================] - 1s 103ms/step - loss: 0.3267 - acc: 0.8970 - val_loss: 0.5600 - val_acc: 0.8621\n",
      "Epoch 235/300\n",
      "5/5 [==============================] - 1s 109ms/step - loss: 0.4086 - acc: 0.8726 - val_loss: 0.5543 - val_acc: 0.8768\n",
      "Epoch 236/300\n",
      "5/5 [==============================] - 1s 106ms/step - loss: 0.3270 - acc: 0.9040 - val_loss: 0.5744 - val_acc: 0.8719\n",
      "Epoch 237/300\n",
      "5/5 [==============================] - 1s 114ms/step - loss: 0.3206 - acc: 0.8979 - val_loss: 0.5503 - val_acc: 0.8621\n",
      "Epoch 238/300\n",
      "5/5 [==============================] - 1s 106ms/step - loss: 0.3131 - acc: 0.9014 - val_loss: 0.5321 - val_acc: 0.8621\n",
      "Epoch 239/300\n",
      "5/5 [==============================] - 1s 111ms/step - loss: 0.3582 - acc: 0.8892 - val_loss: 0.5209 - val_acc: 0.8621\n",
      "Epoch 240/300\n",
      "5/5 [==============================] - 1s 106ms/step - loss: 0.3459 - acc: 0.8866 - val_loss: 0.5537 - val_acc: 0.8719\n",
      "Epoch 241/300\n",
      "5/5 [==============================] - 1s 106ms/step - loss: 0.3485 - acc: 0.8831 - val_loss: 0.5906 - val_acc: 0.8621\n",
      "Epoch 242/300\n",
      "5/5 [==============================] - 1s 108ms/step - loss: 0.3546 - acc: 0.8839 - val_loss: 0.5409 - val_acc: 0.8768\n",
      "Epoch 243/300\n",
      "5/5 [==============================] - 1s 106ms/step - loss: 0.3353 - acc: 0.8848 - val_loss: 0.5359 - val_acc: 0.8621\n",
      "Epoch 244/300\n",
      "5/5 [==============================] - 1s 102ms/step - loss: 0.2973 - acc: 0.8997 - val_loss: 0.5523 - val_acc: 0.8571\n",
      "Epoch 245/300\n",
      "5/5 [==============================] - 1s 103ms/step - loss: 0.3139 - acc: 0.9031 - val_loss: 0.5677 - val_acc: 0.8571\n",
      "Epoch 246/300\n",
      "5/5 [==============================] - 0s 101ms/step - loss: 0.3322 - acc: 0.8979 - val_loss: 0.5527 - val_acc: 0.8522\n",
      "Epoch 247/300\n",
      "5/5 [==============================] - 1s 108ms/step - loss: 0.3478 - acc: 0.8874 - val_loss: 0.5313 - val_acc: 0.8571\n",
      "Epoch 248/300\n",
      "5/5 [==============================] - 1s 115ms/step - loss: 0.3196 - acc: 0.8935 - val_loss: 0.5506 - val_acc: 0.8571\n"
     ]
    }
   ],
   "source": [
    "x_train = train_data.paper_id.to_numpy()\n",
    "history = run_experiment(gnn_model, x_train, y_train)"
   ]
  },
  {
   "cell_type": "code",
   "execution_count": 42,
   "id": "9cb11d21",
   "metadata": {},
   "outputs": [
    {
     "data": {
      "image/png": "[encoded data removed]",
      "text/plain": [
       "<Figure size 1080x360 with 2 Axes>"
      ]
     },
     "metadata": {
      "needs_background": "light"
     },
     "output_type": "display_data"
    }
   ],
   "source": [
    "display_learning_curves(history)"
   ]
  },
  {
   "cell_type": "code",
   "execution_count": 43,
   "id": "9988452a",
   "metadata": {},
   "outputs": [
    {
     "name": "stdout",
     "output_type": "stream",
     "text": [
      "GNNKeras.ipynb           caloD3PD_from_tier0.root trackML.ipynb\r\n",
      "ML_01.ipynb              \u001b[34mdatasets\u001b[m\u001b[m\r\n",
      "Untitled.ipynb           \u001b[34mmy_env\u001b[m\u001b[m\r\n"
     ]
    }
   ],
   "source": [
    "!ls"
   ]
  },
  {
   "cell_type": "code",
   "execution_count": 46,
   "id": "f9a6b705",
   "metadata": {},
   "outputs": [],
   "source": [
    "import onnx"
   ]
  },
  {
   "cell_type": "code",
   "execution_count": 47,
   "id": "1511e7b9",
   "metadata": {},
   "outputs": [
    {
     "ename": "AttributeError",
     "evalue": "module 'tensorflow.python.keras' has no attribute 'applications'",
     "output_type": "error",
     "traceback": [
      "\u001b[0;31m---------------------------------------------------------------------------\u001b[0m",
      "\u001b[0;31mAttributeError\u001b[0m                            Traceback (most recent call last)",
      "Input \u001b[0;32mIn [47]\u001b[0m, in \u001b[0;36m<cell line: 1>\u001b[0;34m()\u001b[0m\n\u001b[0;32m----> 1\u001b[0m \u001b[38;5;28;01mimport\u001b[39;00m \u001b[38;5;21;01mkeras2onnx\u001b[39;00m\n",
      "File \u001b[0;32m~/ML/my_env/lib/python3.8/site-packages/keras2onnx/__init__.py:34\u001b[0m, in \u001b[0;36m<module>\u001b[0;34m\u001b[0m\n\u001b[1;32m     31\u001b[0m \u001b[38;5;28;01mfrom\u001b[39;00m \u001b[38;5;21;01m.\u001b[39;00m\u001b[38;5;21;01mcommon\u001b[39;00m \u001b[38;5;28;01mimport\u001b[39;00m Variable, cvtfunc, set_logger_level\n\u001b[1;32m     32\u001b[0m \u001b[38;5;28;01mfrom\u001b[39;00m \u001b[38;5;21;01m.\u001b[39;00m\u001b[38;5;21;01mfuncbook\u001b[39;00m \u001b[38;5;28;01mimport\u001b[39;00m set_converter, set_converters\n\u001b[0;32m---> 34\u001b[0m \u001b[38;5;28;01mfrom\u001b[39;00m \u001b[38;5;21;01m.\u001b[39;00m\u001b[38;5;21;01mmain\u001b[39;00m \u001b[38;5;28;01mimport\u001b[39;00m convert_keras\n\u001b[1;32m     35\u001b[0m \u001b[38;5;28;01mfrom\u001b[39;00m \u001b[38;5;21;01m.\u001b[39;00m\u001b[38;5;21;01mmain\u001b[39;00m \u001b[38;5;28;01mimport\u001b[39;00m export_tf_frozen_graph\n\u001b[1;32m     36\u001b[0m \u001b[38;5;28;01mfrom\u001b[39;00m \u001b[38;5;21;01m.\u001b[39;00m\u001b[38;5;21;01mmain\u001b[39;00m \u001b[38;5;28;01mimport\u001b[39;00m build_io_names_tf2onnx\n",
      "File \u001b[0;32m~/ML/my_env/lib/python3.8/site-packages/keras2onnx/main.py:13\u001b[0m, in \u001b[0;36m<module>\u001b[0;34m\u001b[0m\n\u001b[1;32m     11\u001b[0m \u001b[38;5;28;01mfrom\u001b[39;00m \u001b[38;5;21;01m.\u001b[39;00m\u001b[38;5;21;01mproto\u001b[39;00m \u001b[38;5;28;01mimport\u001b[39;00m onnx\n\u001b[1;32m     12\u001b[0m \u001b[38;5;28;01mfrom\u001b[39;00m \u001b[38;5;21;01m.\u001b[39;00m\u001b[38;5;21;01mtopology\u001b[39;00m \u001b[38;5;28;01mimport\u001b[39;00m convert_topology\n\u001b[0;32m---> 13\u001b[0m \u001b[38;5;28;01mfrom\u001b[39;00m \u001b[38;5;21;01m.\u001b[39;00m\u001b[38;5;21;01mke2onnx\u001b[39;00m \u001b[38;5;28;01mimport\u001b[39;00m static_set_ke2onnx_converters\n\u001b[1;32m     14\u001b[0m \u001b[38;5;28;01mfrom\u001b[39;00m \u001b[38;5;21;01m.\u001b[39;00m\u001b[38;5;21;01mparser\u001b[39;00m \u001b[38;5;28;01mimport\u001b[39;00m parse_graph, parse_graph_modeless\n\u001b[1;32m     15\u001b[0m \u001b[38;5;28;01mfrom\u001b[39;00m \u001b[38;5;21;01m.\u001b[39;00m\u001b[38;5;21;01mtopology\u001b[39;00m \u001b[38;5;28;01mimport\u001b[39;00m Topology\n",
      "File \u001b[0;32m~/ML/my_env/lib/python3.8/site-packages/keras2onnx/ke2onnx/__init__.py:6\u001b[0m, in \u001b[0;36m<module>\u001b[0;34m\u001b[0m\n\u001b[1;32m      1\u001b[0m \u001b[38;5;66;03m###############################################################################\u001b[39;00m\n\u001b[1;32m      2\u001b[0m \u001b[38;5;66;03m# Copyright (c) Microsoft Corporation. All rights reserved.\u001b[39;00m\n\u001b[1;32m      3\u001b[0m \u001b[38;5;66;03m# Licensed under the MIT License. See License.txt in the project root for\u001b[39;00m\n\u001b[1;32m      4\u001b[0m \u001b[38;5;66;03m# license information.\u001b[39;00m\n\u001b[1;32m      5\u001b[0m \u001b[38;5;66;03m###############################################################################\u001b[39;00m\n\u001b[0;32m----> 6\u001b[0m \u001b[38;5;28;01mfrom\u001b[39;00m \u001b[38;5;21;01m.\u001b[39;00m\u001b[38;5;21;01mmain\u001b[39;00m \u001b[38;5;28;01mimport\u001b[39;00m keras_layer_to_operator\n\u001b[1;32m      7\u001b[0m \u001b[38;5;28;01mfrom\u001b[39;00m \u001b[38;5;21;01m.\u001b[39;00m\u001b[38;5;21;01mmain\u001b[39;00m \u001b[38;5;28;01mimport\u001b[39;00m static_set_ke2onnx_converters\n\u001b[1;32m      8\u001b[0m \u001b[38;5;28;01mfrom\u001b[39;00m \u001b[38;5;21;01m.\u001b[39;00m\u001b[38;5;21;01mlayer_spec\u001b[39;00m \u001b[38;5;28;01mimport\u001b[39;00m keras_layer_spec\n",
      "File \u001b[0;32m~/ML/my_env/lib/python3.8/site-packages/keras2onnx/ke2onnx/main.py:13\u001b[0m, in \u001b[0;36m<module>\u001b[0;34m\u001b[0m\n\u001b[1;32m     10\u001b[0m \u001b[38;5;28;01mfrom\u001b[39;00m \u001b[38;5;21;01m.\u001b[39;00m\u001b[38;5;21;01m.\u001b[39;00m\u001b[38;5;21;01mcommon\u001b[39;00m\u001b[38;5;21;01m.\u001b[39;00m\u001b[38;5;21;01monnx_ops\u001b[39;00m \u001b[38;5;28;01mimport\u001b[39;00m apply_identity, apply_tile\n\u001b[1;32m     11\u001b[0m \u001b[38;5;28;01mfrom\u001b[39;00m \u001b[38;5;21;01m.\u001b[39;00m\u001b[38;5;21;01m.\u001b[39;00m\u001b[38;5;21;01mcommon\u001b[39;00m\u001b[38;5;21;01m.\u001b[39;00m\u001b[38;5;21;01monnx_ops\u001b[39;00m \u001b[38;5;28;01mimport\u001b[39;00m apply_reshape, apply_concat, apply_transpose, apply_flatten, OnnxOperatorBuilder\n\u001b[0;32m---> 13\u001b[0m \u001b[38;5;28;01mfrom\u001b[39;00m \u001b[38;5;21;01m.\u001b[39;00m\u001b[38;5;21;01mactivation\u001b[39;00m \u001b[38;5;28;01mimport\u001b[39;00m convert_keras_activation\n\u001b[1;32m     14\u001b[0m \u001b[38;5;28;01mfrom\u001b[39;00m \u001b[38;5;21;01m.\u001b[39;00m\u001b[38;5;21;01madv_activation\u001b[39;00m \u001b[38;5;28;01mimport\u001b[39;00m convert_keras_advanced_activation\n\u001b[1;32m     15\u001b[0m \u001b[38;5;28;01mfrom\u001b[39;00m \u001b[38;5;21;01m.\u001b[39;00m\u001b[38;5;21;01mbatch_norm\u001b[39;00m \u001b[38;5;28;01mimport\u001b[39;00m convert_keras_batch_normalization\n",
      "File \u001b[0;32m~/ML/my_env/lib/python3.8/site-packages/keras2onnx/ke2onnx/activation.py:21\u001b[0m, in \u001b[0;36m<module>\u001b[0;34m\u001b[0m\n\u001b[1;32m     19\u001b[0m     \u001b[38;5;28;01mexcept\u001b[39;00m \u001b[38;5;167;01mImportError\u001b[39;00m:\n\u001b[1;32m     20\u001b[0m         \u001b[38;5;28;01mpass\u001b[39;00m\n\u001b[0;32m---> 21\u001b[0m \u001b[38;5;28;01mif\u001b[39;00m \u001b[38;5;129;01mnot\u001b[39;00m relu6 \u001b[38;5;129;01mand\u001b[39;00m \u001b[38;5;28mhasattr\u001b[39m(\u001b[43mkeras\u001b[49m\u001b[38;5;241;43m.\u001b[39;49m\u001b[43mapplications\u001b[49m\u001b[38;5;241m.\u001b[39mmobilenet, \u001b[38;5;124m'\u001b[39m\u001b[38;5;124mrelu6\u001b[39m\u001b[38;5;124m'\u001b[39m):\n\u001b[1;32m     22\u001b[0m     relu6 \u001b[38;5;241m=\u001b[39m keras\u001b[38;5;241m.\u001b[39mapplications\u001b[38;5;241m.\u001b[39mmobilenet\u001b[38;5;241m.\u001b[39mrelu6\n\u001b[1;32m     25\u001b[0m \u001b[38;5;28;01mdef\u001b[39;00m \u001b[38;5;21mapply_leaky_relu_keras\u001b[39m(scope, input_name, output_name, container, operator_name\u001b[38;5;241m=\u001b[39m\u001b[38;5;28;01mNone\u001b[39;00m, alpha\u001b[38;5;241m=\u001b[39m\u001b[38;5;241m0.2\u001b[39m):\n",
      "\u001b[0;31mAttributeError\u001b[0m: module 'tensorflow.python.keras' has no attribute 'applications'"
     ]
    }
   ],
   "source": [
    "import keras2onnx"
   ]
  },
  {
   "cell_type": "code",
   "execution_count": 48,
   "id": "17d59e5e",
   "metadata": {},
   "outputs": [],
   "source": [
    "saved_model_path = \"./saved_gnn\""
   ]
  },
  {
   "cell_type": "code",
   "execution_count": 49,
   "id": "66b0d48f",
   "metadata": {},
   "outputs": [
    {
     "ename": "AttributeError",
     "evalue": "module 'keras.api._v2.keras.experimental' has no attribute 'export_saved_model'",
     "output_type": "error",
     "traceback": [
      "\u001b[0;31m---------------------------------------------------------------------------\u001b[0m",
      "\u001b[0;31mAttributeError\u001b[0m                            Traceback (most recent call last)",
      "Input \u001b[0;32mIn [49]\u001b[0m, in \u001b[0;36m<cell line: 1>\u001b[0;34m()\u001b[0m\n\u001b[0;32m----> 1\u001b[0m \u001b[43mkeras\u001b[49m\u001b[38;5;241;43m.\u001b[39;49m\u001b[43mexperimental\u001b[49m\u001b[38;5;241;43m.\u001b[39;49m\u001b[43mexport_saved_model\u001b[49m(gnn_model, saved_model_path)\n",
      "\u001b[0;31mAttributeError\u001b[0m: module 'keras.api._v2.keras.experimental' has no attribute 'export_saved_model'"
     ]
    }
   ],
   "source": [
    "keras.experimental.export_saved_model(gnn_model, saved_model_path)"
   ]
  },
  {
   "cell_type": "code",
   "execution_count": 50,
   "id": "06a0f6ab",
   "metadata": {},
   "outputs": [],
   "source": [
    "!mkdir -p saved_model"
   ]
  },
  {
   "cell_type": "code",
   "execution_count": 51,
   "id": "82ffadeb",
   "metadata": {},
   "outputs": [
    {
     "name": "stdout",
     "output_type": "stream",
     "text": [
      "GNNKeras.ipynb           caloD3PD_from_tier0.root \u001b[34msaved_model\u001b[m\u001b[m\r\n",
      "ML_01.ipynb              \u001b[34mdatasets\u001b[m\u001b[m                 trackML.ipynb\r\n",
      "Untitled.ipynb           \u001b[34mmy_env\u001b[m\u001b[m\r\n"
     ]
    }
   ],
   "source": [
    "!ls"
   ]
  },
  {
   "cell_type": "code",
   "execution_count": 52,
   "id": "eba0a01f",
   "metadata": {},
   "outputs": [
    {
     "name": "stdout",
     "output_type": "stream",
     "text": [
      "Initial x:  (2708, 32)\n",
      "node_repesentations:  Tensor(\"gnn_model/preprocess/dense_11/Gelu/mul_1:0\", shape=(2708, 32), dtype=float32)\n",
      "node_repesentations shape:  (2708, 32)\n",
      "neighbour_repesentations:  Tensor(\"gnn_model/graph_conv1/GatherV2:0\", shape=(5429, 32), dtype=float32)\n",
      "neighbour_repesentations shape:  (5429, 32)\n",
      "num_nodes:  Tensor(\"gnn_model/graph_conv1/add:0\", shape=(), dtype=int64)\n",
      "neighbour_messages.shape:  (5429, 32)\n",
      "neighbour_messages:  Tensor(\"gnn_model/graph_conv1/mul:0\", shape=(5429, 32), dtype=float32)\n",
      "node_indices.shape:  (5429,)\n",
      "node_indices:  Tensor(\"gnn_model/graph_conv1/strided_slice:0\", shape=(5429,), dtype=int64)\n",
      "aggregated_message:  (2708, 32)\n",
      "h.shape:  (2708, 64)\n",
      "h.shape after update:  (2708, 64)\n",
      "x1:  (2708, 32)\n",
      "1st conv x:  (2708, 32)\n",
      "node_repesentations:  Tensor(\"gnn_model/add:0\", shape=(2708, 32), dtype=float32)\n",
      "node_repesentations shape:  (2708, 32)\n",
      "neighbour_repesentations:  Tensor(\"gnn_model/graph_conv2/GatherV2:0\", shape=(5429, 32), dtype=float32)\n",
      "neighbour_repesentations shape:  (5429, 32)\n",
      "num_nodes:  Tensor(\"gnn_model/graph_conv2/add:0\", shape=(), dtype=int64)\n",
      "neighbour_messages.shape:  (5429, 32)\n",
      "neighbour_messages:  Tensor(\"gnn_model/graph_conv2/mul:0\", shape=(5429, 32), dtype=float32)\n",
      "node_indices.shape:  (5429,)\n",
      "node_indices:  Tensor(\"gnn_model/graph_conv2/strided_slice:0\", shape=(5429,), dtype=int64)\n",
      "aggregated_message:  (2708, 32)\n",
      "h.shape:  (2708, 64)\n",
      "h.shape after update:  (2708, 64)\n",
      "x2:  (2708, 32)\n",
      "2nd conv x:  (2708, 32)\n",
      "Initial x:  (2708, 32)\n",
      "node_repesentations:  Tensor(\"inputs:0\", shape=(2708, 32), dtype=float32)\n",
      "node_repesentations shape:  (2708, 32)\n",
      "neighbour_repesentations:  Tensor(\"GatherV2:0\", shape=(5429, 32), dtype=float32)\n",
      "neighbour_repesentations shape:  (5429, 32)\n",
      "num_nodes:  Tensor(\"add:0\", shape=(), dtype=int64)\n",
      "neighbour_messages.shape:  (5429, 32)\n",
      "neighbour_messages:  Tensor(\"mul:0\", shape=(5429, 32), dtype=float32)\n",
      "node_indices.shape:  (5429,)\n",
      "node_indices:  Tensor(\"strided_slice:0\", shape=(5429,), dtype=int64)\n",
      "aggregated_message:  (None, 32)\n",
      "h.shape:  (2708, 64)\n",
      "h.shape after update:  (2708, 64)\n",
      "x1:  (2708, 32)\n",
      "1st conv x:  (2708, 32)\n",
      "node_repesentations:  Tensor(\"inputs:0\", shape=(2708, 32), dtype=float32)\n",
      "node_repesentations shape:  (2708, 32)\n",
      "neighbour_repesentations:  Tensor(\"GatherV2:0\", shape=(5429, 32), dtype=float32)\n",
      "neighbour_repesentations shape:  (5429, 32)\n",
      "num_nodes:  Tensor(\"add:0\", shape=(), dtype=int64)\n",
      "neighbour_messages.shape:  (5429, 32)\n",
      "neighbour_messages:  Tensor(\"mul:0\", shape=(5429, 32), dtype=float32)\n",
      "node_indices.shape:  (5429,)\n",
      "node_indices:  Tensor(\"strided_slice:0\", shape=(5429,), dtype=int64)\n",
      "aggregated_message:  (None, 32)\n",
      "h.shape:  (2708, 64)\n",
      "h.shape after update:  (2708, 64)\n",
      "x2:  (2708, 32)\n",
      "2nd conv x:  (2708, 32)\n",
      "node_repesentations:  Tensor(\"inputs:0\", shape=(2708, 32), dtype=float32)\n",
      "node_repesentations shape:  (2708, 32)\n",
      "neighbour_repesentations:  Tensor(\"GatherV2:0\", shape=(5429, 32), dtype=float32)\n",
      "neighbour_repesentations shape:  (5429, 32)\n",
      "num_nodes:  Tensor(\"add:0\", shape=(), dtype=int64)\n",
      "neighbour_messages.shape:  (5429, 32)\n",
      "neighbour_messages:  Tensor(\"mul:0\", shape=(5429, 32), dtype=float32)\n",
      "node_indices.shape:  (5429,)\n",
      "node_indices:  Tensor(\"strided_slice:0\", shape=(5429,), dtype=int64)\n",
      "aggregated_message:  (None, 32)\n",
      "h.shape:  (2708, 64)\n",
      "h.shape after update:  (2708, 64)\n",
      "node_repesentations:  Tensor(\"inputs:0\", shape=(2708, 32), dtype=float32)\n",
      "node_repesentations shape:  (2708, 32)\n",
      "neighbour_repesentations:  Tensor(\"GatherV2:0\", shape=(5429, 32), dtype=float32)\n",
      "neighbour_repesentations shape:  (5429, 32)\n",
      "num_nodes:  Tensor(\"add:0\", shape=(), dtype=int64)\n",
      "neighbour_messages.shape:  (5429, 32)\n",
      "neighbour_messages:  Tensor(\"mul:0\", shape=(5429, 32), dtype=float32)\n",
      "node_indices.shape:  (5429,)\n",
      "node_indices:  Tensor(\"strided_slice:0\", shape=(5429,), dtype=int64)\n",
      "aggregated_message:  (None, 32)\n",
      "h.shape:  (2708, 64)\n",
      "h.shape after update:  (2708, 64)\n",
      "Initial x:  (2708, 32)\n",
      "x1:  (2708, 32)\n",
      "1st conv x:  (2708, 32)\n",
      "x2:  (2708, 32)\n",
      "2nd conv x:  (2708, 32)\n",
      "Initial x:  (2708, 32)\n",
      "x1:  (2708, 32)\n",
      "1st conv x:  (2708, 32)\n",
      "x2:  (2708, 32)\n",
      "2nd conv x:  (2708, 32)\n",
      "Initial x:  (2708, 32)\n",
      "x1:  (2708, 32)\n",
      "1st conv x:  (2708, 32)\n",
      "x2:  (2708, 32)\n",
      "2nd conv x:  (2708, 32)\n",
      "Initial x:  (2708, 32)\n",
      "node_repesentations:  Tensor(\"preprocess/dense_11/Gelu/mul_1:0\", shape=(2708, 32), dtype=float32)\n",
      "node_repesentations shape:  (2708, 32)\n",
      "neighbour_repesentations:  Tensor(\"graph_conv1/GatherV2:0\", shape=(5429, 32), dtype=float32)\n",
      "neighbour_repesentations shape:  (5429, 32)\n",
      "num_nodes:  Tensor(\"graph_conv1/add:0\", shape=(), dtype=int64)\n",
      "neighbour_messages.shape:  (5429, 32)\n",
      "neighbour_messages:  Tensor(\"graph_conv1/mul:0\", shape=(5429, 32), dtype=float32)\n",
      "node_indices.shape:  (5429,)\n",
      "node_indices:  Tensor(\"graph_conv1/strided_slice:0\", shape=(5429,), dtype=int64)\n",
      "aggregated_message:  (2708, 32)\n",
      "h.shape:  (2708, 64)\n",
      "h.shape after update:  (2708, 64)\n",
      "x1:  (2708, 32)\n",
      "1st conv x:  (2708, 32)\n",
      "node_repesentations:  Tensor(\"add:0\", shape=(2708, 32), dtype=float32)\n",
      "node_repesentations shape:  (2708, 32)\n",
      "neighbour_repesentations:  Tensor(\"graph_conv2/GatherV2:0\", shape=(5429, 32), dtype=float32)\n",
      "neighbour_repesentations shape:  (5429, 32)\n",
      "num_nodes:  Tensor(\"graph_conv2/add:0\", shape=(), dtype=int64)\n",
      "neighbour_messages.shape:  (5429, 32)\n",
      "neighbour_messages:  Tensor(\"graph_conv2/mul:0\", shape=(5429, 32), dtype=float32)\n",
      "node_indices.shape:  (5429,)\n",
      "node_indices:  Tensor(\"graph_conv2/strided_slice:0\", shape=(5429,), dtype=int64)\n",
      "aggregated_message:  (2708, 32)\n",
      "h.shape:  (2708, 64)\n",
      "h.shape after update:  (2708, 64)\n",
      "x2:  (2708, 32)\n",
      "2nd conv x:  (2708, 32)\n",
      "Initial x:  (2708, 32)\n",
      "node_repesentations:  Tensor(\"preprocess/dense_11/Gelu/mul_1:0\", shape=(2708, 32), dtype=float32)\n",
      "node_repesentations shape:  (2708, 32)\n",
      "neighbour_repesentations:  Tensor(\"graph_conv1/GatherV2:0\", shape=(5429, 32), dtype=float32)\n",
      "neighbour_repesentations shape:  (5429, 32)\n",
      "num_nodes:  Tensor(\"graph_conv1/add:0\", shape=(), dtype=int64)\n",
      "neighbour_messages.shape:  (5429, 32)\n",
      "neighbour_messages:  Tensor(\"graph_conv1/mul:0\", shape=(5429, 32), dtype=float32)\n",
      "node_indices.shape:  (5429,)\n",
      "node_indices:  Tensor(\"graph_conv1/strided_slice:0\", shape=(5429,), dtype=int64)\n",
      "aggregated_message:  (2708, 32)\n",
      "h.shape:  (2708, 64)\n",
      "h.shape after update:  (2708, 64)\n",
      "x1:  (2708, 32)\n",
      "1st conv x:  (2708, 32)\n",
      "node_repesentations:  Tensor(\"add:0\", shape=(2708, 32), dtype=float32)\n",
      "node_repesentations shape:  (2708, 32)\n",
      "neighbour_repesentations:  Tensor(\"graph_conv2/GatherV2:0\", shape=(5429, 32), dtype=float32)\n",
      "neighbour_repesentations shape:  (5429, 32)\n",
      "num_nodes:  Tensor(\"graph_conv2/add:0\", shape=(), dtype=int64)\n",
      "neighbour_messages.shape:  (5429, 32)\n",
      "neighbour_messages:  Tensor(\"graph_conv2/mul:0\", shape=(5429, 32), dtype=float32)\n",
      "node_indices.shape:  (5429,)\n",
      "node_indices:  Tensor(\"graph_conv2/strided_slice:0\", shape=(5429,), dtype=int64)\n",
      "aggregated_message:  (2708, 32)\n",
      "h.shape:  (2708, 64)\n",
      "h.shape after update:  (2708, 64)\n",
      "x2:  (2708, 32)\n",
      "2nd conv x:  (2708, 32)\n"
     ]
    },
    {
     "name": "stderr",
     "output_type": "stream",
     "text": [
      "2022-08-18 15:51:27.361304: W tensorflow/python/util/util.cc:368] Sets are not currently considered sequences, but this may change in the future, so consider avoiding using them.\n"
     ]
    },
    {
     "name": "stdout",
     "output_type": "stream",
     "text": [
      "node_repesentations:  Tensor(\"inputs/0:0\", shape=(2708, 32), dtype=float32)\n",
      "node_repesentations shape:  (2708, 32)\n",
      "neighbour_repesentations:  Tensor(\"GatherV2:0\", shape=(5429, 32), dtype=float32)\n",
      "neighbour_repesentations shape:  (5429, 32)\n",
      "num_nodes:  Tensor(\"add:0\", shape=(), dtype=int64)\n",
      "neighbour_messages.shape:  (5429, 32)\n",
      "neighbour_messages:  Tensor(\"mul:0\", shape=(5429, 32), dtype=float32)\n",
      "node_indices.shape:  (5429,)\n",
      "node_indices:  Tensor(\"strided_slice:0\", shape=(5429,), dtype=int64)\n",
      "aggregated_message:  (None, 32)\n",
      "h.shape:  (2708, 64)\n",
      "h.shape after update:  (2708, 64)\n",
      "node_repesentations:  Tensor(\"inputs/0:0\", shape=(2708, 32), dtype=float32)\n",
      "node_repesentations shape:  (2708, 32)\n",
      "neighbour_repesentations:  Tensor(\"GatherV2:0\", shape=(5429, 32), dtype=float32)\n",
      "neighbour_repesentations shape:  (5429, 32)\n",
      "num_nodes:  Tensor(\"add:0\", shape=(), dtype=int64)\n",
      "neighbour_messages.shape:  (5429, 32)\n",
      "neighbour_messages:  Tensor(\"mul:0\", shape=(5429, 32), dtype=float32)\n",
      "node_indices.shape:  (5429,)\n",
      "node_indices:  Tensor(\"strided_slice:0\", shape=(5429,), dtype=int64)\n",
      "aggregated_message:  (None, 32)\n",
      "h.shape:  (2708, 64)\n",
      "h.shape after update:  (2708, 64)\n",
      "node_repesentations:  Tensor(\"inputs/0:0\", shape=(2708, 32), dtype=float32)\n",
      "node_repesentations shape:  (2708, 32)\n",
      "neighbour_repesentations:  Tensor(\"GatherV2:0\", shape=(5429, 32), dtype=float32)\n",
      "neighbour_repesentations shape:  (5429, 32)\n",
      "num_nodes:  Tensor(\"add:0\", shape=(), dtype=int64)\n",
      "neighbour_messages.shape:  (5429, 32)\n",
      "neighbour_messages:  Tensor(\"mul:0\", shape=(5429, 32), dtype=float32)\n",
      "node_indices.shape:  (5429,)\n",
      "node_indices:  Tensor(\"strided_slice:0\", shape=(5429,), dtype=int64)\n",
      "aggregated_message:  (None, 32)\n",
      "h.shape:  (2708, 64)\n",
      "h.shape after update:  (2708, 64)\n",
      "node_repesentations:  Tensor(\"inputs/0:0\", shape=(2708, 32), dtype=float32)\n",
      "node_repesentations shape:  (2708, 32)\n",
      "neighbour_repesentations:  Tensor(\"GatherV2:0\", shape=(5429, 32), dtype=float32)\n",
      "neighbour_repesentations shape:  (5429, 32)\n",
      "num_nodes:  Tensor(\"add:0\", shape=(), dtype=int64)\n",
      "neighbour_messages.shape:  (5429, 32)\n",
      "neighbour_messages:  Tensor(\"mul:0\", shape=(5429, 32), dtype=float32)\n",
      "node_indices.shape:  (5429,)\n",
      "node_indices:  Tensor(\"strided_slice:0\", shape=(5429,), dtype=int64)\n",
      "aggregated_message:  (None, 32)\n",
      "h.shape:  (2708, 64)\n",
      "h.shape after update:  (2708, 64)\n",
      "INFO:tensorflow:Assets written to: saved_model/my_model/assets\n"
     ]
    }
   ],
   "source": [
    "gnn_model.save('saved_model/my_model')"
   ]
  },
  {
   "cell_type": "code",
   "execution_count": 53,
   "id": "e5fc631f",
   "metadata": {},
   "outputs": [
    {
     "name": "stdout",
     "output_type": "stream",
     "text": [
      "GNNKeras.ipynb           caloD3PD_from_tier0.root \u001b[34msaved_model\u001b[m\u001b[m\r\n",
      "ML_01.ipynb              \u001b[34mdatasets\u001b[m\u001b[m                 trackML.ipynb\r\n",
      "Untitled.ipynb           \u001b[34mmy_env\u001b[m\u001b[m\r\n"
     ]
    }
   ],
   "source": [
    "!ls"
   ]
  },
  {
   "cell_type": "code",
   "execution_count": 54,
   "id": "63543fe6",
   "metadata": {},
   "outputs": [
    {
     "name": "stdout",
     "output_type": "stream",
     "text": [
      "\u001b[34mmy_model\u001b[m\u001b[m\r\n"
     ]
    }
   ],
   "source": [
    "!ls saved_model"
   ]
  },
  {
   "cell_type": "code",
   "execution_count": 55,
   "id": "d26cf8b3",
   "metadata": {},
   "outputs": [
    {
     "name": "stdout",
     "output_type": "stream",
     "text": [
      "\u001b[34massets\u001b[m\u001b[m            keras_metadata.pb saved_model.pb    \u001b[34mvariables\u001b[m\u001b[m\r\n"
     ]
    }
   ],
   "source": [
    "!ls saved_model/my_model"
   ]
  },
  {
   "cell_type": "code",
   "execution_count": 56,
   "id": "735de07b",
   "metadata": {},
   "outputs": [],
   "source": [
    "from tensorflow.python.keras import backend as K"
   ]
  },
  {
   "cell_type": "code",
   "execution_count": 57,
   "id": "d20231a9",
   "metadata": {},
   "outputs": [
    {
     "ename": "AttributeError",
     "evalue": "module 'tensorflow.python.keras' has no attribute 'applications'",
     "output_type": "error",
     "traceback": [
      "\u001b[0;31m---------------------------------------------------------------------------\u001b[0m",
      "\u001b[0;31mAttributeError\u001b[0m                            Traceback (most recent call last)",
      "Input \u001b[0;32mIn [57]\u001b[0m, in \u001b[0;36m<cell line: 1>\u001b[0;34m()\u001b[0m\n\u001b[0;32m----> 1\u001b[0m \u001b[38;5;28;01mimport\u001b[39;00m \u001b[38;5;21;01mkeras2onnx\u001b[39;00m\n",
      "File \u001b[0;32m~/ML/my_env/lib/python3.8/site-packages/keras2onnx/__init__.py:34\u001b[0m, in \u001b[0;36m<module>\u001b[0;34m\u001b[0m\n\u001b[1;32m     31\u001b[0m \u001b[38;5;28;01mfrom\u001b[39;00m \u001b[38;5;21;01m.\u001b[39;00m\u001b[38;5;21;01mcommon\u001b[39;00m \u001b[38;5;28;01mimport\u001b[39;00m Variable, cvtfunc, set_logger_level\n\u001b[1;32m     32\u001b[0m \u001b[38;5;28;01mfrom\u001b[39;00m \u001b[38;5;21;01m.\u001b[39;00m\u001b[38;5;21;01mfuncbook\u001b[39;00m \u001b[38;5;28;01mimport\u001b[39;00m set_converter, set_converters\n\u001b[0;32m---> 34\u001b[0m \u001b[38;5;28;01mfrom\u001b[39;00m \u001b[38;5;21;01m.\u001b[39;00m\u001b[38;5;21;01mmain\u001b[39;00m \u001b[38;5;28;01mimport\u001b[39;00m convert_keras\n\u001b[1;32m     35\u001b[0m \u001b[38;5;28;01mfrom\u001b[39;00m \u001b[38;5;21;01m.\u001b[39;00m\u001b[38;5;21;01mmain\u001b[39;00m \u001b[38;5;28;01mimport\u001b[39;00m export_tf_frozen_graph\n\u001b[1;32m     36\u001b[0m \u001b[38;5;28;01mfrom\u001b[39;00m \u001b[38;5;21;01m.\u001b[39;00m\u001b[38;5;21;01mmain\u001b[39;00m \u001b[38;5;28;01mimport\u001b[39;00m build_io_names_tf2onnx\n",
      "File \u001b[0;32m~/ML/my_env/lib/python3.8/site-packages/keras2onnx/main.py:13\u001b[0m, in \u001b[0;36m<module>\u001b[0;34m\u001b[0m\n\u001b[1;32m     11\u001b[0m \u001b[38;5;28;01mfrom\u001b[39;00m \u001b[38;5;21;01m.\u001b[39;00m\u001b[38;5;21;01mproto\u001b[39;00m \u001b[38;5;28;01mimport\u001b[39;00m onnx\n\u001b[1;32m     12\u001b[0m \u001b[38;5;28;01mfrom\u001b[39;00m \u001b[38;5;21;01m.\u001b[39;00m\u001b[38;5;21;01mtopology\u001b[39;00m \u001b[38;5;28;01mimport\u001b[39;00m convert_topology\n\u001b[0;32m---> 13\u001b[0m \u001b[38;5;28;01mfrom\u001b[39;00m \u001b[38;5;21;01m.\u001b[39;00m\u001b[38;5;21;01mke2onnx\u001b[39;00m \u001b[38;5;28;01mimport\u001b[39;00m static_set_ke2onnx_converters\n\u001b[1;32m     14\u001b[0m \u001b[38;5;28;01mfrom\u001b[39;00m \u001b[38;5;21;01m.\u001b[39;00m\u001b[38;5;21;01mparser\u001b[39;00m \u001b[38;5;28;01mimport\u001b[39;00m parse_graph, parse_graph_modeless\n\u001b[1;32m     15\u001b[0m \u001b[38;5;28;01mfrom\u001b[39;00m \u001b[38;5;21;01m.\u001b[39;00m\u001b[38;5;21;01mtopology\u001b[39;00m \u001b[38;5;28;01mimport\u001b[39;00m Topology\n",
      "File \u001b[0;32m~/ML/my_env/lib/python3.8/site-packages/keras2onnx/ke2onnx/__init__.py:6\u001b[0m, in \u001b[0;36m<module>\u001b[0;34m\u001b[0m\n\u001b[1;32m      1\u001b[0m \u001b[38;5;66;03m###############################################################################\u001b[39;00m\n\u001b[1;32m      2\u001b[0m \u001b[38;5;66;03m# Copyright (c) Microsoft Corporation. All rights reserved.\u001b[39;00m\n\u001b[1;32m      3\u001b[0m \u001b[38;5;66;03m# Licensed under the MIT License. See License.txt in the project root for\u001b[39;00m\n\u001b[1;32m      4\u001b[0m \u001b[38;5;66;03m# license information.\u001b[39;00m\n\u001b[1;32m      5\u001b[0m \u001b[38;5;66;03m###############################################################################\u001b[39;00m\n\u001b[0;32m----> 6\u001b[0m \u001b[38;5;28;01mfrom\u001b[39;00m \u001b[38;5;21;01m.\u001b[39;00m\u001b[38;5;21;01mmain\u001b[39;00m \u001b[38;5;28;01mimport\u001b[39;00m keras_layer_to_operator\n\u001b[1;32m      7\u001b[0m \u001b[38;5;28;01mfrom\u001b[39;00m \u001b[38;5;21;01m.\u001b[39;00m\u001b[38;5;21;01mmain\u001b[39;00m \u001b[38;5;28;01mimport\u001b[39;00m static_set_ke2onnx_converters\n\u001b[1;32m      8\u001b[0m \u001b[38;5;28;01mfrom\u001b[39;00m \u001b[38;5;21;01m.\u001b[39;00m\u001b[38;5;21;01mlayer_spec\u001b[39;00m \u001b[38;5;28;01mimport\u001b[39;00m keras_layer_spec\n",
      "File \u001b[0;32m~/ML/my_env/lib/python3.8/site-packages/keras2onnx/ke2onnx/main.py:13\u001b[0m, in \u001b[0;36m<module>\u001b[0;34m\u001b[0m\n\u001b[1;32m     10\u001b[0m \u001b[38;5;28;01mfrom\u001b[39;00m \u001b[38;5;21;01m.\u001b[39;00m\u001b[38;5;21;01m.\u001b[39;00m\u001b[38;5;21;01mcommon\u001b[39;00m\u001b[38;5;21;01m.\u001b[39;00m\u001b[38;5;21;01monnx_ops\u001b[39;00m \u001b[38;5;28;01mimport\u001b[39;00m apply_identity, apply_tile\n\u001b[1;32m     11\u001b[0m \u001b[38;5;28;01mfrom\u001b[39;00m \u001b[38;5;21;01m.\u001b[39;00m\u001b[38;5;21;01m.\u001b[39;00m\u001b[38;5;21;01mcommon\u001b[39;00m\u001b[38;5;21;01m.\u001b[39;00m\u001b[38;5;21;01monnx_ops\u001b[39;00m \u001b[38;5;28;01mimport\u001b[39;00m apply_reshape, apply_concat, apply_transpose, apply_flatten, OnnxOperatorBuilder\n\u001b[0;32m---> 13\u001b[0m \u001b[38;5;28;01mfrom\u001b[39;00m \u001b[38;5;21;01m.\u001b[39;00m\u001b[38;5;21;01mactivation\u001b[39;00m \u001b[38;5;28;01mimport\u001b[39;00m convert_keras_activation\n\u001b[1;32m     14\u001b[0m \u001b[38;5;28;01mfrom\u001b[39;00m \u001b[38;5;21;01m.\u001b[39;00m\u001b[38;5;21;01madv_activation\u001b[39;00m \u001b[38;5;28;01mimport\u001b[39;00m convert_keras_advanced_activation\n\u001b[1;32m     15\u001b[0m \u001b[38;5;28;01mfrom\u001b[39;00m \u001b[38;5;21;01m.\u001b[39;00m\u001b[38;5;21;01mbatch_norm\u001b[39;00m \u001b[38;5;28;01mimport\u001b[39;00m convert_keras_batch_normalization\n",
      "File \u001b[0;32m~/ML/my_env/lib/python3.8/site-packages/keras2onnx/ke2onnx/activation.py:21\u001b[0m, in \u001b[0;36m<module>\u001b[0;34m\u001b[0m\n\u001b[1;32m     19\u001b[0m     \u001b[38;5;28;01mexcept\u001b[39;00m \u001b[38;5;167;01mImportError\u001b[39;00m:\n\u001b[1;32m     20\u001b[0m         \u001b[38;5;28;01mpass\u001b[39;00m\n\u001b[0;32m---> 21\u001b[0m \u001b[38;5;28;01mif\u001b[39;00m \u001b[38;5;129;01mnot\u001b[39;00m relu6 \u001b[38;5;129;01mand\u001b[39;00m \u001b[38;5;28mhasattr\u001b[39m(\u001b[43mkeras\u001b[49m\u001b[38;5;241;43m.\u001b[39;49m\u001b[43mapplications\u001b[49m\u001b[38;5;241m.\u001b[39mmobilenet, \u001b[38;5;124m'\u001b[39m\u001b[38;5;124mrelu6\u001b[39m\u001b[38;5;124m'\u001b[39m):\n\u001b[1;32m     22\u001b[0m     relu6 \u001b[38;5;241m=\u001b[39m keras\u001b[38;5;241m.\u001b[39mapplications\u001b[38;5;241m.\u001b[39mmobilenet\u001b[38;5;241m.\u001b[39mrelu6\n\u001b[1;32m     25\u001b[0m \u001b[38;5;28;01mdef\u001b[39;00m \u001b[38;5;21mapply_leaky_relu_keras\u001b[39m(scope, input_name, output_name, container, operator_name\u001b[38;5;241m=\u001b[39m\u001b[38;5;28;01mNone\u001b[39;00m, alpha\u001b[38;5;241m=\u001b[39m\u001b[38;5;241m0.2\u001b[39m):\n",
      "\u001b[0;31mAttributeError\u001b[0m: module 'tensorflow.python.keras' has no attribute 'applications'"
     ]
    }
   ],
   "source": [
    "import keras2onnx"
   ]
  },
  {
   "cell_type": "code",
   "execution_count": 58,
   "id": "08e54f99",
   "metadata": {},
   "outputs": [],
   "source": [
    "import numpy as np\n",
    "import onnxruntime as ort"
   ]
  },
  {
   "cell_type": "code",
   "execution_count": 59,
   "id": "8520b17c",
   "metadata": {},
   "outputs": [
    {
     "name": "stdout",
     "output_type": "stream",
     "text": [
      "\u001b[34massets\u001b[m\u001b[m            saved_model.onnx  \u001b[34mvariables\u001b[m\u001b[m\r\n",
      "keras_metadata.pb saved_model.pb\r\n"
     ]
    }
   ],
   "source": [
    "!ls saved_model/my_model"
   ]
  },
  {
   "cell_type": "code",
   "execution_count": 60,
   "id": "8cc6484f",
   "metadata": {},
   "outputs": [],
   "source": [
    "sess_ort = ort.InferenceSession(\"./saved_model/my_model/saved_model.onnx\")"
   ]
  },
  {
   "cell_type": "code",
   "execution_count": 63,
   "id": "042dde56",
   "metadata": {},
   "outputs": [
    {
     "ename": "IndexError",
     "evalue": "list index out of range",
     "output_type": "error",
     "traceback": [
      "\u001b[0;31m---------------------------------------------------------------------------\u001b[0m",
      "\u001b[0;31mIndexError\u001b[0m                                Traceback (most recent call last)",
      "Input \u001b[0;32mIn [63]\u001b[0m, in \u001b[0;36m<cell line: 1>\u001b[0;34m()\u001b[0m\n\u001b[0;32m----> 1\u001b[0m input_name \u001b[38;5;241m=\u001b[39m \u001b[43msess_ort\u001b[49m\u001b[38;5;241;43m.\u001b[39;49m\u001b[43mget_inputs\u001b[49m\u001b[43m(\u001b[49m\u001b[43m)\u001b[49m\u001b[43m[\u001b[49m\u001b[38;5;241;43m1\u001b[39;49m\u001b[43m]\u001b[49m\u001b[38;5;241m.\u001b[39mname\n\u001b[1;32m      2\u001b[0m \u001b[38;5;28mprint\u001b[39m(\u001b[38;5;124m\"\u001b[39m\u001b[38;5;124minput name\u001b[39m\u001b[38;5;124m\"\u001b[39m, input_name)\n\u001b[1;32m      3\u001b[0m input_shape \u001b[38;5;241m=\u001b[39m sess_ort\u001b[38;5;241m.\u001b[39mget_inputs()[\u001b[38;5;241m1\u001b[39m]\u001b[38;5;241m.\u001b[39mshape\n",
      "\u001b[0;31mIndexError\u001b[0m: list index out of range"
     ]
    }
   ],
   "source": [
    "input_name = sess_ort.get_inputs()[1].name\n",
    "print(\"input name\", input_name)\n",
    "input_shape = sess_ort.get_inputs()[1].shape\n",
    "print(\"input shape\", input_shape)\n",
    "input_type = sess_ort.get_inputs()[1].type\n",
    "print(\"input type\", input_type)"
   ]
  },
  {
   "cell_type": "code",
   "execution_count": 62,
   "id": "43eca431",
   "metadata": {},
   "outputs": [
    {
     "name": "stdout",
     "output_type": "stream",
     "text": [
      "output_name output_1\n",
      "output shape [1, 7]\n",
      "output type tensor(float)\n"
     ]
    }
   ],
   "source": [
    "output_name = sess_ort.get_outputs()[0].name\n",
    "print(\"output_name\", output_name)\n",
    "output_shape = sess_ort.get_outputs()[0].shape\n",
    "print(\"output shape\", output_shape)\n",
    "output_type = sess_ort.get_outputs()[0].type\n",
    "print(\"output type\", output_type)"
   ]
  },
  {
   "cell_type": "code",
   "execution_count": null,
   "id": "138068ca",
   "metadata": {},
   "outputs": [],
   "source": []
  }
 ],
 "metadata": {
  "kernelspec": {
   "display_name": "my_env",
   "language": "python",
   "name": "my_env"
  },
  "language_info": {
   "codemirror_mode": {
    "name": "ipython",
    "version": 3
   },
   "file_extension": ".py",
   "mimetype": "text/x-python",
   "name": "python",
   "nbconvert_exporter": "python",
   "pygments_lexer": "ipython3",
   "version": "3.8.6"
  }
 },
 "nbformat": 4,
 "nbformat_minor": 5
}
