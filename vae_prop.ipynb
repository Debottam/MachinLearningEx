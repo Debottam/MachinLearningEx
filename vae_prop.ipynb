{
  "nbformat": 4,
  "nbformat_minor": 0,
  "metadata": {
    "colab": {
      "name": "Untitled6.ipynb",
      "provenance": [],
      "authorship_tag": "ABX9TyOm40SgFUDbDLfkkiptaC9U",
      "include_colab_link": true
    },
    "kernelspec": {
      "name": "python3",
      "display_name": "Python 3"
    }
  },
  "cells": [
    {
      "cell_type": "markdown",
      "metadata": {
        "id": "view-in-github",
        "colab_type": "text"
      },
      "source": [
        "<a href=\"https://colab.research.google.com/github/Debottam/MachinLearningEx/blob/master/vae_prop.ipynb\" target=\"_parent\"><img src=\"https://colab.research.google.com/assets/colab-badge.svg\" alt=\"Open In Colab\"/></a>"
      ]
    },
    {
      "cell_type": "code",
      "metadata": {
        "id": "xIVmo0BKN39s",
        "colab_type": "code",
        "colab": {}
      },
      "source": [
        "from __future__ import absolute_import\n",
        "from __future__ import division\n",
        "from __future__ import print_function\n",
        "\n",
        "from keras.layers import Lambda, Input, Dense\n",
        "from keras.models import Model\n",
        "from keras.datasets import mnist\n",
        "from keras.losses import mse, binary_crossentropy\n",
        "from keras.utils import plot_model\n",
        "from keras import backend as K\n",
        "\n",
        "import numpy as np\n",
        "import matplotlib.pyplot as plt\n",
        "import argparse\n",
        "import os"
      ],
      "execution_count": 0,
      "outputs": []
    },
    {
      "cell_type": "code",
      "metadata": {
        "id": "mTaDJ_SNOWtz",
        "colab_type": "code",
        "colab": {}
      },
      "source": [
        "# reparameterization trick\n",
        "# instead of sampling from Q(z|X), sample epsilon = N(0,I)\n",
        "# z = z_mean + sqrt(var) * epsilon\n",
        "def sampling(args):\n",
        "    \"\"\"Reparameterization trick by sampling from an isotropic unit Gaussian.\n",
        "    # Arguments\n",
        "        args (tensor): mean and log of variance of Q(z|X)\n",
        "    # Returns\n",
        "        z (tensor): sampled latent vector\n",
        "    \"\"\"\n",
        "\n",
        "    z_mean, z_log_var = args\n",
        "    batch = K.shape(z_mean)[0]\n",
        "    dim = K.int_shape(z_mean)[1]\n",
        "    # by default, random_normal has mean = 0 and std = 1.0\n",
        "    epsilon = K.random_normal(shape=(batch, dim))\n",
        "    return z_mean + K.exp(0.5 * z_log_var) * epsilon\n"
      ],
      "execution_count": 0,
      "outputs": []
    },
    {
      "cell_type": "code",
      "metadata": {
        "id": "DffgWZNgOexu",
        "colab_type": "code",
        "colab": {}
      },
      "source": [
        "# MNIST dataset\n",
        "(x_train, y_train), (x_test, y_test) = mnist.load_data()\n",
        "\n",
        "image_size = x_train.shape[1]\n",
        "original_dim = image_size * image_size\n",
        "x_train = np.reshape(x_train, [-1, original_dim])\n",
        "x_test = np.reshape(x_test, [-1, original_dim])\n",
        "x_train = x_train.astype('float32') / 255\n",
        "x_test = x_test.astype('float32') / 255"
      ],
      "execution_count": 0,
      "outputs": []
    },
    {
      "cell_type": "code",
      "metadata": {
        "id": "sf7lO0lwhYsh",
        "colab_type": "code",
        "colab": {}
      },
      "source": [
        "x_train_bkg = x_train[np.where((y_train!=4)&(y_train!=5)&(y_train!=6))]"
      ],
      "execution_count": 0,
      "outputs": []
    },
    {
      "cell_type": "code",
      "metadata": {
        "id": "5ZLm8n_phd1O",
        "colab_type": "code",
        "colab": {
          "base_uri": "https://localhost:8080/",
          "height": 34
        },
        "outputId": "ae071704-ff77-4a90-9bfd-8bac681b2910"
      },
      "source": [
        "x_train_bkg.shape"
      ],
      "execution_count": 115,
      "outputs": [
        {
          "output_type": "execute_result",
          "data": {
            "text/plain": [
              "(42819, 784)"
            ]
          },
          "metadata": {
            "tags": []
          },
          "execution_count": 115
        }
      ]
    },
    {
      "cell_type": "code",
      "metadata": {
        "id": "GMwpsUhAeOhC",
        "colab_type": "code",
        "colab": {}
      },
      "source": [
        "from sklearn.model_selection import train_test_split\n",
        "x_train_bkg,valid_x_train_bkg = train_test_split(x_train_bkg,\n",
        "                                         test_size=0.2, \n",
        "                                         random_state=13)"
      ],
      "execution_count": 0,
      "outputs": []
    },
    {
      "cell_type": "code",
      "metadata": {
        "id": "11brK47lOhV_",
        "colab_type": "code",
        "colab": {}
      },
      "source": [
        "# network parameters\n",
        "input_shape = (original_dim, )\n",
        "intermediate_dim = 512\n",
        "batch_size = 128\n",
        "latent_dim = 32\n",
        "epochs = 50"
      ],
      "execution_count": 0,
      "outputs": []
    },
    {
      "cell_type": "code",
      "metadata": {
        "id": "Jy09WlMUOriw",
        "colab_type": "code",
        "colab": {}
      },
      "source": [
        "# VAE model = encoder + decoder\n",
        "# build encoder model\n",
        "inputs = Input(shape=input_shape, name='encoder_input')\n",
        "x = Dense(intermediate_dim, activation='relu')(inputs)\n",
        "z_mean = Dense(latent_dim, name='z_mean')(x)\n",
        "z_log_var = Dense(latent_dim, name='z_log_var')(x)\n",
        "\n",
        "# use reparameterization trick to push the sampling out as input\n",
        "# note that \"output_shape\" isn't necessary with the TensorFlow backend\n",
        "z = Lambda(sampling, output_shape=(latent_dim,), name='z')([z_mean, z_log_var])"
      ],
      "execution_count": 0,
      "outputs": []
    },
    {
      "cell_type": "code",
      "metadata": {
        "id": "ntnxtBgtOwmW",
        "colab_type": "code",
        "colab": {
          "base_uri": "https://localhost:8080/",
          "height": 340
        },
        "outputId": "bff2189d-76e7-4693-f054-ca17a4868bbe"
      },
      "source": [
        "# instantiate encoder model\n",
        "encoder = Model(inputs, [z_mean, z_log_var, z], name='encoder')\n",
        "encoder.summary()"
      ],
      "execution_count": 119,
      "outputs": [
        {
          "output_type": "stream",
          "text": [
            "Model: \"encoder\"\n",
            "__________________________________________________________________________________________________\n",
            "Layer (type)                    Output Shape         Param #     Connected to                     \n",
            "==================================================================================================\n",
            "encoder_input (InputLayer)      (None, 784)          0                                            \n",
            "__________________________________________________________________________________________________\n",
            "dense_18 (Dense)                (None, 512)          401920      encoder_input[0][0]              \n",
            "__________________________________________________________________________________________________\n",
            "z_mean (Dense)                  (None, 32)           16416       dense_18[0][0]                   \n",
            "__________________________________________________________________________________________________\n",
            "z_log_var (Dense)               (None, 32)           16416       dense_18[0][0]                   \n",
            "__________________________________________________________________________________________________\n",
            "z (Lambda)                      (None, 32)           0           z_mean[0][0]                     \n",
            "                                                                 z_log_var[0][0]                  \n",
            "==================================================================================================\n",
            "Total params: 434,752\n",
            "Trainable params: 434,752\n",
            "Non-trainable params: 0\n",
            "__________________________________________________________________________________________________\n"
          ],
          "name": "stdout"
        }
      ]
    },
    {
      "cell_type": "code",
      "metadata": {
        "id": "B-a4yMqBrMge",
        "colab_type": "code",
        "colab": {
          "base_uri": "https://localhost:8080/",
          "height": 221
        },
        "outputId": "5ef77c25-202a-45e4-a934-b7cc2d16f365"
      },
      "source": [
        "encoder_z = Model(inputs,encoder(inputs)[2])\n",
        "encoder_z.summary()"
      ],
      "execution_count": 120,
      "outputs": [
        {
          "output_type": "stream",
          "text": [
            "Model: \"model_3\"\n",
            "_________________________________________________________________\n",
            "Layer (type)                 Output Shape              Param #   \n",
            "=================================================================\n",
            "encoder_input (InputLayer)   (None, 784)               0         \n",
            "_________________________________________________________________\n",
            "encoder (Model)              [(None, 32), (None, 32),  434752    \n",
            "=================================================================\n",
            "Total params: 434,752\n",
            "Trainable params: 434,752\n",
            "Non-trainable params: 0\n",
            "_________________________________________________________________\n"
          ],
          "name": "stdout"
        }
      ]
    },
    {
      "cell_type": "code",
      "metadata": {
        "id": "7uf64zB3O6Pj",
        "colab_type": "code",
        "colab": {}
      },
      "source": [
        "# build decoder model\n",
        "latent_inputs = Input(shape=(latent_dim,), name='z_sampling')\n",
        "x = Dense(intermediate_dim, activation='relu')(latent_inputs)\n",
        "outputs = Dense(original_dim, activation='sigmoid')(x)"
      ],
      "execution_count": 0,
      "outputs": []
    },
    {
      "cell_type": "code",
      "metadata": {
        "id": "AzGleb7-PGig",
        "colab_type": "code",
        "colab": {
          "base_uri": "https://localhost:8080/",
          "height": 255
        },
        "outputId": "1793be06-5b69-4100-9c37-1e8c17c19845"
      },
      "source": [
        "# instantiate decoder model\n",
        "decoder = Model(latent_inputs, outputs, name='decoder')\n",
        "decoder.summary()"
      ],
      "execution_count": 122,
      "outputs": [
        {
          "output_type": "stream",
          "text": [
            "Model: \"decoder\"\n",
            "_________________________________________________________________\n",
            "Layer (type)                 Output Shape              Param #   \n",
            "=================================================================\n",
            "z_sampling (InputLayer)      (None, 32)                0         \n",
            "_________________________________________________________________\n",
            "dense_19 (Dense)             (None, 512)               16896     \n",
            "_________________________________________________________________\n",
            "dense_20 (Dense)             (None, 784)               402192    \n",
            "=================================================================\n",
            "Total params: 419,088\n",
            "Trainable params: 419,088\n",
            "Non-trainable params: 0\n",
            "_________________________________________________________________\n"
          ],
          "name": "stdout"
        }
      ]
    },
    {
      "cell_type": "code",
      "metadata": {
        "id": "wnjjzOqzPP4G",
        "colab_type": "code",
        "colab": {}
      },
      "source": [
        "# instantiate VAE model\n",
        "outputs = decoder(encoder(inputs)[2])\n",
        "vae = Model(inputs, outputs, name='vae_mlp')"
      ],
      "execution_count": 0,
      "outputs": []
    },
    {
      "cell_type": "code",
      "metadata": {
        "id": "5z96dN-XPXnA",
        "colab_type": "code",
        "colab": {
          "base_uri": "https://localhost:8080/",
          "height": 255
        },
        "outputId": "cffb1d12-e855-4d22-8dee-3d05bf99c688"
      },
      "source": [
        "reconstruction_loss = mse(inputs, outputs)\n",
        "reconstruction_loss *= original_dim\n",
        "kl_loss = 1 + z_log_var - K.square(z_mean) - K.exp(z_log_var)\n",
        "kl_loss = K.sum(kl_loss, axis=-1)\n",
        "kl_loss *= -0.5\n",
        "vae_loss = K.mean(reconstruction_loss + kl_loss)\n",
        "vae.add_loss(vae_loss)\n",
        "vae.compile(optimizer='adam')\n",
        "vae.summary()"
      ],
      "execution_count": 125,
      "outputs": [
        {
          "output_type": "stream",
          "text": [
            "Model: \"vae_mlp\"\n",
            "_________________________________________________________________\n",
            "Layer (type)                 Output Shape              Param #   \n",
            "=================================================================\n",
            "encoder_input (InputLayer)   (None, 784)               0         \n",
            "_________________________________________________________________\n",
            "encoder (Model)              [(None, 32), (None, 32),  434752    \n",
            "_________________________________________________________________\n",
            "decoder (Model)              (None, 784)               419088    \n",
            "=================================================================\n",
            "Total params: 853,840\n",
            "Trainable params: 853,840\n",
            "Non-trainable params: 0\n",
            "_________________________________________________________________\n"
          ],
          "name": "stdout"
        }
      ]
    },
    {
      "cell_type": "code",
      "metadata": {
        "id": "Egg7ZyHOPqq_",
        "colab_type": "code",
        "colab": {
          "base_uri": "https://localhost:8080/",
          "height": 1000
        },
        "outputId": "8fdae8f9-0fa9-4208-f035-9dd46d57ed9e"
      },
      "source": [
        "vae_hist = vae.fit(x_train_bkg,\n",
        "                   epochs=epochs,\n",
        "                   batch_size=batch_size,\n",
        "                   validation_data=(valid_x_train_bkg, None))"
      ],
      "execution_count": 126,
      "outputs": [
        {
          "output_type": "stream",
          "text": [
            "Train on 34255 samples, validate on 8564 samples\n",
            "Epoch 1/50\n",
            "34255/34255 [==============================] - 9s 271us/step - loss: 99.4711 - val_loss: 77.7269\n",
            "Epoch 2/50\n",
            "34255/34255 [==============================] - 8s 243us/step - loss: 72.8346 - val_loss: 69.4069\n",
            "Epoch 3/50\n",
            "34255/34255 [==============================] - 8s 240us/step - loss: 67.2153 - val_loss: 65.7725\n",
            "Epoch 4/50\n",
            "34255/34255 [==============================] - 8s 244us/step - loss: 64.4065 - val_loss: 63.6887\n",
            "Epoch 5/50\n",
            "34255/34255 [==============================] - 8s 239us/step - loss: 62.7188 - val_loss: 62.5786\n",
            "Epoch 6/50\n",
            "34255/34255 [==============================] - 8s 243us/step - loss: 61.6526 - val_loss: 61.2999\n",
            "Epoch 7/50\n",
            "34255/34255 [==============================] - 8s 243us/step - loss: 60.8542 - val_loss: 60.9211\n",
            "Epoch 8/50\n",
            "34255/34255 [==============================] - 8s 245us/step - loss: 60.2037 - val_loss: 60.1352\n",
            "Epoch 9/50\n",
            "34255/34255 [==============================] - 8s 245us/step - loss: 59.6981 - val_loss: 59.8061\n",
            "Epoch 10/50\n",
            "34255/34255 [==============================] - 8s 241us/step - loss: 59.3597 - val_loss: 59.4828\n",
            "Epoch 11/50\n",
            "34255/34255 [==============================] - 8s 241us/step - loss: 59.0038 - val_loss: 59.1349\n",
            "Epoch 12/50\n",
            "34255/34255 [==============================] - 8s 240us/step - loss: 58.6738 - val_loss: 58.9036\n",
            "Epoch 13/50\n",
            "34255/34255 [==============================] - 9s 253us/step - loss: 58.4740 - val_loss: 59.0004\n",
            "Epoch 14/50\n",
            "34255/34255 [==============================] - 8s 243us/step - loss: 58.2201 - val_loss: 58.6477\n",
            "Epoch 15/50\n",
            "34255/34255 [==============================] - 8s 239us/step - loss: 58.0383 - val_loss: 58.3430\n",
            "Epoch 16/50\n",
            "34255/34255 [==============================] - 8s 242us/step - loss: 57.8404 - val_loss: 58.1444\n",
            "Epoch 17/50\n",
            "34255/34255 [==============================] - 8s 242us/step - loss: 57.6270 - val_loss: 57.8574\n",
            "Epoch 18/50\n",
            "34255/34255 [==============================] - 8s 242us/step - loss: 57.4293 - val_loss: 57.8211\n",
            "Epoch 19/50\n",
            "34255/34255 [==============================] - 8s 240us/step - loss: 57.3431 - val_loss: 57.8816\n",
            "Epoch 20/50\n",
            "34255/34255 [==============================] - 8s 242us/step - loss: 57.1637 - val_loss: 57.5915\n",
            "Epoch 21/50\n",
            "34255/34255 [==============================] - 8s 244us/step - loss: 57.0556 - val_loss: 57.4331\n",
            "Epoch 22/50\n",
            "34255/34255 [==============================] - 8s 240us/step - loss: 56.9024 - val_loss: 57.2873\n",
            "Epoch 23/50\n",
            "34255/34255 [==============================] - 8s 241us/step - loss: 56.8151 - val_loss: 57.2568\n",
            "Epoch 24/50\n",
            "34255/34255 [==============================] - 8s 240us/step - loss: 56.7213 - val_loss: 56.8217\n",
            "Epoch 25/50\n",
            "34255/34255 [==============================] - 8s 238us/step - loss: 56.5618 - val_loss: 57.0391\n",
            "Epoch 26/50\n",
            "34255/34255 [==============================] - 8s 240us/step - loss: 56.4221 - val_loss: 56.9624\n",
            "Epoch 27/50\n",
            "34255/34255 [==============================] - 8s 243us/step - loss: 56.3340 - val_loss: 56.7288\n",
            "Epoch 28/50\n",
            "34255/34255 [==============================] - 8s 242us/step - loss: 56.2690 - val_loss: 56.7210\n",
            "Epoch 29/50\n",
            "34255/34255 [==============================] - 8s 240us/step - loss: 56.1854 - val_loss: 56.5376\n",
            "Epoch 30/50\n",
            "34255/34255 [==============================] - 8s 239us/step - loss: 56.0730 - val_loss: 56.4571\n",
            "Epoch 31/50\n",
            "34255/34255 [==============================] - 8s 241us/step - loss: 55.9160 - val_loss: 56.4570\n",
            "Epoch 32/50\n",
            "34255/34255 [==============================] - 8s 241us/step - loss: 55.8570 - val_loss: 56.4254\n",
            "Epoch 33/50\n",
            "34255/34255 [==============================] - 8s 243us/step - loss: 55.7746 - val_loss: 56.2521\n",
            "Epoch 34/50\n",
            "34255/34255 [==============================] - 8s 241us/step - loss: 55.7149 - val_loss: 56.2848\n",
            "Epoch 35/50\n",
            "34255/34255 [==============================] - 8s 243us/step - loss: 55.6334 - val_loss: 56.1913\n",
            "Epoch 36/50\n",
            "34255/34255 [==============================] - 8s 243us/step - loss: 55.5013 - val_loss: 56.1605\n",
            "Epoch 37/50\n",
            "34255/34255 [==============================] - 8s 238us/step - loss: 55.4608 - val_loss: 55.9511\n",
            "Epoch 38/50\n",
            "34255/34255 [==============================] - 8s 239us/step - loss: 55.4464 - val_loss: 55.9456\n",
            "Epoch 39/50\n",
            "34255/34255 [==============================] - 8s 241us/step - loss: 55.3507 - val_loss: 55.9045\n",
            "Epoch 40/50\n",
            "34255/34255 [==============================] - 8s 241us/step - loss: 55.3027 - val_loss: 56.1027\n",
            "Epoch 41/50\n",
            "34255/34255 [==============================] - 8s 240us/step - loss: 55.2096 - val_loss: 55.8273\n",
            "Epoch 42/50\n",
            "34255/34255 [==============================] - 8s 243us/step - loss: 55.0968 - val_loss: 55.6526\n",
            "Epoch 43/50\n",
            "34255/34255 [==============================] - 8s 240us/step - loss: 55.0613 - val_loss: 55.6891\n",
            "Epoch 44/50\n",
            "34255/34255 [==============================] - 8s 240us/step - loss: 54.9778 - val_loss: 55.6598\n",
            "Epoch 45/50\n",
            "34255/34255 [==============================] - 8s 243us/step - loss: 54.9781 - val_loss: 55.6158\n",
            "Epoch 46/50\n",
            "34255/34255 [==============================] - 8s 246us/step - loss: 54.8805 - val_loss: 55.6020\n",
            "Epoch 47/50\n",
            "34255/34255 [==============================] - 8s 242us/step - loss: 54.8743 - val_loss: 55.4798\n",
            "Epoch 48/50\n",
            "34255/34255 [==============================] - 8s 239us/step - loss: 54.7335 - val_loss: 55.6332\n",
            "Epoch 49/50\n",
            "34255/34255 [==============================] - 8s 245us/step - loss: 54.7253 - val_loss: 55.4874\n",
            "Epoch 50/50\n",
            "34255/34255 [==============================] - 9s 249us/step - loss: 54.7493 - val_loss: 55.3707\n"
          ],
          "name": "stdout"
        }
      ]
    },
    {
      "cell_type": "code",
      "metadata": {
        "id": "vPjiBJzqS-gt",
        "colab_type": "code",
        "colab": {
          "base_uri": "https://localhost:8080/",
          "height": 281
        },
        "outputId": "7328694c-847e-4634-f9f2-60959807b06d"
      },
      "source": [
        "loss = vae_hist.history['loss']\n",
        "val_loss = vae_hist.history['val_loss']\n",
        "epochs = range(50)\n",
        "plt.figure()\n",
        "plt.plot(epochs, loss, 'bo', label='Training loss')\n",
        "plt.plot(epochs, val_loss, 'b', label='Validation loss')\n",
        "plt.title('Training and validation loss')\n",
        "plt.legend()\n",
        "plt.show()"
      ],
      "execution_count": 127,
      "outputs": [
        {
          "output_type": "display_data",
          "data": {
            "image/png": "[encoded data removed]",
            "text/plain": [
              "<Figure size 432x288 with 1 Axes>"
            ]
          },
          "metadata": {
            "tags": []
          }
        }
      ]
    },
    {
      "cell_type": "code",
      "metadata": {
        "id": "wEJ1eIDBmEf9",
        "colab_type": "code",
        "colab": {}
      },
      "source": [
        "truth = np.zeros(len(y_test))"
      ],
      "execution_count": 0,
      "outputs": []
    },
    {
      "cell_type": "code",
      "metadata": {
        "id": "STaCD-oVmLEn",
        "colab_type": "code",
        "colab": {}
      },
      "source": [
        "truth[np.where((y_test==4)|(y_test==5)|(y_test==6))]= 1"
      ],
      "execution_count": 0,
      "outputs": []
    },
    {
      "cell_type": "code",
      "metadata": {
        "id": "DWt3NyBamRJh",
        "colab_type": "code",
        "colab": {}
      },
      "source": [
        "predict_nums=vae.predict(x_test)"
      ],
      "execution_count": 0,
      "outputs": []
    },
    {
      "cell_type": "code",
      "metadata": {
        "id": "3CZI4Ibrmi6c",
        "colab_type": "code",
        "colab": {
          "base_uri": "https://localhost:8080/",
          "height": 34
        },
        "outputId": "9a4618e9-679d-4f2f-acea-cbf428af16f1"
      },
      "source": [
        "predict_nums.shape"
      ],
      "execution_count": 131,
      "outputs": [
        {
          "output_type": "execute_result",
          "data": {
            "text/plain": [
              "(10000, 784)"
            ]
          },
          "metadata": {
            "tags": []
          },
          "execution_count": 131
        }
      ]
    },
    {
      "cell_type": "code",
      "metadata": {
        "id": "0FEg_d1xmp77",
        "colab_type": "code",
        "colab": {}
      },
      "source": [
        "predict_loss_mse = np.mean(np.power(x_test - predict_nums, 2), axis =1)"
      ],
      "execution_count": 0,
      "outputs": []
    },
    {
      "cell_type": "code",
      "metadata": {
        "id": "ADSlsR8dm56r",
        "colab_type": "code",
        "colab": {
          "base_uri": "https://localhost:8080/",
          "height": 279
        },
        "outputId": "4b019be5-9cee-4bed-c6a5-a8a155bf8efe"
      },
      "source": [
        "l_rec_0=[]\n",
        "l_rec_1=[]\n",
        "\n",
        "for i in range(10000):\n",
        "    if truth[i]==0:\n",
        "        l_rec_0.append(predict_loss_mse[i])\n",
        "    else:\n",
        "        l_rec_1.append(predict_loss_mse[i])\n",
        "\n",
        "l_rec_0=np.array(l_rec_0)\n",
        "l_rec_1=np.array(l_rec_1)\n",
        "plt.hist(l_rec_0, histtype=\"step\", label='Bkg', density=True)\n",
        "plt.hist(l_rec_1, histtype='step', label='4,5,6', density=True)\n",
        "plt.legend(loc='best')\n",
        "#plt.title('FCN AutoEncoder ($D_{in}$=80, $D_{hidden}$=6)')\n",
        "plt.xlabel('$mse$')\n",
        "plt.show()"
      ],
      "execution_count": 133,
      "outputs": [
        {
          "output_type": "display_data",
          "data": {
            "image/png": "[encoded data removed]",
            "text/plain": [
              "<Figure size 432x288 with 1 Axes>"
            ]
          },
          "metadata": {
            "tags": []
          }
        }
      ]
    },
    {
      "cell_type": "code",
      "metadata": {
        "id": "pdgazZJ9nDjZ",
        "colab_type": "code",
        "colab": {
          "base_uri": "https://localhost:8080/",
          "height": 365
        },
        "outputId": "fa2bf5ad-833e-4c6d-f317-93172beaa6d3"
      },
      "source": [
        "from sklearn.metrics import roc_curve\n",
        "from sklearn.metrics import roc_auc_score\n",
        "\n",
        "fpr, tpr, thrs = roc_curve(truth, predict_loss_mse)\n",
        "print(\"roc_auc =\", roc_auc_score(truth, predict_loss_mse))\n",
        "#plt.plot(fpr, tpr, label=\"%s\" % filename)\n",
        "plt.plot(tpr, 1. / fpr, label=\"\")\n",
        "\n",
        "plt.xlim(0.1, 1.0)\n",
        "plt.ylim(1, 500)\n",
        "plt.yscale(\"log\")\n",
        "plt.title('AutoEncoder')\n",
        "plt.grid()\n",
        "plt.xlabel(\"$\\epsilon_S$\")\n",
        "plt.ylabel(\"$1/\\epsilon_B$\")\n",
        "plt.legend(loc=\"best\")\n",
        "plt.show()"
      ],
      "execution_count": 134,
      "outputs": [
        {
          "output_type": "stream",
          "text": [
            "/usr/local/lib/python3.6/dist-packages/ipykernel_launcher.py:7: RuntimeWarning: divide by zero encountered in true_divide\n",
            "  import sys\n",
            "No handles with labels found to put in legend.\n"
          ],
          "name": "stderr"
        },
        {
          "output_type": "stream",
          "text": [
            "roc_auc = 0.926776876749773\n"
          ],
          "name": "stdout"
        },
        {
          "output_type": "display_data",
          "data": {
            "image/png": "[encoded data removed]",
            "text/plain": [
              "<Figure size 432x288 with 1 Axes>"
            ]
          },
          "metadata": {
            "tags": []
          }
        }
      ]
    },
    {
      "cell_type": "code",
      "metadata": {
        "id": "mUqVa0FtpbA4",
        "colab_type": "code",
        "colab": {
          "base_uri": "https://localhost:8080/",
          "height": 34
        },
        "outputId": "5d634290-5aad-4fbd-ed82-7a77ce0499ac"
      },
      "source": [
        "encoder_z = "
      ],
      "execution_count": 96,
      "outputs": [
        {
          "output_type": "execute_result",
          "data": {
            "text/plain": [
              "<keras.engine.training.Model at 0x7f2314503d30>"
            ]
          },
          "metadata": {
            "tags": []
          },
          "execution_count": 96
        }
      ]
    },
    {
      "cell_type": "code",
      "metadata": {
        "id": "E8xzrmuanmhk",
        "colab_type": "code",
        "colab": {}
      },
      "source": [
        "# Dataset at the encoded layer\n",
        "encoded_test = encoder_z.predict(x_test)\n",
        "encoded_train_bkg = encoder_z.predict(x_train_bkg)"
      ],
      "execution_count": 0,
      "outputs": []
    },
    {
      "cell_type": "code",
      "metadata": {
        "id": "F0ZMPhE2oWsI",
        "colab_type": "code",
        "colab": {}
      },
      "source": [
        "encoded_test = np.array(encoded_test)\n",
        "encoded_train_bkg = np.array(encoded_train_bkg)"
      ],
      "execution_count": 0,
      "outputs": []
    },
    {
      "cell_type": "code",
      "metadata": {
        "id": "EX1kqDQhotr2",
        "colab_type": "code",
        "colab": {
          "base_uri": "https://localhost:8080/",
          "height": 34
        },
        "outputId": "8d1a9f57-5deb-454b-f41b-597239361537"
      },
      "source": [
        "encoded_train_bkg.shape"
      ],
      "execution_count": 137,
      "outputs": [
        {
          "output_type": "execute_result",
          "data": {
            "text/plain": [
              "(34255, 32)"
            ]
          },
          "metadata": {
            "tags": []
          },
          "execution_count": 137
        }
      ]
    },
    {
      "cell_type": "code",
      "metadata": {
        "id": "77bOmx6Oniua",
        "colab_type": "code",
        "colab": {}
      },
      "source": [
        "hash_size = 20\n",
        "sample_size, vec_size = encoded_train_bkg.shape\n",
        "projections = np.random.randn(hash_size, vec_size)"
      ],
      "execution_count": 0,
      "outputs": []
    },
    {
      "cell_type": "code",
      "metadata": {
        "id": "5r18tMWHuknV",
        "colab_type": "code",
        "colab": {}
      },
      "source": [
        "hashed_encoded = list()"
      ],
      "execution_count": 0,
      "outputs": []
    },
    {
      "cell_type": "code",
      "metadata": {
        "id": "N-oakYB_uzAn",
        "colab_type": "code",
        "colab": {}
      },
      "source": [
        "for i in range(sample_size):\n",
        "  bools = ''\n",
        "  for j in range(hash_size):\n",
        "    bool = (np.dot(encoded_train_bkg[i], projections[j].T) > 0).astype('int')\n",
        "    #print(bool)\n",
        "    bools += str(bool)\n",
        "    #print(bools)\n",
        "  hashed_encoded.append(bools)"
      ],
      "execution_count": 0,
      "outputs": []
    },
    {
      "cell_type": "code",
      "metadata": {
        "id": "dgvN8Mp3u5BT",
        "colab_type": "code",
        "colab": {
          "base_uri": "https://localhost:8080/",
          "height": 34
        },
        "outputId": "61d03464-1e45-44d3-942d-021b04a00e4e"
      },
      "source": [
        "len(hashed_encoded)"
      ],
      "execution_count": 141,
      "outputs": [
        {
          "output_type": "execute_result",
          "data": {
            "text/plain": [
              "34255"
            ]
          },
          "metadata": {
            "tags": []
          },
          "execution_count": 141
        }
      ]
    },
    {
      "cell_type": "code",
      "metadata": {
        "id": "sF1YHHm7u-6t",
        "colab_type": "code",
        "colab": {}
      },
      "source": [
        "def getDuplicatesWithInfo(hashed_encoded):\n",
        "    ''' Get duplicate element in a list along with thier indices in list\n",
        "     and frequency count'''\n",
        "    dictOfElems = dict()\n",
        "    index = 0\n",
        "    # Iterate over each element in list and keep track of index\n",
        "    for elem in hashed_encoded:\n",
        "        # If element exists in dict then keep its index in lisr & increment its frequency\n",
        "        if elem in dictOfElems:\n",
        "            dictOfElems[elem][0] += 1\n",
        "            dictOfElems[elem][1].append(index)\n",
        "        else:\n",
        "            # Add a new entry in dictionary \n",
        "            dictOfElems[elem] = [1, [index]]\n",
        "        index += 1    \n",
        " \n",
        "    dictOfElems = { key:value for key, value in dictOfElems.items() }\n",
        "    return dictOfElems"
      ],
      "execution_count": 0,
      "outputs": []
    },
    {
      "cell_type": "code",
      "metadata": {
        "id": "d2_W_P37vNL6",
        "colab_type": "code",
        "colab": {}
      },
      "source": [
        "dictOfElems = getDuplicatesWithInfo(hashed_encoded)\n",
        "listHash = list()\n",
        "for key, value in dictOfElems.items():\n",
        "  listHash.append(key)"
      ],
      "execution_count": 0,
      "outputs": []
    },
    {
      "cell_type": "code",
      "metadata": {
        "id": "LDPSj2_evSDa",
        "colab_type": "code",
        "colab": {}
      },
      "source": [
        "\n",
        "listHash = np.array(listHash)"
      ],
      "execution_count": 0,
      "outputs": []
    },
    {
      "cell_type": "code",
      "metadata": {
        "id": "zvbE1Ce8vWVm",
        "colab_type": "code",
        "colab": {}
      },
      "source": [
        "tableSize= len(listHash)"
      ],
      "execution_count": 0,
      "outputs": []
    },
    {
      "cell_type": "code",
      "metadata": {
        "id": "n-KjKnoNvcli",
        "colab_type": "code",
        "colab": {}
      },
      "source": [
        "sample_size, vec_size = encoded_test.shape"
      ],
      "execution_count": 0,
      "outputs": []
    },
    {
      "cell_type": "code",
      "metadata": {
        "id": "amINXvkTvhDb",
        "colab_type": "code",
        "colab": {}
      },
      "source": [
        "\n",
        "hash_truth = list()"
      ],
      "execution_count": 0,
      "outputs": []
    },
    {
      "cell_type": "code",
      "metadata": {
        "id": "Y8iYilnJvlpB",
        "colab_type": "code",
        "colab": {
          "base_uri": "https://localhost:8080/",
          "height": 34
        },
        "outputId": "3e4ddf75-20ad-42f1-cc61-78a3312d745e"
      },
      "source": [
        "count = 0\n",
        "for i in range(sample_size):\n",
        "  bools = ''\n",
        "  a = 1\n",
        "  for j in range(hash_size):\n",
        "    bool = (np.dot(encoded_test[i], projections[j].T) > 0).astype('int')\n",
        "    #print(bool)\n",
        "    bools += str(bool)\n",
        "  #print(bools)\n",
        "  for k in range(tableSize):\n",
        "    #print(\"bools: \",bools)\n",
        "    #print(\"listHash: \", listHash[k])\n",
        "    if bools == listHash[k]:\n",
        "      #print(\"listHash: \", listHash[k])\n",
        "      a=0\n",
        "      #print(a)\n",
        "      break\n",
        "  #count = 0\n",
        "  if(a==1):\n",
        "    count+=1\n",
        "    #print(a)\n",
        "  #print(count)\n",
        "  hash_truth.append(a)\n",
        "print(count)"
      ],
      "execution_count": 148,
      "outputs": [
        {
          "output_type": "stream",
          "text": [
            "8292\n"
          ],
          "name": "stdout"
        }
      ]
    },
    {
      "cell_type": "code",
      "metadata": {
        "id": "PLLwp4_vwIkC",
        "colab_type": "code",
        "colab": {
          "base_uri": "https://localhost:8080/",
          "height": 279
        },
        "outputId": "14d49445-1f48-46e8-ab4a-158baa8b8039"
      },
      "source": [
        "l_rec_0=[]\n",
        "l_rec_1=[]\n",
        "\n",
        "for i in range(10000):\n",
        "    if hash_truth[i]==0:\n",
        "        l_rec_0.append(predict_loss_mse[i])\n",
        "    else:\n",
        "        l_rec_1.append(predict_loss_mse[i])\n",
        "\n",
        "l_rec_0=np.array(l_rec_0)\n",
        "l_rec_1=np.array(l_rec_1)\n",
        "plt.hist(l_rec_0, histtype=\"step\", label='Bkg',density=True)\n",
        "plt.hist(l_rec_1, histtype='step', label='4,5,6',density=True)\n",
        "plt.legend(loc='best')\n",
        "plt.xlabel('MSE')\n",
        "plt.show()\n"
      ],
      "execution_count": 149,
      "outputs": [
        {
          "output_type": "display_data",
          "data": {
            "image/png": "[encoded data removed]",
            "text/plain": [
              "<Figure size 432x288 with 1 Axes>"
            ]
          },
          "metadata": {
            "tags": []
          }
        }
      ]
    },
    {
      "cell_type": "code",
      "metadata": {
        "id": "z1u1VhLDwU6q",
        "colab_type": "code",
        "colab": {
          "base_uri": "https://localhost:8080/",
          "height": 365
        },
        "outputId": "9c64a3b5-9597-42d0-ef42-c65e8b80c000"
      },
      "source": [
        "\n",
        "from sklearn.metrics import roc_curve\n",
        "from sklearn.metrics import roc_auc_score\n",
        "\n",
        "fpr, tpr, thrs = roc_curve(hash_truth, predict_loss_mse)\n",
        "print(\"roc_auc =\", roc_auc_score(hash_truth, predict_loss_mse))\n",
        "#plt.plot(fpr, tpr, label=\"%s\" % filename)\n",
        "plt.plot(tpr, 1. / fpr, label=\"\")\n",
        "\n",
        "plt.xlim(0.1, 1.0)\n",
        "plt.ylim(1, 500)\n",
        "plt.yscale(\"log\")\n",
        "plt.title('AutoEncoder')\n",
        "plt.grid()\n",
        "plt.xlabel(\"$\\epsilon_S$\")\n",
        "plt.ylabel(\"$1/\\epsilon_B$\")\n",
        "plt.legend(loc=\"best\")\n",
        "plt.show()"
      ],
      "execution_count": 150,
      "outputs": [
        {
          "output_type": "stream",
          "text": [
            "/usr/local/lib/python3.6/dist-packages/ipykernel_launcher.py:8: RuntimeWarning: divide by zero encountered in true_divide\n",
            "  \n",
            "No handles with labels found to put in legend.\n"
          ],
          "name": "stderr"
        },
        {
          "output_type": "stream",
          "text": [
            "roc_auc = 0.5082529251410179\n"
          ],
          "name": "stdout"
        },
        {
          "output_type": "display_data",
          "data": {
            "image/png": "[encoded data removed]",
            "text/plain": [
              "<Figure size 432x288 with 1 Axes>"
            ]
          },
          "metadata": {
            "tags": []
          }
        }
      ]
    }
  ]
}