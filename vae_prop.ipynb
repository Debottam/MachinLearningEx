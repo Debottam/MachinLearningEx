{
  "nbformat": 4,
  "nbformat_minor": 0,
  "metadata": {
    "colab": {
      "name": "Untitled6.ipynb",
      "provenance": [],
      "authorship_tag": "ABX9TyN2suLV6omwV26jPmeRl5Ue",
      "include_colab_link": true
    },
    "kernelspec": {
      "name": "python3",
      "display_name": "Python 3"
    }
  },
  "cells": [
    {
      "cell_type": "markdown",
      "metadata": {
        "id": "view-in-github",
        "colab_type": "text"
      },
      "source": [
        "<a href=\"https://colab.research.google.com/github/Debottam/MachinLearningEx/blob/master/vae_prop.ipynb\" target=\"_parent\"><img src=\"https://colab.research.google.com/assets/colab-badge.svg\" alt=\"Open In Colab\"/></a>"
      ]
    },
    {
      "cell_type": "code",
      "metadata": {
        "id": "xIVmo0BKN39s",
        "colab_type": "code",
        "colab": {}
      },
      "source": [
        "from __future__ import absolute_import\n",
        "from __future__ import division\n",
        "from __future__ import print_function\n",
        "\n",
        "from keras.layers import Lambda, Input, Dense\n",
        "from keras.models import Model\n",
        "from keras.datasets import mnist\n",
        "from keras.losses import mse, binary_crossentropy\n",
        "from keras.utils import plot_model\n",
        "from keras import backend as K\n",
        "\n",
        "import numpy as np\n",
        "import matplotlib.pyplot as plt\n",
        "import argparse\n",
        "import os"
      ],
      "execution_count": 0,
      "outputs": []
    },
    {
      "cell_type": "code",
      "metadata": {
        "id": "mTaDJ_SNOWtz",
        "colab_type": "code",
        "colab": {}
      },
      "source": [
        "# reparameterization trick\n",
        "# instead of sampling from Q(z|X), sample epsilon = N(0,I)\n",
        "# z = z_mean + sqrt(var) * epsilon\n",
        "def sampling(args):\n",
        "    \"\"\"Reparameterization trick by sampling from an isotropic unit Gaussian.\n",
        "    # Arguments\n",
        "        args (tensor): mean and log of variance of Q(z|X)\n",
        "    # Returns\n",
        "        z (tensor): sampled latent vector\n",
        "    \"\"\"\n",
        "\n",
        "    z_mean, z_log_var = args\n",
        "    batch = K.shape(z_mean)[0]\n",
        "    dim = K.int_shape(z_mean)[1]\n",
        "    # by default, random_normal has mean = 0 and std = 1.0\n",
        "    epsilon = K.random_normal(shape=(batch, dim))\n",
        "    return z_mean + K.exp(0.5 * z_log_var) * epsilon\n"
      ],
      "execution_count": 0,
      "outputs": []
    },
    {
      "cell_type": "code",
      "metadata": {
        "id": "DffgWZNgOexu",
        "colab_type": "code",
        "colab": {}
      },
      "source": [
        "# MNIST dataset\n",
        "(x_train, y_train), (x_test, y_test) = mnist.load_data()\n",
        "\n",
        "image_size = x_train.shape[1]\n",
        "original_dim = image_size * image_size\n",
        "x_train = np.reshape(x_train, [-1, original_dim])\n",
        "x_test = np.reshape(x_test, [-1, original_dim])\n",
        "x_train = x_train.astype('float32') / 255\n",
        "x_test = x_test.astype('float32') / 255"
      ],
      "execution_count": 0,
      "outputs": []
    },
    {
      "cell_type": "code",
      "metadata": {
        "id": "sf7lO0lwhYsh",
        "colab_type": "code",
        "colab": {}
      },
      "source": [
        "x_train_bkg = x_train[np.where((y_train!=4)&(y_train!=5)&(y_train!=6))]"
      ],
      "execution_count": 0,
      "outputs": []
    },
    {
      "cell_type": "code",
      "metadata": {
        "id": "5ZLm8n_phd1O",
        "colab_type": "code",
        "colab": {
          "base_uri": "https://localhost:8080/",
          "height": 34
        },
        "outputId": "7177a6cb-89c2-47a9-f522-175ca039aa1e"
      },
      "source": [
        "x_train_bkg.shape"
      ],
      "execution_count": 55,
      "outputs": [
        {
          "output_type": "execute_result",
          "data": {
            "text/plain": [
              "(42819, 784)"
            ]
          },
          "metadata": {
            "tags": []
          },
          "execution_count": 55
        }
      ]
    },
    {
      "cell_type": "code",
      "metadata": {
        "id": "GMwpsUhAeOhC",
        "colab_type": "code",
        "colab": {}
      },
      "source": [
        "from sklearn.model_selection import train_test_split\n",
        "x_train_bkg,valid_x_train_bkg = train_test_split(x_train_bkg,\n",
        "                                         test_size=0.2, \n",
        "                                         random_state=13)"
      ],
      "execution_count": 0,
      "outputs": []
    },
    {
      "cell_type": "code",
      "metadata": {
        "id": "11brK47lOhV_",
        "colab_type": "code",
        "colab": {}
      },
      "source": [
        "# network parameters\n",
        "input_shape = (original_dim, )\n",
        "intermediate_dim = 512\n",
        "batch_size = 128\n",
        "latent_dim = 2\n",
        "epochs = 50"
      ],
      "execution_count": 0,
      "outputs": []
    },
    {
      "cell_type": "code",
      "metadata": {
        "id": "Jy09WlMUOriw",
        "colab_type": "code",
        "colab": {}
      },
      "source": [
        "# VAE model = encoder + decoder\n",
        "# build encoder model\n",
        "inputs = Input(shape=input_shape, name='encoder_input')\n",
        "x = Dense(intermediate_dim, activation='relu')(inputs)\n",
        "z_mean = Dense(latent_dim, name='z_mean')(x)\n",
        "z_log_var = Dense(latent_dim, name='z_log_var')(x)\n",
        "\n",
        "# use reparameterization trick to push the sampling out as input\n",
        "# note that \"output_shape\" isn't necessary with the TensorFlow backend\n",
        "z = Lambda(sampling, output_shape=(latent_dim,), name='z')([z_mean, z_log_var])"
      ],
      "execution_count": 0,
      "outputs": []
    },
    {
      "cell_type": "code",
      "metadata": {
        "id": "ntnxtBgtOwmW",
        "colab_type": "code",
        "colab": {
          "base_uri": "https://localhost:8080/",
          "height": 340
        },
        "outputId": "3279aded-e6bd-4f16-df16-fe07dcaa4529"
      },
      "source": [
        "# instantiate encoder model\n",
        "encoder = Model(inputs, [z_mean, z_log_var, z], name='encoder')\n",
        "encoder.summary()"
      ],
      "execution_count": 59,
      "outputs": [
        {
          "output_type": "stream",
          "text": [
            "Model: \"encoder\"\n",
            "__________________________________________________________________________________________________\n",
            "Layer (type)                    Output Shape         Param #     Connected to                     \n",
            "==================================================================================================\n",
            "encoder_input (InputLayer)      (None, 784)          0                                            \n",
            "__________________________________________________________________________________________________\n",
            "dense_11 (Dense)                (None, 512)          401920      encoder_input[0][0]              \n",
            "__________________________________________________________________________________________________\n",
            "z_mean (Dense)                  (None, 2)            1026        dense_11[0][0]                   \n",
            "__________________________________________________________________________________________________\n",
            "z_log_var (Dense)               (None, 2)            1026        dense_11[0][0]                   \n",
            "__________________________________________________________________________________________________\n",
            "z (Lambda)                      (None, 2)            0           z_mean[0][0]                     \n",
            "                                                                 z_log_var[0][0]                  \n",
            "==================================================================================================\n",
            "Total params: 403,972\n",
            "Trainable params: 403,972\n",
            "Non-trainable params: 0\n",
            "__________________________________________________________________________________________________\n"
          ],
          "name": "stdout"
        }
      ]
    },
    {
      "cell_type": "code",
      "metadata": {
        "id": "7uf64zB3O6Pj",
        "colab_type": "code",
        "colab": {}
      },
      "source": [
        "# build decoder model\n",
        "latent_inputs = Input(shape=(latent_dim,), name='z_sampling')\n",
        "x = Dense(intermediate_dim, activation='relu')(latent_inputs)\n",
        "outputs = Dense(original_dim, activation='sigmoid')(x)"
      ],
      "execution_count": 0,
      "outputs": []
    },
    {
      "cell_type": "code",
      "metadata": {
        "id": "AzGleb7-PGig",
        "colab_type": "code",
        "colab": {
          "base_uri": "https://localhost:8080/",
          "height": 255
        },
        "outputId": "fbade83c-118f-4f9b-97ef-c9ad77aab152"
      },
      "source": [
        "# instantiate decoder model\n",
        "decoder = Model(latent_inputs, outputs, name='decoder')\n",
        "decoder.summary()"
      ],
      "execution_count": 61,
      "outputs": [
        {
          "output_type": "stream",
          "text": [
            "Model: \"decoder\"\n",
            "_________________________________________________________________\n",
            "Layer (type)                 Output Shape              Param #   \n",
            "=================================================================\n",
            "z_sampling (InputLayer)      (None, 2)                 0         \n",
            "_________________________________________________________________\n",
            "dense_12 (Dense)             (None, 512)               1536      \n",
            "_________________________________________________________________\n",
            "dense_13 (Dense)             (None, 784)               402192    \n",
            "=================================================================\n",
            "Total params: 403,728\n",
            "Trainable params: 403,728\n",
            "Non-trainable params: 0\n",
            "_________________________________________________________________\n"
          ],
          "name": "stdout"
        }
      ]
    },
    {
      "cell_type": "code",
      "metadata": {
        "id": "wnjjzOqzPP4G",
        "colab_type": "code",
        "colab": {}
      },
      "source": [
        "# instantiate VAE model\n",
        "outputs = decoder(encoder(inputs)[2])\n",
        "vae = Model(inputs, outputs, name='vae_mlp')"
      ],
      "execution_count": 0,
      "outputs": []
    },
    {
      "cell_type": "code",
      "metadata": {
        "id": "5z96dN-XPXnA",
        "colab_type": "code",
        "colab": {
          "base_uri": "https://localhost:8080/",
          "height": 255
        },
        "outputId": "c09687ed-08c1-4c99-a78a-1930a9da898e"
      },
      "source": [
        "reconstruction_loss = mse(inputs, outputs)\n",
        "reconstruction_loss *= original_dim\n",
        "kl_loss = 1 + z_log_var - K.square(z_mean) - K.exp(z_log_var)\n",
        "kl_loss = K.sum(kl_loss, axis=-1)\n",
        "kl_loss *= -0.5\n",
        "vae_loss = K.mean(reconstruction_loss + kl_loss)\n",
        "vae.add_loss(vae_loss)\n",
        "vae.compile(optimizer='adam')\n",
        "vae.summary()"
      ],
      "execution_count": 63,
      "outputs": [
        {
          "output_type": "stream",
          "text": [
            "Model: \"vae_mlp\"\n",
            "_________________________________________________________________\n",
            "Layer (type)                 Output Shape              Param #   \n",
            "=================================================================\n",
            "encoder_input (InputLayer)   (None, 784)               0         \n",
            "_________________________________________________________________\n",
            "encoder (Model)              [(None, 2), (None, 2), (N 403972    \n",
            "_________________________________________________________________\n",
            "decoder (Model)              (None, 784)               403728    \n",
            "=================================================================\n",
            "Total params: 807,700\n",
            "Trainable params: 807,700\n",
            "Non-trainable params: 0\n",
            "_________________________________________________________________\n"
          ],
          "name": "stdout"
        }
      ]
    },
    {
      "cell_type": "code",
      "metadata": {
        "id": "Egg7ZyHOPqq_",
        "colab_type": "code",
        "colab": {
          "base_uri": "https://localhost:8080/",
          "height": 1000
        },
        "outputId": "201d2401-088a-477a-8c9e-2f3bc0bb1973"
      },
      "source": [
        "vae_hist = vae.fit(x_train_bkg,\n",
        "                   epochs=epochs,\n",
        "                   batch_size=batch_size,\n",
        "                   validation_data=(valid_x_train_bkg, None))"
      ],
      "execution_count": 64,
      "outputs": [
        {
          "output_type": "stream",
          "text": [
            "Train on 34255 samples, validate on 8564 samples\n",
            "Epoch 1/50\n",
            "34255/34255 [==============================] - 8s 246us/step - loss: 54.9532 - val_loss: 43.6277\n",
            "Epoch 2/50\n",
            "34255/34255 [==============================] - 8s 225us/step - loss: 42.0825 - val_loss: 41.4047\n",
            "Epoch 3/50\n",
            "34255/34255 [==============================] - 8s 227us/step - loss: 40.8411 - val_loss: 40.5878\n",
            "Epoch 4/50\n",
            "34255/34255 [==============================] - 8s 225us/step - loss: 40.1002 - val_loss: 39.8223\n",
            "Epoch 5/50\n",
            "34255/34255 [==============================] - 8s 227us/step - loss: 39.4844 - val_loss: 39.3035\n",
            "Epoch 6/50\n",
            "34255/34255 [==============================] - 8s 224us/step - loss: 38.9849 - val_loss: 38.8921\n",
            "Epoch 7/50\n",
            "34255/34255 [==============================] - 8s 227us/step - loss: 38.5747 - val_loss: 38.4649\n",
            "Epoch 8/50\n",
            "34255/34255 [==============================] - 8s 227us/step - loss: 38.2579 - val_loss: 38.2242\n",
            "Epoch 9/50\n",
            "34255/34255 [==============================] - 8s 226us/step - loss: 37.9770 - val_loss: 37.8886\n",
            "Epoch 10/50\n",
            "34255/34255 [==============================] - 8s 226us/step - loss: 37.7167 - val_loss: 37.7802\n",
            "Epoch 11/50\n",
            "34255/34255 [==============================] - 8s 224us/step - loss: 37.5158 - val_loss: 37.5518\n",
            "Epoch 12/50\n",
            "34255/34255 [==============================] - 8s 225us/step - loss: 37.3090 - val_loss: 37.3701\n",
            "Epoch 13/50\n",
            "34255/34255 [==============================] - 8s 226us/step - loss: 37.1388 - val_loss: 37.2608\n",
            "Epoch 14/50\n",
            "34255/34255 [==============================] - 8s 223us/step - loss: 36.9639 - val_loss: 37.1340\n",
            "Epoch 15/50\n",
            "34255/34255 [==============================] - 8s 227us/step - loss: 36.8251 - val_loss: 37.0115\n",
            "Epoch 16/50\n",
            "34255/34255 [==============================] - 8s 240us/step - loss: 36.6861 - val_loss: 36.8991\n",
            "Epoch 17/50\n",
            "34255/34255 [==============================] - 8s 232us/step - loss: 36.5610 - val_loss: 36.7747\n",
            "Epoch 18/50\n",
            "34255/34255 [==============================] - 8s 226us/step - loss: 36.4410 - val_loss: 36.6623\n",
            "Epoch 19/50\n",
            "34255/34255 [==============================] - 8s 225us/step - loss: 36.3440 - val_loss: 36.6229\n",
            "Epoch 20/50\n",
            "34255/34255 [==============================] - 8s 224us/step - loss: 36.2773 - val_loss: 36.5333\n",
            "Epoch 21/50\n",
            "34255/34255 [==============================] - 8s 225us/step - loss: 36.1917 - val_loss: 36.4920\n",
            "Epoch 22/50\n",
            "34255/34255 [==============================] - 8s 226us/step - loss: 36.0891 - val_loss: 36.4263\n",
            "Epoch 23/50\n",
            "34255/34255 [==============================] - 8s 226us/step - loss: 35.9761 - val_loss: 36.3553\n",
            "Epoch 24/50\n",
            "34255/34255 [==============================] - 8s 225us/step - loss: 35.9310 - val_loss: 36.2806\n",
            "Epoch 25/50\n",
            "34255/34255 [==============================] - 8s 225us/step - loss: 35.8433 - val_loss: 36.2818\n",
            "Epoch 26/50\n",
            "34255/34255 [==============================] - 8s 224us/step - loss: 35.7649 - val_loss: 36.2188\n",
            "Epoch 27/50\n",
            "34255/34255 [==============================] - 8s 226us/step - loss: 35.7088 - val_loss: 36.2361\n",
            "Epoch 28/50\n",
            "34255/34255 [==============================] - 8s 225us/step - loss: 35.6657 - val_loss: 36.1105\n",
            "Epoch 29/50\n",
            "34255/34255 [==============================] - 8s 223us/step - loss: 35.5944 - val_loss: 36.0554\n",
            "Epoch 30/50\n",
            "34255/34255 [==============================] - 8s 224us/step - loss: 35.5647 - val_loss: 36.0238\n",
            "Epoch 31/50\n",
            "34255/34255 [==============================] - 8s 226us/step - loss: 35.4998 - val_loss: 35.9438\n",
            "Epoch 32/50\n",
            "34255/34255 [==============================] - 8s 225us/step - loss: 35.4435 - val_loss: 35.9921\n",
            "Epoch 33/50\n",
            "34255/34255 [==============================] - 8s 225us/step - loss: 35.3853 - val_loss: 35.8989\n",
            "Epoch 34/50\n",
            "34255/34255 [==============================] - 8s 224us/step - loss: 35.3319 - val_loss: 35.9291\n",
            "Epoch 35/50\n",
            "34255/34255 [==============================] - 8s 224us/step - loss: 35.3030 - val_loss: 35.8902\n",
            "Epoch 36/50\n",
            "34255/34255 [==============================] - 8s 224us/step - loss: 35.2601 - val_loss: 35.9036\n",
            "Epoch 37/50\n",
            "34255/34255 [==============================] - 8s 224us/step - loss: 35.1978 - val_loss: 35.9043\n",
            "Epoch 38/50\n",
            "34255/34255 [==============================] - 8s 226us/step - loss: 35.1720 - val_loss: 35.8902\n",
            "Epoch 39/50\n",
            "34255/34255 [==============================] - 8s 226us/step - loss: 35.1551 - val_loss: 35.8146\n",
            "Epoch 40/50\n",
            "34255/34255 [==============================] - 8s 225us/step - loss: 35.1204 - val_loss: 35.8011\n",
            "Epoch 41/50\n",
            "34255/34255 [==============================] - 8s 226us/step - loss: 35.0695 - val_loss: 35.7845\n",
            "Epoch 42/50\n",
            "34255/34255 [==============================] - 8s 225us/step - loss: 35.0474 - val_loss: 35.7544\n",
            "Epoch 43/50\n",
            "34255/34255 [==============================] - 8s 227us/step - loss: 35.0088 - val_loss: 35.7948\n",
            "Epoch 44/50\n",
            "34255/34255 [==============================] - 8s 226us/step - loss: 34.9766 - val_loss: 35.6779\n",
            "Epoch 45/50\n",
            "34255/34255 [==============================] - 8s 225us/step - loss: 34.9310 - val_loss: 35.7615\n",
            "Epoch 46/50\n",
            "34255/34255 [==============================] - 8s 227us/step - loss: 34.9314 - val_loss: 35.6652\n",
            "Epoch 47/50\n",
            "34255/34255 [==============================] - 8s 227us/step - loss: 34.8520 - val_loss: 35.7107\n",
            "Epoch 48/50\n",
            "34255/34255 [==============================] - 8s 223us/step - loss: 34.8619 - val_loss: 35.7145\n",
            "Epoch 49/50\n",
            "34255/34255 [==============================] - 8s 224us/step - loss: 34.7988 - val_loss: 35.6440\n",
            "Epoch 50/50\n",
            "34255/34255 [==============================] - 8s 223us/step - loss: 34.7839 - val_loss: 35.5569\n"
          ],
          "name": "stdout"
        }
      ]
    },
    {
      "cell_type": "code",
      "metadata": {
        "id": "vPjiBJzqS-gt",
        "colab_type": "code",
        "colab": {
          "base_uri": "https://localhost:8080/",
          "height": 281
        },
        "outputId": "db2c2474-6793-427b-b134-9479f2d3b971"
      },
      "source": [
        "loss = vae_hist.history['loss']\n",
        "val_loss = vae_hist.history['val_loss']\n",
        "epochs = range(50)\n",
        "plt.figure()\n",
        "plt.plot(epochs, loss, 'bo', label='Training loss')\n",
        "plt.plot(epochs, val_loss, 'b', label='Validation loss')\n",
        "plt.title('Training and validation loss')\n",
        "plt.legend()\n",
        "plt.show()"
      ],
      "execution_count": 65,
      "outputs": [
        {
          "output_type": "display_data",
          "data": {
            "image/png": "[encoded data removed]",
            "text/plain": [
              "<Figure size 432x288 with 1 Axes>"
            ]
          },
          "metadata": {
            "tags": []
          }
        }
      ]
    }
  ]
}