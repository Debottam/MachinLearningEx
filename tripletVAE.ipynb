{
  "nbformat": 4,
  "nbformat_minor": 0,
  "metadata": {
    "colab": {
      "name": "tripletVAE.ipynb",
      "provenance": [],
      "authorship_tag": "ABX9TyMPtG+0wMazICKkjO671swz",
      "include_colab_link": true
    },
    "kernelspec": {
      "name": "python3",
      "display_name": "Python 3"
    }
  },
  "cells": [
    {
      "cell_type": "markdown",
      "metadata": {
        "id": "view-in-github",
        "colab_type": "text"
      },
      "source": [
        "<a href=\"https://colab.research.google.com/github/Debottam/MachinLearningEx/blob/master/tripletVAE.ipynb\" target=\"_parent\"><img src=\"https://colab.research.google.com/assets/colab-badge.svg\" alt=\"Open In Colab\"/></a>"
      ]
    },
    {
      "cell_type": "code",
      "metadata": {
        "id": "JX2s89HlfCJk"
      },
      "source": [
        "import tensorflow as tf\n",
        "from tensorflow.keras.models import Model\n",
        "from tensorflow.keras.layers import Input, Flatten, Dense, Dropout, Lambda\n",
        "from tensorflow.keras.optimizers import RMSprop\n",
        "from tensorflow.keras.datasets import fashion_mnist\n",
        "from tensorflow.python.keras.utils.vis_utils import plot_model\n",
        "from tensorflow.keras import backend as K\n",
        "\n",
        "import numpy as np\n",
        "import matplotlib.pyplot as plt\n",
        "from PIL import Image, ImageFont, ImageDraw\n",
        "import random\n",
        "from sklearn.utils import check_random_state"
      ],
      "execution_count": 1,
      "outputs": []
    },
    {
      "cell_type": "code",
      "metadata": {
        "colab": {
          "base_uri": "https://localhost:8080/"
        },
        "id": "NfL4zLyjp1sl",
        "outputId": "3bc0f878-2e38-4eab-a1b1-c7c72675dcf2"
      },
      "source": [
        "# load the dataset\n",
        "(train_images, train_labels), (test_images, test_labels) = fashion_mnist.load_data()"
      ],
      "execution_count": 2,
      "outputs": [
        {
          "output_type": "stream",
          "text": [
            "Downloading data from https://storage.googleapis.com/tensorflow/tf-keras-datasets/train-labels-idx1-ubyte.gz\n",
            "32768/29515 [=================================] - 0s 0us/step\n",
            "Downloading data from https://storage.googleapis.com/tensorflow/tf-keras-datasets/train-images-idx3-ubyte.gz\n",
            "26427392/26421880 [==============================] - 0s 0us/step\n",
            "Downloading data from https://storage.googleapis.com/tensorflow/tf-keras-datasets/t10k-labels-idx1-ubyte.gz\n",
            "8192/5148 [===============================================] - 0s 0us/step\n",
            "Downloading data from https://storage.googleapis.com/tensorflow/tf-keras-datasets/t10k-images-idx3-ubyte.gz\n",
            "4423680/4422102 [==============================] - 0s 0us/step\n"
          ],
          "name": "stdout"
        }
      ]
    },
    {
      "cell_type": "code",
      "metadata": {
        "colab": {
          "base_uri": "https://localhost:8080/"
        },
        "id": "r_MxfI8NqJf3",
        "outputId": "08a0314b-60e8-4cf4-a30d-e97573696f20"
      },
      "source": [
        "train_labels"
      ],
      "execution_count": 3,
      "outputs": [
        {
          "output_type": "execute_result",
          "data": {
            "text/plain": [
              "array([9, 0, 0, ..., 3, 0, 5], dtype=uint8)"
            ]
          },
          "metadata": {
            "tags": []
          },
          "execution_count": 3
        }
      ]
    },
    {
      "cell_type": "code",
      "metadata": {
        "id": "v4zDlpWtqPDg"
      },
      "source": [
        "# prepare train and test sets\n",
        "train_images = train_images.astype('float32')\n",
        "test_images = test_images.astype('float32')\n",
        "\n",
        "# normalize values\n",
        "train_images = train_images / 255.0\n",
        "test_images = test_images / 255.0"
      ],
      "execution_count": 4,
      "outputs": []
    },
    {
      "cell_type": "code",
      "metadata": {
        "id": "_R_BS2D0qxH_"
      },
      "source": [
        "def show_image(image):\n",
        "    plt.figure()\n",
        "    plt.imshow(image)\n",
        "    plt.colorbar()\n",
        "    plt.grid(False)\n",
        "    plt.show()"
      ],
      "execution_count": 5,
      "outputs": []
    },
    {
      "cell_type": "code",
      "metadata": {
        "colab": {
          "base_uri": "https://localhost:8080/",
          "height": 286
        },
        "id": "gvPe7nVjq192",
        "outputId": "72694abf-61fb-44e5-c9a3-ec0844358292"
      },
      "source": [
        "show_image(train_images[0])\n",
        "print(\"label: \",train_labels[0])"
      ],
      "execution_count": 6,
      "outputs": [
        {
          "output_type": "display_data",
          "data": {
            "image/png": "[encoded data removed]",
            "text/plain": [
              "<Figure size 432x288 with 2 Axes>"
            ]
          },
          "metadata": {
            "tags": [],
            "needs_background": "light"
          }
        },
        {
          "output_type": "stream",
          "text": [
            "label:  9\n"
          ],
          "name": "stdout"
        }
      ]
    },
    {
      "cell_type": "code",
      "metadata": {
        "colab": {
          "base_uri": "https://localhost:8080/"
        },
        "id": "7HmcIPn-q-CK",
        "outputId": "262a347f-dc67-48b1-947c-fb1ca835deee"
      },
      "source": [
        "image_shoe_index = np.where(train_labels==9)\n",
        "train_image_shoe = train_images[image_shoe_index]\n",
        "print(\"shape before flattening: \",train_image_shoe.shape)\n",
        "train_image_shoe_flatten = np.reshape(train_image_shoe, (6000, 784))\n",
        "print(\"shape after flattening: \",train_image_shoe_flatten.shape)"
      ],
      "execution_count": 8,
      "outputs": [
        {
          "output_type": "stream",
          "text": [
            "shape before flattening:  (6000, 28, 28)\n",
            "shape after flattening:  (6000, 784)\n"
          ],
          "name": "stdout"
        }
      ]
    },
    {
      "cell_type": "code",
      "metadata": {
        "colab": {
          "base_uri": "https://localhost:8080/",
          "height": 269
        },
        "id": "OIgP8Sa3uyia",
        "outputId": "dae57c26-2fe6-4540-944f-4a6ee4d41694"
      },
      "source": [
        "show_image(train_image_shoe[4])"
      ],
      "execution_count": 9,
      "outputs": [
        {
          "output_type": "display_data",
          "data": {
            "image/png": "[encoded data removed]",
            "text/plain": [
              "<Figure size 432x288 with 2 Axes>"
            ]
          },
          "metadata": {
            "tags": [],
            "needs_background": "light"
          }
        }
      ]
    },
    {
      "cell_type": "code",
      "metadata": {
        "colab": {
          "base_uri": "https://localhost:8080/"
        },
        "id": "XDdJju_evRkD",
        "outputId": "99177c4a-9c20-4344-b82d-443cd806e355"
      },
      "source": [
        "image_tshirt_index = np.where(train_labels==0)\n",
        "train_image_tshirt = train_images[image_tshirt_index]\n",
        "print(\"shape before flattening: \",train_image_tshirt.shape)\n",
        "train_image_tshirt_flatten = np.reshape(train_image_tshirt, (6000, 784))\n",
        "print(\"shape after flattening: \",train_image_tshirt_flatten.shape)"
      ],
      "execution_count": 10,
      "outputs": [
        {
          "output_type": "stream",
          "text": [
            "shape before flattening:  (6000, 28, 28)\n",
            "shape after flattening:  (6000, 784)\n"
          ],
          "name": "stdout"
        }
      ]
    },
    {
      "cell_type": "code",
      "metadata": {
        "colab": {
          "base_uri": "https://localhost:8080/",
          "height": 269
        },
        "id": "0UTUH3qNvkoF",
        "outputId": "00805689-78a2-49e1-c558-83906ab8b4e2"
      },
      "source": [
        "show_image(train_image_tshirt[0])"
      ],
      "execution_count": 11,
      "outputs": [
        {
          "output_type": "display_data",
          "data": {
            "image/png": "[encoded data removed]",
            "text/plain": [
              "<Figure size 432x288 with 2 Axes>"
            ]
          },
          "metadata": {
            "tags": [],
            "needs_background": "light"
          }
        }
      ]
    },
    {
      "cell_type": "code",
      "metadata": {
        "colab": {
          "base_uri": "https://localhost:8080/"
        },
        "id": "7pgLtRqyv2Yp",
        "outputId": "48c9aa78-0b3c-490d-b0be-2ddf1512b612"
      },
      "source": [
        "image_trouser_index = np.where(train_labels==1)\n",
        "train_image_trouser = train_images[image_trouser_index]\n",
        "print(\"shape before flattening: \",train_image_trouser.shape)\n",
        "train_image_trouser_flatten = np.reshape(train_image_trouser, (6000, 784))\n",
        "print(\"shape after flattening: \",train_image_trouser_flatten.shape)"
      ],
      "execution_count": 12,
      "outputs": [
        {
          "output_type": "stream",
          "text": [
            "shape before flattening:  (6000, 28, 28)\n",
            "shape after flattening:  (6000, 784)\n"
          ],
          "name": "stdout"
        }
      ]
    },
    {
      "cell_type": "code",
      "metadata": {
        "colab": {
          "base_uri": "https://localhost:8080/",
          "height": 265
        },
        "id": "xEKOdW1xwNjH",
        "outputId": "812f8099-6fb6-4612-e9c2-4e2249fc738e"
      },
      "source": [
        "show_image(train_image_trouser[0])"
      ],
      "execution_count": 13,
      "outputs": [
        {
          "output_type": "display_data",
          "data": {
            "image/png": "[encoded data removed]",
            "text/plain": [
              "<Figure size 432x288 with 2 Axes>"
            ]
          },
          "metadata": {
            "tags": [],
            "needs_background": "light"
          }
        }
      ]
    },
    {
      "cell_type": "code",
      "metadata": {
        "id": "oCE_kLTWki2O"
      },
      "source": [
        "def plot_triplet(triplet):\n",
        "  plt.figure(figsize=(6,2))\n",
        "  for i in range(0,3):\n",
        "    plt.subplot(1,3,i+1)\n",
        "    plt.imshow(np.reshape(triplet[i],(28,28)), cmap='binary')\n",
        "    plt.xticks([])\n",
        "    plt.yticks([])\n",
        "  plt.show()"
      ],
      "execution_count": 14,
      "outputs": []
    },
    {
      "cell_type": "code",
      "metadata": {
        "id": "1Ga_fl21mhAF"
      },
      "source": [
        "# concatenating tshirt and trouser\n",
        "training_X = np.concatenate((train_image_tshirt_flatten, train_image_trouser_flatten), axis=0)"
      ],
      "execution_count": 15,
      "outputs": []
    },
    {
      "cell_type": "code",
      "metadata": {
        "colab": {
          "base_uri": "https://localhost:8080/",
          "height": 133
        },
        "id": "n-1zEjWEoY2X",
        "outputId": "bfffd2bc-ada3-4bab-ffce-285696a12f4e"
      },
      "source": [
        "plot_triplet([training_X[6000],training_X[6001],training_X[6002]])"
      ],
      "execution_count": 17,
      "outputs": [
        {
          "output_type": "display_data",
          "data": {
            "image/png": "[encoded data removed]",
            "text/plain": [
              "<Figure size 432x144 with 3 Axes>"
            ]
          },
          "metadata": {
            "tags": []
          }
        }
      ]
    },
    {
      "cell_type": "code",
      "metadata": {
        "id": "PET6iJMBn2KB"
      },
      "source": [
        "# generate labels tshirt = 0 and trouser = 1\n",
        "train_y = np.concatenate((np.zeros(len(train_image_tshirt_flatten)), np.ones(len(train_image_trouser_flatten))), axis=0)"
      ],
      "execution_count": 18,
      "outputs": []
    },
    {
      "cell_type": "code",
      "metadata": {
        "id": "2OgC1AMNVZT4"
      },
      "source": [
        "rng = check_random_state(1)\n",
        "indices = rng.permutation(len(training_X))"
      ],
      "execution_count": 19,
      "outputs": []
    },
    {
      "cell_type": "code",
      "metadata": {
        "id": "Z4S1egd-VxzK"
      },
      "source": [
        "# shuffled data and labels\n",
        "training_X_shuffled = training_X[indices]\n",
        "train_y_shuffled = train_y[indices]"
      ],
      "execution_count": 20,
      "outputs": []
    },
    {
      "cell_type": "code",
      "metadata": {
        "colab": {
          "base_uri": "https://localhost:8080/",
          "height": 150
        },
        "id": "w3kqmS5tWtcT",
        "outputId": "9e76940e-bc51-427e-a133-56c9847b635f"
      },
      "source": [
        "print(train_y_shuffled[6000],train_y_shuffled[6001],train_y_shuffled[6002])\n",
        "plot_triplet([training_X_shuffled[6000],training_X_shuffled[6001],training_X_shuffled[6002]])"
      ],
      "execution_count": 21,
      "outputs": [
        {
          "output_type": "stream",
          "text": [
            "0.0 0.0 1.0\n"
          ],
          "name": "stdout"
        },
        {
          "output_type": "display_data",
          "data": {
            "image/png": "[encoded data removed]",
            "text/plain": [
              "<Figure size 432x144 with 3 Axes>"
            ]
          },
          "metadata": {
            "tags": []
          }
        }
      ]
    },
    {
      "cell_type": "code",
      "metadata": {
        "id": "wYQdeY8IYbEb"
      },
      "source": [
        "def create_batch (batch_size):\n",
        "  anchors = np.zeros((batch_size, 784))\n",
        "  positives = np.zeros((batch_size, 784))\n",
        "  negatives = np.zeros((batch_size, 784))\n",
        "\n",
        "  for i in range(0,batch_size):\n",
        "    index = random.randint(0,12000-1)\n",
        "    anc = training_X_shuffled[index]\n",
        "    y = train_y_shuffled[index]\n",
        "\n",
        "    indices_for_pos = np.squeeze(np.where(train_y_shuffled == y))\n",
        "    indices_for_neg = np.squeeze(np.where(train_y_shuffled != y))\n",
        "\n",
        "    pos = training_X_shuffled[indices_for_pos[random.randint(0,len(indices_for_pos)-1)]]\n",
        "    neg = training_X_shuffled[indices_for_neg[random.randint(0,len(indices_for_neg)-1)]]\n",
        "\n",
        "    anchors[i] = anc\n",
        "    positives[i] = pos\n",
        "    negatives[i] = neg\n",
        "\n",
        "    return [anchors, positives, negatives] "
      ],
      "execution_count": 23,
      "outputs": []
    },
    {
      "cell_type": "code",
      "metadata": {
        "id": "zqTdbyBQmn6a",
        "outputId": "72f0c4ca-556b-410a-c3cd-ee3114d5852f",
        "colab": {
          "base_uri": "https://localhost:8080/",
          "height": 133
        }
      },
      "source": [
        "triplet = create_batch (1)\n",
        "plot_triplet(triplet)"
      ],
      "execution_count": 25,
      "outputs": [
        {
          "output_type": "display_data",
          "data": {
            "image/png": "[encoded data removed]",
            "text/plain": [
              "<Figure size 432x144 with 3 Axes>"
            ]
          },
          "metadata": {
            "tags": []
          }
        }
      ]
    },
    {
      "cell_type": "code",
      "metadata": {
        "id": "9JX_Fn4epKj8",
        "outputId": "56beeae8-fcfd-4ba2-ef35-22052ac94f76",
        "colab": {
          "base_uri": "https://localhost:8080/"
        }
      },
      "source": [
        "# building embedding layer\n",
        "emb_dim = 64\n",
        "embedding_model = tf.keras.models.Sequential([\n",
        "                                tf.keras.layers.Dense(64, activation = 'relu', input_shape=(784,)),\n",
        "                                tf.keras.layers.Dense(emb_dim, activation='sigmoid'),\n",
        "                              ])\n",
        "embedding_model.summary()"
      ],
      "execution_count": 29,
      "outputs": [
        {
          "output_type": "stream",
          "text": [
            "Model: \"sequential_3\"\n",
            "_________________________________________________________________\n",
            "Layer (type)                 Output Shape              Param #   \n",
            "=================================================================\n",
            "dense_6 (Dense)              (None, 64)                50240     \n",
            "_________________________________________________________________\n",
            "dense_7 (Dense)              (None, 64)                4160      \n",
            "=================================================================\n",
            "Total params: 54,400\n",
            "Trainable params: 54,400\n",
            "Non-trainable params: 0\n",
            "_________________________________________________________________\n"
          ],
          "name": "stdout"
        }
      ]
    },
    {
      "cell_type": "code",
      "metadata": {
        "id": "LYR7hujQq2A0",
        "outputId": "83f05766-67e9-4bcf-9646-40dea96434d4",
        "colab": {
          "base_uri": "https://localhost:8080/"
        }
      },
      "source": [
        "# take an example and predict output\n",
        "example = training_X_shuffled[0]\n",
        "print (\"shape of example: \", example.shape)\n",
        "\n",
        "example_emb = embedding_model.predict(np.expand_dims(example, axis = 0))\n",
        "\n",
        "print (\"shape of example_emb: \", example_emb.shape)"
      ],
      "execution_count": 30,
      "outputs": [
        {
          "output_type": "stream",
          "text": [
            "shape of example:  (784,)\n",
            "shape of example_emb:  (1, 64)\n"
          ],
          "name": "stdout"
        }
      ]
    },
    {
      "cell_type": "code",
      "metadata": {
        "id": "B1R1JmG7tl5c"
      },
      "source": [
        "# Declaring inputs\n",
        "in_anc = tf.keras.layers.Input(shape = (784,))\n",
        "in_pos = tf.keras.layers.Input(shape = (784,))\n",
        "in_neg = tf.keras.layers.Input(shape = (784,))\n",
        "\n",
        "im_anc_emb = embedding_model(in_anc)\n",
        "im_pos_emb = embedding_model(in_pos)\n",
        "im_neg_emb = embedding_model(in_neg)"
      ],
      "execution_count": 32,
      "outputs": []
    },
    {
      "cell_type": "code",
      "metadata": {
        "id": "_iT9gV-ruv7S",
        "outputId": "7e64abd1-f7a1-4ce4-fbc0-49ec7967371b",
        "colab": {
          "base_uri": "https://localhost:8080/"
        }
      },
      "source": [
        "# Declaring outputs\n",
        "out = tf.keras.layers.concatenate([im_anc_emb, im_pos_emb, im_neg_emb], axis = 1)\n",
        "\n",
        "# the full model\n",
        "net = tf.keras.Model(inputs = [in_anc, in_pos, in_neg], outputs = out)\n",
        "\n",
        "net.summary()"
      ],
      "execution_count": 35,
      "outputs": [
        {
          "output_type": "stream",
          "text": [
            "Model: \"model_2\"\n",
            "__________________________________________________________________________________________________\n",
            "Layer (type)                    Output Shape         Param #     Connected to                     \n",
            "==================================================================================================\n",
            "input_4 (InputLayer)            [(None, 784)]        0                                            \n",
            "__________________________________________________________________________________________________\n",
            "input_5 (InputLayer)            [(None, 784)]        0                                            \n",
            "__________________________________________________________________________________________________\n",
            "input_6 (InputLayer)            [(None, 784)]        0                                            \n",
            "__________________________________________________________________________________________________\n",
            "sequential_3 (Sequential)       (None, 64)           54400       input_4[0][0]                    \n",
            "                                                                 input_5[0][0]                    \n",
            "                                                                 input_6[0][0]                    \n",
            "__________________________________________________________________________________________________\n",
            "concatenate_2 (Concatenate)     (None, 192)          0           sequential_3[0][0]               \n",
            "                                                                 sequential_3[1][0]               \n",
            "                                                                 sequential_3[2][0]               \n",
            "==================================================================================================\n",
            "Total params: 54,400\n",
            "Trainable params: 54,400\n",
            "Non-trainable params: 0\n",
            "__________________________________________________________________________________________________\n"
          ],
          "name": "stdout"
        }
      ]
    },
    {
      "cell_type": "markdown",
      "metadata": {
        "id": "vFd8GdKgy-51"
      },
      "source": [
        "Triplet loss:\n",
        "  dp : distance between anchor and positive example\n",
        "  dn : distance between anchor and negative example\n",
        "  The job of training would make sure dp < dn\n",
        "  if decrease dn by a scale factor then condition on dp would be tighter\n",
        "  dp < dn - e\n",
        "\n",
        "  so the condition would be \n",
        "\n",
        "  dp-dn+e < = 0\n",
        "\n",
        "  and loss would be\n",
        "\n",
        "  Loss = max (dp-dn+e, 0) // whichever is max will be reduced during training"
      ]
    },
    {
      "cell_type": "code",
      "metadata": {
        "id": "iD8Kbjji3Zvv"
      },
      "source": [
        "# Defining triplet loss\n",
        "def triplet_loss(emb_dim, alpha):\n",
        "  def loss (y_truth, y_pred):\n",
        "    anc, pos, neg = y_pred[:, :emb_dim], y_pred[:, emb_dim:2*emb_dim], y_pred[:, 2*emb_dim:3*emb_dim]\n",
        "    dp = tf.reduce_mean(tf.square(anc - pos), axis = 1)\n",
        "    dn = tf.reduce_mean(tf.square(anc - neg), axis = 1)\n",
        "    return tf.maximum(dp-dn+alpha, 0.)\n",
        "  return loss"
      ],
      "execution_count": 46,
      "outputs": []
    },
    {
      "cell_type": "code",
      "metadata": {
        "id": "xf0aNKw19v9I"
      },
      "source": [
        "def data_generator(batch_size, emb_dim):\n",
        "  while True:\n",
        "    x = create_batch (batch_size)\n",
        "    y = np.zeros((batch_size, 3*emb_dim))\n",
        "    yield x, y\n"
      ],
      "execution_count": 42,
      "outputs": []
    },
    {
      "cell_type": "code",
      "metadata": {
        "id": "6ucPDAMRFFNq"
      },
      "source": [
        "batch_size = 60\n",
        "epochs = 20\n",
        "steps_per_epoch = int(len(training_X_shuffled)/batch_size)\n",
        "net.compile(loss = triplet_loss(emb_dim, alpha = 0.2), optimizer = 'adam' )"
      ],
      "execution_count": 50,
      "outputs": []
    },
    {
      "cell_type": "code",
      "metadata": {
        "id": "l6j5FMQNI1Tp",
        "outputId": "859e09d2-5e5d-4cf1-a4dd-dcb7eb70d69c",
        "colab": {
          "base_uri": "https://localhost:8080/"
        }
      },
      "source": [
        "net.fit(data_generator(batch_size, emb_dim), epochs=epochs, steps_per_epoch=steps_per_epoch)"
      ],
      "execution_count": 51,
      "outputs": [
        {
          "output_type": "stream",
          "text": [
            "Epoch 1/20\n",
            "200/200 [==============================] - 1s 4ms/step - loss: 0.1969\n",
            "Epoch 2/20\n",
            "200/200 [==============================] - 1s 4ms/step - loss: 0.1968\n",
            "Epoch 3/20\n",
            "200/200 [==============================] - 1s 4ms/step - loss: 0.1969\n",
            "Epoch 4/20\n",
            "200/200 [==============================] - 1s 4ms/step - loss: 0.1970\n",
            "Epoch 5/20\n",
            "200/200 [==============================] - 1s 4ms/step - loss: 0.1967\n",
            "Epoch 6/20\n",
            "200/200 [==============================] - 1s 3ms/step - loss: 0.1969\n",
            "Epoch 7/20\n",
            "200/200 [==============================] - 1s 4ms/step - loss: 0.1968\n",
            "Epoch 8/20\n",
            "200/200 [==============================] - 1s 4ms/step - loss: 0.1969\n",
            "Epoch 9/20\n",
            "200/200 [==============================] - 1s 4ms/step - loss: 0.1969\n",
            "Epoch 10/20\n",
            "200/200 [==============================] - 1s 4ms/step - loss: 0.1968\n",
            "Epoch 11/20\n",
            "200/200 [==============================] - 1s 4ms/step - loss: 0.1969\n",
            "Epoch 12/20\n",
            "200/200 [==============================] - 1s 4ms/step - loss: 0.1967\n",
            "Epoch 13/20\n",
            "200/200 [==============================] - 1s 4ms/step - loss: 0.1970\n",
            "Epoch 14/20\n",
            "200/200 [==============================] - 1s 4ms/step - loss: 0.1968\n",
            "Epoch 15/20\n",
            "200/200 [==============================] - 1s 4ms/step - loss: 0.1968\n",
            "Epoch 16/20\n",
            "200/200 [==============================] - 1s 4ms/step - loss: 0.1968\n",
            "Epoch 17/20\n",
            "200/200 [==============================] - 1s 4ms/step - loss: 0.1969\n",
            "Epoch 18/20\n",
            "200/200 [==============================] - 1s 4ms/step - loss: 0.1968\n",
            "Epoch 19/20\n",
            "200/200 [==============================] - 1s 4ms/step - loss: 0.1969\n",
            "Epoch 20/20\n",
            "200/200 [==============================] - 1s 4ms/step - loss: 0.1969\n"
          ],
          "name": "stdout"
        },
        {
          "output_type": "execute_result",
          "data": {
            "text/plain": [
              "<tensorflow.python.keras.callbacks.History at 0x7f74e72fdef0>"
            ]
          },
          "metadata": {
            "tags": []
          },
          "execution_count": 51
        }
      ]
    },
    {
      "cell_type": "code",
      "metadata": {
        "id": "8Rpa_mUGxJoE"
      },
      "source": [
        "def initialize_base_network():\n",
        "    input = Input(shape=(28,28,), name=\"base_input\")\n",
        "    x = Flatten(name=\"flatten_input\")(input)\n",
        "    x = Dense(128, activation='relu', name=\"first_base_dense\")(x)\n",
        "    x = Dropout(0.1, name=\"first_dropout\")(x)\n",
        "    x = Dense(128, activation='relu', name=\"second_base_dense\")(x)\n",
        "    x = Dropout(0.1, name=\"second_dropout\")(x)\n",
        "    x = Dense(128, activation='relu', name=\"third_base_dense\")(x)\n",
        "\n",
        "    return Model(inputs=input, outputs=x)"
      ],
      "execution_count": 16,
      "outputs": []
    }
  ]
}