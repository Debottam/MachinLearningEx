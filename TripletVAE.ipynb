{
  "nbformat": 4,
  "nbformat_minor": 0,
  "metadata": {
    "colab": {
      "name": "TripletVAE.ipynb",
      "provenance": [],
      "authorship_tag": "ABX9TyPAiVQftnW0EyHbsMj61ZM+",
      "include_colab_link": true
    },
    "kernelspec": {
      "name": "python3",
      "display_name": "Python 3"
    }
  },
  "cells": [
    {
      "cell_type": "markdown",
      "metadata": {
        "id": "view-in-github",
        "colab_type": "text"
      },
      "source": [
        "<a href=\"https://colab.research.google.com/github/Debottam/MachinLearningEx/blob/master/TripletVAE.ipynb\" target=\"_parent\"><img src=\"https://colab.research.google.com/assets/colab-badge.svg\" alt=\"Open In Colab\"/></a>"
      ]
    },
    {
      "cell_type": "code",
      "metadata": {
        "id": "MW4uB9EZ2dF6",
        "colab_type": "code",
        "colab": {
          "base_uri": "https://localhost:8080/",
          "height": 51
        },
        "outputId": "766550bd-3a9c-4dd4-b6c3-d14166b67f64"
      },
      "source": [
        "import tensorflow as tf\n",
        "from tensorflow import keras\n",
        "\n",
        "print(\"tf version: \", tf.__version__)\n",
        "print(\"keras version: \", keras.__version__)"
      ],
      "execution_count": 2,
      "outputs": [
        {
          "output_type": "stream",
          "text": [
            "tf version:  2.3.0\n",
            "keras version:  2.4.0\n"
          ],
          "name": "stdout"
        }
      ]
    },
    {
      "cell_type": "code",
      "metadata": {
        "id": "3eenedD5YPvj",
        "colab_type": "code",
        "colab": {}
      },
      "source": [
        "#triplet\n",
        "\n",
        "class Tripletnet(keras.Model):\n",
        "    def __init__(self, embeddingnet):\n",
        "        super().__init__(**kwargs)\n",
        "        self.embeddingnet = embeddingnet\n",
        "    def call(self, x, y, z):\n",
        "        latent_x,mean_x,logvar_x = self.embeddingnet(x)\n",
        "        latent_y,mean_y,logvar_y = self.embeddingnet(y)\n",
        "        latent_z,mean_z,logvar_z = self.embeddingnet(z)\n",
        "        dist_a = tf.square(mean_x - mean_y)\n",
        "        dist_b = tf.square(mean_x - mean_z)\n",
        "        return latent_x,mean_x,logvar_x,\\\n",
        "            latent_y,mean_y,logvar_y,\\\n",
        "            latent_z,mean_z,logvar_z,\\\n",
        "            dist_a, dist_b"
      ],
      "execution_count": 3,
      "outputs": []
    },
    {
      "cell_type": "code",
      "metadata": {
        "id": "Y5vjCm0lcU0v",
        "colab_type": "code",
        "colab": {}
      },
      "source": [
        "input_dim = 80\n",
        "encoding_dim = 10\n",
        "inputs = keras.Input((None, input_dim))\n",
        "\n",
        "class _Encoder(keras.Model):\n",
        "    def __init__(self, **kwargs):\n",
        "        super().__init__(**kwargs)\n",
        "        self.layer_1 = keras.layers.Dense(256, activation=\"relu\")\n",
        "        self.layer_2 = keras.layers.Dense(128, activation=\"relu\")\n",
        "        self.layer_3 = keras.layers.Dense(64, activation=\"relu\")\n",
        "\n",
        "    def call(self,inputs):\n",
        "        x = self.layer_1(inputs)\n",
        "        x = self.layer_2(x)\n",
        "        x = self.layer_3(x)\n",
        "        self.mean = keras.layers.Dense(encoding_dim, name=\"z_mean\")(x)\n",
        "        self.log_var = keras.layers.Dense(encoding_dim, name=\"z_log_var\")(x)\n",
        "        self.z = keras.layers.Lambda(sampling, output_shape=(encoding_dim,), name='z')([self.mean, self.log_var])\n",
        "        return self.z, self.mean, self.log_var\n",
        "\n",
        "class _Decoder(keras.Model):\n",
        "    def __init__(self):\n",
        "        super(self).__init__()\n",
        "        self.layer_1 = keras.layers.Dense(128, activation=\"relu\")\n",
        "        self.layer_2 = keras.layers.Dense(256, activation=\"relu\")\n",
        "        self.layer_3 = keras.layers.Dense(80, activation=\"sigmoid\")\n",
        "        \n",
        "    def call(self,inputs):\n",
        "        x = self.layer_1(inputs)\n",
        "        x = self.layer_2(x)\n",
        "        output = self.layer_3(x)\n",
        "        return output"
      ],
      "execution_count": 6,
      "outputs": []
    },
    {
      "cell_type": "code",
      "metadata": {
        "id": "iSgaIGSTcZHQ",
        "colab_type": "code",
        "colab": {}
      },
      "source": [
        "# triplet_VAE\n",
        "\n"
      ],
      "execution_count": null,
      "outputs": []
    }
  ]
}