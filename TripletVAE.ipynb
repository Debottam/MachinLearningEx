{
  "nbformat": 4,
  "nbformat_minor": 0,
  "metadata": {
    "colab": {
      "name": "TripletVAE.ipynb",
      "provenance": [],
      "authorship_tag": "ABX9TyO/FqidGDU2/7fnrizOIdTr",
      "include_colab_link": true
    },
    "kernelspec": {
      "name": "python3",
      "display_name": "Python 3"
    }
  },
  "cells": [
    {
      "cell_type": "markdown",
      "metadata": {
        "id": "view-in-github",
        "colab_type": "text"
      },
      "source": [
        "<a href=\"https://colab.research.google.com/github/Debottam/MachinLearningEx/blob/master/TripletVAE.ipynb\" target=\"_parent\"><img src=\"https://colab.research.google.com/assets/colab-badge.svg\" alt=\"Open In Colab\"/></a>"
      ]
    },
    {
      "cell_type": "code",
      "metadata": {
        "id": "MW4uB9EZ2dF6",
        "colab_type": "code",
        "colab": {
          "base_uri": "https://localhost:8080/",
          "height": 51
        },
        "outputId": "cd9c4a9e-9c62-415f-f744-d5c6ebe0fee3"
      },
      "source": [
        "import tensorflow as tf\n",
        "from tensorflow import keras\n",
        "\n",
        "print(\"tf version: \", tf.__version__)\n",
        "print(\"keras version: \", keras.__version__)"
      ],
      "execution_count": 4,
      "outputs": [
        {
          "output_type": "stream",
          "text": [
            "tf version:  2.3.0\n",
            "keras version:  2.4.0\n"
          ],
          "name": "stdout"
        }
      ]
    },
    {
      "cell_type": "code",
      "metadata": {
        "id": "3eenedD5YPvj",
        "colab_type": "code",
        "colab": {}
      },
      "source": [
        "#triplet\n",
        "\n",
        "class Tripletnet(keras.Model):\n",
        "    def __init__(self, embeddingnet):\n",
        "        super().__init__(**kwargs)\n",
        "        self.embeddingnet = embeddingnet\n",
        "    def call(self, x, y, z):\n",
        "        latent_x,mean_x,logvar_x = self.embeddingnet(x)\n",
        "        latent_y,mean_y,logvar_y = self.embeddingnet(y)\n",
        "        latent_z,mean_z,logvar_z = self.embeddingnet(z)\n",
        "        dist_a = tf.square(mean_x - mean_y)\n",
        "        dist_b = tf.square(mean_x - mean_z)\n",
        "        return latent_x,mean_x,logvar_x,\\\n",
        "            latent_y,mean_y,logvar_y,\\\n",
        "            latent_z,mean_z,logvar_z,\\\n",
        "            dist_a, dist_b"
      ],
      "execution_count": 5,
      "outputs": []
    },
    {
      "cell_type": "code",
      "metadata": {
        "id": "R_2PupGq7Azf",
        "colab_type": "code",
        "colab": {}
      },
      "source": [
        "# kl_loss\n",
        "def kl_reconstruction_loss(x, recon_x, mu, log_var):\n",
        "    #reco_loss = tf.reduce_mean(tf.square(x - recon_x))\n",
        "    kl_loss = 1 + log_var - tf.square(mu) - tf.exp(log_var)\n",
        "    kl_loss = tf.reduce_sum(kl_loss, axis= -1)\n",
        "    kl_loss *= -0.5\n",
        "    return tf.reduce_mean(kl_loss)\n",
        "\n",
        "# triplet loss\n",
        "def triplet_loss(anchor, positive, negative):\n",
        "    positive_dist = tf.reduce_mean(tf.square(anchor - positive), axis=1)\n",
        "    negative_dist = tf.reduce_mean(tf.square(anchor - negative), axis=1)\n",
        "    return tf.maximum(positive_dist - negative_dist + alpha, 0.)"
      ],
      "execution_count": 6,
      "outputs": []
    },
    {
      "cell_type": "code",
      "metadata": {
        "id": "Y5vjCm0lcU0v",
        "colab_type": "code",
        "colab": {}
      },
      "source": [
        "input_dim = 80\n",
        "encoding_dim = 10\n",
        "inputs = keras.Input((None, input_dim))\n",
        "\n",
        "class _Encoder(keras.Model):\n",
        "    def __init__(self, **kwargs):\n",
        "        super().__init__(**kwargs)\n",
        "        self.layer_1 = keras.layers.Dense(256, activation=\"relu\")\n",
        "        self.layer_2 = keras.layers.Dense(128, activation=\"relu\")\n",
        "        self.layer_3 = keras.layers.Dense(64, activation=\"relu\")\n",
        "\n",
        "    def call(self,inputs):\n",
        "        x = self.layer_1(inputs)\n",
        "        x = self.layer_2(x)\n",
        "        x = self.layer_3(x)\n",
        "        self.mean = keras.layers.Dense(encoding_dim, name=\"z_mean\")(x)\n",
        "        self.log_var = keras.layers.Dense(encoding_dim, name=\"z_log_var\")(x)\n",
        "        self.z = keras.layers.Lambda(sampling, output_shape=(encoding_dim,), name='z')([self.mean, self.log_var])\n",
        "        return self.z, self.mean, self.log_var\n",
        "\n",
        "class _Decoder(keras.Model):\n",
        "    def __init__(self):\n",
        "        super(self).__init__()\n",
        "        self.layer_1 = keras.layers.Dense(128, activation=\"relu\")\n",
        "        self.layer_2 = keras.layers.Dense(256, activation=\"relu\")\n",
        "        self.layer_3 = keras.layers.Dense(80, activation=\"sigmoid\")\n",
        "        \n",
        "    def call(self,inputs):\n",
        "        x = self.layer_1(inputs)\n",
        "        x = self.layer_2(x)\n",
        "        output = self.layer_3(x)\n",
        "        return output"
      ],
      "execution_count": 7,
      "outputs": []
    },
    {
      "cell_type": "code",
      "metadata": {
        "id": "l1Iprj6-PVeu",
        "colab_type": "code",
        "colab": {
          "base_uri": "https://localhost:8080/",
          "height": 164
        },
        "outputId": "c1b2ef1b-c55a-4084-8335-287f8a8c5175"
      },
      "source": [
        "_Encoder().build()"
      ],
      "execution_count": 13,
      "outputs": [
        {
          "output_type": "error",
          "ename": "TypeError",
          "evalue": "ignored",
          "traceback": [
            "\u001b[0;31m---------------------------------------------------------------------------\u001b[0m",
            "\u001b[0;31mTypeError\u001b[0m                                 Traceback (most recent call last)",
            "\u001b[0;32m<ipython-input-13-3dc036b09f17>\u001b[0m in \u001b[0;36m<module>\u001b[0;34m()\u001b[0m\n\u001b[0;32m----> 1\u001b[0;31m \u001b[0m_Encoder\u001b[0m\u001b[0;34m(\u001b[0m\u001b[0;34m)\u001b[0m\u001b[0;34m.\u001b[0m\u001b[0mbuild\u001b[0m\u001b[0;34m(\u001b[0m\u001b[0;34m)\u001b[0m\u001b[0;34m\u001b[0m\u001b[0;34m\u001b[0m\u001b[0m\n\u001b[0m",
            "\u001b[0;31mTypeError\u001b[0m: build() missing 1 required positional argument: 'input_shape'"
          ]
        }
      ]
    },
    {
      "cell_type": "code",
      "metadata": {
        "id": "iSgaIGSTcZHQ",
        "colab_type": "code",
        "colab": {}
      },
      "source": [
        "# triplet_VAE\n",
        "custMetric = keras.metrics.Mean()\n",
        "class tripletVAE (keras.Model):\n",
        "  def __init__(self, **kwargs):\n",
        "    super().__init__(**kwargs)\n",
        "    self._Encoder = _Encoder()\n",
        "    self._Decoder = _Decoder()\n",
        "  \n",
        "  def call(self,inputs):\n",
        "    x, y , z = inputs\n",
        "    latent_x,mean_x,logvar_x = self._Encoder(x)\n",
        "    latent_y,mean_y,logvar_y = self._Encoder(y)\n",
        "    latent_z,mean_z,logvar_z = self._Encoder(z)\n",
        "    dist_a = tf.square(mean_x - mean_y)\n",
        "    dist_b = tf.square(mean_x - mean_z)\n",
        "    recon_x = self._Decoder(latent_x)\n",
        "    recon_y = self._Decoder(latent_y)\n",
        "    kl_loss_x = kl_reconstruction_loss(x, recon_x, mean_x, logvar_x)\n",
        "    kl_loss_y = kl_reconstruction_loss(y, recon_y, mean_y, logvar_y)\n",
        "    triplet_loss = triplet_loss(mean_x,mean_y,mean_z)\n",
        "    loss = kl_loss_x + kl_loss_y + triplet_loss\n",
        "    self.add_loss (loss)\n",
        "    self.add_metric (custMetric(triplet_loss, name='triplet'))\n",
        "    return recon_x, recon_y\n",
        "  \n"
      ],
      "execution_count": 18,
      "outputs": []
    }
  ]
}