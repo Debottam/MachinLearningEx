{
  "nbformat": 4,
  "nbformat_minor": 0,
  "metadata": {
    "colab": {
      "name": "Untitled7.ipynb",
      "provenance": [],
      "authorship_tag": "ABX9TyMM/pk5y38r/D70VDxbiPhc",
      "include_colab_link": true
    },
    "kernelspec": {
      "name": "python3",
      "display_name": "Python 3"
    }
  },
  "cells": [
    {
      "cell_type": "markdown",
      "metadata": {
        "id": "view-in-github",
        "colab_type": "text"
      },
      "source": [
        "<a href=\"https://colab.research.google.com/github/Debottam/MachinLearningEx/blob/master/simpleGAN.ipynb\" target=\"_parent\"><img src=\"https://colab.research.google.com/assets/colab-badge.svg\" alt=\"Open In Colab\"/></a>"
      ]
    },
    {
      "cell_type": "code",
      "metadata": {
        "id": "7VxfSB_u7CjB",
        "colab_type": "code",
        "colab": {}
      },
      "source": [
        "from numpy import zeros, hstack, ones\n",
        "from numpy.random import rand, randn\n",
        "from keras.models import Sequential\n",
        "from keras.layers import Dense\n",
        "from matplotlib import pyplot"
      ],
      "execution_count": 0,
      "outputs": []
    },
    {
      "cell_type": "code",
      "metadata": {
        "id": "ijVRenYM8PL5",
        "colab_type": "code",
        "colab": {}
      },
      "source": [
        "#define standalone discriminator model\n",
        "def define_discriminator(n_inputs = 2):\n",
        "  model = Sequential()\n",
        "  model.add(Dense(25, activation= 'relu', kernel_initializer= 'he_uniform', input_dim = n_inputs))\n",
        "  model.add(Dense(1, activation='sigmoid'))\n",
        "  #compile model\n",
        "  model.compile(loss = 'binary_crossentropy', optmizer = 'adam', metrics=['accuracy'])\n",
        "  return model\n",
        "\n",
        "#define standalone generator model\n",
        "def define_discriminator(latent_dim, n_outputs = 2):\n",
        "  model = Sequential()\n",
        "  model.add(Dense(15, activation= 'relu', kernel_initializer= 'he_uniform', input_dim = latent_dim))\n",
        "  model.add(Dense(n_outputs, activation='linear'))\n",
        "  #compile model\n",
        "  model.compile(loss = 'binary_crossentropy', optmizer = 'adam', metrics=['accuracy'])\n",
        "  return model\n",
        "\n",
        "#define combine generator and discriminator model to train generator alone\n",
        "def gefine_gan(generator, discriminator):\n",
        "  #make weights in discriminator not trainable\n",
        "  discriminator.trainable = False\n",
        "  #connect them\n",
        "  model = Sequential()\n",
        "  model.add(generator)\n",
        "  model.add(discriminator)\n",
        "  model.compile(loss = 'binary_crossentropy', optmizer = 'adam')\n",
        "  return model"
      ],
      "execution_count": 0,
      "outputs": []
    },
    {
      "cell_type": "code",
      "metadata": {
        "id": "1x3IlF0HENou",
        "colab_type": "code",
        "colab": {}
      },
      "source": [
        "# generate n real sample with class label\n",
        "def generate real samples(n):\n",
        "  # generate input in -0.5 and 0.5\n",
        "  X1 = rand(n)- 0.5\n",
        "  # generate output X^2\n",
        "  X2 = X1*X1\n",
        "  # stack arrays\n",
        "  X1 = X1.reshape(n,1)\n",
        "  X2 = X2.reshape(n,1)\n",
        "  X = hstack((X1,X2))\n",
        "  # generate class label\n",
        "  y = ones(n, 1)\n",
        "  return X,y\n",
        "\n",
        "# generate latent space as input to generator\n"
      ],
      "execution_count": 0,
      "outputs": []
    }
  ]
}