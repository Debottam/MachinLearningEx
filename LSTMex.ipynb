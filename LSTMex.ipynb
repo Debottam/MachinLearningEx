{
 "cells": [
  {
   "cell_type": "code",
   "execution_count": 7,
   "metadata": {},
   "outputs": [],
   "source": [
    "from keras.models import Sequential\n",
    "from keras.layers import Dense\n",
    "from keras.layers import LSTM\n",
    "from keras.utils import plot_model\n",
    "from sklearn.model_selection import train_test_split\n",
    "import numpy as np\n",
    "import matplotlib.pyplot as plt"
   ]
  },
  {
   "cell_type": "code",
   "execution_count": 8,
   "metadata": {
    "collapsed": true
   },
   "outputs": [],
   "source": [
    "Data = [[[(i+j)] for i in range (5)]for j in range (100)]\n",
    "target = [(i+5) for i in range(100)]"
   ]
  },
  {
   "cell_type": "code",
   "execution_count": 31,
   "metadata": {
    "collapsed": true
   },
   "outputs": [],
   "source": [
    "Data = np.array(Data, dtype = float)\n",
    "target = np.array(target, dtype = float)"
   ]
  },
  {
   "cell_type": "code",
   "execution_count": 32,
   "metadata": {},
   "outputs": [
    {
     "name": "stdout",
     "output_type": "stream",
     "text": [
      "data shape: (100, 5, 1)\n",
      "target shape: (100,)\n"
     ]
    }
   ],
   "source": [
    "print \"data shape:\", Data.shape\n",
    "print \"target shape:\", target.shape"
   ]
  },
  {
   "cell_type": "code",
   "execution_count": 33,
   "metadata": {
    "collapsed": true
   },
   "outputs": [],
   "source": [
    "x_train, x_test, y_train, y_test = train_test_split(Data, target, test_size = 0.2, random_state = 4)"
   ]
  },
  {
   "cell_type": "code",
   "execution_count": 34,
   "metadata": {},
   "outputs": [
    {
     "data": {
      "text/plain": [
       "array([[[80.],\n",
       "        [81.],\n",
       "        [82.],\n",
       "        [83.],\n",
       "        [84.]],\n",
       "\n",
       "       [[ 4.],\n",
       "        [ 5.],\n",
       "        [ 6.],\n",
       "        [ 7.],\n",
       "        [ 8.]],\n",
       "\n",
       "       [[81.],\n",
       "        [82.],\n",
       "        [83.],\n",
       "        [84.],\n",
       "        [85.]],\n",
       "\n",
       "       [[76.],\n",
       "        [77.],\n",
       "        [78.],\n",
       "        [79.],\n",
       "        [80.]]])"
      ]
     },
     "execution_count": 34,
     "metadata": {},
     "output_type": "execute_result"
    }
   ],
   "source": [
    "x_train[:4,:,:]"
   ]
  },
  {
   "cell_type": "code",
   "execution_count": 35,
   "metadata": {},
   "outputs": [
    {
     "data": {
      "text/plain": [
       "array([85.,  9., 86., 81.])"
      ]
     },
     "execution_count": 35,
     "metadata": {},
     "output_type": "execute_result"
    }
   ],
   "source": [
    "y_train[:4]"
   ]
  },
  {
   "cell_type": "code",
   "execution_count": 36,
   "metadata": {
    "collapsed": true
   },
   "outputs": [],
   "source": [
    "x_train, x_test, y_train, y_test = x_train/100, x_test/100, y_train/100, y_test/100"
   ]
  },
  {
   "cell_type": "code",
   "execution_count": 37,
   "metadata": {},
   "outputs": [
    {
     "data": {
      "text/plain": [
       "array([[[0.8 ],\n",
       "        [0.81],\n",
       "        [0.82],\n",
       "        [0.83],\n",
       "        [0.84]],\n",
       "\n",
       "       [[0.04],\n",
       "        [0.05],\n",
       "        [0.06],\n",
       "        [0.07],\n",
       "        [0.08]],\n",
       "\n",
       "       [[0.81],\n",
       "        [0.82],\n",
       "        [0.83],\n",
       "        [0.84],\n",
       "        [0.85]],\n",
       "\n",
       "       [[0.76],\n",
       "        [0.77],\n",
       "        [0.78],\n",
       "        [0.79],\n",
       "        [0.8 ]]])"
      ]
     },
     "execution_count": 37,
     "metadata": {},
     "output_type": "execute_result"
    }
   ],
   "source": [
    "x_train[:4,:,:]"
   ]
  },
  {
   "cell_type": "markdown",
   "metadata": {},
   "source": [
    "#### RNN"
   ]
  },
  {
   "cell_type": "code",
   "execution_count": 2,
   "metadata": {},
   "outputs": [
    {
     "name": "stderr",
     "output_type": "stream",
     "text": [
      "WARNING: Logging before flag parsing goes to stderr.\n",
      "W1206 14:33:37.105715 140544270456576 deprecation_wrapper.py:119] From /home/debo/env_autoencoder/local/lib/python2.7/site-packages/keras/backend/tensorflow_backend.py:74: The name tf.get_default_graph is deprecated. Please use tf.compat.v1.get_default_graph instead.\n",
      "\n"
     ]
    }
   ],
   "source": [
    "model = Sequential()"
   ]
  },
  {
   "cell_type": "code",
   "execution_count": 3,
   "metadata": {},
   "outputs": [
    {
     "name": "stderr",
     "output_type": "stream",
     "text": [
      "W1206 14:33:39.531853 140544270456576 deprecation_wrapper.py:119] From /home/debo/env_autoencoder/local/lib/python2.7/site-packages/keras/backend/tensorflow_backend.py:517: The name tf.placeholder is deprecated. Please use tf.compat.v1.placeholder instead.\n",
      "\n",
      "W1206 14:33:39.537022 140544270456576 deprecation_wrapper.py:119] From /home/debo/env_autoencoder/local/lib/python2.7/site-packages/keras/backend/tensorflow_backend.py:4138: The name tf.random_uniform is deprecated. Please use tf.random.uniform instead.\n",
      "\n"
     ]
    }
   ],
   "source": [
    "model.add(LSTM((1),batch_input_shape=(None,5,1),return_sequences = False))"
   ]
  },
  {
   "cell_type": "code",
   "execution_count": 4,
   "metadata": {},
   "outputs": [
    {
     "name": "stderr",
     "output_type": "stream",
     "text": [
      "W1206 14:33:43.572093 140544270456576 deprecation_wrapper.py:119] From /home/debo/env_autoencoder/local/lib/python2.7/site-packages/keras/optimizers.py:790: The name tf.train.Optimizer is deprecated. Please use tf.compat.v1.train.Optimizer instead.\n",
      "\n"
     ]
    }
   ],
   "source": [
    "model.compile(loss='mean_absolute_error', optimizer = 'adam', metrics = ['accuracy'])"
   ]
  },
  {
   "cell_type": "code",
   "execution_count": 5,
   "metadata": {},
   "outputs": [
    {
     "name": "stdout",
     "output_type": "stream",
     "text": [
      "_________________________________________________________________\n",
      "Layer (type)                 Output Shape              Param #   \n",
      "=================================================================\n",
      "lstm_1 (LSTM)                (None, 1)                 12        \n",
      "=================================================================\n",
      "Total params: 12\n",
      "Trainable params: 12\n",
      "Non-trainable params: 0\n",
      "_________________________________________________________________\n"
     ]
    }
   ],
   "source": [
    "model.summary()"
   ]
  },
  {
   "cell_type": "code",
   "execution_count": 6,
   "metadata": {
    "collapsed": true
   },
   "outputs": [],
   "source": [
    "plot_model(model, show_shapes=True, to_file='lstm.png')"
   ]
  },
  {
   "cell_type": "code",
   "execution_count": 42,
   "metadata": {},
   "outputs": [
    {
     "name": "stdout",
     "output_type": "stream",
     "text": [
      "Train on 80 samples, validate on 20 samples\n",
      "Epoch 1/100\n",
      "80/80 [==============================] - 0s 462us/step - loss: 0.4181 - acc: 0.0000e+00 - val_loss: 0.3170 - val_acc: 0.0000e+00\n",
      "Epoch 2/100\n",
      "80/80 [==============================] - 0s 265us/step - loss: 0.4119 - acc: 0.0000e+00 - val_loss: 0.3115 - val_acc: 0.0000e+00\n",
      "Epoch 3/100\n",
      "80/80 [==============================] - 0s 238us/step - loss: 0.4058 - acc: 0.0000e+00 - val_loss: 0.3059 - val_acc: 0.0000e+00\n",
      "Epoch 4/100\n",
      "80/80 [==============================] - 0s 229us/step - loss: 0.3996 - acc: 0.0000e+00 - val_loss: 0.3001 - val_acc: 0.0000e+00\n",
      "Epoch 5/100\n",
      "80/80 [==============================] - 0s 230us/step - loss: 0.3934 - acc: 0.0000e+00 - val_loss: 0.2943 - val_acc: 0.0000e+00\n",
      "Epoch 6/100\n",
      "80/80 [==============================] - 0s 238us/step - loss: 0.3871 - acc: 0.0000e+00 - val_loss: 0.2884 - val_acc: 0.0000e+00\n",
      "Epoch 7/100\n",
      "80/80 [==============================] - 0s 238us/step - loss: 0.3809 - acc: 0.0000e+00 - val_loss: 0.2824 - val_acc: 0.0000e+00\n",
      "Epoch 8/100\n",
      "80/80 [==============================] - 0s 230us/step - loss: 0.3747 - acc: 0.0000e+00 - val_loss: 0.2765 - val_acc: 0.0000e+00\n",
      "Epoch 9/100\n",
      "80/80 [==============================] - 0s 235us/step - loss: 0.3685 - acc: 0.0000e+00 - val_loss: 0.2705 - val_acc: 0.0000e+00\n",
      "Epoch 10/100\n",
      "80/80 [==============================] - 0s 240us/step - loss: 0.3624 - acc: 0.0000e+00 - val_loss: 0.2646 - val_acc: 0.0000e+00\n",
      "Epoch 11/100\n",
      "80/80 [==============================] - 0s 234us/step - loss: 0.3562 - acc: 0.0000e+00 - val_loss: 0.2588 - val_acc: 0.0000e+00\n",
      "Epoch 12/100\n",
      "80/80 [==============================] - 0s 230us/step - loss: 0.3504 - acc: 0.0000e+00 - val_loss: 0.2532 - val_acc: 0.0000e+00\n",
      "Epoch 13/100\n",
      "80/80 [==============================] - 0s 238us/step - loss: 0.3442 - acc: 0.0000e+00 - val_loss: 0.2477 - val_acc: 0.0000e+00\n",
      "Epoch 14/100\n",
      "80/80 [==============================] - 0s 234us/step - loss: 0.3384 - acc: 0.0000e+00 - val_loss: 0.2421 - val_acc: 0.0000e+00\n",
      "Epoch 15/100\n",
      "80/80 [==============================] - 0s 237us/step - loss: 0.3324 - acc: 0.0000e+00 - val_loss: 0.2365 - val_acc: 0.0000e+00\n",
      "Epoch 16/100\n",
      "80/80 [==============================] - 0s 234us/step - loss: 0.3265 - acc: 0.0000e+00 - val_loss: 0.2312 - val_acc: 0.0000e+00\n",
      "Epoch 17/100\n",
      "80/80 [==============================] - 0s 233us/step - loss: 0.3210 - acc: 0.0000e+00 - val_loss: 0.2262 - val_acc: 0.0000e+00\n",
      "Epoch 18/100\n",
      "80/80 [==============================] - 0s 238us/step - loss: 0.3154 - acc: 0.0000e+00 - val_loss: 0.2216 - val_acc: 0.0000e+00\n",
      "Epoch 19/100\n",
      "80/80 [==============================] - 0s 240us/step - loss: 0.3096 - acc: 0.0000e+00 - val_loss: 0.2172 - val_acc: 0.0000e+00\n",
      "Epoch 20/100\n",
      "80/80 [==============================] - ETA: 0s - loss: 0.2705 - acc: 0.0000e+0 - 0s 239us/step - loss: 0.3044 - acc: 0.0000e+00 - val_loss: 0.2128 - val_acc: 0.0000e+00\n",
      "Epoch 21/100\n",
      "80/80 [==============================] - 0s 244us/step - loss: 0.2991 - acc: 0.0000e+00 - val_loss: 0.2090 - val_acc: 0.0000e+00\n",
      "Epoch 22/100\n",
      "80/80 [==============================] - 0s 235us/step - loss: 0.2938 - acc: 0.0000e+00 - val_loss: 0.2053 - val_acc: 0.0000e+00\n",
      "Epoch 23/100\n",
      "80/80 [==============================] - 0s 231us/step - loss: 0.2886 - acc: 0.0000e+00 - val_loss: 0.2017 - val_acc: 0.0000e+00\n",
      "Epoch 24/100\n",
      "80/80 [==============================] - 0s 242us/step - loss: 0.2838 - acc: 0.0000e+00 - val_loss: 0.1981 - val_acc: 0.0000e+00\n",
      "Epoch 25/100\n",
      "80/80 [==============================] - 0s 240us/step - loss: 0.2790 - acc: 0.0000e+00 - val_loss: 0.1946 - val_acc: 0.0000e+00\n",
      "Epoch 26/100\n",
      "80/80 [==============================] - 0s 236us/step - loss: 0.2747 - acc: 0.0000e+00 - val_loss: 0.1914 - val_acc: 0.0000e+00\n",
      "Epoch 27/100\n",
      "80/80 [==============================] - 0s 231us/step - loss: 0.2702 - acc: 0.0000e+00 - val_loss: 0.1886 - val_acc: 0.0000e+00\n",
      "Epoch 28/100\n",
      "80/80 [==============================] - 0s 239us/step - loss: 0.2658 - acc: 0.0000e+00 - val_loss: 0.1858 - val_acc: 0.0000e+00\n",
      "Epoch 29/100\n",
      "80/80 [==============================] - 0s 236us/step - loss: 0.2622 - acc: 0.0000e+00 - val_loss: 0.1831 - val_acc: 0.0000e+00\n",
      "Epoch 30/100\n",
      "80/80 [==============================] - 0s 237us/step - loss: 0.2583 - acc: 0.0000e+00 - val_loss: 0.1805 - val_acc: 0.0000e+00\n",
      "Epoch 31/100\n",
      "80/80 [==============================] - 0s 227us/step - loss: 0.2547 - acc: 0.0000e+00 - val_loss: 0.1779 - val_acc: 0.0000e+00\n",
      "Epoch 32/100\n",
      "80/80 [==============================] - 0s 238us/step - loss: 0.2516 - acc: 0.0000e+00 - val_loss: 0.1759 - val_acc: 0.0000e+00\n",
      "Epoch 33/100\n",
      "80/80 [==============================] - 0s 230us/step - loss: 0.2481 - acc: 0.0000e+00 - val_loss: 0.1740 - val_acc: 0.0000e+00\n",
      "Epoch 34/100\n",
      "80/80 [==============================] - 0s 231us/step - loss: 0.2451 - acc: 0.0000e+00 - val_loss: 0.1722 - val_acc: 0.0000e+00\n",
      "Epoch 35/100\n",
      "80/80 [==============================] - 0s 231us/step - loss: 0.2424 - acc: 0.0000e+00 - val_loss: 0.1708 - val_acc: 0.0000e+00\n",
      "Epoch 36/100\n",
      "80/80 [==============================] - 0s 232us/step - loss: 0.2394 - acc: 0.0000e+00 - val_loss: 0.1694 - val_acc: 0.0000e+00\n",
      "Epoch 37/100\n",
      "80/80 [==============================] - 0s 235us/step - loss: 0.2366 - acc: 0.0000e+00 - val_loss: 0.1681 - val_acc: 0.0000e+00\n",
      "Epoch 38/100\n",
      "80/80 [==============================] - 0s 233us/step - loss: 0.2339 - acc: 0.0000e+00 - val_loss: 0.1668 - val_acc: 0.0000e+00\n",
      "Epoch 39/100\n",
      "80/80 [==============================] - 0s 229us/step - loss: 0.2317 - acc: 0.0000e+00 - val_loss: 0.1656 - val_acc: 0.0000e+00\n",
      "Epoch 40/100\n",
      "80/80 [==============================] - 0s 241us/step - loss: 0.2291 - acc: 0.0000e+00 - val_loss: 0.1647 - val_acc: 0.0000e+00\n",
      "Epoch 41/100\n",
      "80/80 [==============================] - 0s 234us/step - loss: 0.2269 - acc: 0.0000e+00 - val_loss: 0.1638 - val_acc: 0.0000e+00\n",
      "Epoch 42/100\n",
      "80/80 [==============================] - 0s 233us/step - loss: 0.2245 - acc: 0.0000e+00 - val_loss: 0.1629 - val_acc: 0.0000e+00\n",
      "Epoch 43/100\n",
      "80/80 [==============================] - 0s 231us/step - loss: 0.2225 - acc: 0.0000e+00 - val_loss: 0.1621 - val_acc: 0.0000e+00\n",
      "Epoch 44/100\n",
      "80/80 [==============================] - 0s 238us/step - loss: 0.2204 - acc: 0.0000e+00 - val_loss: 0.1612 - val_acc: 0.0000e+00\n",
      "Epoch 45/100\n",
      "80/80 [==============================] - 0s 246us/step - loss: 0.2185 - acc: 0.0000e+00 - val_loss: 0.1604 - val_acc: 0.0000e+00\n",
      "Epoch 46/100\n",
      "80/80 [==============================] - 0s 229us/step - loss: 0.2166 - acc: 0.0000e+00 - val_loss: 0.1595 - val_acc: 0.0000e+00\n",
      "Epoch 47/100\n",
      "80/80 [==============================] - 0s 230us/step - loss: 0.2150 - acc: 0.0000e+00 - val_loss: 0.1587 - val_acc: 0.0000e+00\n",
      "Epoch 48/100\n",
      "80/80 [==============================] - 0s 237us/step - loss: 0.2134 - acc: 0.0000e+00 - val_loss: 0.1579 - val_acc: 0.0000e+00\n",
      "Epoch 49/100\n",
      "80/80 [==============================] - 0s 235us/step - loss: 0.2117 - acc: 0.0000e+00 - val_loss: 0.1570 - val_acc: 0.0000e+00\n",
      "Epoch 50/100\n",
      "80/80 [==============================] - 0s 238us/step - loss: 0.2102 - acc: 0.0000e+00 - val_loss: 0.1562 - val_acc: 0.0000e+00\n",
      "Epoch 51/100\n",
      "80/80 [==============================] - 0s 231us/step - loss: 0.2087 - acc: 0.0000e+00 - val_loss: 0.1555 - val_acc: 0.0000e+00\n",
      "Epoch 52/100\n",
      "80/80 [==============================] - 0s 232us/step - loss: 0.2073 - acc: 0.0000e+00 - val_loss: 0.1549 - val_acc: 0.0500\n",
      "Epoch 53/100\n",
      "80/80 [==============================] - 0s 236us/step - loss: 0.2058 - acc: 0.0000e+00 - val_loss: 0.1543 - val_acc: 0.0500\n",
      "Epoch 54/100\n",
      "80/80 [==============================] - 0s 236us/step - loss: 0.2044 - acc: 0.0000e+00 - val_loss: 0.1537 - val_acc: 0.0500\n",
      "Epoch 55/100\n",
      "80/80 [==============================] - 0s 238us/step - loss: 0.2030 - acc: 0.0000e+00 - val_loss: 0.1531 - val_acc: 0.0500\n",
      "Epoch 56/100\n",
      "80/80 [==============================] - 0s 233us/step - loss: 0.2016 - acc: 0.0000e+00 - val_loss: 0.1524 - val_acc: 0.0500\n",
      "Epoch 57/100\n",
      "80/80 [==============================] - 0s 242us/step - loss: 0.2003 - acc: 0.0000e+00 - val_loss: 0.1520 - val_acc: 0.0500\n",
      "Epoch 58/100\n",
      "80/80 [==============================] - 0s 243us/step - loss: 0.1989 - acc: 0.0000e+00 - val_loss: 0.1515 - val_acc: 0.0500\n",
      "Epoch 59/100\n",
      "80/80 [==============================] - 0s 239us/step - loss: 0.1976 - acc: 0.0000e+00 - val_loss: 0.1510 - val_acc: 0.0500\n",
      "Epoch 60/100\n",
      "80/80 [==============================] - 0s 236us/step - loss: 0.1961 - acc: 0.0000e+00 - val_loss: 0.1505 - val_acc: 0.0500\n",
      "Epoch 61/100\n",
      "80/80 [==============================] - 0s 240us/step - loss: 0.1949 - acc: 0.0000e+00 - val_loss: 0.1500 - val_acc: 0.0500\n",
      "Epoch 62/100\n",
      "80/80 [==============================] - 0s 234us/step - loss: 0.1936 - acc: 0.0000e+00 - val_loss: 0.1494 - val_acc: 0.0500\n",
      "Epoch 63/100\n",
      "80/80 [==============================] - 0s 235us/step - loss: 0.1924 - acc: 0.0000e+00 - val_loss: 0.1489 - val_acc: 0.0500\n",
      "Epoch 64/100\n",
      "80/80 [==============================] - 0s 239us/step - loss: 0.1911 - acc: 0.0000e+00 - val_loss: 0.1482 - val_acc: 0.0500\n",
      "Epoch 65/100\n",
      "80/80 [==============================] - 0s 240us/step - loss: 0.1899 - acc: 0.0000e+00 - val_loss: 0.1476 - val_acc: 0.0500\n",
      "Epoch 66/100\n",
      "80/80 [==============================] - 0s 244us/step - loss: 0.1887 - acc: 0.0000e+00 - val_loss: 0.1469 - val_acc: 0.0500\n",
      "Epoch 67/100\n",
      "80/80 [==============================] - 0s 244us/step - loss: 0.1875 - acc: 0.0000e+00 - val_loss: 0.1462 - val_acc: 0.0500\n",
      "Epoch 68/100\n",
      "80/80 [==============================] - 0s 242us/step - loss: 0.1863 - acc: 0.0000e+00 - val_loss: 0.1455 - val_acc: 0.0500\n",
      "Epoch 69/100\n",
      "80/80 [==============================] - 0s 234us/step - loss: 0.1851 - acc: 0.0000e+00 - val_loss: 0.1448 - val_acc: 0.0500\n",
      "Epoch 70/100\n",
      "80/80 [==============================] - 0s 230us/step - loss: 0.1839 - acc: 0.0000e+00 - val_loss: 0.1441 - val_acc: 0.0500\n",
      "Epoch 71/100\n",
      "80/80 [==============================] - 0s 232us/step - loss: 0.1827 - acc: 0.0000e+00 - val_loss: 0.1434 - val_acc: 0.0500\n",
      "Epoch 72/100\n",
      "80/80 [==============================] - 0s 230us/step - loss: 0.1815 - acc: 0.0000e+00 - val_loss: 0.1426 - val_acc: 0.0500\n",
      "Epoch 73/100\n",
      "80/80 [==============================] - 0s 233us/step - loss: 0.1803 - acc: 0.0000e+00 - val_loss: 0.1419 - val_acc: 0.0500\n",
      "Epoch 74/100\n",
      "80/80 [==============================] - 0s 226us/step - loss: 0.1792 - acc: 0.0000e+00 - val_loss: 0.1411 - val_acc: 0.0500\n",
      "Epoch 75/100\n",
      "80/80 [==============================] - 0s 230us/step - loss: 0.1780 - acc: 0.0000e+00 - val_loss: 0.1403 - val_acc: 0.0500\n",
      "Epoch 76/100\n",
      "80/80 [==============================] - 0s 229us/step - loss: 0.1769 - acc: 0.0000e+00 - val_loss: 0.1396 - val_acc: 0.0500\n",
      "Epoch 77/100\n",
      "80/80 [==============================] - 0s 230us/step - loss: 0.1756 - acc: 0.0000e+00 - val_loss: 0.1388 - val_acc: 0.0500\n",
      "Epoch 78/100\n",
      "80/80 [==============================] - 0s 227us/step - loss: 0.1745 - acc: 0.0000e+00 - val_loss: 0.1382 - val_acc: 0.0500\n",
      "Epoch 79/100\n",
      "80/80 [==============================] - 0s 236us/step - loss: 0.1733 - acc: 0.0000e+00 - val_loss: 0.1375 - val_acc: 0.0500\n",
      "Epoch 80/100\n",
      "80/80 [==============================] - 0s 238us/step - loss: 0.1721 - acc: 0.0000e+00 - val_loss: 0.1369 - val_acc: 0.0500\n",
      "Epoch 81/100\n",
      "80/80 [==============================] - 0s 234us/step - loss: 0.1709 - acc: 0.0000e+00 - val_loss: 0.1362 - val_acc: 0.0500\n",
      "Epoch 82/100\n",
      "80/80 [==============================] - 0s 232us/step - loss: 0.1697 - acc: 0.0000e+00 - val_loss: 0.1355 - val_acc: 0.0500\n",
      "Epoch 83/100\n",
      "80/80 [==============================] - 0s 235us/step - loss: 0.1685 - acc: 0.0000e+00 - val_loss: 0.1348 - val_acc: 0.0500\n",
      "Epoch 84/100\n",
      "80/80 [==============================] - 0s 247us/step - loss: 0.1673 - acc: 0.0000e+00 - val_loss: 0.1342 - val_acc: 0.0500\n",
      "Epoch 85/100\n",
      "80/80 [==============================] - 0s 230us/step - loss: 0.1661 - acc: 0.0000e+00 - val_loss: 0.1335 - val_acc: 0.0500\n",
      "Epoch 86/100\n",
      "80/80 [==============================] - 0s 230us/step - loss: 0.1649 - acc: 0.0000e+00 - val_loss: 0.1328 - val_acc: 0.0500\n",
      "Epoch 87/100\n",
      "80/80 [==============================] - 0s 239us/step - loss: 0.1637 - acc: 0.0000e+00 - val_loss: 0.1321 - val_acc: 0.0500\n",
      "Epoch 88/100\n",
      "80/80 [==============================] - 0s 243us/step - loss: 0.1625 - acc: 0.0000e+00 - val_loss: 0.1314 - val_acc: 0.0500\n",
      "Epoch 89/100\n",
      "80/80 [==============================] - 0s 235us/step - loss: 0.1613 - acc: 0.0000e+00 - val_loss: 0.1307 - val_acc: 0.0500\n",
      "Epoch 90/100\n",
      "80/80 [==============================] - 0s 235us/step - loss: 0.1601 - acc: 0.0000e+00 - val_loss: 0.1300 - val_acc: 0.0500\n",
      "Epoch 91/100\n",
      "80/80 [==============================] - 0s 241us/step - loss: 0.1589 - acc: 0.0000e+00 - val_loss: 0.1293 - val_acc: 0.0500\n",
      "Epoch 92/100\n",
      "80/80 [==============================] - 0s 233us/step - loss: 0.1577 - acc: 0.0000e+00 - val_loss: 0.1287 - val_acc: 0.0500\n",
      "Epoch 93/100\n",
      "80/80 [==============================] - 0s 239us/step - loss: 0.1565 - acc: 0.0000e+00 - val_loss: 0.1280 - val_acc: 0.0500\n",
      "Epoch 94/100\n",
      "80/80 [==============================] - 0s 232us/step - loss: 0.1553 - acc: 0.0000e+00 - val_loss: 0.1273 - val_acc: 0.0500\n",
      "Epoch 95/100\n",
      "80/80 [==============================] - 0s 233us/step - loss: 0.1541 - acc: 0.0000e+00 - val_loss: 0.1267 - val_acc: 0.0500\n",
      "Epoch 96/100\n",
      "80/80 [==============================] - 0s 234us/step - loss: 0.1528 - acc: 0.0000e+00 - val_loss: 0.1260 - val_acc: 0.0500\n",
      "Epoch 97/100\n",
      "80/80 [==============================] - 0s 235us/step - loss: 0.1516 - acc: 0.0000e+00 - val_loss: 0.1253 - val_acc: 0.0500\n",
      "Epoch 98/100\n",
      "80/80 [==============================] - 0s 238us/step - loss: 0.1505 - acc: 0.0000e+00 - val_loss: 0.1244 - val_acc: 0.0500\n",
      "Epoch 99/100\n",
      "80/80 [==============================] - 0s 234us/step - loss: 0.1492 - acc: 0.0000e+00 - val_loss: 0.1234 - val_acc: 0.0500\n",
      "Epoch 100/100\n",
      "80/80 [==============================] - 0s 237us/step - loss: 0.1480 - acc: 0.0000e+00 - val_loss: 0.1225 - val_acc: 0.0500\n"
     ]
    }
   ],
   "source": [
    "history = model.fit(x_train, y_train, epochs = 100, validation_data = (x_test, y_test))"
   ]
  },
  {
   "cell_type": "code",
   "execution_count": 43,
   "metadata": {
    "collapsed": true
   },
   "outputs": [],
   "source": [
    "results = model.predict(x_test)"
   ]
  },
  {
   "cell_type": "code",
   "execution_count": 44,
   "metadata": {},
   "outputs": [
    {
     "data": {
      "image/png": "[encoded data removed]",
      "text/plain": [
       "<Figure size 432x288 with 1 Axes>"
      ]
     },
     "metadata": {
      "needs_background": "light"
     },
     "output_type": "display_data"
    }
   ],
   "source": [
    "plt.scatter(range(20),results,c='r')\n",
    "plt.scatter(range(20),y_test,c='g')\n",
    "plt.show()"
   ]
  },
  {
   "cell_type": "code",
   "execution_count": 45,
   "metadata": {},
   "outputs": [
    {
     "data": {
      "image/png": "[encoded data removed]",
      "text/plain": [
       "<Figure size 432x288 with 1 Axes>"
      ]
     },
     "metadata": {
      "needs_background": "light"
     },
     "output_type": "display_data"
    }
   ],
   "source": [
    "plt.plot(history.history['loss'])\n",
    "plt.show()"
   ]
  },
  {
   "cell_type": "code",
   "execution_count": 9,
   "metadata": {
    "collapsed": true
   },
   "outputs": [],
   "source": [
    "model2 = Sequential()\n",
    "model2.add(LSTM((1),batch_input_shape=(None,5,1),return_sequences = True))\n",
    "model2.add(LSTM((1),return_sequences = False))\n"
   ]
  },
  {
   "cell_type": "code",
   "execution_count": 10,
   "metadata": {},
   "outputs": [
    {
     "name": "stdout",
     "output_type": "stream",
     "text": [
      "_________________________________________________________________\n",
      "Layer (type)                 Output Shape              Param #   \n",
      "=================================================================\n",
      "lstm_2 (LSTM)                (None, 5, 1)              12        \n",
      "_________________________________________________________________\n",
      "lstm_3 (LSTM)                (None, 1)                 12        \n",
      "=================================================================\n",
      "Total params: 24\n",
      "Trainable params: 24\n",
      "Non-trainable params: 0\n",
      "_________________________________________________________________\n"
     ]
    }
   ],
   "source": [
    "model2.summary()"
   ]
  },
  {
   "cell_type": "code",
   "execution_count": 11,
   "metadata": {
    "collapsed": true
   },
   "outputs": [],
   "source": [
    "plot_model(model2, show_shapes=True, to_file='lstm2.png')"
   ]
  },
  {
   "cell_type": "code",
   "execution_count": 51,
   "metadata": {
    "collapsed": true
   },
   "outputs": [],
   "source": [
    "model2.compile(loss='mean_absolute_error', optimizer = 'adam', metrics = ['accuracy'])"
   ]
  },
  {
   "cell_type": "code",
   "execution_count": 55,
   "metadata": {},
   "outputs": [
    {
     "name": "stdout",
     "output_type": "stream",
     "text": [
      "Train on 80 samples, validate on 20 samples\n",
      "Epoch 1/200\n",
      "80/80 [==============================] - 0s 634us/step - loss: 0.2028 - acc: 0.0000e+00 - val_loss: 0.2102 - val_acc: 0.0500\n",
      "Epoch 2/200\n",
      "80/80 [==============================] - 0s 322us/step - loss: 0.2021 - acc: 0.0000e+00 - val_loss: 0.2102 - val_acc: 0.0500\n",
      "Epoch 3/200\n",
      "80/80 [==============================] - 0s 315us/step - loss: 0.2014 - acc: 0.0000e+00 - val_loss: 0.2103 - val_acc: 0.0500\n",
      "Epoch 4/200\n",
      "80/80 [==============================] - 0s 365us/step - loss: 0.2007 - acc: 0.0000e+00 - val_loss: 0.2104 - val_acc: 0.0500\n",
      "Epoch 5/200\n",
      "80/80 [==============================] - 0s 349us/step - loss: 0.2000 - acc: 0.0000e+00 - val_loss: 0.2103 - val_acc: 0.0500\n",
      "Epoch 6/200\n",
      "80/80 [==============================] - 0s 352us/step - loss: 0.1993 - acc: 0.0000e+00 - val_loss: 0.2102 - val_acc: 0.0500\n",
      "Epoch 7/200\n",
      "80/80 [==============================] - 0s 346us/step - loss: 0.1986 - acc: 0.0000e+00 - val_loss: 0.2099 - val_acc: 0.0500\n",
      "Epoch 8/200\n",
      "80/80 [==============================] - 0s 359us/step - loss: 0.1978 - acc: 0.0000e+00 - val_loss: 0.2094 - val_acc: 0.0500\n",
      "Epoch 9/200\n",
      "80/80 [==============================] - 0s 342us/step - loss: 0.1970 - acc: 0.0000e+00 - val_loss: 0.2090 - val_acc: 0.0500\n",
      "Epoch 10/200\n",
      "80/80 [==============================] - 0s 346us/step - loss: 0.1963 - acc: 0.0000e+00 - val_loss: 0.2087 - val_acc: 0.0500\n",
      "Epoch 11/200\n",
      "80/80 [==============================] - 0s 353us/step - loss: 0.1955 - acc: 0.0000e+00 - val_loss: 0.2082 - val_acc: 0.0500\n",
      "Epoch 12/200\n",
      "80/80 [==============================] - 0s 348us/step - loss: 0.1948 - acc: 0.0000e+00 - val_loss: 0.2080 - val_acc: 0.0500\n",
      "Epoch 13/200\n",
      "80/80 [==============================] - 0s 342us/step - loss: 0.1940 - acc: 0.0000e+00 - val_loss: 0.2078 - val_acc: 0.0500\n",
      "Epoch 14/200\n",
      "80/80 [==============================] - 0s 343us/step - loss: 0.1932 - acc: 0.0000e+00 - val_loss: 0.2074 - val_acc: 0.0500\n",
      "Epoch 15/200\n",
      "80/80 [==============================] - 0s 346us/step - loss: 0.1924 - acc: 0.0000e+00 - val_loss: 0.2068 - val_acc: 0.0500\n",
      "Epoch 16/200\n",
      "80/80 [==============================] - 0s 353us/step - loss: 0.1916 - acc: 0.0000e+00 - val_loss: 0.2064 - val_acc: 0.0500\n",
      "Epoch 17/200\n",
      "80/80 [==============================] - 0s 365us/step - loss: 0.1907 - acc: 0.0000e+00 - val_loss: 0.2057 - val_acc: 0.0500\n",
      "Epoch 18/200\n",
      "80/80 [==============================] - 0s 347us/step - loss: 0.1899 - acc: 0.0000e+00 - val_loss: 0.2050 - val_acc: 0.0500\n",
      "Epoch 19/200\n",
      "80/80 [==============================] - 0s 347us/step - loss: 0.1890 - acc: 0.0000e+00 - val_loss: 0.2044 - val_acc: 0.0500\n",
      "Epoch 20/200\n",
      "80/80 [==============================] - 0s 348us/step - loss: 0.1881 - acc: 0.0000e+00 - val_loss: 0.2032 - val_acc: 0.0500\n",
      "Epoch 21/200\n",
      "80/80 [==============================] - 0s 354us/step - loss: 0.1873 - acc: 0.0000e+00 - val_loss: 0.2020 - val_acc: 0.0500\n",
      "Epoch 22/200\n",
      "80/80 [==============================] - 0s 350us/step - loss: 0.1864 - acc: 0.0000e+00 - val_loss: 0.2011 - val_acc: 0.0500\n",
      "Epoch 23/200\n",
      "80/80 [==============================] - 0s 351us/step - loss: 0.1854 - acc: 0.0000e+00 - val_loss: 0.2001 - val_acc: 0.0500\n",
      "Epoch 24/200\n",
      "80/80 [==============================] - 0s 351us/step - loss: 0.1845 - acc: 0.0000e+00 - val_loss: 0.1992 - val_acc: 0.0500\n",
      "Epoch 25/200\n",
      "80/80 [==============================] - 0s 355us/step - loss: 0.1836 - acc: 0.0000e+00 - val_loss: 0.1986 - val_acc: 0.0500\n",
      "Epoch 26/200\n",
      "80/80 [==============================] - 0s 348us/step - loss: 0.1826 - acc: 0.0000e+00 - val_loss: 0.1979 - val_acc: 0.0500\n",
      "Epoch 27/200\n",
      "80/80 [==============================] - 0s 355us/step - loss: 0.1816 - acc: 0.0000e+00 - val_loss: 0.1964 - val_acc: 0.0500\n",
      "Epoch 28/200\n",
      "80/80 [==============================] - 0s 342us/step - loss: 0.1806 - acc: 0.0000e+00 - val_loss: 0.1950 - val_acc: 0.0500\n",
      "Epoch 29/200\n",
      "80/80 [==============================] - 0s 346us/step - loss: 0.1796 - acc: 0.0000e+00 - val_loss: 0.1944 - val_acc: 0.0500\n",
      "Epoch 30/200\n",
      "80/80 [==============================] - 0s 353us/step - loss: 0.1785 - acc: 0.0000e+00 - val_loss: 0.1937 - val_acc: 0.0500\n",
      "Epoch 31/200\n",
      "80/80 [==============================] - 0s 350us/step - loss: 0.1774 - acc: 0.0000e+00 - val_loss: 0.1933 - val_acc: 0.0500\n",
      "Epoch 32/200\n",
      "80/80 [==============================] - 0s 361us/step - loss: 0.1763 - acc: 0.0000e+00 - val_loss: 0.1931 - val_acc: 0.0500\n",
      "Epoch 33/200\n",
      "80/80 [==============================] - 0s 347us/step - loss: 0.1753 - acc: 0.0000e+00 - val_loss: 0.1927 - val_acc: 0.0500\n",
      "Epoch 34/200\n",
      "80/80 [==============================] - 0s 356us/step - loss: 0.1742 - acc: 0.0000e+00 - val_loss: 0.1917 - val_acc: 0.0500\n",
      "Epoch 35/200\n",
      "80/80 [==============================] - 0s 339us/step - loss: 0.1730 - acc: 0.0000e+00 - val_loss: 0.1907 - val_acc: 0.0500\n",
      "Epoch 36/200\n",
      "80/80 [==============================] - 0s 345us/step - loss: 0.1719 - acc: 0.0000e+00 - val_loss: 0.1897 - val_acc: 0.0500\n",
      "Epoch 37/200\n",
      "80/80 [==============================] - 0s 350us/step - loss: 0.1707 - acc: 0.0000e+00 - val_loss: 0.1884 - val_acc: 0.0500\n",
      "Epoch 38/200\n",
      "80/80 [==============================] - 0s 347us/step - loss: 0.1695 - acc: 0.0000e+00 - val_loss: 0.1871 - val_acc: 0.0500\n",
      "Epoch 39/200\n",
      "80/80 [==============================] - 0s 345us/step - loss: 0.1683 - acc: 0.0000e+00 - val_loss: 0.1855 - val_acc: 0.0500\n",
      "Epoch 40/200\n",
      "80/80 [==============================] - 0s 358us/step - loss: 0.1670 - acc: 0.0000e+00 - val_loss: 0.1838 - val_acc: 0.0500\n",
      "Epoch 41/200\n",
      "80/80 [==============================] - 0s 353us/step - loss: 0.1658 - acc: 0.0000e+00 - val_loss: 0.1821 - val_acc: 0.0500\n",
      "Epoch 42/200\n",
      "80/80 [==============================] - 0s 343us/step - loss: 0.1644 - acc: 0.0000e+00 - val_loss: 0.1805 - val_acc: 0.0500\n",
      "Epoch 43/200\n",
      "80/80 [==============================] - 0s 346us/step - loss: 0.1631 - acc: 0.0000e+00 - val_loss: 0.1789 - val_acc: 0.0500\n",
      "Epoch 44/200\n",
      "80/80 [==============================] - 0s 351us/step - loss: 0.1617 - acc: 0.0000e+00 - val_loss: 0.1774 - val_acc: 0.0500\n",
      "Epoch 45/200\n",
      "80/80 [==============================] - 0s 349us/step - loss: 0.1604 - acc: 0.0000e+00 - val_loss: 0.1753 - val_acc: 0.0500\n",
      "Epoch 46/200\n",
      "80/80 [==============================] - 0s 347us/step - loss: 0.1589 - acc: 0.0000e+00 - val_loss: 0.1736 - val_acc: 0.0500\n",
      "Epoch 47/200\n",
      "80/80 [==============================] - 0s 346us/step - loss: 0.1575 - acc: 0.0000e+00 - val_loss: 0.1724 - val_acc: 0.0500\n",
      "Epoch 48/200\n",
      "80/80 [==============================] - 0s 345us/step - loss: 0.1560 - acc: 0.0000e+00 - val_loss: 0.1706 - val_acc: 0.0500\n",
      "Epoch 49/200\n",
      "80/80 [==============================] - 0s 355us/step - loss: 0.1545 - acc: 0.0000e+00 - val_loss: 0.1693 - val_acc: 0.0500\n",
      "Epoch 50/200\n",
      "80/80 [==============================] - 0s 367us/step - loss: 0.1529 - acc: 0.0000e+00 - val_loss: 0.1677 - val_acc: 0.0500\n",
      "Epoch 51/200\n",
      "80/80 [==============================] - 0s 359us/step - loss: 0.1513 - acc: 0.0000e+00 - val_loss: 0.1661 - val_acc: 0.0500\n",
      "Epoch 52/200\n",
      "80/80 [==============================] - 0s 363us/step - loss: 0.1498 - acc: 0.0000e+00 - val_loss: 0.1641 - val_acc: 0.0500\n",
      "Epoch 53/200\n",
      "80/80 [==============================] - 0s 341us/step - loss: 0.1480 - acc: 0.0000e+00 - val_loss: 0.1624 - val_acc: 0.0500\n",
      "Epoch 54/200\n",
      "80/80 [==============================] - 0s 360us/step - loss: 0.1464 - acc: 0.0000e+00 - val_loss: 0.1604 - val_acc: 0.0500\n",
      "Epoch 55/200\n",
      "80/80 [==============================] - 0s 350us/step - loss: 0.1447 - acc: 0.0000e+00 - val_loss: 0.1582 - val_acc: 0.0500\n",
      "Epoch 56/200\n",
      "80/80 [==============================] - 0s 354us/step - loss: 0.1429 - acc: 0.0000e+00 - val_loss: 0.1560 - val_acc: 0.0500\n",
      "Epoch 57/200\n",
      "80/80 [==============================] - 0s 356us/step - loss: 0.1411 - acc: 0.0000e+00 - val_loss: 0.1537 - val_acc: 0.0500\n",
      "Epoch 58/200\n",
      "80/80 [==============================] - 0s 360us/step - loss: 0.1393 - acc: 0.0000e+00 - val_loss: 0.1518 - val_acc: 0.0500\n",
      "Epoch 59/200\n",
      "80/80 [==============================] - 0s 356us/step - loss: 0.1375 - acc: 0.0000e+00 - val_loss: 0.1505 - val_acc: 0.0500\n",
      "Epoch 60/200\n",
      "80/80 [==============================] - 0s 353us/step - loss: 0.1354 - acc: 0.0000e+00 - val_loss: 0.1482 - val_acc: 0.0500\n",
      "Epoch 61/200\n",
      "80/80 [==============================] - 0s 342us/step - loss: 0.1336 - acc: 0.0000e+00 - val_loss: 0.1455 - val_acc: 0.0500\n",
      "Epoch 62/200\n",
      "80/80 [==============================] - 0s 353us/step - loss: 0.1315 - acc: 0.0000e+00 - val_loss: 0.1427 - val_acc: 0.0500\n",
      "Epoch 63/200\n",
      "80/80 [==============================] - 0s 351us/step - loss: 0.1295 - acc: 0.0000e+00 - val_loss: 0.1397 - val_acc: 0.0500\n",
      "Epoch 64/200\n",
      "80/80 [==============================] - 0s 350us/step - loss: 0.1274 - acc: 0.0000e+00 - val_loss: 0.1366 - val_acc: 0.0500\n",
      "Epoch 65/200\n",
      "80/80 [==============================] - 0s 356us/step - loss: 0.1252 - acc: 0.0000e+00 - val_loss: 0.1338 - val_acc: 0.0500\n",
      "Epoch 66/200\n",
      "80/80 [==============================] - 0s 352us/step - loss: 0.1231 - acc: 0.0000e+00 - val_loss: 0.1309 - val_acc: 0.0500\n",
      "Epoch 67/200\n",
      "80/80 [==============================] - 0s 354us/step - loss: 0.1209 - acc: 0.0000e+00 - val_loss: 0.1283 - val_acc: 0.0500\n",
      "Epoch 68/200\n",
      "80/80 [==============================] - 0s 355us/step - loss: 0.1187 - acc: 0.0000e+00 - val_loss: 0.1263 - val_acc: 0.0500\n",
      "Epoch 69/200\n",
      "80/80 [==============================] - 0s 359us/step - loss: 0.1164 - acc: 0.0000e+00 - val_loss: 0.1234 - val_acc: 0.0500\n",
      "Epoch 70/200\n",
      "80/80 [==============================] - 0s 349us/step - loss: 0.1140 - acc: 0.0000e+00 - val_loss: 0.1205 - val_acc: 0.0500\n",
      "Epoch 71/200\n",
      "80/80 [==============================] - 0s 348us/step - loss: 0.1116 - acc: 0.0000e+00 - val_loss: 0.1177 - val_acc: 0.0500\n",
      "Epoch 72/200\n",
      "80/80 [==============================] - 0s 349us/step - loss: 0.1091 - acc: 0.0000e+00 - val_loss: 0.1147 - val_acc: 0.0500\n",
      "Epoch 73/200\n",
      "80/80 [==============================] - 0s 342us/step - loss: 0.1066 - acc: 0.0000e+00 - val_loss: 0.1116 - val_acc: 0.0500\n",
      "Epoch 74/200\n",
      "80/80 [==============================] - 0s 349us/step - loss: 0.1039 - acc: 0.0000e+00 - val_loss: 0.1086 - val_acc: 0.0500\n",
      "Epoch 75/200\n",
      "80/80 [==============================] - 0s 355us/step - loss: 0.1013 - acc: 0.0000e+00 - val_loss: 0.1051 - val_acc: 0.0500\n",
      "Epoch 76/200\n",
      "80/80 [==============================] - 0s 345us/step - loss: 0.0987 - acc: 0.0000e+00 - val_loss: 0.1013 - val_acc: 0.0500\n",
      "Epoch 77/200\n",
      "80/80 [==============================] - 0s 360us/step - loss: 0.0960 - acc: 0.0000e+00 - val_loss: 0.0985 - val_acc: 0.0500\n",
      "Epoch 78/200\n",
      "80/80 [==============================] - 0s 349us/step - loss: 0.0932 - acc: 0.0000e+00 - val_loss: 0.0952 - val_acc: 0.0500\n",
      "Epoch 79/200\n",
      "80/80 [==============================] - 0s 354us/step - loss: 0.0904 - acc: 0.0000e+00 - val_loss: 0.0924 - val_acc: 0.0500\n",
      "Epoch 80/200\n",
      "80/80 [==============================] - 0s 352us/step - loss: 0.0874 - acc: 0.0000e+00 - val_loss: 0.0897 - val_acc: 0.0500\n",
      "Epoch 81/200\n",
      "80/80 [==============================] - 0s 359us/step - loss: 0.0843 - acc: 0.0000e+00 - val_loss: 0.0868 - val_acc: 0.0500\n",
      "Epoch 82/200\n",
      "80/80 [==============================] - 0s 350us/step - loss: 0.0814 - acc: 0.0000e+00 - val_loss: 0.0839 - val_acc: 0.0500\n",
      "Epoch 83/200\n",
      "80/80 [==============================] - 0s 356us/step - loss: 0.0782 - acc: 0.0000e+00 - val_loss: 0.0804 - val_acc: 0.0500\n",
      "Epoch 84/200\n",
      "80/80 [==============================] - 0s 348us/step - loss: 0.0750 - acc: 0.0000e+00 - val_loss: 0.0769 - val_acc: 0.0500\n",
      "Epoch 85/200\n",
      "80/80 [==============================] - 0s 358us/step - loss: 0.0718 - acc: 0.0000e+00 - val_loss: 0.0734 - val_acc: 0.0500\n",
      "Epoch 86/200\n",
      "80/80 [==============================] - 0s 352us/step - loss: 0.0686 - acc: 0.0000e+00 - val_loss: 0.0694 - val_acc: 0.0500\n",
      "Epoch 87/200\n",
      "80/80 [==============================] - 0s 352us/step - loss: 0.0653 - acc: 0.0000e+00 - val_loss: 0.0650 - val_acc: 0.0500\n",
      "Epoch 88/200\n",
      "80/80 [==============================] - 0s 352us/step - loss: 0.0618 - acc: 0.0000e+00 - val_loss: 0.0614 - val_acc: 0.0500\n",
      "Epoch 89/200\n",
      "80/80 [==============================] - 0s 354us/step - loss: 0.0584 - acc: 0.0000e+00 - val_loss: 0.0565 - val_acc: 0.0500\n",
      "Epoch 90/200\n",
      "80/80 [==============================] - 0s 358us/step - loss: 0.0549 - acc: 0.0000e+00 - val_loss: 0.0524 - val_acc: 0.0500\n",
      "Epoch 91/200\n",
      "80/80 [==============================] - 0s 342us/step - loss: 0.0513 - acc: 0.0000e+00 - val_loss: 0.0477 - val_acc: 0.0500\n",
      "Epoch 92/200\n",
      "80/80 [==============================] - 0s 365us/step - loss: 0.0478 - acc: 0.0000e+00 - val_loss: 0.0435 - val_acc: 0.0500\n",
      "Epoch 93/200\n",
      "80/80 [==============================] - 0s 349us/step - loss: 0.0440 - acc: 0.0000e+00 - val_loss: 0.0397 - val_acc: 0.0500\n",
      "Epoch 94/200\n",
      "80/80 [==============================] - 0s 349us/step - loss: 0.0402 - acc: 0.0000e+00 - val_loss: 0.0360 - val_acc: 0.0500\n",
      "Epoch 95/200\n",
      "80/80 [==============================] - 0s 355us/step - loss: 0.0364 - acc: 0.0000e+00 - val_loss: 0.0321 - val_acc: 0.0500\n",
      "Epoch 96/200\n",
      "80/80 [==============================] - 0s 358us/step - loss: 0.0325 - acc: 0.0000e+00 - val_loss: 0.0278 - val_acc: 0.0500\n",
      "Epoch 97/200\n",
      "80/80 [==============================] - 0s 346us/step - loss: 0.0286 - acc: 0.0000e+00 - val_loss: 0.0242 - val_acc: 0.0500\n",
      "Epoch 98/200\n",
      "80/80 [==============================] - 0s 347us/step - loss: 0.0257 - acc: 0.0000e+00 - val_loss: 0.0228 - val_acc: 0.0500\n",
      "Epoch 99/200\n",
      "80/80 [==============================] - 0s 363us/step - loss: 0.0234 - acc: 0.0000e+00 - val_loss: 0.0226 - val_acc: 0.0500\n",
      "Epoch 100/200\n",
      "80/80 [==============================] - 0s 350us/step - loss: 0.0218 - acc: 0.0000e+00 - val_loss: 0.0218 - val_acc: 0.0500\n",
      "Epoch 101/200\n",
      "80/80 [==============================] - 0s 349us/step - loss: 0.0208 - acc: 0.0000e+00 - val_loss: 0.0214 - val_acc: 0.0500\n",
      "Epoch 102/200\n",
      "80/80 [==============================] - 0s 346us/step - loss: 0.0203 - acc: 0.0000e+00 - val_loss: 0.0219 - val_acc: 0.0500\n",
      "Epoch 103/200\n",
      "80/80 [==============================] - 0s 353us/step - loss: 0.0200 - acc: 0.0000e+00 - val_loss: 0.0227 - val_acc: 0.0500\n",
      "Epoch 104/200\n",
      "80/80 [==============================] - 0s 357us/step - loss: 0.0198 - acc: 0.0000e+00 - val_loss: 0.0229 - val_acc: 0.0500\n",
      "Epoch 105/200\n",
      "80/80 [==============================] - 0s 348us/step - loss: 0.0198 - acc: 0.0000e+00 - val_loss: 0.0230 - val_acc: 0.0500\n",
      "Epoch 106/200\n",
      "80/80 [==============================] - 0s 347us/step - loss: 0.0197 - acc: 0.0000e+00 - val_loss: 0.0227 - val_acc: 0.0500\n",
      "Epoch 107/200\n",
      "80/80 [==============================] - 0s 348us/step - loss: 0.0196 - acc: 0.0000e+00 - val_loss: 0.0224 - val_acc: 0.0500\n",
      "Epoch 108/200\n",
      "80/80 [==============================] - 0s 349us/step - loss: 0.0196 - acc: 0.0000e+00 - val_loss: 0.0220 - val_acc: 0.0500\n",
      "Epoch 109/200\n",
      "80/80 [==============================] - 0s 352us/step - loss: 0.0196 - acc: 0.0000e+00 - val_loss: 0.0221 - val_acc: 0.0500\n",
      "Epoch 110/200\n",
      "80/80 [==============================] - 0s 351us/step - loss: 0.0194 - acc: 0.0000e+00 - val_loss: 0.0229 - val_acc: 0.0500\n",
      "Epoch 111/200\n",
      "80/80 [==============================] - 0s 357us/step - loss: 0.0194 - acc: 0.0000e+00 - val_loss: 0.0238 - val_acc: 0.0500\n",
      "Epoch 112/200\n",
      "80/80 [==============================] - 0s 343us/step - loss: 0.0193 - acc: 0.0000e+00 - val_loss: 0.0234 - val_acc: 0.0500\n",
      "Epoch 113/200\n",
      "80/80 [==============================] - 0s 352us/step - loss: 0.0194 - acc: 0.0000e+00 - val_loss: 0.0221 - val_acc: 0.0500\n",
      "Epoch 114/200\n",
      "80/80 [==============================] - 0s 355us/step - loss: 0.0191 - acc: 0.0000e+00 - val_loss: 0.0219 - val_acc: 0.0500\n",
      "Epoch 115/200\n",
      "80/80 [==============================] - 0s 351us/step - loss: 0.0189 - acc: 0.0000e+00 - val_loss: 0.0222 - val_acc: 0.0500\n",
      "Epoch 116/200\n",
      "80/80 [==============================] - 0s 345us/step - loss: 0.0188 - acc: 0.0000e+00 - val_loss: 0.0224 - val_acc: 0.0500\n",
      "Epoch 117/200\n",
      "80/80 [==============================] - 0s 346us/step - loss: 0.0188 - acc: 0.0000e+00 - val_loss: 0.0228 - val_acc: 0.0500\n",
      "Epoch 118/200\n",
      "80/80 [==============================] - 0s 353us/step - loss: 0.0187 - acc: 0.0000e+00 - val_loss: 0.0222 - val_acc: 0.0500\n",
      "Epoch 119/200\n"
     ]
    },
    {
     "name": "stdout",
     "output_type": "stream",
     "text": [
      "80/80 [==============================] - 0s 350us/step - loss: 0.0185 - acc: 0.0000e+00 - val_loss: 0.0218 - val_acc: 0.0500\n",
      "Epoch 120/200\n",
      "80/80 [==============================] - 0s 351us/step - loss: 0.0184 - acc: 0.0000e+00 - val_loss: 0.0218 - val_acc: 0.0500\n",
      "Epoch 121/200\n",
      "80/80 [==============================] - 0s 353us/step - loss: 0.0184 - acc: 0.0000e+00 - val_loss: 0.0215 - val_acc: 0.0500\n",
      "Epoch 122/200\n",
      "80/80 [==============================] - 0s 353us/step - loss: 0.0183 - acc: 0.0000e+00 - val_loss: 0.0210 - val_acc: 0.0500\n",
      "Epoch 123/200\n",
      "80/80 [==============================] - 0s 348us/step - loss: 0.0181 - acc: 0.0000e+00 - val_loss: 0.0215 - val_acc: 0.0500\n",
      "Epoch 124/200\n",
      "80/80 [==============================] - 0s 352us/step - loss: 0.0182 - acc: 0.0000e+00 - val_loss: 0.0217 - val_acc: 0.0500\n",
      "Epoch 125/200\n",
      "80/80 [==============================] - 0s 347us/step - loss: 0.0181 - acc: 0.0000e+00 - val_loss: 0.0207 - val_acc: 0.0500\n",
      "Epoch 126/200\n",
      "80/80 [==============================] - 0s 352us/step - loss: 0.0180 - acc: 0.0000e+00 - val_loss: 0.0203 - val_acc: 0.0500\n",
      "Epoch 127/200\n",
      "80/80 [==============================] - 0s 347us/step - loss: 0.0178 - acc: 0.0000e+00 - val_loss: 0.0209 - val_acc: 0.0500\n",
      "Epoch 128/200\n",
      "80/80 [==============================] - 0s 352us/step - loss: 0.0178 - acc: 0.0000e+00 - val_loss: 0.0212 - val_acc: 0.0500\n",
      "Epoch 129/200\n",
      "80/80 [==============================] - 0s 345us/step - loss: 0.0178 - acc: 0.0000e+00 - val_loss: 0.0209 - val_acc: 0.0500\n",
      "Epoch 130/200\n",
      "80/80 [==============================] - 0s 356us/step - loss: 0.0176 - acc: 0.0000e+00 - val_loss: 0.0204 - val_acc: 0.0500\n",
      "Epoch 131/200\n",
      "80/80 [==============================] - 0s 349us/step - loss: 0.0175 - acc: 0.0000e+00 - val_loss: 0.0203 - val_acc: 0.0500\n",
      "Epoch 132/200\n",
      "80/80 [==============================] - 0s 354us/step - loss: 0.0174 - acc: 0.0000e+00 - val_loss: 0.0203 - val_acc: 0.0500\n",
      "Epoch 133/200\n",
      "80/80 [==============================] - 0s 358us/step - loss: 0.0174 - acc: 0.0000e+00 - val_loss: 0.0202 - val_acc: 0.0500\n",
      "Epoch 134/200\n",
      "80/80 [==============================] - 0s 354us/step - loss: 0.0173 - acc: 0.0000e+00 - val_loss: 0.0202 - val_acc: 0.0500\n",
      "Epoch 135/200\n",
      "80/80 [==============================] - 0s 362us/step - loss: 0.0172 - acc: 0.0000e+00 - val_loss: 0.0203 - val_acc: 0.0500\n",
      "Epoch 136/200\n",
      "80/80 [==============================] - 0s 357us/step - loss: 0.0172 - acc: 0.0000e+00 - val_loss: 0.0199 - val_acc: 0.0500\n",
      "Epoch 137/200\n",
      "80/80 [==============================] - 0s 352us/step - loss: 0.0171 - acc: 0.0000e+00 - val_loss: 0.0196 - val_acc: 0.0500\n",
      "Epoch 138/200\n",
      "80/80 [==============================] - 0s 354us/step - loss: 0.0171 - acc: 0.0000e+00 - val_loss: 0.0197 - val_acc: 0.0500\n",
      "Epoch 139/200\n",
      "80/80 [==============================] - 0s 351us/step - loss: 0.0171 - acc: 0.0000e+00 - val_loss: 0.0193 - val_acc: 0.0500\n",
      "Epoch 140/200\n",
      "80/80 [==============================] - 0s 350us/step - loss: 0.0170 - acc: 0.0000e+00 - val_loss: 0.0200 - val_acc: 0.0500\n",
      "Epoch 141/200\n",
      "80/80 [==============================] - 0s 350us/step - loss: 0.0170 - acc: 0.0000e+00 - val_loss: 0.0205 - val_acc: 0.0500\n",
      "Epoch 142/200\n",
      "80/80 [==============================] - 0s 350us/step - loss: 0.0169 - acc: 0.0000e+00 - val_loss: 0.0201 - val_acc: 0.0500\n",
      "Epoch 143/200\n",
      "80/80 [==============================] - 0s 347us/step - loss: 0.0168 - acc: 0.0000e+00 - val_loss: 0.0196 - val_acc: 0.0500\n",
      "Epoch 144/200\n",
      "80/80 [==============================] - 0s 348us/step - loss: 0.0168 - acc: 0.0000e+00 - val_loss: 0.0192 - val_acc: 0.0500\n",
      "Epoch 145/200\n",
      "80/80 [==============================] - 0s 347us/step - loss: 0.0166 - acc: 0.0000e+00 - val_loss: 0.0186 - val_acc: 0.0500\n",
      "Epoch 146/200\n",
      "80/80 [==============================] - 0s 350us/step - loss: 0.0167 - acc: 0.0000e+00 - val_loss: 0.0185 - val_acc: 0.0500\n",
      "Epoch 147/200\n",
      "80/80 [==============================] - 0s 354us/step - loss: 0.0167 - acc: 0.0000e+00 - val_loss: 0.0188 - val_acc: 0.0500\n",
      "Epoch 148/200\n",
      "80/80 [==============================] - 0s 362us/step - loss: 0.0165 - acc: 0.0000e+00 - val_loss: 0.0191 - val_acc: 0.0500\n",
      "Epoch 149/200\n",
      "80/80 [==============================] - 0s 354us/step - loss: 0.0166 - acc: 0.0000e+00 - val_loss: 0.0191 - val_acc: 0.0500\n",
      "Epoch 150/200\n",
      "80/80 [==============================] - 0s 362us/step - loss: 0.0164 - acc: 0.0000e+00 - val_loss: 0.0186 - val_acc: 0.0500\n",
      "Epoch 151/200\n",
      "80/80 [==============================] - 0s 356us/step - loss: 0.0165 - acc: 0.0000e+00 - val_loss: 0.0186 - val_acc: 0.0500\n",
      "Epoch 152/200\n",
      "80/80 [==============================] - 0s 351us/step - loss: 0.0165 - acc: 0.0000e+00 - val_loss: 0.0181 - val_acc: 0.0500\n",
      "Epoch 153/200\n",
      "80/80 [==============================] - 0s 345us/step - loss: 0.0164 - acc: 0.0000e+00 - val_loss: 0.0185 - val_acc: 0.0500\n",
      "Epoch 154/200\n",
      "80/80 [==============================] - 0s 350us/step - loss: 0.0164 - acc: 0.0000e+00 - val_loss: 0.0194 - val_acc: 0.0500\n",
      "Epoch 155/200\n",
      "80/80 [==============================] - 0s 347us/step - loss: 0.0164 - acc: 0.0000e+00 - val_loss: 0.0196 - val_acc: 0.0500\n",
      "Epoch 156/200\n",
      "80/80 [==============================] - 0s 352us/step - loss: 0.0165 - acc: 0.0000e+00 - val_loss: 0.0192 - val_acc: 0.0500\n",
      "Epoch 157/200\n",
      "80/80 [==============================] - 0s 358us/step - loss: 0.0162 - acc: 0.0000e+00 - val_loss: 0.0180 - val_acc: 0.0500\n",
      "Epoch 158/200\n",
      "80/80 [==============================] - 0s 352us/step - loss: 0.0165 - acc: 0.0000e+00 - val_loss: 0.0177 - val_acc: 0.0500\n",
      "Epoch 159/200\n",
      "80/80 [==============================] - 0s 360us/step - loss: 0.0165 - acc: 0.0000e+00 - val_loss: 0.0179 - val_acc: 0.0500\n",
      "Epoch 160/200\n",
      "80/80 [==============================] - 0s 351us/step - loss: 0.0163 - acc: 0.0000e+00 - val_loss: 0.0188 - val_acc: 0.0500\n",
      "Epoch 161/200\n",
      "80/80 [==============================] - 0s 351us/step - loss: 0.0161 - acc: 0.0000e+00 - val_loss: 0.0192 - val_acc: 0.0500\n",
      "Epoch 162/200\n",
      "80/80 [==============================] - 0s 354us/step - loss: 0.0162 - acc: 0.0000e+00 - val_loss: 0.0192 - val_acc: 0.0500\n",
      "Epoch 163/200\n",
      "80/80 [==============================] - 0s 357us/step - loss: 0.0161 - acc: 0.0000e+00 - val_loss: 0.0184 - val_acc: 0.0500\n",
      "Epoch 164/200\n",
      "80/80 [==============================] - 0s 355us/step - loss: 0.0160 - acc: 0.0000e+00 - val_loss: 0.0182 - val_acc: 0.0500\n",
      "Epoch 165/200\n",
      "80/80 [==============================] - 0s 343us/step - loss: 0.0160 - acc: 0.0000e+00 - val_loss: 0.0181 - val_acc: 0.0500\n",
      "Epoch 166/200\n",
      "80/80 [==============================] - 0s 349us/step - loss: 0.0160 - acc: 0.0000e+00 - val_loss: 0.0183 - val_acc: 0.0500\n",
      "Epoch 167/200\n",
      "80/80 [==============================] - 0s 349us/step - loss: 0.0160 - acc: 0.0000e+00 - val_loss: 0.0182 - val_acc: 0.0500\n",
      "Epoch 168/200\n",
      "80/80 [==============================] - 0s 338us/step - loss: 0.0160 - acc: 0.0000e+00 - val_loss: 0.0180 - val_acc: 0.0500\n",
      "Epoch 169/200\n",
      "80/80 [==============================] - 0s 348us/step - loss: 0.0159 - acc: 0.0000e+00 - val_loss: 0.0181 - val_acc: 0.0500\n",
      "Epoch 170/200\n",
      "80/80 [==============================] - 0s 347us/step - loss: 0.0159 - acc: 0.0000e+00 - val_loss: 0.0185 - val_acc: 0.0500\n",
      "Epoch 171/200\n",
      "80/80 [==============================] - 0s 356us/step - loss: 0.0159 - acc: 0.0000e+00 - val_loss: 0.0190 - val_acc: 0.0500\n",
      "Epoch 172/200\n",
      "80/80 [==============================] - 0s 345us/step - loss: 0.0160 - acc: 0.0000e+00 - val_loss: 0.0192 - val_acc: 0.0500\n",
      "Epoch 173/200\n",
      "80/80 [==============================] - 0s 354us/step - loss: 0.0159 - acc: 0.0000e+00 - val_loss: 0.0187 - val_acc: 0.0500\n",
      "Epoch 174/200\n",
      "80/80 [==============================] - 0s 359us/step - loss: 0.0158 - acc: 0.0000e+00 - val_loss: 0.0180 - val_acc: 0.0500\n",
      "Epoch 175/200\n",
      "80/80 [==============================] - 0s 351us/step - loss: 0.0158 - acc: 0.0000e+00 - val_loss: 0.0179 - val_acc: 0.0500\n",
      "Epoch 176/200\n",
      "80/80 [==============================] - 0s 357us/step - loss: 0.0158 - acc: 0.0000e+00 - val_loss: 0.0180 - val_acc: 0.0500\n",
      "Epoch 177/200\n",
      "80/80 [==============================] - 0s 353us/step - loss: 0.0158 - acc: 0.0000e+00 - val_loss: 0.0182 - val_acc: 0.0500\n",
      "Epoch 178/200\n"
     ]
    },
    {
     "name": "stdout",
     "output_type": "stream",
     "text": [
      "80/80 [==============================] - 0s 360us/step - loss: 0.0157 - acc: 0.0000e+00 - val_loss: 0.0183 - val_acc: 0.0500\n",
      "Epoch 179/200\n",
      "80/80 [==============================] - 0s 344us/step - loss: 0.0158 - acc: 0.0000e+00 - val_loss: 0.0189 - val_acc: 0.0500\n",
      "Epoch 180/200\n",
      "80/80 [==============================] - 0s 357us/step - loss: 0.0157 - acc: 0.0000e+00 - val_loss: 0.0187 - val_acc: 0.0500\n",
      "Epoch 181/200\n",
      "80/80 [==============================] - 0s 349us/step - loss: 0.0156 - acc: 0.0000e+00 - val_loss: 0.0182 - val_acc: 0.0500\n",
      "Epoch 182/200\n",
      "80/80 [==============================] - 0s 353us/step - loss: 0.0157 - acc: 0.0000e+00 - val_loss: 0.0181 - val_acc: 0.0500\n",
      "Epoch 183/200\n",
      "80/80 [==============================] - 0s 357us/step - loss: 0.0156 - acc: 0.0000e+00 - val_loss: 0.0181 - val_acc: 0.0500\n",
      "Epoch 184/200\n",
      "80/80 [==============================] - 0s 356us/step - loss: 0.0157 - acc: 0.0000e+00 - val_loss: 0.0182 - val_acc: 0.0500\n",
      "Epoch 185/200\n",
      "80/80 [==============================] - 0s 348us/step - loss: 0.0156 - acc: 0.0000e+00 - val_loss: 0.0182 - val_acc: 0.0500\n",
      "Epoch 186/200\n",
      "80/80 [==============================] - 0s 347us/step - loss: 0.0156 - acc: 0.0000e+00 - val_loss: 0.0181 - val_acc: 0.0500\n",
      "Epoch 187/200\n",
      "80/80 [==============================] - 0s 342us/step - loss: 0.0156 - acc: 0.0000e+00 - val_loss: 0.0181 - val_acc: 0.0500\n",
      "Epoch 188/200\n",
      "80/80 [==============================] - 0s 353us/step - loss: 0.0155 - acc: 0.0000e+00 - val_loss: 0.0182 - val_acc: 0.0500\n",
      "Epoch 189/200\n",
      "80/80 [==============================] - 0s 347us/step - loss: 0.0155 - acc: 0.0000e+00 - val_loss: 0.0185 - val_acc: 0.0500\n",
      "Epoch 190/200\n",
      "80/80 [==============================] - 0s 352us/step - loss: 0.0157 - acc: 0.0000e+00 - val_loss: 0.0185 - val_acc: 0.0500\n",
      "Epoch 191/200\n",
      "80/80 [==============================] - 0s 357us/step - loss: 0.0155 - acc: 0.0000e+00 - val_loss: 0.0181 - val_acc: 0.0500\n",
      "Epoch 192/200\n",
      "80/80 [==============================] - 0s 358us/step - loss: 0.0156 - acc: 0.0000e+00 - val_loss: 0.0180 - val_acc: 0.0500\n",
      "Epoch 193/200\n",
      "80/80 [==============================] - 0s 346us/step - loss: 0.0155 - acc: 0.0000e+00 - val_loss: 0.0183 - val_acc: 0.0500\n",
      "Epoch 194/200\n",
      "80/80 [==============================] - 0s 347us/step - loss: 0.0155 - acc: 0.0000e+00 - val_loss: 0.0187 - val_acc: 0.0500\n",
      "Epoch 195/200\n",
      "80/80 [==============================] - 0s 352us/step - loss: 0.0156 - acc: 0.0000e+00 - val_loss: 0.0183 - val_acc: 0.0500\n",
      "Epoch 196/200\n",
      "80/80 [==============================] - 0s 352us/step - loss: 0.0154 - acc: 0.0000e+00 - val_loss: 0.0182 - val_acc: 0.0500\n",
      "Epoch 197/200\n",
      "80/80 [==============================] - 0s 345us/step - loss: 0.0155 - acc: 0.0000e+00 - val_loss: 0.0182 - val_acc: 0.0500\n",
      "Epoch 198/200\n",
      "80/80 [==============================] - 0s 354us/step - loss: 0.0155 - acc: 0.0000e+00 - val_loss: 0.0183 - val_acc: 0.0500\n",
      "Epoch 199/200\n",
      "80/80 [==============================] - 0s 354us/step - loss: 0.0154 - acc: 0.0000e+00 - val_loss: 0.0185 - val_acc: 0.0500\n",
      "Epoch 200/200\n",
      "80/80 [==============================] - 0s 348us/step - loss: 0.0154 - acc: 0.0000e+00 - val_loss: 0.0188 - val_acc: 0.0500\n"
     ]
    }
   ],
   "source": [
    "history2 = model2.fit(x_train, y_train, epochs = 200, validation_data = (x_test, y_test))"
   ]
  },
  {
   "cell_type": "code",
   "execution_count": 56,
   "metadata": {
    "collapsed": true
   },
   "outputs": [],
   "source": [
    "results2 = model2.predict(x_test)"
   ]
  },
  {
   "cell_type": "code",
   "execution_count": 57,
   "metadata": {},
   "outputs": [
    {
     "data": {
      "image/png": "[encoded data removed]",
      "text/plain": [
       "<Figure size 432x288 with 1 Axes>"
      ]
     },
     "metadata": {
      "needs_background": "light"
     },
     "output_type": "display_data"
    }
   ],
   "source": [
    "plt.scatter(range(20),results2,c='r')\n",
    "plt.scatter(range(20),y_test,c='g')\n",
    "plt.show()"
   ]
  },
  {
   "cell_type": "code",
   "execution_count": null,
   "metadata": {
    "collapsed": true
   },
   "outputs": [],
   "source": []
  }
 ],
 "metadata": {
  "kernelspec": {
   "display_name": "env_autoencoder",
   "language": "python",
   "name": "env_autoencoder"
  },
  "language_info": {
   "codemirror_mode": {
    "name": "ipython",
    "version": 2
   },
   "file_extension": ".py",
   "mimetype": "text/x-python",
   "name": "python",
   "nbconvert_exporter": "python",
   "pygments_lexer": "ipython2",
   "version": "2.7.12"
  }
 },
 "nbformat": 4,
 "nbformat_minor": 2
}
