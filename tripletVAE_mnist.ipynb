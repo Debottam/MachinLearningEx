{
  "nbformat": 4,
  "nbformat_minor": 0,
  "metadata": {
    "colab": {
      "name": "Copy of tripletVAE.ipynb",
      "provenance": [],
      "authorship_tag": "ABX9TyMF7w+WpZjYNi+ArhGUozmz",
      "include_colab_link": true
    },
    "kernelspec": {
      "name": "python3",
      "display_name": "Python 3"
    }
  },
  "cells": [
    {
      "cell_type": "markdown",
      "metadata": {
        "id": "view-in-github",
        "colab_type": "text"
      },
      "source": [
        "<a href=\"https://colab.research.google.com/github/Debottam/MachinLearningEx/blob/master/tripletVAE_mnist.ipynb\" target=\"_parent\"><img src=\"https://colab.research.google.com/assets/colab-badge.svg\" alt=\"Open In Colab\"/></a>"
      ]
    },
    {
      "cell_type": "code",
      "metadata": {
        "id": "JX2s89HlfCJk"
      },
      "source": [
        "import tensorflow as tf\n",
        "from tensorflow.keras.models import Model\n",
        "from tensorflow.keras.layers import Input, Flatten, Dense, Dropout, Lambda\n",
        "from tensorflow.keras.optimizers import RMSprop\n",
        "from tensorflow.keras.datasets import fashion_mnist\n",
        "from tensorflow.python.keras.utils.vis_utils import plot_model\n",
        "from tensorflow.keras import backend as K\n",
        "\n",
        "import numpy as np\n",
        "import matplotlib.pyplot as plt\n",
        "from PIL import Image, ImageFont, ImageDraw\n",
        "import random\n",
        "from sklearn.utils import check_random_state\n",
        "from sklearn.decomposition import PCA"
      ],
      "execution_count": 1,
      "outputs": []
    },
    {
      "cell_type": "code",
      "metadata": {
        "id": "NfL4zLyjp1sl"
      },
      "source": [
        "# load mnist_fashion dataset\n",
        "(train_images, train_labels), (test_images, test_labels) = fashion_mnist.load_data()"
      ],
      "execution_count": 2,
      "outputs": []
    },
    {
      "cell_type": "code",
      "metadata": {
        "id": "v4zDlpWtqPDg"
      },
      "source": [
        "# prepare train and test sets\n",
        "train_images = train_images.astype('float32')\n",
        "test_images = test_images.astype('float32')\n",
        "\n",
        "# normalize values\n",
        "train_images = train_images / 255.0\n",
        "test_images = test_images / 255.0"
      ],
      "execution_count": 3,
      "outputs": []
    },
    {
      "cell_type": "code",
      "metadata": {
        "id": "_R_BS2D0qxH_"
      },
      "source": [
        "# function to show the plot\n",
        "def show_image(image):\n",
        "    plt.figure()\n",
        "    plt.imshow(image)\n",
        "    plt.colorbar()\n",
        "    plt.grid(False)\n",
        "    plt.show()"
      ],
      "execution_count": 4,
      "outputs": []
    },
    {
      "cell_type": "code",
      "metadata": {
        "colab": {
          "base_uri": "https://localhost:8080/"
        },
        "id": "XDdJju_evRkD",
        "outputId": "0bf43f3a-074d-4c12-9b50-30fddc2b3af5"
      },
      "source": [
        "# Training with tshirt/shirt and ankle boot as outlier\n",
        "## tshirt\n",
        "image_tshirt_index = np.where(train_labels==0)\n",
        "train_image_tshirt = train_images[image_tshirt_index]\n",
        "print(\"shape before flattening: \",train_image_tshirt.shape)\n",
        "train_image_tshirt_flatten = np.reshape(train_image_tshirt, (6000, 784))\n",
        "print(\"shape after flattening: \",train_image_tshirt_flatten.shape)\n",
        "## shirt\n",
        "image_shirt_index = np.where(train_labels==6)\n",
        "train_image_shirt = train_images[image_shirt_index]\n",
        "print(\"shape before flattening: \",train_image_shirt.shape)\n",
        "train_image_shirt_flatten = np.reshape(train_image_shirt, (6000, 784))\n",
        "print(\"shape after flattening: \",train_image_shirt_flatten.shape)\n",
        "\n",
        "## ankle boot\n",
        "image_boot_index = np.where(train_labels==9)\n",
        "train_image_boot = train_images[image_boot_index]\n",
        "print(\"shape before flattening: \",train_image_boot.shape)\n",
        "train_image_boot_flatten = np.reshape(train_image_boot, (6000, 784))\n",
        "print(\"shape after flattening: \",train_image_boot_flatten.shape)"
      ],
      "execution_count": 5,
      "outputs": [
        {
          "output_type": "stream",
          "text": [
            "shape before flattening:  (6000, 28, 28)\n",
            "shape after flattening:  (6000, 784)\n",
            "shape before flattening:  (6000, 28, 28)\n",
            "shape after flattening:  (6000, 784)\n",
            "shape before flattening:  (6000, 28, 28)\n",
            "shape after flattening:  (6000, 784)\n"
          ],
          "name": "stdout"
        }
      ]
    },
    {
      "cell_type": "code",
      "metadata": {
        "colab": {
          "base_uri": "https://localhost:8080/",
          "height": 269
        },
        "id": "0UTUH3qNvkoF",
        "outputId": "9fdb2cb1-2c80-43b1-8e86-0215ce21a2f1"
      },
      "source": [
        "show_image(train_image_tshirt[0])"
      ],
      "execution_count": 6,
      "outputs": [
        {
          "output_type": "display_data",
          "data": {
            "image/png": "[encoded data removed]",
            "text/plain": [
              "<Figure size 432x288 with 2 Axes>"
            ]
          },
          "metadata": {
            "tags": [],
            "needs_background": "light"
          }
        }
      ]
    },
    {
      "cell_type": "code",
      "metadata": {
        "id": "WVrqerVGdH7d",
        "outputId": "ce6d8cde-a682-469c-d386-3cfde435dc96",
        "colab": {
          "base_uri": "https://localhost:8080/",
          "height": 269
        }
      },
      "source": [
        "show_image(train_image_shirt[0])"
      ],
      "execution_count": 7,
      "outputs": [
        {
          "output_type": "display_data",
          "data": {
            "image/png": "[encoded data removed]",
            "text/plain": [
              "<Figure size 432x288 with 2 Axes>"
            ]
          },
          "metadata": {
            "tags": [],
            "needs_background": "light"
          }
        }
      ]
    },
    {
      "cell_type": "code",
      "metadata": {
        "id": "TG9K-M8JA_Sd",
        "colab": {
          "base_uri": "https://localhost:8080/",
          "height": 269
        },
        "outputId": "5327416b-2b19-4ab8-eaf6-04e915514574"
      },
      "source": [
        "show_image(train_image_boot[0])"
      ],
      "execution_count": 8,
      "outputs": [
        {
          "output_type": "display_data",
          "data": {
            "image/png": "[encoded data removed]",
            "text/plain": [
              "<Figure size 432x288 with 2 Axes>"
            ]
          },
          "metadata": {
            "tags": [],
            "needs_background": "light"
          }
        }
      ]
    },
    {
      "cell_type": "code",
      "metadata": {
        "id": "D5Q7v8BHgMtS",
        "colab": {
          "base_uri": "https://localhost:8080/"
        },
        "outputId": "fc4bdc8a-76b8-4771-90e4-945a018018e1"
      },
      "source": [
        "# Data for test with tshirt and shoe\n",
        "## tshirt\n",
        "image_tshirt_index = np.where(test_labels==0)\n",
        "test_image_tshirt = test_images[image_tshirt_index]\n",
        "print(\"shape before flattening: \",test_image_tshirt.shape)\n",
        "test_image_tshirt_flatten = np.reshape(test_image_tshirt, (1000, 784))\n",
        "print(\"shape after flattening: \",test_image_tshirt_flatten.shape)\n",
        "\n",
        "## sneaker\n",
        "image_sneaker_index = np.where(test_labels==7)\n",
        "test_image_sneaker = test_images[image_sneaker_index]\n",
        "print(\"shape before flattening: \",test_image_sneaker.shape)\n",
        "test_image_sneaker_flatten = np.reshape(test_image_sneaker, (1000, 784))\n",
        "print(\"shape after flattening: \",test_image_sneaker_flatten.shape)\n"
      ],
      "execution_count": 9,
      "outputs": [
        {
          "output_type": "stream",
          "text": [
            "shape before flattening:  (1000, 28, 28)\n",
            "shape after flattening:  (1000, 784)\n",
            "shape before flattening:  (1000, 28, 28)\n",
            "shape after flattening:  (1000, 784)\n"
          ],
          "name": "stdout"
        }
      ]
    },
    {
      "cell_type": "code",
      "metadata": {
        "id": "oCE_kLTWki2O"
      },
      "source": [
        "# function to plot a triplet set\n",
        "def plot_triplet(triplet):\n",
        "  plt.figure(figsize=(6,2))\n",
        "  for i in range(0,3):\n",
        "    plt.subplot(1,3,i+1)\n",
        "    plt.imshow(np.reshape(triplet[i],(28,28)), cmap='binary')\n",
        "    plt.xticks([])\n",
        "    plt.yticks([])\n",
        "  plt.show()"
      ],
      "execution_count": 10,
      "outputs": []
    },
    {
      "cell_type": "code",
      "metadata": {
        "id": "1Ga_fl21mhAF",
        "colab": {
          "base_uri": "https://localhost:8080/"
        },
        "outputId": "e2cce29f-bb86-451a-a6d5-7a7adef1f341"
      },
      "source": [
        "# concatenating training tshirt , shirt, boot\n",
        "training_X = np.concatenate((train_image_tshirt_flatten,train_image_shirt_flatten, train_image_boot_flatten), axis = 0)\n",
        "# concatenating test tshirt and shoe\n",
        "testing_X = np.concatenate((test_image_tshirt_flatten,test_image_sneaker_flatten), axis = 0)\n",
        "print(\"Shape of training dataset: \",training_X.shape)\n",
        "print(\"Shape of testing dataset: \",testing_X.shape)"
      ],
      "execution_count": 11,
      "outputs": [
        {
          "output_type": "stream",
          "text": [
            "Shape of training dataset:  (18000, 784)\n",
            "Shape of testing dataset:  (2000, 784)\n"
          ],
          "name": "stdout"
        }
      ]
    },
    {
      "cell_type": "code",
      "metadata": {
        "id": "PET6iJMBn2KB"
      },
      "source": [
        "# generate labels for training dataset tshirt = 0 and trouser = 1\n",
        "train_y = np.concatenate((np.zeros(2*len(train_image_tshirt_flatten)), np.ones(len(train_image_boot_flatten))), axis=0)\n",
        "\n",
        "# test generate labels for testing dataser tshirt = 0 and shoe = 1\n",
        "test_y = np.concatenate((np.zeros(len(test_image_tshirt_flatten)), np.ones(len(test_image_sneaker_flatten))), axis=0)"
      ],
      "execution_count": 12,
      "outputs": []
    },
    {
      "cell_type": "code",
      "metadata": {
        "id": "2OgC1AMNVZT4"
      },
      "source": [
        "# Shuffling test data\n",
        "rng = check_random_state(1)\n",
        "indices_test = rng.permutation(len(testing_X))\n",
        "testing_X_shuffled = testing_X[indices_test]\n",
        "test_y_shuffled = test_y[indices_test]"
      ],
      "execution_count": 13,
      "outputs": []
    },
    {
      "cell_type": "code",
      "metadata": {
        "id": "wYQdeY8IYbEb"
      },
      "source": [
        "# Create batches of data for training\n",
        "def create_batch (batch_size):\n",
        "  anchors = np.zeros((batch_size, 784))\n",
        "  positives = np.zeros((batch_size, 784))\n",
        "  negatives = np.zeros((batch_size, 784))\n",
        "\n",
        "  for i in range(0,batch_size):\n",
        "    index = random.randint(0,6000-1)\n",
        "    anc = training_X[index]\n",
        "    y = train_y[index]\n",
        "\n",
        "    indices_for_pos = np.squeeze(np.where(train_y == y))\n",
        "    indices_for_neg = np.squeeze(np.where(train_y != y))\n",
        "\n",
        "    pos = training_X[indices_for_pos[random.randint(0,len(indices_for_pos)-1)]]\n",
        "    neg = training_X[indices_for_neg[random.randint(0,len(indices_for_neg)-1)]]\n",
        "\n",
        "    anchors[i] = anc\n",
        "    positives[i] = pos\n",
        "    negatives[i] = neg\n",
        "\n",
        "    return [anchors, positives, negatives] "
      ],
      "execution_count": 15,
      "outputs": []
    },
    {
      "cell_type": "code",
      "metadata": {
        "colab": {
          "base_uri": "https://localhost:8080/",
          "height": 133
        },
        "id": "zqTdbyBQmn6a",
        "outputId": "a73d6cd1-a30b-4aff-acf8-eec641501782"
      },
      "source": [
        "triplet = create_batch (1)\n",
        "plot_triplet(triplet)"
      ],
      "execution_count": 16,
      "outputs": [
        {
          "output_type": "display_data",
          "data": {
            "image/png": "[encoded data removed]",
            "text/plain": [
              "<Figure size 432x144 with 3 Axes>"
            ]
          },
          "metadata": {
            "tags": []
          }
        }
      ]
    },
    {
      "cell_type": "code",
      "metadata": {
        "id": "X7gLJJhLOEhR"
      },
      "source": [
        "# Defining Sampling function\n",
        "encoding_dim = 64\n",
        "def sampling(args):\n",
        "    mu, sigma = args\n",
        "    batch     = tf.shape(mu)[0]\n",
        "    dim       = tf.shape(mu)[1]\n",
        "    eps       = tf.keras.backend.random_normal(shape=(batch, dim))\n",
        "    return mu + tf.exp(sigma / 2) * eps"
      ],
      "execution_count": 17,
      "outputs": []
    },
    {
      "cell_type": "code",
      "metadata": {
        "id": "pYj6Mx8bGXWP"
      },
      "source": [
        "# Defining Encoder\n",
        "class _Encoder(Model):\n",
        "    def __init__(self, **kwargs):\n",
        "        super(_Encoder, self).__init__(**kwargs)\n",
        "        self.layer_1 = Dense(256, activation=\"relu\")\n",
        "        self.layer_2 = Dense(128, activation=\"relu\")\n",
        "        self.layer_3 = Dense(64, activation=\"relu\")\n",
        "    \n",
        "    def call(self,inputs):\n",
        "        x = self.layer_1(inputs)\n",
        "        x = self.layer_2(x)\n",
        "        x = self.layer_3(x)\n",
        "        self.mean = Dense(encoding_dim, name=\"z_mean\")(x)\n",
        "        self.log_var = Dense(encoding_dim, name=\"z_log_var\")(x)\n",
        "        self.z = Lambda(sampling, output_shape=(encoding_dim,), name='z')([self.mean, self.log_var])\n",
        "        return self.z, self.mean, self.log_var"
      ],
      "execution_count": 18,
      "outputs": []
    },
    {
      "cell_type": "code",
      "metadata": {
        "id": "lM_91FwaPUIm"
      },
      "source": [
        "# Defining Decoder\n",
        "class _Decoder(Model):\n",
        "    def __init__(self, **kwargs):\n",
        "        super(_Decoder, self).__init__(**kwargs)\n",
        "        self.layer_1 = Dense(128, activation=\"relu\")\n",
        "        self.layer_2 = Dense(256, activation=\"relu\")\n",
        "        self.layer_3 = Dense(784, activation=\"sigmoid\")\n",
        "        \n",
        "    def call(self,inputs):\n",
        "        x = self.layer_1(inputs)\n",
        "        x = self.layer_2(x)\n",
        "        output = self.layer_3(x)\n",
        "        return output\n"
      ],
      "execution_count": 19,
      "outputs": []
    },
    {
      "cell_type": "code",
      "metadata": {
        "id": "opLtPWMKSXvt"
      },
      "source": [
        "# kl divergence loss\n",
        "# https://keras.io/examples/generative/vae/\n",
        "\n",
        "def kl_reconstruction_loss(x, recon_x, mu, log_var):\n",
        "    reco_loss = tf.reduce_sum(tf.pow(x - recon_x,2), axis= -1)\n",
        "    kl_loss = 1 + log_var - tf.square(mu) - tf.exp(log_var)\n",
        "    kl_loss = tf.reduce_sum(kl_loss, axis= -1)\n",
        "    kl_loss *= -0.5\n",
        "    return tf.reduce_mean(reco_loss + kl_loss)"
      ],
      "execution_count": 20,
      "outputs": []
    },
    {
      "cell_type": "code",
      "metadata": {
        "id": "Ti8kM3lOGMVH"
      },
      "source": [
        "# Defining model parameters\n",
        "batch_size= 600\n",
        "steps = int(18000/batch_size)\n",
        "encoder = _Encoder()\n",
        "decoder = _Decoder()\n",
        "alpha = 0.2\n",
        "optimizer = tf.keras.optimizers.Adam(lr=0.001,clipvalue=0.5)"
      ],
      "execution_count": 31,
      "outputs": []
    },
    {
      "cell_type": "code",
      "metadata": {
        "id": "UqLqdx2NQhkd"
      },
      "source": [
        "def Callback_EarlyStopping(LossList, min_delta=0.1, patience=5):\n",
        "    #No early stopping for 2*patience epochs \n",
        "    if len(LossList)//patience < 2 :\n",
        "        return False\n",
        "    #Mean loss for last patience epochs and second-last patience epochs\n",
        "    mean_previous = np.mean(LossList[::-1][patience:2*patience]) #second-last\n",
        "    mean_recent = np.mean(LossList[::-1][:patience]) #last\n",
        "    #you can use relative or absolute change\n",
        "    delta_abs = np.abs(mean_recent - mean_previous) #abs change\n",
        "    delta_abs = np.abs(delta_abs / mean_previous)  # relative change\n",
        "    if delta_abs < min_delta :\n",
        "        print(\"Loss didn't change much from last %d epochs\"%(patience))\n",
        "        print(\"Percent change in loss value:\", delta_abs*1e2)\n",
        "        return True\n",
        "    else:\n",
        "        return False\n"
      ],
      "execution_count": 32,
      "outputs": []
    },
    {
      "cell_type": "code",
      "metadata": {
        "colab": {
          "base_uri": "https://localhost:8080/"
        },
        "id": "mRsZLqDQGnPf",
        "outputId": "24ddd360-052a-4fe9-bae8-32ae0581e13b"
      },
      "source": [
        "epochs = 40\n",
        "epochs_train_losses = []\n",
        "for epoch in range(epochs):\n",
        "  print('Start of epoch',epoch)\n",
        "  losses = []\n",
        "  for step in range(0,steps):\n",
        "    #print('Step: ', step)\n",
        "    anc, pos, neg = create_batch (batch_size)\n",
        "    anc_pos = np.concatenate((anc,pos), axis = 0)\n",
        "    #print(\"anc.shape:\",anc.shape)\n",
        "    #print(\"pos.shape:\",pos.shape)\n",
        "    #print(\"neg.shape:\",neg.shape)\n",
        "    with tf.GradientTape() as tape:\n",
        "      latent_anc,mean_anc,log_var_anc = encoder(anc)\n",
        "      latent_pos,mean_pos,log_var_pos = encoder(pos)\n",
        "      latent_neg,mean_neg,log_var_neg = encoder(neg)\n",
        "      latent_anc_pos = np.concatenate((latent_anc,latent_pos), axis = 0)\n",
        "      mean_anc_pos = np.concatenate((mean_anc,mean_pos), axis = 0)\n",
        "      log_var_anc_pos = np.concatenate((log_var_anc,log_var_pos), axis = 0)\n",
        "      dp = tf.reduce_mean(tf.square(mean_anc - mean_pos), axis = -1)\n",
        "      dn = tf.reduce_mean(tf.square(mean_anc - mean_neg), axis = -1)\n",
        "      triplet_loss = tf.maximum(dp-dn+alpha, 0.)\n",
        "      reconstructed_anc_pos = decoder(latent_anc_pos)\n",
        "      #reconstructed_p = decoder(mean_pos)\n",
        "      loss = triplet_loss\n",
        "      loss+= kl_reconstruction_loss(anc_pos, reconstructed_anc_pos, mean_anc_pos, log_var_anc_pos)\n",
        "      tvae_weights = encoder.trainable_weights + decoder.trainable_weights\n",
        "    gradients = tape.gradient(loss, tvae_weights)\n",
        "    # Calculate gradients\n",
        "    optimizer.apply_gradients(zip(gradients, tvae_weights))\n",
        "    losses.append(loss)\n",
        "    #print(\"losses: \", len(losses))\n",
        "  epochs_train_losses.append(tf.reduce_mean(losses))\n",
        "  print(\"epochs_train_losses:\", epochs_train_losses[epoch] )\n",
        "  early_stopping = Callback_EarlyStopping(epochs_train_losses, min_delta=0.1, patience=5)\n",
        "  if early_stopping:\n",
        "    print(\"Callback_EarlyStopping signal received at epoch= %d/%d\"%(epoch,epochs))\n",
        "    print(\"Terminating training \")\n",
        "    break"
      ],
      "execution_count": 33,
      "outputs": [
        {
          "output_type": "stream",
          "text": [
            "Start of epoch 0\n",
            "epochs_train_losses: tf.Tensor(58.91048, shape=(), dtype=float32)\n",
            "Start of epoch 1\n",
            "epochs_train_losses: tf.Tensor(0.5250881, shape=(), dtype=float32)\n",
            "Start of epoch 2\n",
            "epochs_train_losses: tf.Tensor(0.5179636, shape=(), dtype=float32)\n",
            "Start of epoch 3\n",
            "epochs_train_losses: tf.Tensor(0.63652176, shape=(), dtype=float32)\n",
            "Start of epoch 4\n",
            "epochs_train_losses: tf.Tensor(0.65864813, shape=(), dtype=float32)\n",
            "Start of epoch 5\n",
            "epochs_train_losses: tf.Tensor(0.6263341, shape=(), dtype=float32)\n",
            "Start of epoch 6\n",
            "epochs_train_losses: tf.Tensor(0.60370976, shape=(), dtype=float32)\n",
            "Start of epoch 7\n",
            "epochs_train_losses: tf.Tensor(0.6303368, shape=(), dtype=float32)\n",
            "Start of epoch 8\n",
            "epochs_train_losses: tf.Tensor(0.58236045, shape=(), dtype=float32)\n",
            "Start of epoch 9\n",
            "epochs_train_losses: tf.Tensor(0.5056137, shape=(), dtype=float32)\n",
            "Start of epoch 10\n",
            "epochs_train_losses: tf.Tensor(0.5335651, shape=(), dtype=float32)\n",
            "Loss didn't change much from last 5 epochs\n",
            "Percent change in loss value: 3.675755113363266\n",
            "Callback_EarlyStopping signal received at epoch= 10/40\n",
            "Terminating training \n"
          ],
          "name": "stdout"
        }
      ]
    },
    {
      "cell_type": "code",
      "metadata": {
        "id": "QsoOPxsX7MH_",
        "colab": {
          "base_uri": "https://localhost:8080/",
          "height": 282
        },
        "outputId": "7d005231-abef-4d80-9ef7-c68e945a6dbe"
      },
      "source": [
        "plt.plot(epochs_train_losses)\n",
        "plt.show"
      ],
      "execution_count": 34,
      "outputs": [
        {
          "output_type": "execute_result",
          "data": {
            "text/plain": [
              "<function matplotlib.pyplot.show>"
            ]
          },
          "metadata": {
            "tags": []
          },
          "execution_count": 34
        },
        {
          "output_type": "display_data",
          "data": {
            "image/png": "[encoded data removed]",
            "text/plain": [
              "<Figure size 432x288 with 1 Axes>"
            ]
          },
          "metadata": {
            "tags": [],
            "needs_background": "light"
          }
        }
      ]
    },
    {
      "cell_type": "code",
      "metadata": {
        "id": "mliVSIeTX9DI"
      },
      "source": [
        "# Prediction\n",
        "encoded,_,_ = encoder(testing_X_shuffled)\n",
        "decoded = decoder(encoded)\n",
        "decoded_output = decoded.numpy()"
      ],
      "execution_count": 35,
      "outputs": []
    },
    {
      "cell_type": "code",
      "metadata": {
        "id": "rE9NjeUWZXFG"
      },
      "source": [
        "# Reconstruction loss\n",
        "MSE_loss = np.mean(np.power(testing_X_shuffled - decoded_output, 2), axis=1)"
      ],
      "execution_count": 36,
      "outputs": []
    },
    {
      "cell_type": "code",
      "metadata": {
        "id": "f4cS_9Y5ZgZe",
        "outputId": "ff1edcc0-b26d-47ef-acad-d15dc662887a",
        "colab": {
          "base_uri": "https://localhost:8080/"
        }
      },
      "source": [
        "MSE_loss.shape"
      ],
      "execution_count": 37,
      "outputs": [
        {
          "output_type": "execute_result",
          "data": {
            "text/plain": [
              "(2000,)"
            ]
          },
          "metadata": {
            "tags": []
          },
          "execution_count": 37
        }
      ]
    },
    {
      "cell_type": "code",
      "metadata": {
        "id": "Jul5p27MStRY",
        "outputId": "b85fa7be-4605-40f8-ed2e-d67dd577525b",
        "colab": {
          "base_uri": "https://localhost:8080/",
          "height": 299
        }
      },
      "source": [
        "l_rec_0=[]\n",
        "l_rec_1=[]\n",
        "\n",
        "for i in range(1000):\n",
        "    if test_y_shuffled[i]==0:\n",
        "        l_rec_0.append(MSE_loss[i])\n",
        "    else:\n",
        "        l_rec_1.append(MSE_loss[i])\n",
        "\n",
        "l_rec_0=np.array(l_rec_0)\n",
        "l_rec_1=np.array(l_rec_1)\n",
        "plt.hist(l_rec_0, histtype=\"step\", label='tshirt/normal', density='true')\n",
        "plt.hist(l_rec_1, histtype='step', label='shoe/anomaly', density='true')\n",
        "plt.legend(loc='best')\n",
        "plt.title('TripletVAE')\n",
        "plt.xlabel('$L_{rec}$')\n",
        "plt.show()"
      ],
      "execution_count": 38,
      "outputs": [
        {
          "output_type": "display_data",
          "data": {
            "image/png": "[encoded data removed]",
            "text/plain": [
              "<Figure size 432x288 with 1 Axes>"
            ]
          },
          "metadata": {
            "tags": [],
            "needs_background": "light"
          }
        }
      ]
    },
    {
      "cell_type": "code",
      "metadata": {
        "id": "10IZMIrQ8-_-",
        "outputId": "b64e9647-7a13-42e6-f8b1-3885a2436127",
        "colab": {
          "base_uri": "https://localhost:8080/",
          "height": 365
        }
      },
      "source": [
        "from sklearn.metrics import roc_curve\n",
        "from sklearn.metrics import roc_auc_score\n",
        "\n",
        "fpr, tpr, thrs = roc_curve(test_y_shuffled, MSE_loss)\n",
        "print(\"roc_auc =\", roc_auc_score(test_y_shuffled, MSE_loss))\n",
        "#plt.plot(fpr, tpr, label=\"%s\" % filename)\n",
        "plt.plot(tpr, 1. / fpr, label=\"\")\n",
        "\n",
        "plt.xlim(0.1, 1.0)\n",
        "plt.ylim(1, 500)\n",
        "plt.yscale(\"log\")\n",
        "plt.title('TripletVAE')\n",
        "plt.grid()\n",
        "plt.xlabel(\"$\\epsilon_S$\")\n",
        "plt.ylabel(\"$1/\\epsilon_B$\")\n",
        "plt.legend(loc=\"best\")\n",
        "plt.show()"
      ],
      "execution_count": 39,
      "outputs": [
        {
          "output_type": "stream",
          "text": [
            "/usr/local/lib/python3.6/dist-packages/ipykernel_launcher.py:7: RuntimeWarning: divide by zero encountered in true_divide\n",
            "  import sys\n",
            "No handles with labels found to put in legend.\n"
          ],
          "name": "stderr"
        },
        {
          "output_type": "stream",
          "text": [
            "roc_auc = 0.21754400000000002\n"
          ],
          "name": "stdout"
        },
        {
          "output_type": "display_data",
          "data": {
            "image/png": "[encoded data removed]",
            "text/plain": [
              "<Figure size 432x288 with 1 Axes>"
            ]
          },
          "metadata": {
            "tags": [],
            "needs_background": "light"
          }
        }
      ]
    }
  ]
}