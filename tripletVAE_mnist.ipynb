{
  "nbformat": 4,
  "nbformat_minor": 0,
  "metadata": {
    "colab": {
      "name": "Copy of tripletVAE.ipynb",
      "provenance": [],
      "authorship_tag": "ABX9TyOcXNDqLcfp5Pu7gtUE0JY5",
      "include_colab_link": true
    },
    "kernelspec": {
      "name": "python3",
      "display_name": "Python 3"
    }
  },
  "cells": [
    {
      "cell_type": "markdown",
      "metadata": {
        "id": "view-in-github",
        "colab_type": "text"
      },
      "source": [
        "<a href=\"https://colab.research.google.com/github/Debottam/MachinLearningEx/blob/master/tripletVAE_mnist.ipynb\" target=\"_parent\"><img src=\"https://colab.research.google.com/assets/colab-badge.svg\" alt=\"Open In Colab\"/></a>"
      ]
    },
    {
      "cell_type": "code",
      "metadata": {
        "id": "JX2s89HlfCJk"
      },
      "source": [
        "import tensorflow as tf\n",
        "from tensorflow.keras.models import Model\n",
        "from tensorflow.keras.layers import Input, Flatten, Dense, Dropout, Lambda\n",
        "from tensorflow.keras.optimizers import RMSprop\n",
        "from tensorflow.keras.datasets import fashion_mnist\n",
        "from tensorflow.python.keras.utils.vis_utils import plot_model\n",
        "from tensorflow.keras import backend as K\n",
        "\n",
        "import numpy as np\n",
        "import matplotlib.pyplot as plt\n",
        "from PIL import Image, ImageFont, ImageDraw\n",
        "import random\n",
        "from sklearn.utils import check_random_state\n",
        "from sklearn.decomposition import PCA"
      ],
      "execution_count": null,
      "outputs": []
    },
    {
      "cell_type": "code",
      "metadata": {
        "id": "NfL4zLyjp1sl"
      },
      "source": [
        "# load the dataset\n",
        "(train_images, train_labels), (test_images, test_labels) = fashion_mnist.load_data()"
      ],
      "execution_count": null,
      "outputs": []
    },
    {
      "cell_type": "code",
      "metadata": {
        "colab": {
          "base_uri": "https://localhost:8080/"
        },
        "id": "r_MxfI8NqJf3",
        "outputId": "022bfa7c-a6c1-45fe-a25e-e9358d955f8c"
      },
      "source": [
        "train_labels"
      ],
      "execution_count": null,
      "outputs": [
        {
          "output_type": "execute_result",
          "data": {
            "text/plain": [
              "array([9, 0, 0, ..., 3, 0, 5], dtype=uint8)"
            ]
          },
          "metadata": {
            "tags": []
          },
          "execution_count": 3
        }
      ]
    },
    {
      "cell_type": "code",
      "metadata": {
        "id": "v4zDlpWtqPDg"
      },
      "source": [
        "# prepare train and test sets\n",
        "train_images = train_images.astype('float32')\n",
        "test_images = test_images.astype('float32')\n",
        "\n",
        "# normalize values\n",
        "train_images = train_images / 255.0\n",
        "test_images = test_images / 255.0"
      ],
      "execution_count": null,
      "outputs": []
    },
    {
      "cell_type": "code",
      "metadata": {
        "id": "_R_BS2D0qxH_"
      },
      "source": [
        "def show_image(image):\n",
        "    plt.figure()\n",
        "    plt.imshow(image)\n",
        "    plt.colorbar()\n",
        "    plt.grid(False)\n",
        "    plt.show()"
      ],
      "execution_count": null,
      "outputs": []
    },
    {
      "cell_type": "code",
      "metadata": {
        "colab": {
          "base_uri": "https://localhost:8080/",
          "height": 286
        },
        "id": "gvPe7nVjq192",
        "outputId": "d81f718f-3772-4f72-c544-b88f4462016c"
      },
      "source": [
        "show_image(train_images[0])\n",
        "print(\"label: \",train_labels[0])"
      ],
      "execution_count": null,
      "outputs": [
        {
          "output_type": "display_data",
          "data": {
            "image/png": "[encoded data removed]",
            "text/plain": [
              "<Figure size 432x288 with 2 Axes>"
            ]
          },
          "metadata": {
            "tags": [],
            "needs_background": "light"
          }
        },
        {
          "output_type": "stream",
          "text": [
            "label:  9\n"
          ],
          "name": "stdout"
        }
      ]
    },
    {
      "cell_type": "code",
      "metadata": {
        "colab": {
          "base_uri": "https://localhost:8080/"
        },
        "id": "7HmcIPn-q-CK",
        "outputId": "d106ef57-c181-4265-9772-3dbeb5a14d50"
      },
      "source": [
        "image_shoe_index = np.where(train_labels==9)\n",
        "train_image_shoe = train_images[image_shoe_index]\n",
        "print(\"shape before flattening: \",train_image_shoe.shape)\n",
        "train_image_shoe_flatten = np.reshape(train_image_shoe, (6000, 784))\n",
        "print(\"shape after flattening: \",train_image_shoe_flatten.shape)"
      ],
      "execution_count": null,
      "outputs": [
        {
          "output_type": "stream",
          "text": [
            "shape before flattening:  (6000, 28, 28)\n",
            "shape after flattening:  (6000, 784)\n"
          ],
          "name": "stdout"
        }
      ]
    },
    {
      "cell_type": "code",
      "metadata": {
        "colab": {
          "base_uri": "https://localhost:8080/",
          "height": 269
        },
        "id": "OIgP8Sa3uyia",
        "outputId": "324d0a0b-cdb0-499b-d172-96f2605e13e6"
      },
      "source": [
        "show_image(train_image_shoe[4])"
      ],
      "execution_count": null,
      "outputs": [
        {
          "output_type": "display_data",
          "data": {
            "image/png": "[encoded data removed]",
            "text/plain": [
              "<Figure size 432x288 with 2 Axes>"
            ]
          },
          "metadata": {
            "tags": [],
            "needs_background": "light"
          }
        }
      ]
    },
    {
      "cell_type": "code",
      "metadata": {
        "colab": {
          "base_uri": "https://localhost:8080/"
        },
        "id": "XDdJju_evRkD",
        "outputId": "51d6c8ca-baa8-4876-f32f-28840f355b80"
      },
      "source": [
        "image_tshirt_index = np.where(train_labels==0)\n",
        "train_image_tshirt = train_images[image_tshirt_index]\n",
        "print(\"shape before flattening: \",train_image_tshirt.shape)\n",
        "train_image_tshirt_flatten = np.reshape(train_image_tshirt, (6000, 784))\n",
        "print(\"shape after flattening: \",train_image_tshirt_flatten.shape)"
      ],
      "execution_count": null,
      "outputs": [
        {
          "output_type": "stream",
          "text": [
            "shape before flattening:  (6000, 28, 28)\n",
            "shape after flattening:  (6000, 784)\n"
          ],
          "name": "stdout"
        }
      ]
    },
    {
      "cell_type": "code",
      "metadata": {
        "colab": {
          "base_uri": "https://localhost:8080/",
          "height": 269
        },
        "id": "0UTUH3qNvkoF",
        "outputId": "59e9e91b-4935-4a2a-89cc-31f2e5de31ea"
      },
      "source": [
        "show_image(train_image_tshirt[0])"
      ],
      "execution_count": null,
      "outputs": [
        {
          "output_type": "display_data",
          "data": {
            "image/png": "[encoded data removed]",
            "text/plain": [
              "<Figure size 432x288 with 2 Axes>"
            ]
          },
          "metadata": {
            "tags": [],
            "needs_background": "light"
          }
        }
      ]
    },
    {
      "cell_type": "code",
      "metadata": {
        "id": "D5Q7v8BHgMtS",
        "colab": {
          "base_uri": "https://localhost:8080/"
        },
        "outputId": "359e6d8d-1d78-47a7-8908-65860fb918c3"
      },
      "source": [
        "image_tshirt_index = np.where(test_labels==0)\n",
        "test_image_tshirt = test_images[image_tshirt_index]\n",
        "print(\"shape before flattening: \",test_image_tshirt.shape)\n",
        "test_image_tshirt_flatten = np.reshape(test_image_tshirt, (1000, 784))\n",
        "print(\"shape after flattening: \",test_image_tshirt_flatten.shape)"
      ],
      "execution_count": null,
      "outputs": [
        {
          "output_type": "stream",
          "text": [
            "shape before flattening:  (1000, 28, 28)\n",
            "shape after flattening:  (1000, 784)\n"
          ],
          "name": "stdout"
        }
      ]
    },
    {
      "cell_type": "code",
      "metadata": {
        "colab": {
          "base_uri": "https://localhost:8080/"
        },
        "id": "7pgLtRqyv2Yp",
        "outputId": "a9657cb4-ab68-4172-f6a6-2576d44b9e55"
      },
      "source": [
        "image_trouser_index = np.where(train_labels==1)\n",
        "train_image_trouser = train_images[image_trouser_index]\n",
        "print(\"shape before flattening: \",train_image_trouser.shape)\n",
        "train_image_trouser_flatten = np.reshape(train_image_trouser, (6000, 784))\n",
        "print(\"shape after flattening: \",train_image_trouser_flatten.shape)"
      ],
      "execution_count": null,
      "outputs": [
        {
          "output_type": "stream",
          "text": [
            "shape before flattening:  (6000, 28, 28)\n",
            "shape after flattening:  (6000, 784)\n"
          ],
          "name": "stdout"
        }
      ]
    },
    {
      "cell_type": "code",
      "metadata": {
        "colab": {
          "base_uri": "https://localhost:8080/",
          "height": 265
        },
        "id": "xEKOdW1xwNjH",
        "outputId": "fcf8b1c5-fd83-4e81-c3dc-b1e9635c168e"
      },
      "source": [
        "show_image(train_image_trouser[0])"
      ],
      "execution_count": null,
      "outputs": [
        {
          "output_type": "display_data",
          "data": {
            "image/png": "[encoded data removed]",
            "text/plain": [
              "<Figure size 432x288 with 2 Axes>"
            ]
          },
          "metadata": {
            "tags": [],
            "needs_background": "light"
          }
        }
      ]
    },
    {
      "cell_type": "code",
      "metadata": {
        "id": "mytCO9TO30vJ",
        "colab": {
          "base_uri": "https://localhost:8080/"
        },
        "outputId": "56081bb7-15ad-4f76-fcb1-b385ce5b44bb"
      },
      "source": [
        "image_trouser_index = np.where(test_labels==1)\n",
        "test_image_trouser = test_images[image_trouser_index]\n",
        "print(\"shape before flattening: \",test_image_trouser.shape)\n",
        "test_image_trouser_flatten = np.reshape(test_image_trouser, (1000, 784))\n",
        "print(\"shape after flattening: \",test_image_trouser_flatten.shape)"
      ],
      "execution_count": null,
      "outputs": [
        {
          "output_type": "stream",
          "text": [
            "shape before flattening:  (1000, 28, 28)\n",
            "shape after flattening:  (1000, 784)\n"
          ],
          "name": "stdout"
        }
      ]
    },
    {
      "cell_type": "code",
      "metadata": {
        "id": "ZcjNCESu4O0Y",
        "colab": {
          "base_uri": "https://localhost:8080/",
          "height": 269
        },
        "outputId": "a17ad507-2032-4217-f7e0-7b49529cf70c"
      },
      "source": [
        "show_image(test_image_trouser[0])"
      ],
      "execution_count": null,
      "outputs": [
        {
          "output_type": "display_data",
          "data": {
            "image/png": "[encoded data removed]",
            "text/plain": [
              "<Figure size 432x288 with 2 Axes>"
            ]
          },
          "metadata": {
            "tags": [],
            "needs_background": "light"
          }
        }
      ]
    },
    {
      "cell_type": "code",
      "metadata": {
        "id": "oCE_kLTWki2O"
      },
      "source": [
        "def plot_triplet(triplet):\n",
        "  plt.figure(figsize=(6,2))\n",
        "  for i in range(0,3):\n",
        "    plt.subplot(1,3,i+1)\n",
        "    plt.imshow(np.reshape(triplet[i],(28,28)), cmap='binary')\n",
        "    plt.xticks([])\n",
        "    plt.yticks([])\n",
        "  plt.show()"
      ],
      "execution_count": null,
      "outputs": []
    },
    {
      "cell_type": "code",
      "metadata": {
        "id": "I_iKLxn0UxRf"
      },
      "source": [
        "class PCAPlotter(tf.keras.callbacks.Callback):\n",
        "    \n",
        "    def __init__(self, plt, embedding_model, x_test, y_test):\n",
        "        super(PCAPlotter, self).__init__()\n",
        "        self.embedding_model = embedding_model\n",
        "        self.x_test = x_test\n",
        "        self.y_test = y_test\n",
        "        self.fig = plt.figure(figsize=(9, 4))\n",
        "        self.ax1 = plt.subplot(1, 2, 1)\n",
        "        self.ax2 = plt.subplot(1, 2, 2)\n",
        "        plt.ion()\n",
        "        \n",
        "        self.losses = []\n",
        "    \n",
        "    def plot(self, epoch=None, plot_loss=False):\n",
        "        x_test_embeddings = self.embedding_model.predict(self.x_test)\n",
        "        pca_out = PCA(n_components=2).fit_transform(x_test_embeddings)\n",
        "        self.ax1.clear()\n",
        "        self.ax1.scatter(pca_out[:, 0], pca_out[:, 1], c=self.y_test, cmap='seismic')\n",
        "        if plot_loss:\n",
        "            self.ax2.clear()\n",
        "            self.ax2.plot(range(epoch), self.losses)\n",
        "            self.ax2.set_xlabel('Epochs')\n",
        "            self.ax2.set_ylabel('Loss')\n",
        "        self.fig.canvas.draw()\n",
        "    \n",
        "    def on_train_begin(self, logs=None):\n",
        "        self.losses = []\n",
        "        self.fig.show()\n",
        "        self.fig.canvas.draw()\n",
        "        self.plot()\n",
        "\n",
        "    def on_epoch_end(self, epoch, logs=None):\n",
        "        self.losses.append(logs.get('loss'))\n",
        "        self.plot(epoch+1, plot_loss=True)"
      ],
      "execution_count": null,
      "outputs": []
    },
    {
      "cell_type": "code",
      "metadata": {
        "id": "1Ga_fl21mhAF"
      },
      "source": [
        "# concatenating tshirt and trouser\n",
        "training_X = np.concatenate((train_image_tshirt_flatten, train_image_trouser_flatten), axis=0)\n",
        "# concatenating test tshirt and trouser\n",
        "testing_X = np.concatenate((test_image_tshirt_flatten, test_image_trouser_flatten), axis=0)"
      ],
      "execution_count": null,
      "outputs": []
    },
    {
      "cell_type": "code",
      "metadata": {
        "colab": {
          "base_uri": "https://localhost:8080/",
          "height": 133
        },
        "id": "n-1zEjWEoY2X",
        "outputId": "3cf32c99-8248-4a67-ef04-82a9e68869a2"
      },
      "source": [
        "plot_triplet([training_X[6000],training_X[6001],training_X[6002]])"
      ],
      "execution_count": null,
      "outputs": [
        {
          "output_type": "display_data",
          "data": {
            "image/png": "[encoded data removed]",
            "text/plain": [
              "<Figure size 432x144 with 3 Axes>"
            ]
          },
          "metadata": {
            "tags": []
          }
        }
      ]
    },
    {
      "cell_type": "code",
      "metadata": {
        "id": "PET6iJMBn2KB"
      },
      "source": [
        "# generate labels tshirt = 0 and trouser = 1\n",
        "train_y = np.concatenate((np.zeros(len(train_image_tshirt_flatten)), np.ones(len(train_image_trouser_flatten))), axis=0)\n",
        "\n",
        "# test generate labels tshirt = 0 and trouser = 1\n",
        "test_y = np.concatenate((np.zeros(len(test_image_tshirt_flatten)), np.ones(len(test_image_trouser_flatten))), axis=0)"
      ],
      "execution_count": null,
      "outputs": []
    },
    {
      "cell_type": "code",
      "metadata": {
        "id": "2OgC1AMNVZT4"
      },
      "source": [
        "rng = check_random_state(1)\n",
        "indices = rng.permutation(len(training_X))\n",
        "indices_test = rng.permutation(len(testing_X))\n"
      ],
      "execution_count": null,
      "outputs": []
    },
    {
      "cell_type": "code",
      "metadata": {
        "id": "Z4S1egd-VxzK"
      },
      "source": [
        "# shuffled data and labels\n",
        "training_X_shuffled = training_X[indices]\n",
        "train_y_shuffled = train_y[indices]\n",
        "\n",
        "# test shuffled data and labels\n",
        "testing_X_shuffled = testing_X[indices_test]\n",
        "test_y_shuffled = test_y[indices_test]"
      ],
      "execution_count": null,
      "outputs": []
    },
    {
      "cell_type": "code",
      "metadata": {
        "colab": {
          "base_uri": "https://localhost:8080/",
          "height": 150
        },
        "id": "w3kqmS5tWtcT",
        "outputId": "a31e9c45-8470-477c-c0f3-c68f642bff5b"
      },
      "source": [
        "print(train_y_shuffled[6000],train_y_shuffled[6001],train_y_shuffled[6002])\n",
        "plot_triplet([training_X_shuffled[6000],training_X_shuffled[6001],training_X_shuffled[6002]])"
      ],
      "execution_count": null,
      "outputs": [
        {
          "output_type": "stream",
          "text": [
            "0.0 0.0 1.0\n"
          ],
          "name": "stdout"
        },
        {
          "output_type": "display_data",
          "data": {
            "image/png": "[encoded data removed]",
            "text/plain": [
              "<Figure size 432x144 with 3 Axes>"
            ]
          },
          "metadata": {
            "tags": []
          }
        }
      ]
    },
    {
      "cell_type": "code",
      "metadata": {
        "id": "wYQdeY8IYbEb"
      },
      "source": [
        "def create_batch (batch_size):\n",
        "  anchors = np.zeros((batch_size, 784))\n",
        "  positives = np.zeros((batch_size, 784))\n",
        "  negatives = np.zeros((batch_size, 784))\n",
        "\n",
        "  for i in range(0,batch_size):\n",
        "    index = random.randint(0,12000-1)\n",
        "    anc = training_X_shuffled[index]\n",
        "    y = train_y_shuffled[index]\n",
        "\n",
        "    indices_for_pos = np.squeeze(np.where(train_y_shuffled == y))\n",
        "    indices_for_neg = np.squeeze(np.where(train_y_shuffled != y))\n",
        "\n",
        "    pos = training_X_shuffled[indices_for_pos[random.randint(0,len(indices_for_pos)-1)]]\n",
        "    neg = training_X_shuffled[indices_for_neg[random.randint(0,len(indices_for_neg)-1)]]\n",
        "\n",
        "    anchors[i] = anc\n",
        "    positives[i] = pos\n",
        "    negatives[i] = neg\n",
        "\n",
        "    return [anchors, positives, negatives] "
      ],
      "execution_count": null,
      "outputs": []
    },
    {
      "cell_type": "code",
      "metadata": {
        "colab": {
          "base_uri": "https://localhost:8080/",
          "height": 133
        },
        "id": "zqTdbyBQmn6a",
        "outputId": "9bf07086-4955-4d8c-ad0e-6a419028cfde"
      },
      "source": [
        "triplet = create_batch (1)\n",
        "plot_triplet(triplet)"
      ],
      "execution_count": null,
      "outputs": [
        {
          "output_type": "display_data",
          "data": {
            "image/png": "[encoded data removed]",
            "text/plain": [
              "<Figure size 432x144 with 3 Axes>"
            ]
          },
          "metadata": {
            "tags": []
          }
        }
      ]
    },
    {
      "cell_type": "code",
      "metadata": {
        "colab": {
          "base_uri": "https://localhost:8080/"
        },
        "id": "9JX_Fn4epKj8",
        "outputId": "951b3e46-9f02-442c-8190-4df2fca689ee"
      },
      "source": [
        "# building embedding layer\n",
        "emb_dim = 64\n",
        "embedding_model = tf.keras.models.Sequential([\n",
        "                                tf.keras.layers.Dense(64, activation = 'relu', input_shape=(784,)),\n",
        "                                tf.keras.layers.Dense(emb_dim, activation='sigmoid'),\n",
        "                              ])\n",
        "embedding_model.summary()"
      ],
      "execution_count": null,
      "outputs": [
        {
          "output_type": "stream",
          "text": [
            "Model: \"sequential\"\n",
            "_________________________________________________________________\n",
            "Layer (type)                 Output Shape              Param #   \n",
            "=================================================================\n",
            "dense (Dense)                (None, 64)                50240     \n",
            "_________________________________________________________________\n",
            "dense_1 (Dense)              (None, 64)                4160      \n",
            "=================================================================\n",
            "Total params: 54,400\n",
            "Trainable params: 54,400\n",
            "Non-trainable params: 0\n",
            "_________________________________________________________________\n"
          ],
          "name": "stdout"
        }
      ]
    },
    {
      "cell_type": "code",
      "metadata": {
        "colab": {
          "base_uri": "https://localhost:8080/"
        },
        "id": "LYR7hujQq2A0",
        "outputId": "186a98e8-1b0e-4e04-a600-c0e7e71d75f0"
      },
      "source": [
        "# take an example and predict output\n",
        "example = training_X_shuffled[0]\n",
        "print (\"shape of example: \", example.shape)\n",
        "\n",
        "example_emb = embedding_model.predict(np.expand_dims(example, axis = 0))\n",
        "\n",
        "print (\"shape of example_emb: \", example_emb.shape)"
      ],
      "execution_count": null,
      "outputs": [
        {
          "output_type": "stream",
          "text": [
            "shape of example:  (784,)\n",
            "shape of example_emb:  (1, 64)\n"
          ],
          "name": "stdout"
        }
      ]
    },
    {
      "cell_type": "code",
      "metadata": {
        "id": "B1R1JmG7tl5c"
      },
      "source": [
        "# Declaring inputs\n",
        "in_anc = tf.keras.layers.Input(shape = (784,))\n",
        "in_pos = tf.keras.layers.Input(shape = (784,))\n",
        "in_neg = tf.keras.layers.Input(shape = (784,))\n",
        "\n",
        "im_anc_emb = embedding_model(in_anc)\n",
        "im_pos_emb = embedding_model(in_pos)\n",
        "im_neg_emb = embedding_model(in_neg)"
      ],
      "execution_count": null,
      "outputs": []
    },
    {
      "cell_type": "code",
      "metadata": {
        "colab": {
          "base_uri": "https://localhost:8080/"
        },
        "id": "_iT9gV-ruv7S",
        "outputId": "87335262-0222-4f6c-f987-0ae0246d2dca"
      },
      "source": [
        "# Declaring outputs\n",
        "out = tf.keras.layers.concatenate([im_anc_emb, im_pos_emb, im_neg_emb], axis = 1)\n",
        "\n",
        "# the full model\n",
        "net = tf.keras.Model(inputs = [in_anc, in_pos, in_neg], outputs = out)\n",
        "\n",
        "net.summary()"
      ],
      "execution_count": null,
      "outputs": [
        {
          "output_type": "stream",
          "text": [
            "Model: \"model\"\n",
            "__________________________________________________________________________________________________\n",
            "Layer (type)                    Output Shape         Param #     Connected to                     \n",
            "==================================================================================================\n",
            "input_1 (InputLayer)            [(None, 784)]        0                                            \n",
            "__________________________________________________________________________________________________\n",
            "input_2 (InputLayer)            [(None, 784)]        0                                            \n",
            "__________________________________________________________________________________________________\n",
            "input_3 (InputLayer)            [(None, 784)]        0                                            \n",
            "__________________________________________________________________________________________________\n",
            "sequential (Sequential)         (None, 64)           54400       input_1[0][0]                    \n",
            "                                                                 input_2[0][0]                    \n",
            "                                                                 input_3[0][0]                    \n",
            "__________________________________________________________________________________________________\n",
            "concatenate (Concatenate)       (None, 192)          0           sequential[0][0]                 \n",
            "                                                                 sequential[1][0]                 \n",
            "                                                                 sequential[2][0]                 \n",
            "==================================================================================================\n",
            "Total params: 54,400\n",
            "Trainable params: 54,400\n",
            "Non-trainable params: 0\n",
            "__________________________________________________________________________________________________\n"
          ],
          "name": "stdout"
        }
      ]
    },
    {
      "cell_type": "markdown",
      "metadata": {
        "id": "vFd8GdKgy-51"
      },
      "source": [
        "Triplet loss:\n",
        "  dp : distance between anchor and positive example\n",
        "  dn : distance between anchor and negative example\n",
        "  The job of training would make sure dp < dn\n",
        "  if decrease dn by a scale factor then condition on dp would be tighter\n",
        "  dp < dn - e\n",
        "\n",
        "  so the condition would be \n",
        "\n",
        "  dp-dn+e < = 0\n",
        "\n",
        "  and loss would be\n",
        "\n",
        "  Loss = max (dp-dn+e, 0) // whichever is max will be reduced during training"
      ]
    },
    {
      "cell_type": "code",
      "metadata": {
        "id": "iD8Kbjji3Zvv"
      },
      "source": [
        "# Defining triplet loss\n",
        "def triplet_loss(emb_dim, alpha):\n",
        "  def loss (y_truth, y_pred):\n",
        "    anc, pos, neg = y_pred[:, :emb_dim], y_pred[:, emb_dim:2*emb_dim], y_pred[:, 2*emb_dim:3*emb_dim]\n",
        "    dp = tf.reduce_mean(tf.square(anc - pos), axis = 1)\n",
        "    dn = tf.reduce_mean(tf.square(anc - neg), axis = 1)\n",
        "    return tf.maximum(dp-dn+alpha, 0.)\n",
        "  return loss"
      ],
      "execution_count": null,
      "outputs": []
    },
    {
      "cell_type": "code",
      "metadata": {
        "id": "xf0aNKw19v9I"
      },
      "source": [
        "def data_generator(batch_size, emb_dim):\n",
        "  while True:\n",
        "    x = create_batch (batch_size)\n",
        "    y = np.zeros((batch_size, 3*emb_dim))\n",
        "    yield x, y\n"
      ],
      "execution_count": null,
      "outputs": []
    },
    {
      "cell_type": "code",
      "metadata": {
        "id": "6ucPDAMRFFNq"
      },
      "source": [
        "batch_size = 60\n",
        "epochs = 20\n",
        "steps_per_epoch = int(len(training_X_shuffled)/batch_size)\n",
        "net.compile(loss = triplet_loss(emb_dim, alpha = 0.2), optimizer = tf.keras.optimizers.Adam(learning_rate=0.001))"
      ],
      "execution_count": null,
      "outputs": []
    },
    {
      "cell_type": "code",
      "metadata": {
        "colab": {
          "base_uri": "https://localhost:8080/",
          "height": 976
        },
        "id": "l6j5FMQNI1Tp",
        "outputId": "bc7369bb-7b18-4c98-8591-1604dbb610ad"
      },
      "source": [
        "net.fit(data_generator(batch_size, emb_dim), epochs=epochs, steps_per_epoch=steps_per_epoch,\n",
        "        callbacks = [\n",
        "                    PCAPlotter(plt, embedding_model, testing_X_shuffled, test_y_shuffled)\n",
        "        ])"
      ],
      "execution_count": null,
      "outputs": [
        {
          "output_type": "stream",
          "text": [
            "Epoch 1/20\n",
            "200/200 [==============================] - 1s 4ms/step - loss: 0.1982\n",
            "Epoch 2/20\n",
            "200/200 [==============================] - 1s 4ms/step - loss: 0.1970\n",
            "Epoch 3/20\n",
            "200/200 [==============================] - 1s 4ms/step - loss: 0.1970\n",
            "Epoch 4/20\n",
            "200/200 [==============================] - 1s 4ms/step - loss: 0.1971\n",
            "Epoch 5/20\n",
            "200/200 [==============================] - 1s 4ms/step - loss: 0.1968\n",
            "Epoch 6/20\n",
            "200/200 [==============================] - 1s 4ms/step - loss: 0.1969\n",
            "Epoch 7/20\n",
            "200/200 [==============================] - 1s 4ms/step - loss: 0.1968\n",
            "Epoch 8/20\n",
            "200/200 [==============================] - 1s 4ms/step - loss: 0.1968\n",
            "Epoch 9/20\n",
            "200/200 [==============================] - 1s 4ms/step - loss: 0.1968\n",
            "Epoch 10/20\n",
            "200/200 [==============================] - 1s 4ms/step - loss: 0.1970\n",
            "Epoch 11/20\n",
            "200/200 [==============================] - 1s 4ms/step - loss: 0.1969\n",
            "Epoch 12/20\n",
            "200/200 [==============================] - 1s 4ms/step - loss: 0.1968\n",
            "Epoch 13/20\n",
            "200/200 [==============================] - 1s 4ms/step - loss: 0.1968\n",
            "Epoch 14/20\n",
            "200/200 [==============================] - 1s 4ms/step - loss: 0.1970\n",
            "Epoch 15/20\n",
            "200/200 [==============================] - 1s 4ms/step - loss: 0.1969\n",
            "Epoch 16/20\n",
            "200/200 [==============================] - 1s 4ms/step - loss: 0.1970\n",
            "Epoch 17/20\n",
            "200/200 [==============================] - 1s 5ms/step - loss: 0.1969\n",
            "Epoch 18/20\n",
            "200/200 [==============================] - 1s 4ms/step - loss: 0.1969\n",
            "Epoch 19/20\n",
            "200/200 [==============================] - 1s 4ms/step - loss: 0.1968\n",
            "Epoch 20/20\n",
            "200/200 [==============================] - 1s 4ms/step - loss: 0.1968\n"
          ],
          "name": "stdout"
        },
        {
          "output_type": "execute_result",
          "data": {
            "text/plain": [
              "<tensorflow.python.keras.callbacks.History at 0x7f151fb92588>"
            ]
          },
          "metadata": {
            "tags": []
          },
          "execution_count": 33
        },
        {
          "output_type": "display_data",
          "data": {
            "image/png": "[encoded data removed]",
            "text/plain": [
              "<Figure size 648x288 with 2 Axes>"
            ]
          },
          "metadata": {
            "tags": [],
            "needs_background": "light"
          }
        }
      ]
    },
    {
      "cell_type": "code",
      "metadata": {
        "id": "9OLUpduWUuov"
      },
      "source": [
        ""
      ],
      "execution_count": null,
      "outputs": []
    },
    {
      "cell_type": "code",
      "metadata": {
        "id": "8Rpa_mUGxJoE"
      },
      "source": [
        "def initialize_base_network():\n",
        "    input = Input(shape=(28,28,), name=\"base_input\")\n",
        "    x = Flatten(name=\"flatten_input\")(input)\n",
        "    x = Dense(128, activation='relu', name=\"first_base_dense\")(x)\n",
        "    x = Dropout(0.1, name=\"first_dropout\")(x)\n",
        "    x = Dense(128, activation='relu', name=\"second_base_dense\")(x)\n",
        "    x = Dropout(0.1, name=\"second_dropout\")(x)\n",
        "    x = Dense(128, activation='relu', name=\"third_base_dense\")(x)\n",
        "\n",
        "    return Model(inputs=input, outputs=x)"
      ],
      "execution_count": null,
      "outputs": []
    }
  ]
}