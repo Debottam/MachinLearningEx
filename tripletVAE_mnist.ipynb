{
  "nbformat": 4,
  "nbformat_minor": 0,
  "metadata": {
    "colab": {
      "name": "Copy of tripletVAE.ipynb",
      "provenance": [],
      "authorship_tag": "ABX9TyPiyYO8brLPlhrE95LLUyeD",
      "include_colab_link": true
    },
    "kernelspec": {
      "name": "python3",
      "display_name": "Python 3"
    }
  },
  "cells": [
    {
      "cell_type": "markdown",
      "metadata": {
        "id": "view-in-github",
        "colab_type": "text"
      },
      "source": [
        "<a href=\"https://colab.research.google.com/github/Debottam/MachinLearningEx/blob/master/tripletVAE_mnist.ipynb\" target=\"_parent\"><img src=\"https://colab.research.google.com/assets/colab-badge.svg\" alt=\"Open In Colab\"/></a>"
      ]
    },
    {
      "cell_type": "code",
      "metadata": {
        "id": "JX2s89HlfCJk"
      },
      "source": [
        "import tensorflow as tf\n",
        "from tensorflow.keras.models import Model\n",
        "from tensorflow.keras.layers import Input, Flatten, Dense, Dropout, Lambda\n",
        "from tensorflow.keras.optimizers import RMSprop\n",
        "from tensorflow.keras.datasets import fashion_mnist\n",
        "from tensorflow.python.keras.utils.vis_utils import plot_model\n",
        "from tensorflow.keras import backend as K\n",
        "\n",
        "import numpy as np\n",
        "import matplotlib.pyplot as plt\n",
        "from PIL import Image, ImageFont, ImageDraw\n",
        "import random\n",
        "from sklearn.utils import check_random_state\n",
        "from sklearn.decomposition import PCA"
      ],
      "execution_count": 1,
      "outputs": []
    },
    {
      "cell_type": "code",
      "metadata": {
        "id": "NfL4zLyjp1sl"
      },
      "source": [
        "# load the dataset\n",
        "(train_images, train_labels), (test_images, test_labels) = fashion_mnist.load_data()"
      ],
      "execution_count": 2,
      "outputs": []
    },
    {
      "cell_type": "code",
      "metadata": {
        "colab": {
          "base_uri": "https://localhost:8080/"
        },
        "id": "r_MxfI8NqJf3",
        "outputId": "f6142384-3d31-4052-eb73-dcd7de8dc94f"
      },
      "source": [
        "train_labels"
      ],
      "execution_count": 3,
      "outputs": [
        {
          "output_type": "execute_result",
          "data": {
            "text/plain": [
              "array([9, 0, 0, ..., 3, 0, 5], dtype=uint8)"
            ]
          },
          "metadata": {
            "tags": []
          },
          "execution_count": 3
        }
      ]
    },
    {
      "cell_type": "code",
      "metadata": {
        "id": "v4zDlpWtqPDg"
      },
      "source": [
        "# prepare train and test sets\n",
        "train_images = train_images.astype('float32')\n",
        "test_images = test_images.astype('float32')\n",
        "\n",
        "# normalize values\n",
        "train_images = train_images / 255.0\n",
        "test_images = test_images / 255.0"
      ],
      "execution_count": 4,
      "outputs": []
    },
    {
      "cell_type": "code",
      "metadata": {
        "id": "_R_BS2D0qxH_"
      },
      "source": [
        "def show_image(image):\n",
        "    plt.figure()\n",
        "    plt.imshow(image)\n",
        "    plt.colorbar()\n",
        "    plt.grid(False)\n",
        "    plt.show()"
      ],
      "execution_count": 5,
      "outputs": []
    },
    {
      "cell_type": "code",
      "metadata": {
        "colab": {
          "base_uri": "https://localhost:8080/",
          "height": 286
        },
        "id": "gvPe7nVjq192",
        "outputId": "e0ee8b26-9a45-4439-c33a-8ec7d07f0e56"
      },
      "source": [
        "show_image(train_images[0])\n",
        "print(\"label: \",train_labels[0])"
      ],
      "execution_count": 6,
      "outputs": [
        {
          "output_type": "display_data",
          "data": {
            "image/png": "[encoded data removed]",
            "text/plain": [
              "<Figure size 432x288 with 2 Axes>"
            ]
          },
          "metadata": {
            "tags": [],
            "needs_background": "light"
          }
        },
        {
          "output_type": "stream",
          "text": [
            "label:  9\n"
          ],
          "name": "stdout"
        }
      ]
    },
    {
      "cell_type": "code",
      "metadata": {
        "colab": {
          "base_uri": "https://localhost:8080/"
        },
        "id": "7HmcIPn-q-CK",
        "outputId": "0b0ea127-c62f-46a1-957c-3fd54a271da7"
      },
      "source": [
        "image_shoe_index = np.where(train_labels==9)\n",
        "train_image_shoe = train_images[image_shoe_index]\n",
        "print(\"shape before flattening: \",train_image_shoe.shape)\n",
        "train_image_shoe_flatten = np.reshape(train_image_shoe, (6000, 784))\n",
        "print(\"shape after flattening: \",train_image_shoe_flatten.shape)"
      ],
      "execution_count": 7,
      "outputs": [
        {
          "output_type": "stream",
          "text": [
            "shape before flattening:  (6000, 28, 28)\n",
            "shape after flattening:  (6000, 784)\n"
          ],
          "name": "stdout"
        }
      ]
    },
    {
      "cell_type": "code",
      "metadata": {
        "colab": {
          "base_uri": "https://localhost:8080/",
          "height": 269
        },
        "id": "OIgP8Sa3uyia",
        "outputId": "e3b1f4f6-7a98-47fb-aefa-5519316321bb"
      },
      "source": [
        "show_image(train_image_shoe[4])"
      ],
      "execution_count": 8,
      "outputs": [
        {
          "output_type": "display_data",
          "data": {
            "image/png": "[encoded data removed]",
            "text/plain": [
              "<Figure size 432x288 with 2 Axes>"
            ]
          },
          "metadata": {
            "tags": [],
            "needs_background": "light"
          }
        }
      ]
    },
    {
      "cell_type": "code",
      "metadata": {
        "colab": {
          "base_uri": "https://localhost:8080/"
        },
        "id": "XDdJju_evRkD",
        "outputId": "fb670ea9-ecdc-400f-cb00-6384d94c97b0"
      },
      "source": [
        "image_tshirt_index = np.where(train_labels==0)\n",
        "train_image_tshirt = train_images[image_tshirt_index]\n",
        "print(\"shape before flattening: \",train_image_tshirt.shape)\n",
        "train_image_tshirt_flatten = np.reshape(train_image_tshirt, (6000, 784))\n",
        "print(\"shape after flattening: \",train_image_tshirt_flatten.shape)"
      ],
      "execution_count": 9,
      "outputs": [
        {
          "output_type": "stream",
          "text": [
            "shape before flattening:  (6000, 28, 28)\n",
            "shape after flattening:  (6000, 784)\n"
          ],
          "name": "stdout"
        }
      ]
    },
    {
      "cell_type": "code",
      "metadata": {
        "colab": {
          "base_uri": "https://localhost:8080/",
          "height": 269
        },
        "id": "0UTUH3qNvkoF",
        "outputId": "33cc5167-dd91-4a75-8ba0-e0d8841451f5"
      },
      "source": [
        "show_image(train_image_tshirt[0])"
      ],
      "execution_count": 10,
      "outputs": [
        {
          "output_type": "display_data",
          "data": {
            "image/png": "[encoded data removed]",
            "text/plain": [
              "<Figure size 432x288 with 2 Axes>"
            ]
          },
          "metadata": {
            "tags": [],
            "needs_background": "light"
          }
        }
      ]
    },
    {
      "cell_type": "code",
      "metadata": {
        "id": "D5Q7v8BHgMtS",
        "colab": {
          "base_uri": "https://localhost:8080/"
        },
        "outputId": "cbef7d0d-e4c3-46e2-fdde-1b4a398ee00e"
      },
      "source": [
        "image_tshirt_index = np.where(test_labels==0)\n",
        "test_image_tshirt = test_images[image_tshirt_index]\n",
        "print(\"shape before flattening: \",test_image_tshirt.shape)\n",
        "test_image_tshirt_flatten = np.reshape(test_image_tshirt, (1000, 784))\n",
        "print(\"shape after flattening: \",test_image_tshirt_flatten.shape)"
      ],
      "execution_count": 11,
      "outputs": [
        {
          "output_type": "stream",
          "text": [
            "shape before flattening:  (1000, 28, 28)\n",
            "shape after flattening:  (1000, 784)\n"
          ],
          "name": "stdout"
        }
      ]
    },
    {
      "cell_type": "code",
      "metadata": {
        "colab": {
          "base_uri": "https://localhost:8080/"
        },
        "id": "7pgLtRqyv2Yp",
        "outputId": "8b6d9a32-26ee-4d1d-9d58-e6343fb07d37"
      },
      "source": [
        "image_trouser_index = np.where(train_labels==1)\n",
        "train_image_trouser = train_images[image_trouser_index]\n",
        "print(\"shape before flattening: \",train_image_trouser.shape)\n",
        "train_image_trouser_flatten = np.reshape(train_image_trouser, (6000, 784))\n",
        "print(\"shape after flattening: \",train_image_trouser_flatten.shape)"
      ],
      "execution_count": 12,
      "outputs": [
        {
          "output_type": "stream",
          "text": [
            "shape before flattening:  (6000, 28, 28)\n",
            "shape after flattening:  (6000, 784)\n"
          ],
          "name": "stdout"
        }
      ]
    },
    {
      "cell_type": "code",
      "metadata": {
        "colab": {
          "base_uri": "https://localhost:8080/",
          "height": 265
        },
        "id": "xEKOdW1xwNjH",
        "outputId": "3166cafd-90ea-410f-d650-419aa3c834c9"
      },
      "source": [
        "show_image(train_image_trouser[0])"
      ],
      "execution_count": 13,
      "outputs": [
        {
          "output_type": "display_data",
          "data": {
            "image/png": "[encoded data removed]",
            "text/plain": [
              "<Figure size 432x288 with 2 Axes>"
            ]
          },
          "metadata": {
            "tags": [],
            "needs_background": "light"
          }
        }
      ]
    },
    {
      "cell_type": "code",
      "metadata": {
        "id": "mytCO9TO30vJ",
        "colab": {
          "base_uri": "https://localhost:8080/"
        },
        "outputId": "c60a7482-7f6a-4b74-816d-89f5e88e1ed0"
      },
      "source": [
        "image_trouser_index = np.where(test_labels==1)\n",
        "test_image_trouser = test_images[image_trouser_index]\n",
        "print(\"shape before flattening: \",test_image_trouser.shape)\n",
        "test_image_trouser_flatten = np.reshape(test_image_trouser, (1000, 784))\n",
        "print(\"shape after flattening: \",test_image_trouser_flatten.shape)"
      ],
      "execution_count": 14,
      "outputs": [
        {
          "output_type": "stream",
          "text": [
            "shape before flattening:  (1000, 28, 28)\n",
            "shape after flattening:  (1000, 784)\n"
          ],
          "name": "stdout"
        }
      ]
    },
    {
      "cell_type": "code",
      "metadata": {
        "id": "ZcjNCESu4O0Y",
        "colab": {
          "base_uri": "https://localhost:8080/",
          "height": 269
        },
        "outputId": "aa45e255-9ec6-43f1-e0c8-22d02208b4cd"
      },
      "source": [
        "show_image(test_image_trouser[0])"
      ],
      "execution_count": 15,
      "outputs": [
        {
          "output_type": "display_data",
          "data": {
            "image/png": "[encoded data removed]",
            "text/plain": [
              "<Figure size 432x288 with 2 Axes>"
            ]
          },
          "metadata": {
            "tags": [],
            "needs_background": "light"
          }
        }
      ]
    },
    {
      "cell_type": "code",
      "metadata": {
        "id": "oCE_kLTWki2O"
      },
      "source": [
        "def plot_triplet(triplet):\n",
        "  plt.figure(figsize=(6,2))\n",
        "  for i in range(0,3):\n",
        "    plt.subplot(1,3,i+1)\n",
        "    plt.imshow(np.reshape(triplet[i],(28,28)), cmap='binary')\n",
        "    plt.xticks([])\n",
        "    plt.yticks([])\n",
        "  plt.show()"
      ],
      "execution_count": 16,
      "outputs": []
    },
    {
      "cell_type": "code",
      "metadata": {
        "id": "I_iKLxn0UxRf"
      },
      "source": [
        "class PCAPlotter(tf.keras.callbacks.Callback):\n",
        "    \n",
        "    def __init__(self, plt, embedding_model, x_test, y_test):\n",
        "        super(PCAPlotter, self).__init__()\n",
        "        self.embedding_model = embedding_model\n",
        "        self.x_test = x_test\n",
        "        self.y_test = y_test\n",
        "        self.fig = plt.figure(figsize=(9, 4))\n",
        "        self.ax1 = plt.subplot(1, 2, 1)\n",
        "        self.ax2 = plt.subplot(1, 2, 2)\n",
        "        plt.ion()\n",
        "        \n",
        "        self.losses = []\n",
        "    \n",
        "    def plot(self, epoch=None, plot_loss=False):\n",
        "        x_test_embeddings = self.embedding_model.predict(self.x_test)\n",
        "        pca_out = PCA(n_components=2).fit_transform(x_test_embeddings)\n",
        "        self.ax1.clear()\n",
        "        self.ax1.scatter(pca_out[:, 0], pca_out[:, 1], c=self.y_test, cmap='seismic')\n",
        "        if plot_loss:\n",
        "            self.ax2.clear()\n",
        "            self.ax2.plot(range(epoch), self.losses)\n",
        "            self.ax2.set_xlabel('Epochs')\n",
        "            self.ax2.set_ylabel('Loss')\n",
        "        self.fig.canvas.draw()\n",
        "    \n",
        "    def on_train_begin(self, logs=None):\n",
        "        self.losses = []\n",
        "        self.fig.show()\n",
        "        self.fig.canvas.draw()\n",
        "        self.plot()\n",
        "\n",
        "    def on_epoch_end(self, epoch, logs=None):\n",
        "        self.losses.append(logs.get('loss'))\n",
        "        self.plot(epoch+1, plot_loss=True)"
      ],
      "execution_count": 17,
      "outputs": []
    },
    {
      "cell_type": "code",
      "metadata": {
        "id": "1Ga_fl21mhAF",
        "colab": {
          "base_uri": "https://localhost:8080/"
        },
        "outputId": "04ae4029-c2aa-4a0b-fd77-b61bc8316cd5"
      },
      "source": [
        "# concatenating tshirt and trouser\n",
        "training_X = np.concatenate((train_image_tshirt_flatten,train_image_trouser_flatten), axis = 0)\n",
        "# concatenating test tshirt and trouser\n",
        "testing_X = np.concatenate((test_image_tshirt_flatten,test_image_trouser_flatten), axis = 0)\n",
        "training_X.shape"
      ],
      "execution_count": 18,
      "outputs": [
        {
          "output_type": "execute_result",
          "data": {
            "text/plain": [
              "(12000, 784)"
            ]
          },
          "metadata": {
            "tags": []
          },
          "execution_count": 18
        }
      ]
    },
    {
      "cell_type": "code",
      "metadata": {
        "id": "PET6iJMBn2KB"
      },
      "source": [
        "# generate labels tshirt = 0 and trouser = 1\n",
        "train_y = np.concatenate((np.zeros(len(train_image_tshirt_flatten)), np.ones(len(train_image_trouser_flatten))), axis=0)\n",
        "\n",
        "# test generate labels tshirt = 0 and trouser = 1\n",
        "test_y = np.concatenate((np.zeros(len(test_image_tshirt_flatten)), np.ones(len(test_image_trouser_flatten))), axis=0)"
      ],
      "execution_count": 19,
      "outputs": []
    },
    {
      "cell_type": "code",
      "metadata": {
        "id": "2OgC1AMNVZT4"
      },
      "source": [
        "#rng = check_random_state(1)\n",
        "#indices = rng.permutation(len(training_X))\n",
        "#indices_test = rng.permutation(len(testing_X))\n"
      ],
      "execution_count": null,
      "outputs": []
    },
    {
      "cell_type": "code",
      "metadata": {
        "id": "Z4S1egd-VxzK"
      },
      "source": [
        "# shuffled data and labels\n",
        "# training_X_shuffled = training_X[indices]\n",
        "# train_y_shuffled = train_y[indices]\n",
        "\n",
        "# test shuffled data and labels\n",
        "# testing_X_shuffled = testing_X[indices_test]\n",
        "# test_y_shuffled = test_y[indices_test]"
      ],
      "execution_count": null,
      "outputs": []
    },
    {
      "cell_type": "code",
      "metadata": {
        "colab": {
          "base_uri": "https://localhost:8080/",
          "height": 133
        },
        "id": "w3kqmS5tWtcT",
        "outputId": "c5fdc3a1-e488-465c-efb7-8dda76a6377b"
      },
      "source": [
        "#print(train_y_shuffled[6000],train_y_shuffled[6001],train_y_shuffled[6002])\n",
        "plot_triplet([training_X[5999],training_X[5998],training_X[5997]])"
      ],
      "execution_count": 20,
      "outputs": [
        {
          "output_type": "display_data",
          "data": {
            "image/png": "[encoded data removed]",
            "text/plain": [
              "<Figure size 432x144 with 3 Axes>"
            ]
          },
          "metadata": {
            "tags": []
          }
        }
      ]
    },
    {
      "cell_type": "code",
      "metadata": {
        "id": "wYQdeY8IYbEb"
      },
      "source": [
        "def create_batch (batch_size):\n",
        "  anchors = np.zeros((batch_size, 784))\n",
        "  positives = np.zeros((batch_size, 784))\n",
        "  negatives = np.zeros((batch_size, 784))\n",
        "\n",
        "  for i in range(0,batch_size):\n",
        "    index = random.randint(0,6000-1)\n",
        "    anc = training_X[index]\n",
        "    y = train_y[index]\n",
        "\n",
        "    indices_for_pos = np.squeeze(np.where(train_y == y))\n",
        "    indices_for_neg = np.squeeze(np.where(train_y != y))\n",
        "\n",
        "    pos = training_X[indices_for_pos[random.randint(0,len(indices_for_pos)-1)]]\n",
        "    neg = training_X[indices_for_neg[random.randint(0,len(indices_for_neg)-1)]]\n",
        "\n",
        "    anchors[i] = anc\n",
        "    positives[i] = pos\n",
        "    negatives[i] = neg\n",
        "\n",
        "    return [anchors, positives, negatives] "
      ],
      "execution_count": 21,
      "outputs": []
    },
    {
      "cell_type": "code",
      "metadata": {
        "colab": {
          "base_uri": "https://localhost:8080/",
          "height": 133
        },
        "id": "zqTdbyBQmn6a",
        "outputId": "03d72630-b97d-4b43-edf3-5d2aa22b20fd"
      },
      "source": [
        "triplet = create_batch (1)\n",
        "plot_triplet(triplet)"
      ],
      "execution_count": 22,
      "outputs": [
        {
          "output_type": "display_data",
          "data": {
            "image/png": "[encoded data removed]",
            "text/plain": [
              "<Figure size 432x144 with 3 Axes>"
            ]
          },
          "metadata": {
            "tags": []
          }
        }
      ]
    },
    {
      "cell_type": "code",
      "metadata": {
        "id": "X7gLJJhLOEhR"
      },
      "source": [
        "encoding_dim = 64\n",
        "def sampling(args):\n",
        "    mu, sigma = args\n",
        "    batch     = tf.shape(mu)[0]\n",
        "    dim       = tf.shape(mu)[1]\n",
        "    eps       = tf.keras.backend.random_normal(shape=(batch, dim))\n",
        "    return mu + tf.exp(sigma / 2) * eps"
      ],
      "execution_count": 23,
      "outputs": []
    },
    {
      "cell_type": "code",
      "metadata": {
        "id": "pYj6Mx8bGXWP"
      },
      "source": [
        "class _Encoder(Model):\n",
        "    def __init__(self, **kwargs):\n",
        "        super(_Encoder, self).__init__(**kwargs)\n",
        "        self.layer_1 = Dense(256, activation=\"relu\")\n",
        "        self.layer_2 = Dense(128, activation=\"relu\")\n",
        "        self.layer_3 = Dense(64, activation=\"relu\")\n",
        "    \n",
        "    def call(self,inputs):\n",
        "        x = self.layer_1(inputs)\n",
        "        x = self.layer_2(x)\n",
        "        x = self.layer_3(x)\n",
        "        self.mean = Dense(encoding_dim, name=\"z_mean\")(x)\n",
        "        self.log_var = Dense(encoding_dim, name=\"z_log_var\")(x)\n",
        "        self.z = Lambda(sampling, output_shape=(encoding_dim,), name='z')([self.mean, self.log_var])\n",
        "        return self.z, self.mean, self.log_var"
      ],
      "execution_count": 24,
      "outputs": []
    },
    {
      "cell_type": "code",
      "metadata": {
        "id": "lM_91FwaPUIm"
      },
      "source": [
        "class _Decoder(Model):\n",
        "    def __init__(self, **kwargs):\n",
        "        super(_Decoder, self).__init__(**kwargs)\n",
        "        self.layer_1 = Dense(128, activation=\"relu\")\n",
        "        self.layer_2 = Dense(256, activation=\"relu\")\n",
        "        self.layer_3 = Dense(784, activation=\"sigmoid\")\n",
        "        \n",
        "    def call(self,inputs):\n",
        "        x = self.layer_1(inputs)\n",
        "        x = self.layer_2(x)\n",
        "        output = self.layer_3(x)\n",
        "        return output\n"
      ],
      "execution_count": 25,
      "outputs": []
    },
    {
      "cell_type": "code",
      "metadata": {
        "id": "opLtPWMKSXvt"
      },
      "source": [
        "# kl divergence loss\n",
        "# https://keras.io/examples/generative/vae/\n",
        "\n",
        "def kl_reconstruction_loss(x, recon_x, mu, log_var):\n",
        "    reco_loss = tf.reduce_sum(tf.pow(x - recon_x,2), axis= -1)\n",
        "    kl_loss = 1 + log_var - tf.square(mu) - tf.exp(log_var)\n",
        "    kl_loss = tf.reduce_sum(kl_loss, axis= -1)\n",
        "    kl_loss *= -0.5\n",
        "    return tf.reduce_mean(reco_loss + kl_loss)"
      ],
      "execution_count": 26,
      "outputs": []
    },
    {
      "cell_type": "code",
      "metadata": {
        "id": "ZyoOM6WaaseF",
        "colab": {
          "base_uri": "https://localhost:8080/",
          "height": 86
        },
        "outputId": "dfd5f5b9-2720-4d45-a8e0-6221873075f6"
      },
      "source": [
        "'''\n",
        "class Tripletnet(Model):\n",
        "    def __init__(self, embeddingnet):\n",
        "        super(Tripletnet, self).__init__()\n",
        "        self.embeddingnet = embeddingnet\n",
        "\n",
        "    def forward(self, x, y, z):\n",
        "        latent_x,mean_x,logvar_x = self.embeddingnet(x)\n",
        "        latent_y,mean_y,logvar_y = self.embeddingnet(y)\n",
        "        latent_z,mean_z,logvar_z = self.embeddingnet(z)\n",
        "        dist_a = F.pairwise_distance(mean_x, mean_y, 2)\n",
        "        dist_b = F.pairwise_distance(mean_x, mean_z, 2)\n",
        "        return latent_x,mean_x,logvar_x,\\\n",
        "            latent_y,mean_y,logvar_y,\\\n",
        "            latent_z,mean_z,logvar_z,\\\n",
        "            dist_a, dist_b\n",
        "'''"
      ],
      "execution_count": null,
      "outputs": [
        {
          "output_type": "execute_result",
          "data": {
            "application/vnd.google.colaboratory.intrinsic+json": {
              "type": "string"
            },
            "text/plain": [
              "'\\nclass Tripletnet(Model):\\n    def __init__(self, embeddingnet):\\n        super(Tripletnet, self).__init__()\\n        self.embeddingnet = embeddingnet\\n\\n    def forward(self, x, y, z):\\n        latent_x,mean_x,logvar_x = self.embeddingnet(x)\\n        latent_y,mean_y,logvar_y = self.embeddingnet(y)\\n        latent_z,mean_z,logvar_z = self.embeddingnet(z)\\n        dist_a = F.pairwise_distance(mean_x, mean_y, 2)\\n        dist_b = F.pairwise_distance(mean_x, mean_z, 2)\\n        return latent_x,mean_x,logvar_x,            latent_y,mean_y,logvar_y,            latent_z,mean_z,logvar_z,            dist_a, dist_b\\n'"
            ]
          },
          "metadata": {
            "tags": []
          },
          "execution_count": 32
        }
      ]
    },
    {
      "cell_type": "code",
      "metadata": {
        "id": "Ti8kM3lOGMVH"
      },
      "source": [
        "batch_size= 60\n",
        "steps = int(12000/batch_size)\n",
        "encoder = _Encoder()\n",
        "decoder = _Decoder()\n",
        "alpha = 0.2\n",
        "optimizer = tf.keras.optimizers.Adam()"
      ],
      "execution_count": 33,
      "outputs": []
    },
    {
      "cell_type": "code",
      "metadata": {
        "id": "0Vr7EsaDm5m8"
      },
      "source": [
        "list1 = [1,2,3]\n",
        "list2 = [4,5,6]"
      ],
      "execution_count": null,
      "outputs": []
    },
    {
      "cell_type": "code",
      "metadata": {
        "id": "UXhbUu_ing3K"
      },
      "source": [
        "list = list1 + list2"
      ],
      "execution_count": null,
      "outputs": []
    },
    {
      "cell_type": "code",
      "metadata": {
        "id": "tgPz858anl_e",
        "colab": {
          "base_uri": "https://localhost:8080/"
        },
        "outputId": "e756b4ce-7fda-496e-bcac-f208d9e05ebb"
      },
      "source": [
        "list"
      ],
      "execution_count": null,
      "outputs": [
        {
          "output_type": "execute_result",
          "data": {
            "text/plain": [
              "[1, 2, 3, 4, 5, 6]"
            ]
          },
          "metadata": {
            "tags": []
          },
          "execution_count": 34
        }
      ]
    },
    {
      "cell_type": "code",
      "metadata": {
        "colab": {
          "base_uri": "https://localhost:8080/"
        },
        "id": "mRsZLqDQGnPf",
        "outputId": "f9ab0dec-b183-4afa-dec7-749dea95b477"
      },
      "source": [
        "epochs = 40\n",
        "epochs_train_losses = []\n",
        "for epoch in range(epochs):\n",
        "  print('Start of epoch',epoch)\n",
        "  losses = []\n",
        "  for step in range(0,steps):\n",
        "    #print('Step: ', step)\n",
        "    anc, pos, neg = create_batch (batch_size)\n",
        "    anc_pos = np.concatenate((anc,pos), axis = 0)\n",
        "    #print(\"anc.shape:\",anc.shape)\n",
        "    #print(\"pos.shape:\",pos.shape)\n",
        "    #print(\"neg.shape:\",neg.shape)\n",
        "    with tf.GradientTape() as tape:\n",
        "      latent_anc,mean_anc,log_var_anc = encoder(anc)\n",
        "      latent_pos,mean_pos,log_var_pos = encoder(pos)\n",
        "      latent_neg,mean_neg,log_var_neg = encoder(neg)\n",
        "      latent_anc_pos = np.concatenate((latent_anc,latent_pos), axis = 0)\n",
        "      mean_anc_pos = np.concatenate((mean_anc,mean_pos), axis = 0)\n",
        "      log_var_anc_pos = np.concatenate((log_var_anc,log_var_pos), axis = 0)\n",
        "      dp = tf.reduce_mean(tf.square(mean_anc - mean_pos), axis = -1)\n",
        "      dn = tf.reduce_mean(tf.square(mean_anc - mean_neg), axis = -1)\n",
        "      triplet_loss = tf.maximum(dp-dn+alpha, 0.)\n",
        "      reconstructed_anc_pos = decoder(latent_anc_pos)\n",
        "      #reconstructed_p = decoder(mean_pos)\n",
        "      loss = triplet_loss\n",
        "      loss+= kl_reconstruction_loss(anc_pos, reconstructed_anc_pos, mean_anc_pos, log_var_anc_pos)\n",
        "      tvae_weights = encoder.trainable_weights + decoder.trainable_weights\n",
        "    gradients = tape.gradient(loss, tvae_weights)\n",
        "    # Calculate gradients\n",
        "    optimizer.apply_gradients(zip(gradients, tvae_weights))\n",
        "    losses.append(loss)\n",
        "    #print(\"losses: \", len(losses))\n",
        "  epochs_train_losses.append(tf.reduce_mean(losses))\n",
        "  print(\"epochs_train_losses:\", epochs_train_losses[epoch] )"
      ],
      "execution_count": 34,
      "outputs": [
        {
          "output_type": "stream",
          "text": [
            "Start of epoch 0\n",
            "epochs_train_losses: tf.Tensor(11.811716, shape=(), dtype=float32)\n",
            "Start of epoch 1\n",
            "epochs_train_losses: tf.Tensor(5.237317, shape=(), dtype=float32)\n",
            "Start of epoch 2\n",
            "epochs_train_losses: tf.Tensor(5866.3413, shape=(), dtype=float32)\n",
            "Start of epoch 3\n",
            "epochs_train_losses: tf.Tensor(7.3731613, shape=(), dtype=float32)\n",
            "Start of epoch 4\n",
            "epochs_train_losses: tf.Tensor(4.616134, shape=(), dtype=float32)\n",
            "Start of epoch 5\n",
            "epochs_train_losses: tf.Tensor(4.170647, shape=(), dtype=float32)\n",
            "Start of epoch 6\n",
            "epochs_train_losses: tf.Tensor(4.7941837, shape=(), dtype=float32)\n",
            "Start of epoch 7\n",
            "epochs_train_losses: tf.Tensor(4.6105084, shape=(), dtype=float32)\n",
            "Start of epoch 8\n",
            "epochs_train_losses: tf.Tensor(7.987112, shape=(), dtype=float32)\n",
            "Start of epoch 9\n",
            "epochs_train_losses: tf.Tensor(4.4079213, shape=(), dtype=float32)\n",
            "Start of epoch 10\n",
            "epochs_train_losses: tf.Tensor(4.4432974, shape=(), dtype=float32)\n",
            "Start of epoch 11\n",
            "epochs_train_losses: tf.Tensor(4.122965, shape=(), dtype=float32)\n",
            "Start of epoch 12\n",
            "epochs_train_losses: tf.Tensor(3.935974, shape=(), dtype=float32)\n",
            "Start of epoch 13\n",
            "epochs_train_losses: tf.Tensor(3.5706537, shape=(), dtype=float32)\n",
            "Start of epoch 14\n",
            "epochs_train_losses: tf.Tensor(3.5282104, shape=(), dtype=float32)\n",
            "Start of epoch 15\n",
            "epochs_train_losses: tf.Tensor(3.7383418, shape=(), dtype=float32)\n",
            "Start of epoch 16\n",
            "epochs_train_losses: tf.Tensor(4.8251004, shape=(), dtype=float32)\n",
            "Start of epoch 17\n",
            "epochs_train_losses: tf.Tensor(4.498106, shape=(), dtype=float32)\n",
            "Start of epoch 18\n",
            "epochs_train_losses: tf.Tensor(3.519822, shape=(), dtype=float32)\n",
            "Start of epoch 19\n",
            "epochs_train_losses: tf.Tensor(3.5999036, shape=(), dtype=float32)\n",
            "Start of epoch 20\n",
            "epochs_train_losses: tf.Tensor(12.253429, shape=(), dtype=float32)\n",
            "Start of epoch 21\n",
            "epochs_train_losses: tf.Tensor(5.022512, shape=(), dtype=float32)\n",
            "Start of epoch 22\n",
            "epochs_train_losses: tf.Tensor(29.92013, shape=(), dtype=float32)\n",
            "Start of epoch 23\n",
            "epochs_train_losses: tf.Tensor(3.4396129, shape=(), dtype=float32)\n",
            "Start of epoch 24\n",
            "epochs_train_losses: tf.Tensor(3.1371348, shape=(), dtype=float32)\n",
            "Start of epoch 25\n",
            "epochs_train_losses: tf.Tensor(3.4554415, shape=(), dtype=float32)\n",
            "Start of epoch 26\n",
            "epochs_train_losses: tf.Tensor(4.260814, shape=(), dtype=float32)\n",
            "Start of epoch 27\n",
            "epochs_train_losses: tf.Tensor(3.312714, shape=(), dtype=float32)\n",
            "Start of epoch 28\n",
            "epochs_train_losses: tf.Tensor(4.780446, shape=(), dtype=float32)\n",
            "Start of epoch 29\n",
            "epochs_train_losses: tf.Tensor(3.749867, shape=(), dtype=float32)\n",
            "Start of epoch 30\n",
            "epochs_train_losses: tf.Tensor(3.488976, shape=(), dtype=float32)\n",
            "Start of epoch 31\n",
            "epochs_train_losses: tf.Tensor(3.4679463, shape=(), dtype=float32)\n",
            "Start of epoch 32\n",
            "epochs_train_losses: tf.Tensor(6.317306, shape=(), dtype=float32)\n",
            "Start of epoch 33\n",
            "epochs_train_losses: tf.Tensor(3.2656088, shape=(), dtype=float32)\n",
            "Start of epoch 34\n",
            "epochs_train_losses: tf.Tensor(3.2670238, shape=(), dtype=float32)\n",
            "Start of epoch 35\n",
            "epochs_train_losses: tf.Tensor(3.1731467, shape=(), dtype=float32)\n",
            "Start of epoch 36\n",
            "epochs_train_losses: tf.Tensor(3.376207, shape=(), dtype=float32)\n",
            "Start of epoch 37\n",
            "epochs_train_losses: tf.Tensor(3.2559175, shape=(), dtype=float32)\n",
            "Start of epoch 38\n",
            "epochs_train_losses: tf.Tensor(3.2307591, shape=(), dtype=float32)\n",
            "Start of epoch 39\n",
            "epochs_train_losses: tf.Tensor(3.2463958, shape=(), dtype=float32)\n"
          ],
          "name": "stdout"
        }
      ]
    },
    {
      "cell_type": "code",
      "metadata": {
        "id": "QsoOPxsX7MH_",
        "outputId": "2fdc9efb-9ce4-4b14-eeda-e9d08a434471",
        "colab": {
          "base_uri": "https://localhost:8080/",
          "height": 282
        }
      },
      "source": [
        "plt.plot(epochs_train_losses)\n",
        "plt.show"
      ],
      "execution_count": 35,
      "outputs": [
        {
          "output_type": "execute_result",
          "data": {
            "text/plain": [
              "<function matplotlib.pyplot.show>"
            ]
          },
          "metadata": {
            "tags": []
          },
          "execution_count": 35
        },
        {
          "output_type": "display_data",
          "data": {
            "image/png": "[encoded data removed]",
            "text/plain": [
              "<Figure size 432x288 with 1 Axes>"
            ]
          },
          "metadata": {
            "tags": [],
            "needs_background": "light"
          }
        }
      ]
    },
    {
      "cell_type": "code",
      "metadata": {
        "id": "10IZMIrQ8-_-"
      },
      "source": [
        ""
      ],
      "execution_count": null,
      "outputs": []
    },
    {
      "cell_type": "code",
      "metadata": {
        "id": "IegQjnUq73fj",
        "outputId": "d1ecd1dc-def2-4309-f619-bbc52877ed4a",
        "colab": {
          "base_uri": "https://localhost:8080/",
          "height": 269
        }
      },
      "source": [
        "show_image(np.reshape(test_image_tshirt_flatten[0], (28,28)))"
      ],
      "execution_count": 37,
      "outputs": [
        {
          "output_type": "display_data",
          "data": {
            "image/png": "[encoded data removed]",
            "text/plain": [
              "<Figure size 432x288 with 2 Axes>"
            ]
          },
          "metadata": {
            "tags": [],
            "needs_background": "light"
          }
        }
      ]
    },
    {
      "cell_type": "code",
      "metadata": {
        "id": "Li05EO6O9ArB",
        "outputId": "ceb2eff5-31af-4d59-e501-10ea158b4f0c",
        "colab": {
          "base_uri": "https://localhost:8080/"
        }
      },
      "source": [
        "test_image = test_image_tshirt_flatten[0]\n",
        "test_image = np.expand_dims(test_image,axis = 0)\n",
        "test_image.shape"
      ],
      "execution_count": 45,
      "outputs": [
        {
          "output_type": "execute_result",
          "data": {
            "text/plain": [
              "(1, 784)"
            ]
          },
          "metadata": {
            "tags": []
          },
          "execution_count": 45
        }
      ]
    },
    {
      "cell_type": "code",
      "metadata": {
        "id": "YI-ljW2H-oFA",
        "outputId": "070e313e-6853-498b-c3bf-965b5ebcb72a",
        "colab": {
          "base_uri": "https://localhost:8080/"
        }
      },
      "source": [
        "encoded,_,_ = encoder(test_image)\n",
        "encoded = encoded.numpy()\n",
        "encoded.shape"
      ],
      "execution_count": 55,
      "outputs": [
        {
          "output_type": "execute_result",
          "data": {
            "text/plain": [
              "(1, 64)"
            ]
          },
          "metadata": {
            "tags": []
          },
          "execution_count": 55
        }
      ]
    },
    {
      "cell_type": "code",
      "metadata": {
        "id": "_wIF8IGh_x1v",
        "outputId": "de6d973f-099d-4d8f-a424-71b29861833d",
        "colab": {
          "base_uri": "https://localhost:8080/"
        }
      },
      "source": [
        "decoded = decoder(encoded)\n",
        "decoded = decoded.numpy()\n",
        "decoded.shape"
      ],
      "execution_count": 58,
      "outputs": [
        {
          "output_type": "execute_result",
          "data": {
            "text/plain": [
              "(1, 784)"
            ]
          },
          "metadata": {
            "tags": []
          },
          "execution_count": 58
        }
      ]
    },
    {
      "cell_type": "code",
      "metadata": {
        "id": "siFfdAO0BG04",
        "outputId": "005d8f3a-d08b-4a91-b31d-abb7b37b8cb1",
        "colab": {
          "base_uri": "https://localhost:8080/",
          "height": 265
        }
      },
      "source": [
        "show_image(np.reshape(decoded, (28,28)))"
      ],
      "execution_count": 59,
      "outputs": [
        {
          "output_type": "display_data",
          "data": {
            "image/png": "[encoded data removed]",
            "text/plain": [
              "<Figure size 432x288 with 2 Axes>"
            ]
          },
          "metadata": {
            "tags": [],
            "needs_background": "light"
          }
        }
      ]
    },
    {
      "cell_type": "code",
      "metadata": {
        "id": "EtiwTEAtbgr_"
      },
      "source": [
        "# Iterate over epochs.\n",
        "epochs = 10\n",
        "epochs_train_losses = []\n",
        "for epoch in range(epochs):\n",
        "  print('Start of epoch %d' % (epoch,))\n",
        "  losses = []\n",
        "  for step, x in enumerate(training_X_shuffled):\n"
      ],
      "execution_count": null,
      "outputs": []
    },
    {
      "cell_type": "code",
      "metadata": {
        "colab": {
          "base_uri": "https://localhost:8080/"
        },
        "id": "9JX_Fn4epKj8",
        "outputId": "951b3e46-9f02-442c-8190-4df2fca689ee"
      },
      "source": [
        "# building embedding layer\n",
        "emb_dim = 64\n",
        "embedding_model = tf.keras.models.Sequential([\n",
        "                                tf.keras.layers.Dense(64, activation = 'relu', input_shape=(784,)),\n",
        "                                tf.keras.layers.Dense(emb_dim, activation='sigmoid'),\n",
        "                              ])\n",
        "embedding_model.summary()"
      ],
      "execution_count": null,
      "outputs": [
        {
          "output_type": "stream",
          "text": [
            "Model: \"sequential\"\n",
            "_________________________________________________________________\n",
            "Layer (type)                 Output Shape              Param #   \n",
            "=================================================================\n",
            "dense (Dense)                (None, 64)                50240     \n",
            "_________________________________________________________________\n",
            "dense_1 (Dense)              (None, 64)                4160      \n",
            "=================================================================\n",
            "Total params: 54,400\n",
            "Trainable params: 54,400\n",
            "Non-trainable params: 0\n",
            "_________________________________________________________________\n"
          ],
          "name": "stdout"
        }
      ]
    },
    {
      "cell_type": "code",
      "metadata": {
        "colab": {
          "base_uri": "https://localhost:8080/"
        },
        "id": "LYR7hujQq2A0",
        "outputId": "186a98e8-1b0e-4e04-a600-c0e7e71d75f0"
      },
      "source": [
        "# take an example and predict output\n",
        "example = training_X_shuffled[0]\n",
        "print (\"shape of example: \", example.shape)\n",
        "\n",
        "example_emb = embedding_model.predict(np.expand_dims(example, axis = 0))\n",
        "\n",
        "print (\"shape of example_emb: \", example_emb.shape)"
      ],
      "execution_count": null,
      "outputs": [
        {
          "output_type": "stream",
          "text": [
            "shape of example:  (784,)\n",
            "shape of example_emb:  (1, 64)\n"
          ],
          "name": "stdout"
        }
      ]
    },
    {
      "cell_type": "code",
      "metadata": {
        "id": "B1R1JmG7tl5c"
      },
      "source": [
        "# Declaring inputs\n",
        "in_anc = tf.keras.layers.Input(shape = (784,))\n",
        "in_pos = tf.keras.layers.Input(shape = (784,))\n",
        "in_neg = tf.keras.layers.Input(shape = (784,))\n",
        "\n",
        "im_anc_emb = embedding_model(in_anc)\n",
        "im_pos_emb = embedding_model(in_pos)\n",
        "im_neg_emb = embedding_model(in_neg)"
      ],
      "execution_count": null,
      "outputs": []
    },
    {
      "cell_type": "code",
      "metadata": {
        "colab": {
          "base_uri": "https://localhost:8080/"
        },
        "id": "_iT9gV-ruv7S",
        "outputId": "87335262-0222-4f6c-f987-0ae0246d2dca"
      },
      "source": [
        "# Declaring outputs\n",
        "out = tf.keras.layers.concatenate([im_anc_emb, im_pos_emb, im_neg_emb], axis = 1)\n",
        "\n",
        "# the full model\n",
        "net = tf.keras.Model(inputs = [in_anc, in_pos, in_neg], outputs = out)\n",
        "\n",
        "net.summary()"
      ],
      "execution_count": null,
      "outputs": [
        {
          "output_type": "stream",
          "text": [
            "Model: \"model\"\n",
            "__________________________________________________________________________________________________\n",
            "Layer (type)                    Output Shape         Param #     Connected to                     \n",
            "==================================================================================================\n",
            "input_1 (InputLayer)            [(None, 784)]        0                                            \n",
            "__________________________________________________________________________________________________\n",
            "input_2 (InputLayer)            [(None, 784)]        0                                            \n",
            "__________________________________________________________________________________________________\n",
            "input_3 (InputLayer)            [(None, 784)]        0                                            \n",
            "__________________________________________________________________________________________________\n",
            "sequential (Sequential)         (None, 64)           54400       input_1[0][0]                    \n",
            "                                                                 input_2[0][0]                    \n",
            "                                                                 input_3[0][0]                    \n",
            "__________________________________________________________________________________________________\n",
            "concatenate (Concatenate)       (None, 192)          0           sequential[0][0]                 \n",
            "                                                                 sequential[1][0]                 \n",
            "                                                                 sequential[2][0]                 \n",
            "==================================================================================================\n",
            "Total params: 54,400\n",
            "Trainable params: 54,400\n",
            "Non-trainable params: 0\n",
            "__________________________________________________________________________________________________\n"
          ],
          "name": "stdout"
        }
      ]
    },
    {
      "cell_type": "markdown",
      "metadata": {
        "id": "vFd8GdKgy-51"
      },
      "source": [
        "Triplet loss:\n",
        "  dp : distance between anchor and positive example\n",
        "  dn : distance between anchor and negative example\n",
        "  The job of training would make sure dp < dn\n",
        "  if decrease dn by a scale factor then condition on dp would be tighter\n",
        "  dp < dn - e\n",
        "\n",
        "  so the condition would be \n",
        "\n",
        "  dp-dn+e < = 0\n",
        "\n",
        "  and loss would be\n",
        "\n",
        "  Loss = max (dp-dn+e, 0) // whichever is max will be reduced during training"
      ]
    },
    {
      "cell_type": "code",
      "metadata": {
        "id": "iD8Kbjji3Zvv"
      },
      "source": [
        "# Defining triplet loss\n",
        "def triplet_loss(emb_dim, alpha):\n",
        "  def loss (y_truth, y_pred):\n",
        "    anc, pos, neg = y_pred[:, :emb_dim], y_pred[:, emb_dim:2*emb_dim], y_pred[:, 2*emb_dim:3*emb_dim]\n",
        "    dp = tf.reduce_mean(tf.square(anc - pos), axis = 1)\n",
        "    dn = tf.reduce_mean(tf.square(anc - neg), axis = 1)\n",
        "    return tf.maximum(dp-dn+alpha, 0.)\n",
        "  return loss"
      ],
      "execution_count": null,
      "outputs": []
    },
    {
      "cell_type": "code",
      "metadata": {
        "id": "xf0aNKw19v9I"
      },
      "source": [
        "def data_generator(batch_size, emb_dim):\n",
        "  while True:\n",
        "    x = create_batch (batch_size)\n",
        "    y = np.zeros((batch_size, 3*emb_dim))\n",
        "    yield x, y\n"
      ],
      "execution_count": null,
      "outputs": []
    },
    {
      "cell_type": "code",
      "metadata": {
        "id": "6ucPDAMRFFNq"
      },
      "source": [
        "batch_size = 60\n",
        "epochs = 20\n",
        "steps_per_epoch = int(len(training_X_shuffled)/batch_size)\n",
        "net.compile(loss = triplet_loss(emb_dim, alpha = 0.2), optimizer = tf.keras.optimizers.Adam(learning_rate=0.001))"
      ],
      "execution_count": null,
      "outputs": []
    },
    {
      "cell_type": "code",
      "metadata": {
        "colab": {
          "base_uri": "https://localhost:8080/",
          "height": 976
        },
        "id": "l6j5FMQNI1Tp",
        "outputId": "bc7369bb-7b18-4c98-8591-1604dbb610ad"
      },
      "source": [
        "net.fit(data_generator(batch_size, emb_dim), epochs=epochs, steps_per_epoch=steps_per_epoch,\n",
        "        callbacks = [\n",
        "                    PCAPlotter(plt, embedding_model, testing_X_shuffled, test_y_shuffled)\n",
        "        ])"
      ],
      "execution_count": null,
      "outputs": [
        {
          "output_type": "stream",
          "text": [
            "Epoch 1/20\n",
            "200/200 [==============================] - 1s 4ms/step - loss: 0.1982\n",
            "Epoch 2/20\n",
            "200/200 [==============================] - 1s 4ms/step - loss: 0.1970\n",
            "Epoch 3/20\n",
            "200/200 [==============================] - 1s 4ms/step - loss: 0.1970\n",
            "Epoch 4/20\n",
            "200/200 [==============================] - 1s 4ms/step - loss: 0.1971\n",
            "Epoch 5/20\n",
            "200/200 [==============================] - 1s 4ms/step - loss: 0.1968\n",
            "Epoch 6/20\n",
            "200/200 [==============================] - 1s 4ms/step - loss: 0.1969\n",
            "Epoch 7/20\n",
            "200/200 [==============================] - 1s 4ms/step - loss: 0.1968\n",
            "Epoch 8/20\n",
            "200/200 [==============================] - 1s 4ms/step - loss: 0.1968\n",
            "Epoch 9/20\n",
            "200/200 [==============================] - 1s 4ms/step - loss: 0.1968\n",
            "Epoch 10/20\n",
            "200/200 [==============================] - 1s 4ms/step - loss: 0.1970\n",
            "Epoch 11/20\n",
            "200/200 [==============================] - 1s 4ms/step - loss: 0.1969\n",
            "Epoch 12/20\n",
            "200/200 [==============================] - 1s 4ms/step - loss: 0.1968\n",
            "Epoch 13/20\n",
            "200/200 [==============================] - 1s 4ms/step - loss: 0.1968\n",
            "Epoch 14/20\n",
            "200/200 [==============================] - 1s 4ms/step - loss: 0.1970\n",
            "Epoch 15/20\n",
            "200/200 [==============================] - 1s 4ms/step - loss: 0.1969\n",
            "Epoch 16/20\n",
            "200/200 [==============================] - 1s 4ms/step - loss: 0.1970\n",
            "Epoch 17/20\n",
            "200/200 [==============================] - 1s 5ms/step - loss: 0.1969\n",
            "Epoch 18/20\n",
            "200/200 [==============================] - 1s 4ms/step - loss: 0.1969\n",
            "Epoch 19/20\n",
            "200/200 [==============================] - 1s 4ms/step - loss: 0.1968\n",
            "Epoch 20/20\n",
            "200/200 [==============================] - 1s 4ms/step - loss: 0.1968\n"
          ],
          "name": "stdout"
        },
        {
          "output_type": "execute_result",
          "data": {
            "text/plain": [
              "<tensorflow.python.keras.callbacks.History at 0x7f151fb92588>"
            ]
          },
          "metadata": {
            "tags": []
          },
          "execution_count": 33
        },
        {
          "output_type": "display_data",
          "data": {
            "image/png": "[encoded data removed]",
            "text/plain": [
              "<Figure size 648x288 with 2 Axes>"
            ]
          },
          "metadata": {
            "tags": [],
            "needs_background": "light"
          }
        }
      ]
    },
    {
      "cell_type": "code",
      "metadata": {
        "id": "9OLUpduWUuov"
      },
      "source": [
        ""
      ],
      "execution_count": null,
      "outputs": []
    },
    {
      "cell_type": "code",
      "metadata": {
        "id": "8Rpa_mUGxJoE"
      },
      "source": [
        "def initialize_base_network():\n",
        "    input = Input(shape=(28,28,), name=\"base_input\")\n",
        "    x = Flatten(name=\"flatten_input\")(input)\n",
        "    x = Dense(128, activation='relu', name=\"first_base_dense\")(x)\n",
        "    x = Dropout(0.1, name=\"first_dropout\")(x)\n",
        "    x = Dense(128, activation='relu', name=\"second_base_dense\")(x)\n",
        "    x = Dropout(0.1, name=\"second_dropout\")(x)\n",
        "    x = Dense(128, activation='relu', name=\"third_base_dense\")(x)\n",
        "\n",
        "    return Model(inputs=input, outputs=x)"
      ],
      "execution_count": null,
      "outputs": []
    }
  ]
}