{
  "nbformat": 4,
  "nbformat_minor": 0,
  "metadata": {
    "colab": {
      "name": "Copy of tripletVAE.ipynb",
      "provenance": [],
      "authorship_tag": "ABX9TyN3iCH/SwNILYYp4TS+WFNE",
      "include_colab_link": true
    },
    "kernelspec": {
      "name": "python3",
      "display_name": "Python 3"
    }
  },
  "cells": [
    {
      "cell_type": "markdown",
      "metadata": {
        "id": "view-in-github",
        "colab_type": "text"
      },
      "source": [
        "<a href=\"https://colab.research.google.com/github/Debottam/MachinLearningEx/blob/master/tripletVAE_mnist.ipynb\" target=\"_parent\"><img src=\"https://colab.research.google.com/assets/colab-badge.svg\" alt=\"Open In Colab\"/></a>"
      ]
    },
    {
      "cell_type": "code",
      "metadata": {
        "id": "JX2s89HlfCJk"
      },
      "source": [
        "import tensorflow as tf\n",
        "from tensorflow.keras.models import Model\n",
        "from tensorflow.keras.layers import Input, Flatten, Dense, Dropout, Lambda\n",
        "from tensorflow.keras.optimizers import RMSprop\n",
        "from tensorflow.keras.datasets import fashion_mnist\n",
        "from tensorflow.python.keras.utils.vis_utils import plot_model\n",
        "from tensorflow.keras import backend as K\n",
        "\n",
        "import numpy as np\n",
        "import matplotlib.pyplot as plt\n",
        "from PIL import Image, ImageFont, ImageDraw\n",
        "import random\n",
        "from sklearn.utils import check_random_state\n",
        "from sklearn.decomposition import PCA"
      ],
      "execution_count": 1,
      "outputs": []
    },
    {
      "cell_type": "code",
      "metadata": {
        "id": "NfL4zLyjp1sl"
      },
      "source": [
        "# load mnist_fashion dataset\n",
        "(train_images, train_labels), (test_images, test_labels) = fashion_mnist.load_data()"
      ],
      "execution_count": 2,
      "outputs": []
    },
    {
      "cell_type": "code",
      "metadata": {
        "id": "v4zDlpWtqPDg"
      },
      "source": [
        "# prepare train and test sets\n",
        "train_images = train_images.astype('float32')\n",
        "test_images = test_images.astype('float32')\n",
        "\n",
        "# normalize values\n",
        "train_images = train_images / 255.0\n",
        "test_images = test_images / 255.0"
      ],
      "execution_count": 3,
      "outputs": []
    },
    {
      "cell_type": "code",
      "metadata": {
        "id": "_R_BS2D0qxH_"
      },
      "source": [
        "def show_image(image):\n",
        "    plt.figure()\n",
        "    plt.imshow(image)\n",
        "    plt.colorbar()\n",
        "    plt.grid(False)\n",
        "    plt.show()"
      ],
      "execution_count": 4,
      "outputs": []
    },
    {
      "cell_type": "code",
      "metadata": {
        "colab": {
          "base_uri": "https://localhost:8080/"
        },
        "id": "XDdJju_evRkD",
        "outputId": "75231cbf-9346-4c4d-df99-f1eef9b76c6c"
      },
      "source": [
        "# Training with tshirt and trouser as outlier\n",
        "## tshirt\n",
        "image_tshirt_index = np.where(train_labels==0)\n",
        "train_image_tshirt = train_images[image_tshirt_index]\n",
        "print(\"shape before flattening: \",train_image_tshirt.shape)\n",
        "train_image_tshirt_flatten = np.reshape(train_image_tshirt, (6000, 784))\n",
        "print(\"shape after flattening: \",train_image_tshirt_flatten.shape)\n",
        "\n",
        "## trouser\n",
        "image_trouser_index = np.where(train_labels==1)\n",
        "train_image_trouser = train_images[image_trouser_index]\n",
        "print(\"shape before flattening: \",train_image_trouser.shape)\n",
        "train_image_trouser_flatten = np.reshape(train_image_trouser, (6000, 784))\n",
        "print(\"shape after flattening: \",train_image_trouser_flatten.shape)"
      ],
      "execution_count": 5,
      "outputs": [
        {
          "output_type": "stream",
          "text": [
            "shape before flattening:  (6000, 28, 28)\n",
            "shape after flattening:  (6000, 784)\n",
            "shape before flattening:  (6000, 28, 28)\n",
            "shape after flattening:  (6000, 784)\n"
          ],
          "name": "stdout"
        }
      ]
    },
    {
      "cell_type": "code",
      "metadata": {
        "colab": {
          "base_uri": "https://localhost:8080/",
          "height": 269
        },
        "id": "0UTUH3qNvkoF",
        "outputId": "ec144e2d-dc58-42a0-e60a-a8f1232cd44e"
      },
      "source": [
        "show_image(train_image_tshirt[0])"
      ],
      "execution_count": 6,
      "outputs": [
        {
          "output_type": "display_data",
          "data": {
            "image/png": "[encoded data removed]",
            "text/plain": [
              "<Figure size 432x288 with 2 Axes>"
            ]
          },
          "metadata": {
            "tags": [],
            "needs_background": "light"
          }
        }
      ]
    },
    {
      "cell_type": "code",
      "metadata": {
        "id": "TG9K-M8JA_Sd",
        "outputId": "b9191f9c-c20d-4698-860a-04244997140f",
        "colab": {
          "base_uri": "https://localhost:8080/",
          "height": 265
        }
      },
      "source": [
        "show_image(train_image_trouser[0])"
      ],
      "execution_count": 7,
      "outputs": [
        {
          "output_type": "display_data",
          "data": {
            "image/png": "[encoded data removed]",
            "text/plain": [
              "<Figure size 432x288 with 2 Axes>"
            ]
          },
          "metadata": {
            "tags": [],
            "needs_background": "light"
          }
        }
      ]
    },
    {
      "cell_type": "code",
      "metadata": {
        "id": "D5Q7v8BHgMtS",
        "colab": {
          "base_uri": "https://localhost:8080/"
        },
        "outputId": "02b4f56c-eef7-4837-c2dc-f660a64db43a"
      },
      "source": [
        "# Data for test with tshirt and shoe\n",
        "## tshirt\n",
        "image_tshirt_index = np.where(test_labels==0)\n",
        "test_image_tshirt = test_images[image_tshirt_index]\n",
        "print(\"shape before flattening: \",test_image_tshirt.shape)\n",
        "test_image_tshirt_flatten = np.reshape(test_image_tshirt, (1000, 784))\n",
        "print(\"shape after flattening: \",test_image_tshirt_flatten.shape)\n",
        "\n",
        "## shoe\n",
        "image_shoe_index = np.where(test_labels==9)\n",
        "test_image_shoe = test_images[image_shoe_index]\n",
        "print(\"shape before flattening: \",test_image_shoe.shape)\n",
        "test_image_shoe_flatten = np.reshape(test_image_shoe, (1000, 784))\n",
        "print(\"shape after flattening: \",test_image_shoe_flatten.shape)\n"
      ],
      "execution_count": 8,
      "outputs": [
        {
          "output_type": "stream",
          "text": [
            "shape before flattening:  (1000, 28, 28)\n",
            "shape after flattening:  (1000, 784)\n",
            "shape before flattening:  (1000, 28, 28)\n",
            "shape after flattening:  (1000, 784)\n"
          ],
          "name": "stdout"
        }
      ]
    },
    {
      "cell_type": "code",
      "metadata": {
        "id": "oCE_kLTWki2O"
      },
      "source": [
        "def plot_triplet(triplet):\n",
        "  plt.figure(figsize=(6,2))\n",
        "  for i in range(0,3):\n",
        "    plt.subplot(1,3,i+1)\n",
        "    plt.imshow(np.reshape(triplet[i],(28,28)), cmap='binary')\n",
        "    plt.xticks([])\n",
        "    plt.yticks([])\n",
        "  plt.show()"
      ],
      "execution_count": 9,
      "outputs": []
    },
    {
      "cell_type": "code",
      "metadata": {
        "id": "I_iKLxn0UxRf"
      },
      "source": [
        "class PCAPlotter(tf.keras.callbacks.Callback):\n",
        "    \n",
        "    def __init__(self, plt, embedding_model, x_test, y_test):\n",
        "        super(PCAPlotter, self).__init__()\n",
        "        self.embedding_model = embedding_model\n",
        "        self.x_test = x_test\n",
        "        self.y_test = y_test\n",
        "        self.fig = plt.figure(figsize=(9, 4))\n",
        "        self.ax1 = plt.subplot(1, 2, 1)\n",
        "        self.ax2 = plt.subplot(1, 2, 2)\n",
        "        plt.ion()\n",
        "        \n",
        "        self.losses = []\n",
        "    \n",
        "    def plot(self, epoch=None, plot_loss=False):\n",
        "        x_test_embeddings = self.embedding_model.predict(self.x_test)\n",
        "        pca_out = PCA(n_components=2).fit_transform(x_test_embeddings)\n",
        "        self.ax1.clear()\n",
        "        self.ax1.scatter(pca_out[:, 0], pca_out[:, 1], c=self.y_test, cmap='seismic')\n",
        "        if plot_loss:\n",
        "            self.ax2.clear()\n",
        "            self.ax2.plot(range(epoch), self.losses)\n",
        "            self.ax2.set_xlabel('Epochs')\n",
        "            self.ax2.set_ylabel('Loss')\n",
        "        self.fig.canvas.draw()\n",
        "    \n",
        "    def on_train_begin(self, logs=None):\n",
        "        self.losses = []\n",
        "        self.fig.show()\n",
        "        self.fig.canvas.draw()\n",
        "        self.plot()\n",
        "\n",
        "    def on_epoch_end(self, epoch, logs=None):\n",
        "        self.losses.append(logs.get('loss'))\n",
        "        self.plot(epoch+1, plot_loss=True)"
      ],
      "execution_count": null,
      "outputs": []
    },
    {
      "cell_type": "code",
      "metadata": {
        "id": "1Ga_fl21mhAF",
        "colab": {
          "base_uri": "https://localhost:8080/"
        },
        "outputId": "7dd555d2-7c52-49ed-c541-c7c95a477ef0"
      },
      "source": [
        "# concatenating training tshirt and trouser\n",
        "training_X = np.concatenate((train_image_tshirt_flatten,train_image_trouser_flatten), axis = 0)\n",
        "# concatenating test tshirt and shoe\n",
        "testing_X = np.concatenate((test_image_tshirt_flatten,test_image_shoe_flatten), axis = 0)\n",
        "training_X.shape"
      ],
      "execution_count": 12,
      "outputs": [
        {
          "output_type": "execute_result",
          "data": {
            "text/plain": [
              "(12000, 784)"
            ]
          },
          "metadata": {
            "tags": []
          },
          "execution_count": 12
        }
      ]
    },
    {
      "cell_type": "code",
      "metadata": {
        "id": "PET6iJMBn2KB"
      },
      "source": [
        "# generate labels tshirt = 0 and trouser = 1\n",
        "train_y = np.concatenate((np.zeros(len(train_image_tshirt_flatten)), np.ones(len(train_image_trouser_flatten))), axis=0)\n",
        "\n",
        "# test generate labels tshirt = 0 and trouser = 1\n",
        "test_y = np.concatenate((np.zeros(len(test_image_tshirt_flatten)), np.ones(len(test_image_shoe_flatten))), axis=0)"
      ],
      "execution_count": 13,
      "outputs": []
    },
    {
      "cell_type": "code",
      "metadata": {
        "id": "2OgC1AMNVZT4"
      },
      "source": [
        "# Shuffling test data\n",
        "rng = check_random_state(1)\n",
        "indices_test = rng.permutation(len(testing_X))\n",
        "testing_X_shuffled = testing_X[indices_test]\n",
        "test_y_shuffled = test_y[indices_test]"
      ],
      "execution_count": 14,
      "outputs": []
    },
    {
      "cell_type": "code",
      "metadata": {
        "colab": {
          "base_uri": "https://localhost:8080/",
          "height": 133
        },
        "id": "w3kqmS5tWtcT",
        "outputId": "a0821d98-2196-4337-ff95-010b7e3149f4"
      },
      "source": [
        "#print(train_y_shuffled[6000],train_y_shuffled[6001],train_y_shuffled[6002])\n",
        "plot_triplet([training_X[5999],training_X[5998],training_X[5997]])"
      ],
      "execution_count": 15,
      "outputs": [
        {
          "output_type": "display_data",
          "data": {
            "image/png": "[encoded data removed]",
            "text/plain": [
              "<Figure size 432x144 with 3 Axes>"
            ]
          },
          "metadata": {
            "tags": []
          }
        }
      ]
    },
    {
      "cell_type": "code",
      "metadata": {
        "id": "wYQdeY8IYbEb"
      },
      "source": [
        "def create_batch (batch_size):\n",
        "  anchors = np.zeros((batch_size, 784))\n",
        "  positives = np.zeros((batch_size, 784))\n",
        "  negatives = np.zeros((batch_size, 784))\n",
        "\n",
        "  for i in range(0,batch_size):\n",
        "    index = random.randint(0,6000-1)\n",
        "    anc = training_X[index]\n",
        "    y = train_y[index]\n",
        "\n",
        "    indices_for_pos = np.squeeze(np.where(train_y == y))\n",
        "    indices_for_neg = np.squeeze(np.where(train_y != y))\n",
        "\n",
        "    pos = training_X[indices_for_pos[random.randint(0,len(indices_for_pos)-1)]]\n",
        "    neg = training_X[indices_for_neg[random.randint(0,len(indices_for_neg)-1)]]\n",
        "\n",
        "    anchors[i] = anc\n",
        "    positives[i] = pos\n",
        "    negatives[i] = neg\n",
        "\n",
        "    return [anchors, positives, negatives] "
      ],
      "execution_count": 16,
      "outputs": []
    },
    {
      "cell_type": "code",
      "metadata": {
        "colab": {
          "base_uri": "https://localhost:8080/",
          "height": 133
        },
        "id": "zqTdbyBQmn6a",
        "outputId": "ab1b82c0-55fc-49cb-b154-ad01c93727c9"
      },
      "source": [
        "triplet = create_batch (1)\n",
        "plot_triplet(triplet)"
      ],
      "execution_count": 17,
      "outputs": [
        {
          "output_type": "display_data",
          "data": {
            "image/png": "[encoded data removed]",
            "text/plain": [
              "<Figure size 432x144 with 3 Axes>"
            ]
          },
          "metadata": {
            "tags": []
          }
        }
      ]
    },
    {
      "cell_type": "code",
      "metadata": {
        "id": "X7gLJJhLOEhR"
      },
      "source": [
        "encoding_dim = 64\n",
        "def sampling(args):\n",
        "    mu, sigma = args\n",
        "    batch     = tf.shape(mu)[0]\n",
        "    dim       = tf.shape(mu)[1]\n",
        "    eps       = tf.keras.backend.random_normal(shape=(batch, dim))\n",
        "    return mu + tf.exp(sigma / 2) * eps"
      ],
      "execution_count": 18,
      "outputs": []
    },
    {
      "cell_type": "code",
      "metadata": {
        "id": "pYj6Mx8bGXWP"
      },
      "source": [
        "class _Encoder(Model):\n",
        "    def __init__(self, **kwargs):\n",
        "        super(_Encoder, self).__init__(**kwargs)\n",
        "        self.layer_1 = Dense(256, activation=\"relu\")\n",
        "        self.layer_2 = Dense(128, activation=\"relu\")\n",
        "        self.layer_3 = Dense(64, activation=\"relu\")\n",
        "    \n",
        "    def call(self,inputs):\n",
        "        x = self.layer_1(inputs)\n",
        "        x = self.layer_2(x)\n",
        "        x = self.layer_3(x)\n",
        "        self.mean = Dense(encoding_dim, name=\"z_mean\")(x)\n",
        "        self.log_var = Dense(encoding_dim, name=\"z_log_var\")(x)\n",
        "        self.z = Lambda(sampling, output_shape=(encoding_dim,), name='z')([self.mean, self.log_var])\n",
        "        return self.z, self.mean, self.log_var"
      ],
      "execution_count": 19,
      "outputs": []
    },
    {
      "cell_type": "code",
      "metadata": {
        "id": "lM_91FwaPUIm"
      },
      "source": [
        "class _Decoder(Model):\n",
        "    def __init__(self, **kwargs):\n",
        "        super(_Decoder, self).__init__(**kwargs)\n",
        "        self.layer_1 = Dense(128, activation=\"relu\")\n",
        "        self.layer_2 = Dense(256, activation=\"relu\")\n",
        "        self.layer_3 = Dense(784, activation=\"sigmoid\")\n",
        "        \n",
        "    def call(self,inputs):\n",
        "        x = self.layer_1(inputs)\n",
        "        x = self.layer_2(x)\n",
        "        output = self.layer_3(x)\n",
        "        return output\n"
      ],
      "execution_count": 20,
      "outputs": []
    },
    {
      "cell_type": "code",
      "metadata": {
        "id": "opLtPWMKSXvt"
      },
      "source": [
        "# kl divergence loss\n",
        "# https://keras.io/examples/generative/vae/\n",
        "\n",
        "def kl_reconstruction_loss(x, recon_x, mu, log_var):\n",
        "    reco_loss = tf.reduce_sum(tf.pow(x - recon_x,2), axis= -1)\n",
        "    kl_loss = 1 + log_var - tf.square(mu) - tf.exp(log_var)\n",
        "    kl_loss = tf.reduce_sum(kl_loss, axis= -1)\n",
        "    kl_loss *= -0.5\n",
        "    return tf.reduce_mean(reco_loss + kl_loss)"
      ],
      "execution_count": 21,
      "outputs": []
    },
    {
      "cell_type": "code",
      "metadata": {
        "id": "ZyoOM6WaaseF",
        "colab": {
          "base_uri": "https://localhost:8080/",
          "height": 86
        },
        "outputId": "dfd5f5b9-2720-4d45-a8e0-6221873075f6"
      },
      "source": [
        "'''\n",
        "class Tripletnet(Model):\n",
        "    def __init__(self, embeddingnet):\n",
        "        super(Tripletnet, self).__init__()\n",
        "        self.embeddingnet = embeddingnet\n",
        "\n",
        "    def forward(self, x, y, z):\n",
        "        latent_x,mean_x,logvar_x = self.embeddingnet(x)\n",
        "        latent_y,mean_y,logvar_y = self.embeddingnet(y)\n",
        "        latent_z,mean_z,logvar_z = self.embeddingnet(z)\n",
        "        dist_a = F.pairwise_distance(mean_x, mean_y, 2)\n",
        "        dist_b = F.pairwise_distance(mean_x, mean_z, 2)\n",
        "        return latent_x,mean_x,logvar_x,\\\n",
        "            latent_y,mean_y,logvar_y,\\\n",
        "            latent_z,mean_z,logvar_z,\\\n",
        "            dist_a, dist_b\n",
        "'''"
      ],
      "execution_count": null,
      "outputs": [
        {
          "output_type": "execute_result",
          "data": {
            "application/vnd.google.colaboratory.intrinsic+json": {
              "type": "string"
            },
            "text/plain": [
              "'\\nclass Tripletnet(Model):\\n    def __init__(self, embeddingnet):\\n        super(Tripletnet, self).__init__()\\n        self.embeddingnet = embeddingnet\\n\\n    def forward(self, x, y, z):\\n        latent_x,mean_x,logvar_x = self.embeddingnet(x)\\n        latent_y,mean_y,logvar_y = self.embeddingnet(y)\\n        latent_z,mean_z,logvar_z = self.embeddingnet(z)\\n        dist_a = F.pairwise_distance(mean_x, mean_y, 2)\\n        dist_b = F.pairwise_distance(mean_x, mean_z, 2)\\n        return latent_x,mean_x,logvar_x,            latent_y,mean_y,logvar_y,            latent_z,mean_z,logvar_z,            dist_a, dist_b\\n'"
            ]
          },
          "metadata": {
            "tags": []
          },
          "execution_count": 32
        }
      ]
    },
    {
      "cell_type": "code",
      "metadata": {
        "id": "Ti8kM3lOGMVH"
      },
      "source": [
        "batch_size= 60\n",
        "steps = int(12000/batch_size)\n",
        "encoder = _Encoder()\n",
        "decoder = _Decoder()\n",
        "alpha = 0.2\n",
        "optimizer = tf.keras.optimizers.Adam()"
      ],
      "execution_count": 22,
      "outputs": []
    },
    {
      "cell_type": "code",
      "metadata": {
        "id": "0Vr7EsaDm5m8"
      },
      "source": [
        "list1 = [1,2,3]\n",
        "list2 = [4,5,6]"
      ],
      "execution_count": null,
      "outputs": []
    },
    {
      "cell_type": "code",
      "metadata": {
        "id": "UXhbUu_ing3K"
      },
      "source": [
        "list = list1 + list2"
      ],
      "execution_count": null,
      "outputs": []
    },
    {
      "cell_type": "code",
      "metadata": {
        "id": "tgPz858anl_e",
        "colab": {
          "base_uri": "https://localhost:8080/"
        },
        "outputId": "e756b4ce-7fda-496e-bcac-f208d9e05ebb"
      },
      "source": [
        "list"
      ],
      "execution_count": null,
      "outputs": [
        {
          "output_type": "execute_result",
          "data": {
            "text/plain": [
              "[1, 2, 3, 4, 5, 6]"
            ]
          },
          "metadata": {
            "tags": []
          },
          "execution_count": 34
        }
      ]
    },
    {
      "cell_type": "code",
      "metadata": {
        "colab": {
          "base_uri": "https://localhost:8080/",
          "height": 817
        },
        "id": "mRsZLqDQGnPf",
        "outputId": "de5e142e-c0a2-45dc-afb9-43c52fb63bbc"
      },
      "source": [
        "epochs = 20\n",
        "epochs_train_losses = []\n",
        "for epoch in range(epochs):\n",
        "  print('Start of epoch',epoch)\n",
        "  losses = []\n",
        "  for step in range(0,steps):\n",
        "    #print('Step: ', step)\n",
        "    anc, pos, neg = create_batch (batch_size)\n",
        "    anc_pos = np.concatenate((anc,pos), axis = 0)\n",
        "    #print(\"anc.shape:\",anc.shape)\n",
        "    #print(\"pos.shape:\",pos.shape)\n",
        "    #print(\"neg.shape:\",neg.shape)\n",
        "    with tf.GradientTape() as tape:\n",
        "      latent_anc,mean_anc,log_var_anc = encoder(anc)\n",
        "      latent_pos,mean_pos,log_var_pos = encoder(pos)\n",
        "      latent_neg,mean_neg,log_var_neg = encoder(neg)\n",
        "      latent_anc_pos = np.concatenate((latent_anc,latent_pos), axis = 0)\n",
        "      mean_anc_pos = np.concatenate((mean_anc,mean_pos), axis = 0)\n",
        "      log_var_anc_pos = np.concatenate((log_var_anc,log_var_pos), axis = 0)\n",
        "      dp = tf.reduce_mean(tf.square(mean_anc - mean_pos), axis = -1)\n",
        "      dn = tf.reduce_mean(tf.square(mean_anc - mean_neg), axis = -1)\n",
        "      triplet_loss = tf.maximum(dp-dn+alpha, 0.)\n",
        "      reconstructed_anc_pos = decoder(latent_anc_pos)\n",
        "      #reconstructed_p = decoder(mean_pos)\n",
        "      loss = triplet_loss\n",
        "      loss+= kl_reconstruction_loss(anc_pos, reconstructed_anc_pos, mean_anc_pos, log_var_anc_pos)\n",
        "      tvae_weights = encoder.trainable_weights + decoder.trainable_weights\n",
        "    gradients = tape.gradient(loss, tvae_weights)\n",
        "    # Calculate gradients\n",
        "    optimizer.apply_gradients(zip(gradients, tvae_weights))\n",
        "    losses.append(loss)\n",
        "    #print(\"losses: \", len(losses))\n",
        "  epochs_train_losses.append(tf.reduce_mean(losses))\n",
        "  print(\"epochs_train_losses:\", epochs_train_losses[epoch] )"
      ],
      "execution_count": 23,
      "outputs": [
        {
          "output_type": "stream",
          "text": [
            "Start of epoch 0\n",
            "epochs_train_losses: tf.Tensor(11.644828, shape=(), dtype=float32)\n",
            "Start of epoch 1\n",
            "epochs_train_losses: tf.Tensor(3.6022174, shape=(), dtype=float32)\n",
            "Start of epoch 2\n",
            "epochs_train_losses: tf.Tensor(3.927965, shape=(), dtype=float32)\n",
            "Start of epoch 3\n",
            "epochs_train_losses: tf.Tensor(4.269783, shape=(), dtype=float32)\n",
            "Start of epoch 4\n",
            "epochs_train_losses: tf.Tensor(561986.6, shape=(), dtype=float32)\n",
            "Start of epoch 5\n",
            "epochs_train_losses: tf.Tensor(15.158256, shape=(), dtype=float32)\n",
            "Start of epoch 6\n",
            "epochs_train_losses: tf.Tensor(11.098298, shape=(), dtype=float32)\n",
            "Start of epoch 7\n",
            "epochs_train_losses: tf.Tensor(6.5212793, shape=(), dtype=float32)\n",
            "Start of epoch 8\n",
            "epochs_train_losses: tf.Tensor(5.1225147, shape=(), dtype=float32)\n",
            "Start of epoch 9\n",
            "epochs_train_losses: tf.Tensor(5.285057, shape=(), dtype=float32)\n",
            "Start of epoch 10\n",
            "epochs_train_losses: tf.Tensor(6.096957, shape=(), dtype=float32)\n",
            "Start of epoch 11\n",
            "epochs_train_losses: tf.Tensor(9.158477, shape=(), dtype=float32)\n",
            "Start of epoch 12\n"
          ],
          "name": "stdout"
        },
        {
          "output_type": "error",
          "ename": "KeyboardInterrupt",
          "evalue": "ignored",
          "traceback": [
            "\u001b[0;31m---------------------------------------------------------------------------\u001b[0m",
            "\u001b[0;31mKeyboardInterrupt\u001b[0m                         Traceback (most recent call last)",
            "\u001b[0;32m<ipython-input-23-277a10da338e>\u001b[0m in \u001b[0;36m<module>\u001b[0;34m()\u001b[0m\n\u001b[1;32m     28\u001b[0m     \u001b[0mgradients\u001b[0m \u001b[0;34m=\u001b[0m \u001b[0mtape\u001b[0m\u001b[0;34m.\u001b[0m\u001b[0mgradient\u001b[0m\u001b[0;34m(\u001b[0m\u001b[0mloss\u001b[0m\u001b[0;34m,\u001b[0m \u001b[0mtvae_weights\u001b[0m\u001b[0;34m)\u001b[0m\u001b[0;34m\u001b[0m\u001b[0;34m\u001b[0m\u001b[0m\n\u001b[1;32m     29\u001b[0m     \u001b[0;31m# Calculate gradients\u001b[0m\u001b[0;34m\u001b[0m\u001b[0;34m\u001b[0m\u001b[0;34m\u001b[0m\u001b[0m\n\u001b[0;32m---> 30\u001b[0;31m     \u001b[0moptimizer\u001b[0m\u001b[0;34m.\u001b[0m\u001b[0mapply_gradients\u001b[0m\u001b[0;34m(\u001b[0m\u001b[0mzip\u001b[0m\u001b[0;34m(\u001b[0m\u001b[0mgradients\u001b[0m\u001b[0;34m,\u001b[0m \u001b[0mtvae_weights\u001b[0m\u001b[0;34m)\u001b[0m\u001b[0;34m)\u001b[0m\u001b[0;34m\u001b[0m\u001b[0;34m\u001b[0m\u001b[0m\n\u001b[0m\u001b[1;32m     31\u001b[0m     \u001b[0mlosses\u001b[0m\u001b[0;34m.\u001b[0m\u001b[0mappend\u001b[0m\u001b[0;34m(\u001b[0m\u001b[0mloss\u001b[0m\u001b[0;34m)\u001b[0m\u001b[0;34m\u001b[0m\u001b[0;34m\u001b[0m\u001b[0m\n\u001b[1;32m     32\u001b[0m     \u001b[0;31m#print(\"losses: \", len(losses))\u001b[0m\u001b[0;34m\u001b[0m\u001b[0;34m\u001b[0m\u001b[0;34m\u001b[0m\u001b[0m\n",
            "\u001b[0;32m/usr/local/lib/python3.6/dist-packages/tensorflow/python/keras/optimizer_v2/optimizer_v2.py\u001b[0m in \u001b[0;36mapply_gradients\u001b[0;34m(self, grads_and_vars, name, experimental_aggregate_gradients)\u001b[0m\n\u001b[1;32m    633\u001b[0m           \u001b[0margs\u001b[0m\u001b[0;34m=\u001b[0m\u001b[0;34m(\u001b[0m\u001b[0mgrads_and_vars\u001b[0m\u001b[0;34m,\u001b[0m\u001b[0;34m)\u001b[0m\u001b[0;34m,\u001b[0m\u001b[0;34m\u001b[0m\u001b[0;34m\u001b[0m\u001b[0m\n\u001b[1;32m    634\u001b[0m           kwargs={\n\u001b[0;32m--> 635\u001b[0;31m               \u001b[0;34m\"name\"\u001b[0m\u001b[0;34m:\u001b[0m \u001b[0mname\u001b[0m\u001b[0;34m,\u001b[0m\u001b[0;34m\u001b[0m\u001b[0;34m\u001b[0m\u001b[0m\n\u001b[0m\u001b[1;32m    636\u001b[0m           })\n\u001b[1;32m    637\u001b[0m \u001b[0;34m\u001b[0m\u001b[0m\n",
            "\u001b[0;32m/usr/local/lib/python3.6/dist-packages/tensorflow/python/distribute/distribute_lib.py\u001b[0m in \u001b[0;36mmerge_call\u001b[0;34m(self, merge_fn, args, kwargs)\u001b[0m\n\u001b[1;32m   2939\u001b[0m     merge_fn = autograph.tf_convert(\n\u001b[1;32m   2940\u001b[0m         merge_fn, autograph_ctx.control_status_ctx(), convert_by_default=False)\n\u001b[0;32m-> 2941\u001b[0;31m     \u001b[0;32mreturn\u001b[0m \u001b[0mself\u001b[0m\u001b[0;34m.\u001b[0m\u001b[0m_merge_call\u001b[0m\u001b[0;34m(\u001b[0m\u001b[0mmerge_fn\u001b[0m\u001b[0;34m,\u001b[0m \u001b[0margs\u001b[0m\u001b[0;34m,\u001b[0m \u001b[0mkwargs\u001b[0m\u001b[0;34m)\u001b[0m\u001b[0;34m\u001b[0m\u001b[0;34m\u001b[0m\u001b[0m\n\u001b[0m\u001b[1;32m   2942\u001b[0m \u001b[0;34m\u001b[0m\u001b[0m\n\u001b[1;32m   2943\u001b[0m   \u001b[0;32mdef\u001b[0m \u001b[0m_merge_call\u001b[0m\u001b[0;34m(\u001b[0m\u001b[0mself\u001b[0m\u001b[0;34m,\u001b[0m \u001b[0mmerge_fn\u001b[0m\u001b[0;34m,\u001b[0m \u001b[0margs\u001b[0m\u001b[0;34m,\u001b[0m \u001b[0mkwargs\u001b[0m\u001b[0;34m)\u001b[0m\u001b[0;34m:\u001b[0m\u001b[0;34m\u001b[0m\u001b[0;34m\u001b[0m\u001b[0m\n",
            "\u001b[0;32m/usr/local/lib/python3.6/dist-packages/tensorflow/python/distribute/distribute_lib.py\u001b[0m in \u001b[0;36m_merge_call\u001b[0;34m(self, merge_fn, args, kwargs)\u001b[0m\n\u001b[1;32m   2946\u001b[0m         distribution_strategy_context._CrossReplicaThreadMode(self._strategy))  # pylint: disable=protected-access\n\u001b[1;32m   2947\u001b[0m     \u001b[0;32mtry\u001b[0m\u001b[0;34m:\u001b[0m\u001b[0;34m\u001b[0m\u001b[0;34m\u001b[0m\u001b[0m\n\u001b[0;32m-> 2948\u001b[0;31m       \u001b[0;32mreturn\u001b[0m \u001b[0mmerge_fn\u001b[0m\u001b[0;34m(\u001b[0m\u001b[0mself\u001b[0m\u001b[0;34m.\u001b[0m\u001b[0m_strategy\u001b[0m\u001b[0;34m,\u001b[0m \u001b[0;34m*\u001b[0m\u001b[0margs\u001b[0m\u001b[0;34m,\u001b[0m \u001b[0;34m**\u001b[0m\u001b[0mkwargs\u001b[0m\u001b[0;34m)\u001b[0m\u001b[0;34m\u001b[0m\u001b[0;34m\u001b[0m\u001b[0m\n\u001b[0m\u001b[1;32m   2949\u001b[0m     \u001b[0;32mfinally\u001b[0m\u001b[0;34m:\u001b[0m\u001b[0;34m\u001b[0m\u001b[0;34m\u001b[0m\u001b[0m\n\u001b[1;32m   2950\u001b[0m       \u001b[0m_pop_per_thread_mode\u001b[0m\u001b[0;34m(\u001b[0m\u001b[0;34m)\u001b[0m\u001b[0;34m\u001b[0m\u001b[0;34m\u001b[0m\u001b[0m\n",
            "\u001b[0;32m/usr/local/lib/python3.6/dist-packages/tensorflow/python/autograph/impl/api.py\u001b[0m in \u001b[0;36mwrapper\u001b[0;34m(*args, **kwargs)\u001b[0m\n\u001b[1;32m    570\u001b[0m   \u001b[0;32mdef\u001b[0m \u001b[0mwrapper\u001b[0m\u001b[0;34m(\u001b[0m\u001b[0;34m*\u001b[0m\u001b[0margs\u001b[0m\u001b[0;34m,\u001b[0m \u001b[0;34m**\u001b[0m\u001b[0mkwargs\u001b[0m\u001b[0;34m)\u001b[0m\u001b[0;34m:\u001b[0m\u001b[0;34m\u001b[0m\u001b[0;34m\u001b[0m\u001b[0m\n\u001b[1;32m    571\u001b[0m     \u001b[0;32mwith\u001b[0m \u001b[0mag_ctx\u001b[0m\u001b[0;34m.\u001b[0m\u001b[0mControlStatusCtx\u001b[0m\u001b[0;34m(\u001b[0m\u001b[0mstatus\u001b[0m\u001b[0;34m=\u001b[0m\u001b[0mag_ctx\u001b[0m\u001b[0;34m.\u001b[0m\u001b[0mStatus\u001b[0m\u001b[0;34m.\u001b[0m\u001b[0mUNSPECIFIED\u001b[0m\u001b[0;34m)\u001b[0m\u001b[0;34m:\u001b[0m\u001b[0;34m\u001b[0m\u001b[0;34m\u001b[0m\u001b[0m\n\u001b[0;32m--> 572\u001b[0;31m       \u001b[0;32mreturn\u001b[0m \u001b[0mfunc\u001b[0m\u001b[0;34m(\u001b[0m\u001b[0;34m*\u001b[0m\u001b[0margs\u001b[0m\u001b[0;34m,\u001b[0m \u001b[0;34m**\u001b[0m\u001b[0mkwargs\u001b[0m\u001b[0;34m)\u001b[0m\u001b[0;34m\u001b[0m\u001b[0;34m\u001b[0m\u001b[0m\n\u001b[0m\u001b[1;32m    573\u001b[0m \u001b[0;34m\u001b[0m\u001b[0m\n\u001b[1;32m    574\u001b[0m   \u001b[0;32mif\u001b[0m \u001b[0minspect\u001b[0m\u001b[0;34m.\u001b[0m\u001b[0misfunction\u001b[0m\u001b[0;34m(\u001b[0m\u001b[0mfunc\u001b[0m\u001b[0;34m)\u001b[0m \u001b[0;32mor\u001b[0m \u001b[0minspect\u001b[0m\u001b[0;34m.\u001b[0m\u001b[0mismethod\u001b[0m\u001b[0;34m(\u001b[0m\u001b[0mfunc\u001b[0m\u001b[0;34m)\u001b[0m\u001b[0;34m:\u001b[0m\u001b[0;34m\u001b[0m\u001b[0;34m\u001b[0m\u001b[0m\n",
            "\u001b[0;32m/usr/local/lib/python3.6/dist-packages/tensorflow/python/keras/optimizer_v2/optimizer_v2.py\u001b[0m in \u001b[0;36m_distributed_apply\u001b[0;34m(self, distribution, grads_and_vars, name, apply_state)\u001b[0m\n\u001b[1;32m    681\u001b[0m                               \"update_\" + var.op.name, skip_on_eager=True):\n\u001b[1;32m    682\u001b[0m             update_ops.extend(distribution.extended.update(\n\u001b[0;32m--> 683\u001b[0;31m                 var, apply_grad_to_update_var, args=(grad,), group=False))\n\u001b[0m\u001b[1;32m    684\u001b[0m \u001b[0;34m\u001b[0m\u001b[0m\n\u001b[1;32m    685\u001b[0m       any_symbolic = any(isinstance(i, ops.Operation) or\n",
            "\u001b[0;32m/usr/local/lib/python3.6/dist-packages/tensorflow/python/distribute/distribute_lib.py\u001b[0m in \u001b[0;36mupdate\u001b[0;34m(self, var, fn, args, kwargs, group)\u001b[0m\n\u001b[1;32m   2492\u001b[0m         fn, autograph_ctx.control_status_ctx(), convert_by_default=False)\n\u001b[1;32m   2493\u001b[0m     \u001b[0;32mwith\u001b[0m \u001b[0mself\u001b[0m\u001b[0;34m.\u001b[0m\u001b[0m_container_strategy\u001b[0m\u001b[0;34m(\u001b[0m\u001b[0;34m)\u001b[0m\u001b[0;34m.\u001b[0m\u001b[0mscope\u001b[0m\u001b[0;34m(\u001b[0m\u001b[0;34m)\u001b[0m\u001b[0;34m:\u001b[0m\u001b[0;34m\u001b[0m\u001b[0;34m\u001b[0m\u001b[0m\n\u001b[0;32m-> 2494\u001b[0;31m       \u001b[0;32mreturn\u001b[0m \u001b[0mself\u001b[0m\u001b[0;34m.\u001b[0m\u001b[0m_update\u001b[0m\u001b[0;34m(\u001b[0m\u001b[0mvar\u001b[0m\u001b[0;34m,\u001b[0m \u001b[0mfn\u001b[0m\u001b[0;34m,\u001b[0m \u001b[0margs\u001b[0m\u001b[0;34m,\u001b[0m \u001b[0mkwargs\u001b[0m\u001b[0;34m,\u001b[0m \u001b[0mgroup\u001b[0m\u001b[0;34m)\u001b[0m\u001b[0;34m\u001b[0m\u001b[0;34m\u001b[0m\u001b[0m\n\u001b[0m\u001b[1;32m   2495\u001b[0m \u001b[0;34m\u001b[0m\u001b[0m\n\u001b[1;32m   2496\u001b[0m   \u001b[0;32mdef\u001b[0m \u001b[0m_update\u001b[0m\u001b[0;34m(\u001b[0m\u001b[0mself\u001b[0m\u001b[0;34m,\u001b[0m \u001b[0mvar\u001b[0m\u001b[0;34m,\u001b[0m \u001b[0mfn\u001b[0m\u001b[0;34m,\u001b[0m \u001b[0margs\u001b[0m\u001b[0;34m,\u001b[0m \u001b[0mkwargs\u001b[0m\u001b[0;34m,\u001b[0m \u001b[0mgroup\u001b[0m\u001b[0;34m)\u001b[0m\u001b[0;34m:\u001b[0m\u001b[0;34m\u001b[0m\u001b[0;34m\u001b[0m\u001b[0m\n",
            "\u001b[0;32m/usr/local/lib/python3.6/dist-packages/tensorflow/python/distribute/distribute_lib.py\u001b[0m in \u001b[0;36m_update\u001b[0;34m(self, var, fn, args, kwargs, group)\u001b[0m\n\u001b[1;32m   3429\u001b[0m     \u001b[0;31m# The implementations of _update() and _update_non_slot() are identical\u001b[0m\u001b[0;34m\u001b[0m\u001b[0;34m\u001b[0m\u001b[0;34m\u001b[0m\u001b[0m\n\u001b[1;32m   3430\u001b[0m     \u001b[0;31m# except _update() passes `var` as the first argument to `fn()`.\u001b[0m\u001b[0;34m\u001b[0m\u001b[0;34m\u001b[0m\u001b[0;34m\u001b[0m\u001b[0m\n\u001b[0;32m-> 3431\u001b[0;31m     \u001b[0;32mreturn\u001b[0m \u001b[0mself\u001b[0m\u001b[0;34m.\u001b[0m\u001b[0m_update_non_slot\u001b[0m\u001b[0;34m(\u001b[0m\u001b[0mvar\u001b[0m\u001b[0;34m,\u001b[0m \u001b[0mfn\u001b[0m\u001b[0;34m,\u001b[0m \u001b[0;34m(\u001b[0m\u001b[0mvar\u001b[0m\u001b[0;34m,\u001b[0m\u001b[0;34m)\u001b[0m \u001b[0;34m+\u001b[0m \u001b[0mtuple\u001b[0m\u001b[0;34m(\u001b[0m\u001b[0margs\u001b[0m\u001b[0;34m)\u001b[0m\u001b[0;34m,\u001b[0m \u001b[0mkwargs\u001b[0m\u001b[0;34m,\u001b[0m \u001b[0mgroup\u001b[0m\u001b[0;34m)\u001b[0m\u001b[0;34m\u001b[0m\u001b[0;34m\u001b[0m\u001b[0m\n\u001b[0m\u001b[1;32m   3432\u001b[0m \u001b[0;34m\u001b[0m\u001b[0m\n\u001b[1;32m   3433\u001b[0m   \u001b[0;32mdef\u001b[0m \u001b[0m_update_non_slot\u001b[0m\u001b[0;34m(\u001b[0m\u001b[0mself\u001b[0m\u001b[0;34m,\u001b[0m \u001b[0mcolocate_with\u001b[0m\u001b[0;34m,\u001b[0m \u001b[0mfn\u001b[0m\u001b[0;34m,\u001b[0m \u001b[0margs\u001b[0m\u001b[0;34m,\u001b[0m \u001b[0mkwargs\u001b[0m\u001b[0;34m,\u001b[0m \u001b[0mshould_group\u001b[0m\u001b[0;34m)\u001b[0m\u001b[0;34m:\u001b[0m\u001b[0;34m\u001b[0m\u001b[0;34m\u001b[0m\u001b[0m\n",
            "\u001b[0;32m/usr/local/lib/python3.6/dist-packages/tensorflow/python/distribute/distribute_lib.py\u001b[0m in \u001b[0;36m_update_non_slot\u001b[0;34m(self, colocate_with, fn, args, kwargs, should_group)\u001b[0m\n\u001b[1;32m   3435\u001b[0m     \u001b[0;31m# once that value is used for something.\u001b[0m\u001b[0;34m\u001b[0m\u001b[0;34m\u001b[0m\u001b[0;34m\u001b[0m\u001b[0m\n\u001b[1;32m   3436\u001b[0m     \u001b[0;32mwith\u001b[0m \u001b[0mUpdateContext\u001b[0m\u001b[0;34m(\u001b[0m\u001b[0mcolocate_with\u001b[0m\u001b[0;34m)\u001b[0m\u001b[0;34m:\u001b[0m\u001b[0;34m\u001b[0m\u001b[0;34m\u001b[0m\u001b[0m\n\u001b[0;32m-> 3437\u001b[0;31m       \u001b[0mresult\u001b[0m \u001b[0;34m=\u001b[0m \u001b[0mfn\u001b[0m\u001b[0;34m(\u001b[0m\u001b[0;34m*\u001b[0m\u001b[0margs\u001b[0m\u001b[0;34m,\u001b[0m \u001b[0;34m**\u001b[0m\u001b[0mkwargs\u001b[0m\u001b[0;34m)\u001b[0m\u001b[0;34m\u001b[0m\u001b[0;34m\u001b[0m\u001b[0m\n\u001b[0m\u001b[1;32m   3438\u001b[0m       \u001b[0;32mif\u001b[0m \u001b[0mshould_group\u001b[0m\u001b[0;34m:\u001b[0m\u001b[0;34m\u001b[0m\u001b[0;34m\u001b[0m\u001b[0m\n\u001b[1;32m   3439\u001b[0m         \u001b[0;32mreturn\u001b[0m \u001b[0mresult\u001b[0m\u001b[0;34m\u001b[0m\u001b[0;34m\u001b[0m\u001b[0m\n",
            "\u001b[0;32m/usr/local/lib/python3.6/dist-packages/tensorflow/python/autograph/impl/api.py\u001b[0m in \u001b[0;36mwrapper\u001b[0;34m(*args, **kwargs)\u001b[0m\n\u001b[1;32m    570\u001b[0m   \u001b[0;32mdef\u001b[0m \u001b[0mwrapper\u001b[0m\u001b[0;34m(\u001b[0m\u001b[0;34m*\u001b[0m\u001b[0margs\u001b[0m\u001b[0;34m,\u001b[0m \u001b[0;34m**\u001b[0m\u001b[0mkwargs\u001b[0m\u001b[0;34m)\u001b[0m\u001b[0;34m:\u001b[0m\u001b[0;34m\u001b[0m\u001b[0;34m\u001b[0m\u001b[0m\n\u001b[1;32m    571\u001b[0m     \u001b[0;32mwith\u001b[0m \u001b[0mag_ctx\u001b[0m\u001b[0;34m.\u001b[0m\u001b[0mControlStatusCtx\u001b[0m\u001b[0;34m(\u001b[0m\u001b[0mstatus\u001b[0m\u001b[0;34m=\u001b[0m\u001b[0mag_ctx\u001b[0m\u001b[0;34m.\u001b[0m\u001b[0mStatus\u001b[0m\u001b[0;34m.\u001b[0m\u001b[0mUNSPECIFIED\u001b[0m\u001b[0;34m)\u001b[0m\u001b[0;34m:\u001b[0m\u001b[0;34m\u001b[0m\u001b[0;34m\u001b[0m\u001b[0m\n\u001b[0;32m--> 572\u001b[0;31m       \u001b[0;32mreturn\u001b[0m \u001b[0mfunc\u001b[0m\u001b[0;34m(\u001b[0m\u001b[0;34m*\u001b[0m\u001b[0margs\u001b[0m\u001b[0;34m,\u001b[0m \u001b[0;34m**\u001b[0m\u001b[0mkwargs\u001b[0m\u001b[0;34m)\u001b[0m\u001b[0;34m\u001b[0m\u001b[0;34m\u001b[0m\u001b[0m\n\u001b[0m\u001b[1;32m    573\u001b[0m \u001b[0;34m\u001b[0m\u001b[0m\n\u001b[1;32m    574\u001b[0m   \u001b[0;32mif\u001b[0m \u001b[0minspect\u001b[0m\u001b[0;34m.\u001b[0m\u001b[0misfunction\u001b[0m\u001b[0;34m(\u001b[0m\u001b[0mfunc\u001b[0m\u001b[0;34m)\u001b[0m \u001b[0;32mor\u001b[0m \u001b[0minspect\u001b[0m\u001b[0;34m.\u001b[0m\u001b[0mismethod\u001b[0m\u001b[0;34m(\u001b[0m\u001b[0mfunc\u001b[0m\u001b[0;34m)\u001b[0m\u001b[0;34m:\u001b[0m\u001b[0;34m\u001b[0m\u001b[0;34m\u001b[0m\u001b[0m\n",
            "\u001b[0;32m/usr/local/lib/python3.6/dist-packages/tensorflow/python/keras/optimizer_v2/optimizer_v2.py\u001b[0m in \u001b[0;36mapply_grad_to_update_var\u001b[0;34m(var, grad)\u001b[0m\n\u001b[1;32m    656\u001b[0m       \u001b[0;32mif\u001b[0m \u001b[0;34m\"apply_state\"\u001b[0m \u001b[0;32min\u001b[0m \u001b[0mself\u001b[0m\u001b[0;34m.\u001b[0m\u001b[0m_dense_apply_args\u001b[0m\u001b[0;34m:\u001b[0m\u001b[0;34m\u001b[0m\u001b[0;34m\u001b[0m\u001b[0m\n\u001b[1;32m    657\u001b[0m         \u001b[0mapply_kwargs\u001b[0m\u001b[0;34m[\u001b[0m\u001b[0;34m\"apply_state\"\u001b[0m\u001b[0;34m]\u001b[0m \u001b[0;34m=\u001b[0m \u001b[0mapply_state\u001b[0m\u001b[0;34m\u001b[0m\u001b[0;34m\u001b[0m\u001b[0m\n\u001b[0;32m--> 658\u001b[0;31m       \u001b[0mupdate_op\u001b[0m \u001b[0;34m=\u001b[0m \u001b[0mself\u001b[0m\u001b[0;34m.\u001b[0m\u001b[0m_resource_apply_dense\u001b[0m\u001b[0;34m(\u001b[0m\u001b[0mgrad\u001b[0m\u001b[0;34m,\u001b[0m \u001b[0mvar\u001b[0m\u001b[0;34m,\u001b[0m \u001b[0;34m**\u001b[0m\u001b[0mapply_kwargs\u001b[0m\u001b[0;34m)\u001b[0m\u001b[0;34m\u001b[0m\u001b[0;34m\u001b[0m\u001b[0m\n\u001b[0m\u001b[1;32m    659\u001b[0m       \u001b[0;32mif\u001b[0m \u001b[0mvar\u001b[0m\u001b[0;34m.\u001b[0m\u001b[0mconstraint\u001b[0m \u001b[0;32mis\u001b[0m \u001b[0;32mnot\u001b[0m \u001b[0;32mNone\u001b[0m\u001b[0;34m:\u001b[0m\u001b[0;34m\u001b[0m\u001b[0;34m\u001b[0m\u001b[0m\n\u001b[1;32m    660\u001b[0m         \u001b[0;32mwith\u001b[0m \u001b[0mops\u001b[0m\u001b[0;34m.\u001b[0m\u001b[0mcontrol_dependencies\u001b[0m\u001b[0;34m(\u001b[0m\u001b[0;34m[\u001b[0m\u001b[0mupdate_op\u001b[0m\u001b[0;34m]\u001b[0m\u001b[0;34m)\u001b[0m\u001b[0;34m:\u001b[0m\u001b[0;34m\u001b[0m\u001b[0;34m\u001b[0m\u001b[0m\n",
            "\u001b[0;32m/usr/local/lib/python3.6/dist-packages/tensorflow/python/keras/optimizer_v2/adam.py\u001b[0m in \u001b[0;36m_resource_apply_dense\u001b[0;34m(self, grad, var, apply_state)\u001b[0m\n\u001b[1;32m    184\u001b[0m           \u001b[0mepsilon\u001b[0m\u001b[0;34m=\u001b[0m\u001b[0mcoefficients\u001b[0m\u001b[0;34m[\u001b[0m\u001b[0;34m'epsilon'\u001b[0m\u001b[0;34m]\u001b[0m\u001b[0;34m,\u001b[0m\u001b[0;34m\u001b[0m\u001b[0;34m\u001b[0m\u001b[0m\n\u001b[1;32m    185\u001b[0m           \u001b[0mgrad\u001b[0m\u001b[0;34m=\u001b[0m\u001b[0mgrad\u001b[0m\u001b[0;34m,\u001b[0m\u001b[0;34m\u001b[0m\u001b[0;34m\u001b[0m\u001b[0m\n\u001b[0;32m--> 186\u001b[0;31m           use_locking=self._use_locking)\n\u001b[0m\u001b[1;32m    187\u001b[0m     \u001b[0;32melse\u001b[0m\u001b[0;34m:\u001b[0m\u001b[0;34m\u001b[0m\u001b[0;34m\u001b[0m\u001b[0m\n\u001b[1;32m    188\u001b[0m       \u001b[0mvhat\u001b[0m \u001b[0;34m=\u001b[0m \u001b[0mself\u001b[0m\u001b[0;34m.\u001b[0m\u001b[0mget_slot\u001b[0m\u001b[0;34m(\u001b[0m\u001b[0mvar\u001b[0m\u001b[0;34m,\u001b[0m \u001b[0;34m'vhat'\u001b[0m\u001b[0;34m)\u001b[0m\u001b[0;34m\u001b[0m\u001b[0;34m\u001b[0m\u001b[0m\n",
            "\u001b[0;32m/usr/local/lib/python3.6/dist-packages/tensorflow/python/util/tf_export.py\u001b[0m in \u001b[0;36mwrapper\u001b[0;34m(*args, **kwargs)\u001b[0m\n\u001b[1;32m    402\u001b[0m           \u001b[0;34m'Please pass these args as kwargs instead.'\u001b[0m\u001b[0;34m\u001b[0m\u001b[0;34m\u001b[0m\u001b[0m\n\u001b[1;32m    403\u001b[0m           .format(f=f.__name__, kwargs=f_argspec.args))\n\u001b[0;32m--> 404\u001b[0;31m     \u001b[0;32mreturn\u001b[0m \u001b[0mf\u001b[0m\u001b[0;34m(\u001b[0m\u001b[0;34m**\u001b[0m\u001b[0mkwargs\u001b[0m\u001b[0;34m)\u001b[0m\u001b[0;34m\u001b[0m\u001b[0;34m\u001b[0m\u001b[0m\n\u001b[0m\u001b[1;32m    405\u001b[0m \u001b[0;34m\u001b[0m\u001b[0m\n\u001b[1;32m    406\u001b[0m   \u001b[0;32mreturn\u001b[0m \u001b[0mtf_decorator\u001b[0m\u001b[0;34m.\u001b[0m\u001b[0mmake_decorator\u001b[0m\u001b[0;34m(\u001b[0m\u001b[0mf\u001b[0m\u001b[0;34m,\u001b[0m \u001b[0mwrapper\u001b[0m\u001b[0;34m,\u001b[0m \u001b[0mdecorator_argspec\u001b[0m\u001b[0;34m=\u001b[0m\u001b[0mf_argspec\u001b[0m\u001b[0;34m)\u001b[0m\u001b[0;34m\u001b[0m\u001b[0;34m\u001b[0m\u001b[0m\n",
            "\u001b[0;32m/usr/local/lib/python3.6/dist-packages/tensorflow/python/ops/gen_training_ops.py\u001b[0m in \u001b[0;36mresource_apply_adam\u001b[0;34m(var, m, v, beta1_power, beta2_power, lr, beta1, beta2, epsilon, grad, use_locking, use_nesterov, name)\u001b[0m\n\u001b[1;32m   1422\u001b[0m         \u001b[0m_ctx\u001b[0m\u001b[0;34m,\u001b[0m \u001b[0;34m\"ResourceApplyAdam\"\u001b[0m\u001b[0;34m,\u001b[0m \u001b[0mname\u001b[0m\u001b[0;34m,\u001b[0m \u001b[0mvar\u001b[0m\u001b[0;34m,\u001b[0m \u001b[0mm\u001b[0m\u001b[0;34m,\u001b[0m \u001b[0mv\u001b[0m\u001b[0;34m,\u001b[0m \u001b[0mbeta1_power\u001b[0m\u001b[0;34m,\u001b[0m \u001b[0mbeta2_power\u001b[0m\u001b[0;34m,\u001b[0m\u001b[0;34m\u001b[0m\u001b[0;34m\u001b[0m\u001b[0m\n\u001b[1;32m   1423\u001b[0m         \u001b[0mlr\u001b[0m\u001b[0;34m,\u001b[0m \u001b[0mbeta1\u001b[0m\u001b[0;34m,\u001b[0m \u001b[0mbeta2\u001b[0m\u001b[0;34m,\u001b[0m \u001b[0mepsilon\u001b[0m\u001b[0;34m,\u001b[0m \u001b[0mgrad\u001b[0m\u001b[0;34m,\u001b[0m \u001b[0;34m\"use_locking\"\u001b[0m\u001b[0;34m,\u001b[0m \u001b[0muse_locking\u001b[0m\u001b[0;34m,\u001b[0m\u001b[0;34m\u001b[0m\u001b[0;34m\u001b[0m\u001b[0m\n\u001b[0;32m-> 1424\u001b[0;31m         \"use_nesterov\", use_nesterov)\n\u001b[0m\u001b[1;32m   1425\u001b[0m       \u001b[0;32mreturn\u001b[0m \u001b[0m_result\u001b[0m\u001b[0;34m\u001b[0m\u001b[0;34m\u001b[0m\u001b[0m\n\u001b[1;32m   1426\u001b[0m     \u001b[0;32mexcept\u001b[0m \u001b[0m_core\u001b[0m\u001b[0;34m.\u001b[0m\u001b[0m_NotOkStatusException\u001b[0m \u001b[0;32mas\u001b[0m \u001b[0me\u001b[0m\u001b[0;34m:\u001b[0m\u001b[0;34m\u001b[0m\u001b[0;34m\u001b[0m\u001b[0m\n",
            "\u001b[0;31mKeyboardInterrupt\u001b[0m: "
          ]
        }
      ]
    },
    {
      "cell_type": "code",
      "metadata": {
        "id": "QsoOPxsX7MH_",
        "colab": {
          "base_uri": "https://localhost:8080/",
          "height": 282
        },
        "outputId": "d68a0d09-0702-4b38-d5d8-a6d1121cbc2e"
      },
      "source": [
        "plt.plot(epochs_train_losses)\n",
        "plt.show"
      ],
      "execution_count": 20,
      "outputs": [
        {
          "output_type": "execute_result",
          "data": {
            "text/plain": [
              "<function matplotlib.pyplot.show>"
            ]
          },
          "metadata": {
            "tags": []
          },
          "execution_count": 20
        },
        {
          "output_type": "display_data",
          "data": {
            "image/png": "[encoded data removed]",
            "text/plain": [
              "<Figure size 432x288 with 1 Axes>"
            ]
          },
          "metadata": {
            "tags": [],
            "needs_background": "light"
          }
        }
      ]
    },
    {
      "cell_type": "code",
      "metadata": {
        "id": "10IZMIrQ8-_-"
      },
      "source": [
        ""
      ],
      "execution_count": 20,
      "outputs": []
    },
    {
      "cell_type": "code",
      "metadata": {
        "id": "IegQjnUq73fj",
        "colab": {
          "base_uri": "https://localhost:8080/",
          "height": 265
        },
        "outputId": "81167750-c35d-448e-d316-27cf4ab27f68"
      },
      "source": [
        "show_image(np.reshape(test_image_tshirt_flatten[0], (28,28)))"
      ],
      "execution_count": 22,
      "outputs": [
        {
          "output_type": "display_data",
          "data": {
            "image/png": "[encoded data removed]",
            "text/plain": [
              "<Figure size 432x288 with 2 Axes>"
            ]
          },
          "metadata": {
            "tags": [],
            "needs_background": "light"
          }
        }
      ]
    },
    {
      "cell_type": "code",
      "metadata": {
        "id": "Li05EO6O9ArB",
        "colab": {
          "base_uri": "https://localhost:8080/"
        },
        "outputId": "7362c748-f70a-4a23-c4db-547d1c2dfa22"
      },
      "source": [
        "test_image = test_image_tshirt_flatten[0]\n",
        "test_image = np.expand_dims(test_image,axis = 0)\n",
        "test_image.shape"
      ],
      "execution_count": 24,
      "outputs": [
        {
          "output_type": "execute_result",
          "data": {
            "text/plain": [
              "(1, 784)"
            ]
          },
          "metadata": {
            "tags": []
          },
          "execution_count": 24
        }
      ]
    },
    {
      "cell_type": "code",
      "metadata": {
        "id": "YI-ljW2H-oFA",
        "colab": {
          "base_uri": "https://localhost:8080/"
        },
        "outputId": "3132e1c4-95f6-4554-97b4-9bce67edb259"
      },
      "source": [
        "encoded,_,_ = encoder(test_image)\n",
        "encoded = encoded.numpy()\n",
        "encoded.shape"
      ],
      "execution_count": 25,
      "outputs": [
        {
          "output_type": "execute_result",
          "data": {
            "text/plain": [
              "(1, 64)"
            ]
          },
          "metadata": {
            "tags": []
          },
          "execution_count": 25
        }
      ]
    },
    {
      "cell_type": "code",
      "metadata": {
        "id": "_wIF8IGh_x1v",
        "colab": {
          "base_uri": "https://localhost:8080/"
        },
        "outputId": "df185ca9-b1dd-4535-aa95-e11a72857695"
      },
      "source": [
        "decoded = decoder(encoded)\n",
        "decoded = decoded.numpy()\n",
        "decoded.shape"
      ],
      "execution_count": 26,
      "outputs": [
        {
          "output_type": "execute_result",
          "data": {
            "text/plain": [
              "(1, 784)"
            ]
          },
          "metadata": {
            "tags": []
          },
          "execution_count": 26
        }
      ]
    },
    {
      "cell_type": "code",
      "metadata": {
        "id": "siFfdAO0BG04",
        "colab": {
          "base_uri": "https://localhost:8080/",
          "height": 269
        },
        "outputId": "831a1cb2-9410-492c-f50a-6c8cfe6265ee"
      },
      "source": [
        "show_image(np.reshape(decoded, (28,28)))"
      ],
      "execution_count": 27,
      "outputs": [
        {
          "output_type": "display_data",
          "data": {
            "image/png": "[encoded data removed]",
            "text/plain": [
              "<Figure size 432x288 with 2 Axes>"
            ]
          },
          "metadata": {
            "tags": [],
            "needs_background": "light"
          }
        }
      ]
    },
    {
      "cell_type": "code",
      "metadata": {
        "id": "EtiwTEAtbgr_",
        "outputId": "4cb3f732-c964-4fab-81c8-dc7d1872d081",
        "colab": {
          "base_uri": "https://localhost:8080/",
          "height": 130
        }
      },
      "source": [
        "# Iterate over epochs.\n",
        "epochs = 10\n",
        "epochs_train_losses = []\n",
        "for epoch in range(epochs):\n",
        "  print('Start of epoch %d' % (epoch,))\n",
        "  losses = []\n",
        "  for step, x in enumerate(training_X_shuffled):\n"
      ],
      "execution_count": 28,
      "outputs": [
        {
          "output_type": "error",
          "ename": "SyntaxError",
          "evalue": "ignored",
          "traceback": [
            "\u001b[0;36m  File \u001b[0;32m\"<ipython-input-28-5d62b7aa8d95>\"\u001b[0;36m, line \u001b[0;32m7\u001b[0m\n\u001b[0;31m    for step, x in enumerate(training_X_shuffled):\u001b[0m\n\u001b[0m                                                  ^\u001b[0m\n\u001b[0;31mSyntaxError\u001b[0m\u001b[0;31m:\u001b[0m unexpected EOF while parsing\n"
          ]
        }
      ]
    },
    {
      "cell_type": "code",
      "metadata": {
        "id": "9JX_Fn4epKj8"
      },
      "source": [
        "# building embedding layer\n",
        "emb_dim = 64\n",
        "embedding_model = tf.keras.models.Sequential([\n",
        "                                tf.keras.layers.Dense(64, activation = 'relu', input_shape=(784,)),\n",
        "                                tf.keras.layers.Dense(emb_dim, activation='sigmoid'),\n",
        "                              ])\n",
        "embedding_model.summary()"
      ],
      "execution_count": null,
      "outputs": []
    },
    {
      "cell_type": "code",
      "metadata": {
        "id": "LYR7hujQq2A0"
      },
      "source": [
        "# take an example and predict output\n",
        "example = training_X_shuffled[0]\n",
        "print (\"shape of example: \", example.shape)\n",
        "\n",
        "example_emb = embedding_model.predict(np.expand_dims(example, axis = 0))\n",
        "\n",
        "print (\"shape of example_emb: \", example_emb.shape)"
      ],
      "execution_count": null,
      "outputs": []
    },
    {
      "cell_type": "code",
      "metadata": {
        "id": "B1R1JmG7tl5c"
      },
      "source": [
        "# Declaring inputs\n",
        "in_anc = tf.keras.layers.Input(shape = (784,))\n",
        "in_pos = tf.keras.layers.Input(shape = (784,))\n",
        "in_neg = tf.keras.layers.Input(shape = (784,))\n",
        "\n",
        "im_anc_emb = embedding_model(in_anc)\n",
        "im_pos_emb = embedding_model(in_pos)\n",
        "im_neg_emb = embedding_model(in_neg)"
      ],
      "execution_count": null,
      "outputs": []
    },
    {
      "cell_type": "code",
      "metadata": {
        "id": "_iT9gV-ruv7S"
      },
      "source": [
        "# Declaring outputs\n",
        "out = tf.keras.layers.concatenate([im_anc_emb, im_pos_emb, im_neg_emb], axis = 1)\n",
        "\n",
        "# the full model\n",
        "net = tf.keras.Model(inputs = [in_anc, in_pos, in_neg], outputs = out)\n",
        "\n",
        "net.summary()"
      ],
      "execution_count": null,
      "outputs": []
    },
    {
      "cell_type": "markdown",
      "metadata": {
        "id": "vFd8GdKgy-51"
      },
      "source": [
        "Triplet loss:\n",
        "  dp : distance between anchor and positive example\n",
        "  dn : distance between anchor and negative example\n",
        "  The job of training would make sure dp < dn\n",
        "  if decrease dn by a scale factor then condition on dp would be tighter\n",
        "  dp < dn - e\n",
        "\n",
        "  so the condition would be \n",
        "\n",
        "  dp-dn+e < = 0\n",
        "\n",
        "  and loss would be\n",
        "\n",
        "  Loss = max (dp-dn+e, 0) // whichever is max will be reduced during training"
      ]
    },
    {
      "cell_type": "code",
      "metadata": {
        "id": "iD8Kbjji3Zvv"
      },
      "source": [
        "# Defining triplet loss\n",
        "def triplet_loss(emb_dim, alpha):\n",
        "  def loss (y_truth, y_pred):\n",
        "    anc, pos, neg = y_pred[:, :emb_dim], y_pred[:, emb_dim:2*emb_dim], y_pred[:, 2*emb_dim:3*emb_dim]\n",
        "    dp = tf.reduce_mean(tf.square(anc - pos), axis = 1)\n",
        "    dn = tf.reduce_mean(tf.square(anc - neg), axis = 1)\n",
        "    return tf.maximum(dp-dn+alpha, 0.)\n",
        "  return loss"
      ],
      "execution_count": null,
      "outputs": []
    },
    {
      "cell_type": "code",
      "metadata": {
        "id": "xf0aNKw19v9I"
      },
      "source": [
        "def data_generator(batch_size, emb_dim):\n",
        "  while True:\n",
        "    x = create_batch (batch_size)\n",
        "    y = np.zeros((batch_size, 3*emb_dim))\n",
        "    yield x, y\n"
      ],
      "execution_count": null,
      "outputs": []
    },
    {
      "cell_type": "code",
      "metadata": {
        "id": "6ucPDAMRFFNq"
      },
      "source": [
        "batch_size = 60\n",
        "epochs = 20\n",
        "steps_per_epoch = int(len(training_X_shuffled)/batch_size)\n",
        "net.compile(loss = triplet_loss(emb_dim, alpha = 0.2), optimizer = tf.keras.optimizers.Adam(learning_rate=0.001))"
      ],
      "execution_count": null,
      "outputs": []
    },
    {
      "cell_type": "code",
      "metadata": {
        "id": "l6j5FMQNI1Tp"
      },
      "source": [
        "net.fit(data_generator(batch_size, emb_dim), epochs=epochs, steps_per_epoch=steps_per_epoch,\n",
        "        callbacks = [\n",
        "                    PCAPlotter(plt, embedding_model, testing_X_shuffled, test_y_shuffled)\n",
        "        ])"
      ],
      "execution_count": null,
      "outputs": []
    },
    {
      "cell_type": "code",
      "metadata": {
        "id": "9OLUpduWUuov"
      },
      "source": [
        ""
      ],
      "execution_count": null,
      "outputs": []
    },
    {
      "cell_type": "code",
      "metadata": {
        "id": "8Rpa_mUGxJoE"
      },
      "source": [
        "def initialize_base_network():\n",
        "    input = Input(shape=(28,28,), name=\"base_input\")\n",
        "    x = Flatten(name=\"flatten_input\")(input)\n",
        "    x = Dense(128, activation='relu', name=\"first_base_dense\")(x)\n",
        "    x = Dropout(0.1, name=\"first_dropout\")(x)\n",
        "    x = Dense(128, activation='relu', name=\"second_base_dense\")(x)\n",
        "    x = Dropout(0.1, name=\"second_dropout\")(x)\n",
        "    x = Dense(128, activation='relu', name=\"third_base_dense\")(x)\n",
        "\n",
        "    return Model(inputs=input, outputs=x)"
      ],
      "execution_count": null,
      "outputs": []
    }
  ]
}