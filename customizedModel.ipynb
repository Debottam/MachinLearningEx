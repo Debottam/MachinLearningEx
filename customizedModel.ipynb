{
  "nbformat": 4,
  "nbformat_minor": 0,
  "metadata": {
    "colab": {
      "name": "cert_1.ipynb",
      "provenance": [],
      "authorship_tag": "ABX9TyNO/7zn3Y9+fj4u2ftarGBx",
      "include_colab_link": true
    },
    "kernelspec": {
      "name": "python3",
      "display_name": "Python 3"
    }
  },
  "cells": [
    {
      "cell_type": "markdown",
      "metadata": {
        "id": "view-in-github",
        "colab_type": "text"
      },
      "source": [
        "<a href=\"https://colab.research.google.com/github/Debottam/MachinLearningEx/blob/master/customizedModel.ipynb\" target=\"_parent\"><img src=\"https://colab.research.google.com/assets/colab-badge.svg\" alt=\"Open In Colab\"/></a>"
      ]
    },
    {
      "cell_type": "markdown",
      "metadata": {
        "id": "0mpXXsv7G5Li",
        "colab_type": "text"
      },
      "source": [
        "TensorFlow Customized models:"
      ]
    },
    {
      "cell_type": "code",
      "metadata": {
        "id": "5WubJYjMHGqd",
        "colab_type": "code",
        "colab": {
          "base_uri": "https://localhost:8080/",
          "height": 51
        },
        "outputId": "b47de4ca-3129-477c-9eed-201742ea43d9"
      },
      "source": [
        "import tensorflow as tf\n",
        "import tensorflow.keras as keras\n",
        "\n",
        "print(\"tensorflow: \", tf.__version__)\n",
        "print(\"keras: \", keras.__version__) "
      ],
      "execution_count": 2,
      "outputs": [
        {
          "output_type": "stream",
          "text": [
            "tensorflow:  2.3.0\n",
            "keras:  2.4.0\n"
          ],
          "name": "stdout"
        }
      ]
    },
    {
      "cell_type": "markdown",
      "metadata": {
        "id": "25sTgjV1IAqI",
        "colab_type": "text"
      },
      "source": [
        "Some tensorflow layers are without any weight\n",
        "keras.layers.Flatten\n",
        "keras.layers.ReLU"
      ]
    },
    {
      "cell_type": "code",
      "metadata": {
        "id": "yTiQKj_UImz0",
        "colab_type": "code",
        "colab": {
          "base_uri": "https://localhost:8080/",
          "height": 34
        },
        "outputId": "4c468354-8a21-43ec-ef44-9f3e589b70e1"
      },
      "source": [
        "# lambda layer\n",
        "exponential_layer = keras.layers.Lambda(lambda x: tf.exp(x))\n",
        "exponential_layer"
      ],
      "execution_count": null,
      "outputs": [
        {
          "output_type": "execute_result",
          "data": {
            "text/plain": [
              "<tensorflow.python.keras.layers.core.Lambda at 0x7f55e43c72b0>"
            ]
          },
          "metadata": {
            "tags": []
          },
          "execution_count": 3
        }
      ]
    },
    {
      "cell_type": "markdown",
      "metadata": {
        "id": "WkQ7UEhMLM7P",
        "colab_type": "text"
      },
      "source": [
        "layers are customized from `keras.layers.Layer`"
      ]
    },
    {
      "cell_type": "code",
      "metadata": {
        "id": "YXpi4di2LcCf",
        "colab_type": "code",
        "colab": {}
      },
      "source": [
        "class MyDense(keras.layers.Layer):\n",
        "  def __init__ (self, units, activation = None, **kwargs):\n",
        "    super().__init__(**kwargs)\n",
        "    self.units = units\n",
        "    self.activation = keras.activations.get(activation)\n",
        "  \n",
        "  def build(self, batch_input_shape):\n",
        "    self.kernel = self.add_weight(name = 'kernel', shape = [batch_input_shape[-1], self.units], initializer = \"glorot_normal\")\n",
        "    self.bias = self.add_weight(name = \"bias\", shape = [self.units], initializer = 'zeros')\n",
        "    super().build(batch_input_shape)\n",
        "\n",
        "  def call(self, X):\n",
        "    return self.activation(X @ self.kernel + self.bias)\n",
        "\n",
        "  def compute_output_shape(self, batch_input_shape):\n",
        "    return tf.TensorShape(batch_input_shape.as_list()[:-1]+ [self.units])\n",
        "  \n",
        "  def get_config(self):\n",
        "    base_config = super().get_config()\n",
        "    return {**base_config, 'units':self.units, 'activation': keras.activations.serialize(self.activation)}"
      ],
      "execution_count": null,
      "outputs": []
    },
    {
      "cell_type": "markdown",
      "metadata": {
        "id": "-OZv9VHUV4gM",
        "colab_type": "text"
      },
      "source": [
        "MultiInput custom layers"
      ]
    },
    {
      "cell_type": "code",
      "metadata": {
        "id": "YW7XolG5WAvV",
        "colab_type": "code",
        "colab": {}
      },
      "source": [
        "class MyMultiLayer(keras.layers.Layer):\n",
        "  def call (self, X):\n",
        "    X1, X2 = X1\n",
        "    return [X1+X2, X1*X2, X1/X2]\n",
        "\n",
        "  def compute_output_shape(self, batch_input_shape):\n",
        "    b1, b2 = batch_input_shape\n",
        "    return [b1, b1, b1]"
      ],
      "execution_count": null,
      "outputs": []
    },
    {
      "cell_type": "markdown",
      "metadata": {
        "id": "of2PyKmrXWi3",
        "colab_type": "text"
      },
      "source": [
        "Layer to add gaussian noise during training"
      ]
    },
    {
      "cell_type": "code",
      "metadata": {
        "id": "Eg89L-OkXdXi",
        "colab_type": "code",
        "colab": {}
      },
      "source": [
        "class myGaussianNoise(keras.layers.Layer):\n",
        "  def __init__(self, stdev, **kwargs):\n",
        "    super().__init__(**kwargs)\n",
        "    self.stdev = stdev\n",
        "  \n",
        "  def call(self, X, training = None):\n",
        "    if training:\n",
        "      noise = tf.random.normal(tf.shape(X), stdev = self.stdev)\n",
        "      return X + noise \n",
        "    else:\n",
        "      return X\n",
        "  \n",
        "  def compute_output_shape (self, batch_input_shape):\n",
        "    return batch_input_shape\n"
      ],
      "execution_count": null,
      "outputs": []
    },
    {
      "cell_type": "markdown",
      "metadata": {
        "id": "E7dIG6ybXTcu",
        "colab_type": "text"
      },
      "source": [
        "Customizing Models"
      ]
    },
    {
      "cell_type": "code",
      "metadata": {
        "id": "enCJ4dfjXb3q",
        "colab_type": "code",
        "colab": {}
      },
      "source": [
        "class ResidualBlock(keras.layers.Layer):\n",
        "  def __init__(self, n_layers, n_neurons, **kwargs):\n",
        "    super().__init__(**kwargs)\n",
        "    self.hidden = [keras.layers.Dense(n_neurons, activation = \"elu\", kernel_initializer = \"he_normal\") for _ in range(n_layers)]\n",
        "  \n",
        "  def call (self, inputs):\n",
        "    Z = inputs\n",
        "    for layer in self.hidden:\n",
        "      Z = layer(Z)\n",
        "    return inputs+Z\n",
        "\n",
        "class ResidualRegressor(keras.Model):\n",
        "  def __init__(self, output_dim, **kwargs):\n",
        "    super().__init__(**kwargs)\n",
        "    self.hidden1 = keras.layers.Dense(30, activation = 'elu', kernel_initializer = \"he_normal\")\n",
        "    self.block1 = ResidualBlock(2, 30)\n",
        "    self.block2 = ResidualBlock(2, 30)\n",
        "    self.out = keras.layers.Dense(output_dim)\n",
        "  \n",
        "  def call(self, inputs):\n",
        "    Z = self.hidden1(inputs)\n",
        "    for _ in range(1+3):\n",
        "      Z = self.block1(Z)\n",
        "    Z = self.block2(Z)\n",
        "    return self.out(Z)"
      ],
      "execution_count": 5,
      "outputs": []
    },
    {
      "cell_type": "markdown",
      "metadata": {
        "id": "2AnQWBtIiVET",
        "colab_type": "text"
      },
      "source": [
        "Customized model with loss with 5 hidden layers"
      ]
    },
    {
      "cell_type": "code",
      "metadata": {
        "id": "E6gLq9R7icmv",
        "colab_type": "code",
        "colab": {}
      },
      "source": [
        "class ReconstructingRegressor(keras.Model):\n",
        "  def __init__(self, output_dim, **kwargs):\n",
        "    super().__init__(**kwargs)\n",
        "    self.hidden = [keras.layers.Dense(30, activation = \"selu\", kernel_initializer=\"lecun_normal\") for _ in range(5)]\n",
        "    self.out = keras.layers.Dense(output_dim)\n",
        "  \n",
        "  def build(self, batch_input_shape):\n",
        "    n_inputs = batch_input_shape[-1]\n",
        "    self.reconstruct = keras.layers.Dense(n_inputs)\n",
        "    super().build(batch_input_shape)\n",
        "\n",
        "  def call(self, inputs):\n",
        "    Z = inputs\n",
        "    for layer in self.hidden:\n",
        "      Z = layer(Z)\n",
        "    reconstruction = self.reconstruct(Z)\n",
        "    recon_loss = tf.reduce_mean(tf.square(inputs - reconstruction))\n",
        "    self.add_loss(0.05*recon_loss)\n",
        "    return self.out(Z)\n",
        "\n"
      ],
      "execution_count": 6,
      "outputs": []
    }
  ]
}