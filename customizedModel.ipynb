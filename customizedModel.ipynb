{
  "nbformat": 4,
  "nbformat_minor": 0,
  "metadata": {
    "colab": {
      "name": "cert_1.ipynb",
      "provenance": [],
      "authorship_tag": "ABX9TyMtIARauZeowtp0pMgBM76v",
      "include_colab_link": true
    },
    "kernelspec": {
      "name": "python3",
      "display_name": "Python 3"
    }
  },
  "cells": [
    {
      "cell_type": "markdown",
      "metadata": {
        "id": "view-in-github",
        "colab_type": "text"
      },
      "source": [
        "<a href=\"https://colab.research.google.com/github/Debottam/MachinLearningEx/blob/master/customizedModel.ipynb\" target=\"_parent\"><img src=\"https://colab.research.google.com/assets/colab-badge.svg\" alt=\"Open In Colab\"/></a>"
      ]
    },
    {
      "cell_type": "markdown",
      "metadata": {
        "id": "0mpXXsv7G5Li",
        "colab_type": "text"
      },
      "source": [
        "TensorFlow Customized models:"
      ]
    },
    {
      "cell_type": "code",
      "metadata": {
        "id": "5WubJYjMHGqd",
        "colab_type": "code",
        "colab": {
          "base_uri": "https://localhost:8080/",
          "height": 51
        },
        "outputId": "ba137a66-a93c-436c-e59a-ebabdecfe5ca"
      },
      "source": [
        "import tensorflow as tf\n",
        "import tensorflow.keras as keras\n",
        "\n",
        "print(\"tensorflow: \", tf.__version__)\n",
        "print(\"keras: \", keras.__version__) "
      ],
      "execution_count": 2,
      "outputs": [
        {
          "output_type": "stream",
          "text": [
            "tensorflow:  2.3.0\n",
            "keras:  2.4.0\n"
          ],
          "name": "stdout"
        }
      ]
    },
    {
      "cell_type": "markdown",
      "metadata": {
        "id": "25sTgjV1IAqI",
        "colab_type": "text"
      },
      "source": [
        "Some tensorflow layers are without any weight\n",
        "keras.layers.Flatten\n",
        "keras.layers.ReLU"
      ]
    },
    {
      "cell_type": "code",
      "metadata": {
        "id": "yTiQKj_UImz0",
        "colab_type": "code",
        "colab": {
          "base_uri": "https://localhost:8080/",
          "height": 34
        },
        "outputId": "4c468354-8a21-43ec-ef44-9f3e589b70e1"
      },
      "source": [
        "# lambda layer\n",
        "exponential_layer = keras.layers.Lambda(lambda x: tf.exp(x))\n",
        "exponential_layer"
      ],
      "execution_count": 3,
      "outputs": [
        {
          "output_type": "execute_result",
          "data": {
            "text/plain": [
              "<tensorflow.python.keras.layers.core.Lambda at 0x7f55e43c72b0>"
            ]
          },
          "metadata": {
            "tags": []
          },
          "execution_count": 3
        }
      ]
    },
    {
      "cell_type": "markdown",
      "metadata": {
        "id": "WkQ7UEhMLM7P",
        "colab_type": "text"
      },
      "source": [
        "layers are customized from `keras.layers.Layer`"
      ]
    },
    {
      "cell_type": "code",
      "metadata": {
        "id": "YXpi4di2LcCf",
        "colab_type": "code",
        "colab": {}
      },
      "source": [
        "class MyDense(keras.layers.Layer):\n",
        "  def __init__ (self, units, activation = None, **kwargs):\n",
        "    super().__init__(**kwargs)\n",
        "    self.units = units\n",
        "    self.activation = keras.activations.get(activation)\n",
        "  \n",
        "  def build(self, batch_input_shape):\n",
        "    self.kernel = self.add_weight(name = 'kernel', shape = [batch_input_shape[-1], self.units], initializer = \"glorot_normal\")\n",
        "    self.bias = self.add_weight(name = \"bias\", shape = [self.units], initializer = 'zeros')\n",
        "    super().build(batch_input_shape)\n",
        "\n",
        "  def call(self, X):\n",
        "    return self.activation(X @ self.kernel + self.bias)\n",
        "\n",
        "  def compute_output_shape(self, batch_input_shape):\n",
        "    return tf.TensorShape(batch_input_shape.as_list()[:-1]+ [self.units])\n",
        "  \n",
        "  def get_config(self):\n",
        "    base_config = super().get_config()\n",
        "    return {**base_config, 'units':self.units, 'activation': keras.activations.serialize(self.activation)}"
      ],
      "execution_count": 4,
      "outputs": []
    },
    {
      "cell_type": "markdown",
      "metadata": {
        "id": "-OZv9VHUV4gM",
        "colab_type": "text"
      },
      "source": [
        "MultiInput custom layers"
      ]
    },
    {
      "cell_type": "code",
      "metadata": {
        "id": "YW7XolG5WAvV",
        "colab_type": "code",
        "colab": {}
      },
      "source": [
        "class MyMultiLayer(keras.layers.Layer):\n",
        "  def call (self, X):\n",
        "    X1, X2 = X1\n",
        "    return [X1+X2, X1*X2, X1/X2]\n",
        "\n",
        "  def compute_output_shape(self, batch_input_shape):\n",
        "    b1, b2 = batch_input_shape\n",
        "    return [b1, b1, b1]"
      ],
      "execution_count": 5,
      "outputs": []
    },
    {
      "cell_type": "markdown",
      "metadata": {
        "id": "of2PyKmrXWi3",
        "colab_type": "text"
      },
      "source": [
        "Layer to add gaussian noise during training"
      ]
    },
    {
      "cell_type": "code",
      "metadata": {
        "id": "Eg89L-OkXdXi",
        "colab_type": "code",
        "colab": {}
      },
      "source": [
        "class myGaussianNoise(keras.layers.Layer):\n",
        "  def __init__(self, stdev, **kwargs):\n",
        "    super().__init__(**kwargs)\n",
        "    self.stdev = stdev\n",
        "  \n",
        "  def call(self, X, training = None):\n",
        "    if training:\n",
        "      noise = tf.random.normal(tf.shape(X), stdev = self.stdev)\n",
        "      return X + noise \n",
        "    else:\n",
        "      return X\n",
        "  \n",
        "  def compute_output_shape (self, batch_input_shape):\n",
        "    return batch_input_shape\n"
      ],
      "execution_count": 6,
      "outputs": []
    }
  ]
}