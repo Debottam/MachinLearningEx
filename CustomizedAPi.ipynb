{
  "nbformat": 4,
  "nbformat_minor": 0,
  "metadata": {
    "colab": {
      "name": "CustomizedAPi.ipynb",
      "provenance": [],
      "authorship_tag": "ABX9TyP4/Bwxjf5Xz+mIQkf+BoIC",
      "include_colab_link": true
    },
    "kernelspec": {
      "name": "python3",
      "display_name": "Python 3"
    }
  },
  "cells": [
    {
      "cell_type": "markdown",
      "metadata": {
        "id": "view-in-github",
        "colab_type": "text"
      },
      "source": [
        "<a href=\"https://colab.research.google.com/github/Debottam/MachinLearningEx/blob/master/CustomizedAPi.ipynb\" target=\"_parent\"><img src=\"https://colab.research.google.com/assets/colab-badge.svg\" alt=\"Open In Colab\"/></a>"
      ]
    },
    {
      "cell_type": "code",
      "metadata": {
        "id": "yGyZ6qXlVTLE",
        "colab_type": "code",
        "colab": {
          "base_uri": "https://localhost:8080/",
          "height": 51
        },
        "outputId": "9e86d9cd-0b3e-4154-d6af-5594e4218a07"
      },
      "source": [
        "import tensorflow as tf\n",
        "import tensorflow.keras as keras\n",
        "import matplotlib.pyplot as plt\n",
        "import numpy as np\n",
        "\n",
        "print(\"tf version: \", tf.__version__)\n",
        "print(\"keras version: \", keras.__version__)"
      ],
      "execution_count": 1,
      "outputs": [
        {
          "output_type": "stream",
          "text": [
            "tf version:  2.3.0\n",
            "keras version:  2.4.0\n"
          ],
          "name": "stdout"
        }
      ]
    },
    {
      "cell_type": "code",
      "metadata": {
        "id": "8y7LwgHLWPby",
        "colab_type": "code",
        "colab": {
          "base_uri": "https://localhost:8080/",
          "height": 51
        },
        "outputId": "daadc6ba-bc2b-436f-d69a-b50f2675224f"
      },
      "source": [
        "(X_train, Y_train), (X_test, Y_test) = keras.datasets.mnist.load_data()"
      ],
      "execution_count": 2,
      "outputs": [
        {
          "output_type": "stream",
          "text": [
            "Downloading data from https://storage.googleapis.com/tensorflow/tf-keras-datasets/mnist.npz\n",
            "11493376/11490434 [==============================] - 0s 0us/step\n"
          ],
          "name": "stdout"
        }
      ]
    },
    {
      "cell_type": "code",
      "metadata": {
        "id": "g0f8NClgZnGT",
        "colab_type": "code",
        "colab": {
          "base_uri": "https://localhost:8080/",
          "height": 34
        },
        "outputId": "1704748e-d4c3-4d8c-eb49-3bace4ad5271"
      },
      "source": [
        "X_train.shape\n",
        "Y_train.shape"
      ],
      "execution_count": 3,
      "outputs": [
        {
          "output_type": "execute_result",
          "data": {
            "text/plain": [
              "(60000,)"
            ]
          },
          "metadata": {
            "tags": []
          },
          "execution_count": 3
        }
      ]
    },
    {
      "cell_type": "code",
      "metadata": {
        "id": "5ju4mkgvgu3y",
        "colab_type": "code",
        "colab": {
          "base_uri": "https://localhost:8080/",
          "height": 34
        },
        "outputId": "a5aab324-20bc-4718-e7c6-7b2af8daaf3a"
      },
      "source": [
        "Y_train = np.array(Y_train).astype(np.float32)\n",
        "Y_test = np.array(Y_test).astype(np.float32)\n",
        "Y_train"
      ],
      "execution_count": 57,
      "outputs": [
        {
          "output_type": "execute_result",
          "data": {
            "text/plain": [
              "array([5., 0., 4., ..., 5., 6., 8.], dtype=float32)"
            ]
          },
          "metadata": {
            "tags": []
          },
          "execution_count": 57
        }
      ]
    },
    {
      "cell_type": "code",
      "metadata": {
        "id": "W25AgnCkagVS",
        "colab_type": "code",
        "colab": {}
      },
      "source": [
        "#preprocessing\n",
        "X_train = X_train/255.\n",
        "X_test = X_test/255."
      ],
      "execution_count": 5,
      "outputs": []
    },
    {
      "cell_type": "code",
      "metadata": {
        "id": "ctGFpj0iZA3R",
        "colab_type": "code",
        "colab": {}
      },
      "source": [
        "model = keras.Sequential([\n",
        "                          keras.layers.Flatten(input_shape=[28,28]),\n",
        "                          keras.layers.Dense(32, activation='relu'),\n",
        "                          keras.layers.Dense(16, activation='relu'),\n",
        "                          keras.layers.Dense(8, activation='relu'),\n",
        "                          keras.layers.Dense(1, activation='relu')\n",
        "])\n",
        "\n",
        "model.compile(optimizer='adam', loss = 'mse', metrics=['accuracy'])"
      ],
      "execution_count": 6,
      "outputs": []
    },
    {
      "cell_type": "code",
      "metadata": {
        "id": "qeS7uyZxe_a5",
        "colab_type": "code",
        "colab": {
          "base_uri": "https://localhost:8080/",
          "height": 323
        },
        "outputId": "029107cd-04e4-4aa3-f229-eb0bef4c18f0"
      },
      "source": [
        "model.summary()"
      ],
      "execution_count": 7,
      "outputs": [
        {
          "output_type": "stream",
          "text": [
            "Model: \"sequential\"\n",
            "_________________________________________________________________\n",
            "Layer (type)                 Output Shape              Param #   \n",
            "=================================================================\n",
            "flatten (Flatten)            (None, 784)               0         \n",
            "_________________________________________________________________\n",
            "dense (Dense)                (None, 32)                25120     \n",
            "_________________________________________________________________\n",
            "dense_1 (Dense)              (None, 16)                528       \n",
            "_________________________________________________________________\n",
            "dense_2 (Dense)              (None, 8)                 136       \n",
            "_________________________________________________________________\n",
            "dense_3 (Dense)              (None, 1)                 9         \n",
            "=================================================================\n",
            "Total params: 25,793\n",
            "Trainable params: 25,793\n",
            "Non-trainable params: 0\n",
            "_________________________________________________________________\n"
          ],
          "name": "stdout"
        }
      ]
    },
    {
      "cell_type": "code",
      "metadata": {
        "id": "vi7CmghPccRk",
        "colab_type": "code",
        "colab": {
          "base_uri": "https://localhost:8080/",
          "height": 697
        },
        "outputId": "2ff09b2e-fd5e-4a24-e614-034320d47847"
      },
      "source": [
        "history = model.fit(X_train, Y_train, epochs=20)"
      ],
      "execution_count": 8,
      "outputs": [
        {
          "output_type": "stream",
          "text": [
            "Epoch 1/20\n",
            "1875/1875 [==============================] - 3s 1ms/step - loss: 3.5530 - accuracy: 0.1719\n",
            "Epoch 2/20\n",
            "1875/1875 [==============================] - 3s 1ms/step - loss: 1.2018 - accuracy: 0.1946\n",
            "Epoch 3/20\n",
            "1875/1875 [==============================] - 3s 1ms/step - loss: 1.0334 - accuracy: 0.1978\n",
            "Epoch 4/20\n",
            "1875/1875 [==============================] - 3s 1ms/step - loss: 0.9361 - accuracy: 0.2005\n",
            "Epoch 5/20\n",
            "1875/1875 [==============================] - 3s 1ms/step - loss: 0.8463 - accuracy: 0.2009\n",
            "Epoch 6/20\n",
            "1875/1875 [==============================] - 3s 1ms/step - loss: 0.7831 - accuracy: 0.2013\n",
            "Epoch 7/20\n",
            "1875/1875 [==============================] - 2s 1ms/step - loss: 0.7395 - accuracy: 0.2022\n",
            "Epoch 8/20\n",
            "1875/1875 [==============================] - 2s 1ms/step - loss: 0.7066 - accuracy: 0.2031\n",
            "Epoch 9/20\n",
            "1875/1875 [==============================] - 2s 1ms/step - loss: 0.6774 - accuracy: 0.2036\n",
            "Epoch 10/20\n",
            "1875/1875 [==============================] - 2s 1ms/step - loss: 0.6444 - accuracy: 0.2039\n",
            "Epoch 11/20\n",
            "1875/1875 [==============================] - 2s 1ms/step - loss: 0.6158 - accuracy: 0.2043\n",
            "Epoch 12/20\n",
            "1875/1875 [==============================] - 2s 1ms/step - loss: 0.5935 - accuracy: 0.2047\n",
            "Epoch 13/20\n",
            "1875/1875 [==============================] - 3s 1ms/step - loss: 0.5719 - accuracy: 0.2048\n",
            "Epoch 14/20\n",
            "1875/1875 [==============================] - 2s 1ms/step - loss: 0.5495 - accuracy: 0.2044\n",
            "Epoch 15/20\n",
            "1875/1875 [==============================] - 3s 1ms/step - loss: 0.5281 - accuracy: 0.2056\n",
            "Epoch 16/20\n",
            "1875/1875 [==============================] - 2s 1ms/step - loss: 0.5167 - accuracy: 0.2052\n",
            "Epoch 17/20\n",
            "1875/1875 [==============================] - 2s 1ms/step - loss: 0.4913 - accuracy: 0.2054\n",
            "Epoch 18/20\n",
            "1875/1875 [==============================] - 3s 1ms/step - loss: 0.4797 - accuracy: 0.2058\n",
            "Epoch 19/20\n",
            "1875/1875 [==============================] - 2s 1ms/step - loss: 0.4689 - accuracy: 0.2063\n",
            "Epoch 20/20\n",
            "1875/1875 [==============================] - 2s 1ms/step - loss: 0.4629 - accuracy: 0.2063\n"
          ],
          "name": "stdout"
        }
      ]
    },
    {
      "cell_type": "code",
      "metadata": {
        "id": "YlF_K8SnmQDd",
        "colab_type": "code",
        "colab": {
          "base_uri": "https://localhost:8080/",
          "height": 34
        },
        "outputId": "cf4e7ee2-0b72-42a6-8bfd-30170c427519"
      },
      "source": [
        "X = X_test[0]\n",
        "X.shape\n",
        "X = X.reshape(1,28,28)\n",
        "X.shape"
      ],
      "execution_count": null,
      "outputs": [
        {
          "output_type": "execute_result",
          "data": {
            "text/plain": [
              "(1, 28, 28)"
            ]
          },
          "metadata": {
            "tags": []
          },
          "execution_count": 65
        }
      ]
    },
    {
      "cell_type": "code",
      "metadata": {
        "id": "vEnTn7ovn1wi",
        "colab_type": "code",
        "colab": {
          "base_uri": "https://localhost:8080/",
          "height": 34
        },
        "outputId": "d9ad4852-55b8-4ee7-c5a2-c5dbb91b9846"
      },
      "source": [
        "model.predict(X)"
      ],
      "execution_count": null,
      "outputs": [
        {
          "output_type": "execute_result",
          "data": {
            "text/plain": [
              "array([[6.7597446]], dtype=float32)"
            ]
          },
          "metadata": {
            "tags": []
          },
          "execution_count": 66
        }
      ]
    },
    {
      "cell_type": "code",
      "metadata": {
        "id": "iMcMEcZ-n9z9",
        "colab_type": "code",
        "colab": {
          "base_uri": "https://localhost:8080/",
          "height": 34
        },
        "outputId": "898d7a29-d68e-463c-a3c5-71aa53fcf48f"
      },
      "source": [
        "Y_test[0]"
      ],
      "execution_count": null,
      "outputs": [
        {
          "output_type": "execute_result",
          "data": {
            "text/plain": [
              "7"
            ]
          },
          "metadata": {
            "tags": []
          },
          "execution_count": 67
        }
      ]
    },
    {
      "cell_type": "code",
      "metadata": {
        "id": "bP2vKrIO-P-K",
        "colab_type": "code",
        "colab": {
          "base_uri": "https://localhost:8080/",
          "height": 34
        },
        "outputId": "74650dce-1410-48e9-b5b5-6e20ee93953b"
      },
      "source": [
        "history.history.keys()"
      ],
      "execution_count": null,
      "outputs": [
        {
          "output_type": "execute_result",
          "data": {
            "text/plain": [
              "dict_keys(['loss', 'accuracy'])"
            ]
          },
          "metadata": {
            "tags": []
          },
          "execution_count": 71
        }
      ]
    },
    {
      "cell_type": "code",
      "metadata": {
        "id": "U9-YXYog-d-m",
        "colab_type": "code",
        "colab": {
          "base_uri": "https://localhost:8080/",
          "height": 312
        },
        "outputId": "733791b3-a6e9-4b62-9d04-a493d7e76182"
      },
      "source": [
        "plt.plot(history.history['accuracy'])\n",
        "plt.xlabel('epochs')\n",
        "plt.ylabel('accuracy')\n",
        "plt.title('model accuracy')\n",
        "plt.legend(['training'])\n",
        "plt.show"
      ],
      "execution_count": null,
      "outputs": [
        {
          "output_type": "execute_result",
          "data": {
            "text/plain": [
              "<function matplotlib.pyplot.show>"
            ]
          },
          "metadata": {
            "tags": []
          },
          "execution_count": 72
        },
        {
          "output_type": "display_data",
          "data": {
            "image/png": "[encoded data removed]",
            "text/plain": [
              "<Figure size 432x288 with 1 Axes>"
            ]
          },
          "metadata": {
            "tags": [],
            "needs_background": "light"
          }
        }
      ]
    },
    {
      "cell_type": "code",
      "metadata": {
        "id": "MaWm2TNhB7iZ",
        "colab_type": "code",
        "colab": {
          "base_uri": "https://localhost:8080/",
          "height": 312
        },
        "outputId": "bca857bb-9f3f-4fc7-95f4-ea2540584437"
      },
      "source": [
        "plt.plot(history.history['loss'])\n",
        "plt.xlabel('epochs')\n",
        "plt.ylabel('loss')\n",
        "plt.title('model loss')\n",
        "plt.legend(['training'])\n",
        "plt.show"
      ],
      "execution_count": null,
      "outputs": [
        {
          "output_type": "execute_result",
          "data": {
            "text/plain": [
              "<function matplotlib.pyplot.show>"
            ]
          },
          "metadata": {
            "tags": []
          },
          "execution_count": 73
        },
        {
          "output_type": "display_data",
          "data": {
            "image/png": "[encoded data removed]",
            "text/plain": [
              "<Figure size 432x288 with 1 Axes>"
            ]
          },
          "metadata": {
            "tags": [],
            "needs_background": "light"
          }
        }
      ]
    },
    {
      "cell_type": "code",
      "metadata": {
        "id": "qBn1_CppCHAd",
        "colab_type": "code",
        "colab": {
          "base_uri": "https://localhost:8080/",
          "height": 88
        },
        "outputId": "f51ef5fa-bc93-45eb-baa8-1e166949f295"
      },
      "source": [
        "model.evaluate(X_test,Y_test)"
      ],
      "execution_count": null,
      "outputs": [
        {
          "output_type": "stream",
          "text": [
            "  1/313 [..............................] - ETA: 0s - loss: 0.0544 - accuracy: 0.3125WARNING:tensorflow:Callbacks method `on_test_batch_end` is slow compared to the batch time (batch time: 0.0013s vs `on_test_batch_end` time: 0.0028s). Check your callbacks.\n",
            "313/313 [==============================] - 0s 1ms/step - loss: 0.5316 - accuracy: 0.2066\n"
          ],
          "name": "stdout"
        },
        {
          "output_type": "execute_result",
          "data": {
            "text/plain": [
              "[0.531632661819458, 0.20659999549388885]"
            ]
          },
          "metadata": {
            "tags": []
          },
          "execution_count": 74
        }
      ]
    },
    {
      "cell_type": "code",
      "metadata": {
        "id": "vPS9bly6TsTR",
        "colab_type": "code",
        "colab": {
          "base_uri": "https://localhost:8080/",
          "height": 34
        },
        "outputId": "e36ccaa6-6392-495c-e93d-4be0bed43861"
      },
      "source": [
        "tf.square([-2., 0., 3.])"
      ],
      "execution_count": 10,
      "outputs": [
        {
          "output_type": "execute_result",
          "data": {
            "text/plain": [
              "<tf.Tensor: shape=(3,), dtype=float32, numpy=array([4., 0., 9.], dtype=float32)>"
            ]
          },
          "metadata": {
            "tags": []
          },
          "execution_count": 10
        }
      ]
    },
    {
      "cell_type": "code",
      "metadata": {
        "id": "LaSxaOFfC_Fl",
        "colab_type": "code",
        "colab": {}
      },
      "source": [
        "def mse_fn(y_true, y_pred):\n",
        "  #print(\"y_true: \", y_true.shape)\n",
        "  #print(\"y_pred: \", y_pred.shape)\n",
        "  #print(\"y_true: \", y_true)\n",
        "  #print(\"y_pred: \", y_pred)\n",
        "  error = y_true - y_pred\n",
        "  #print(\"error: \", error)\n",
        "  mserror = tf.reduce_mean(tf.square(error))\n",
        "  return mserror"
      ],
      "execution_count": 120,
      "outputs": []
    },
    {
      "cell_type": "code",
      "metadata": {
        "id": "a9q_rygNnCzw",
        "colab_type": "code",
        "colab": {}
      },
      "source": [
        "class mse_fn_class(keras.losses.Loss):\n",
        "  def __init__(self, **kwargs):\n",
        "    super().__init__(**kwargs)\n",
        "  def call(self, y_true, y_pred):\n",
        "    error = y_true - y_pred\n",
        "    mserror = tf.reduce_mean(tf.square(error))\n",
        "    return mserror"
      ],
      "execution_count": 26,
      "outputs": []
    },
    {
      "cell_type": "code",
      "metadata": {
        "id": "_JivQRYpMxWV",
        "colab_type": "code",
        "colab": {}
      },
      "source": [
        "class MyDense(keras.layers.Layer):\n",
        "  def __init__(self, units, activation=None, **kwargs):\n",
        "    super().__init__(**kwargs)\n",
        "    self.units = units\n",
        "    self.activation = keras.activations.get(activation)\n",
        "  \n",
        "  def build(self, batch_input_shape):\n",
        "    self.kernel = self.add_weight(name = \"kernel\", shape=[batch_input_shape[-1], self.units], initializer=\"glorot_normal\")\n",
        "    self.bias = self.add_weight(name = \"bias\", shape=[self.units], initializer = 'zeros')\n",
        "    super().build(batch_input_shape)\n",
        "\n",
        "  def call(self, X):\n",
        "    return self.activation(X @ self.kernel + self.bias)\n",
        "  \n",
        "  def compute_output_shape(self, batch_input_shape):\n",
        "    return tf.TensorShape(batch_input_shape.as_list()[:-1]+[self.units])\n",
        "  \n",
        "  def get_config(self):\n",
        "    base_config = super().get_config()\n",
        "    return {**base_config, \"units\":self.units, \"activation\": keras.activations.serialize(self.activation)}"
      ],
      "execution_count": 12,
      "outputs": []
    },
    {
      "cell_type": "code",
      "metadata": {
        "id": "1YA4blMXe-lk",
        "colab_type": "code",
        "colab": {}
      },
      "source": [
        "class DNN_model(keras.Model):\n",
        "  def __init__(self, output_dim, **kwargs):\n",
        "    super().__init__(**kwargs)\n",
        "    self.hidden1 = keras.layers.Flatten(input_shape = [28, 28])\n",
        "    self.hidden2 = MyDense(32, activation='relu')\n",
        "    self.hidden3 = MyDense(16, activation='relu')\n",
        "    self.hidden4 = MyDense(8, activation='relu')\n",
        "    self.hidden5 = MyDense(output_dim, activation='relu')\n",
        "  \n",
        "  def call(self, inputs):\n",
        "    Z = self.hidden1(inputs)\n",
        "    Z = self.hidden2(Z)\n",
        "    Z = self.hidden3(Z)\n",
        "    Z = self.hidden4(Z)\n",
        "    Z = self.hidden5(Z)\n",
        "    return Z"
      ],
      "execution_count": 122,
      "outputs": []
    },
    {
      "cell_type": "code",
      "metadata": {
        "id": "UL7nbF4miGip",
        "colab_type": "code",
        "colab": {}
      },
      "source": [
        "model_cust = DNN_model(1)"
      ],
      "execution_count": 74,
      "outputs": []
    },
    {
      "cell_type": "code",
      "metadata": {
        "id": "sBj-VHGpia5h",
        "colab_type": "code",
        "colab": {}
      },
      "source": [
        "model_cust.compile(optimizer='adam', loss = 'mse', metrics=['accuracy'])"
      ],
      "execution_count": null,
      "outputs": []
    },
    {
      "cell_type": "code",
      "metadata": {
        "id": "usj10RuDjIYF",
        "colab_type": "code",
        "colab": {
          "base_uri": "https://localhost:8080/",
          "height": 323
        },
        "outputId": "9306c922-4226-4212-cbd0-a9b9a65ef892"
      },
      "source": [
        "input_shape = (None, 28, 28)\n",
        "model_cust.build(input_shape)\n",
        "model_cust.summary()"
      ],
      "execution_count": 75,
      "outputs": [
        {
          "output_type": "stream",
          "text": [
            "Model: \"dnn_model_14\"\n",
            "_________________________________________________________________\n",
            "Layer (type)                 Output Shape              Param #   \n",
            "=================================================================\n",
            "flatten_15 (Flatten)         multiple                  0         \n",
            "_________________________________________________________________\n",
            "my_dense_56 (MyDense)        multiple                  25120     \n",
            "_________________________________________________________________\n",
            "my_dense_57 (MyDense)        multiple                  528       \n",
            "_________________________________________________________________\n",
            "my_dense_58 (MyDense)        multiple                  136       \n",
            "_________________________________________________________________\n",
            "my_dense_59 (MyDense)        multiple                  9         \n",
            "=================================================================\n",
            "Total params: 25,793\n",
            "Trainable params: 25,793\n",
            "Non-trainable params: 0\n",
            "_________________________________________________________________\n"
          ],
          "name": "stdout"
        }
      ]
    },
    {
      "cell_type": "code",
      "metadata": {
        "id": "Xvo6QmDaiydR",
        "colab_type": "code",
        "colab": {
          "base_uri": "https://localhost:8080/",
          "height": 697
        },
        "outputId": "447814a0-47c4-47b3-e3db-d94cdafbe08f"
      },
      "source": [
        "history = model_cust.fit(X_train, Y_train, epochs=20)"
      ],
      "execution_count": null,
      "outputs": [
        {
          "output_type": "stream",
          "text": [
            "Epoch 1/20\n",
            "1875/1875 [==============================] - 3s 1ms/step - loss: 2.3923 - accuracy: 0.1678\n",
            "Epoch 2/20\n",
            "1875/1875 [==============================] - 3s 1ms/step - loss: 1.0485 - accuracy: 0.1944\n",
            "Epoch 3/20\n",
            "1875/1875 [==============================] - 2s 1ms/step - loss: 0.8358 - accuracy: 0.1975\n",
            "Epoch 4/20\n",
            "1875/1875 [==============================] - 3s 1ms/step - loss: 0.7230 - accuracy: 0.1996\n",
            "Epoch 5/20\n",
            "1875/1875 [==============================] - 3s 1ms/step - loss: 0.6424 - accuracy: 0.2002\n",
            "Epoch 6/20\n",
            "1875/1875 [==============================] - 3s 1ms/step - loss: 0.5815 - accuracy: 0.2010\n",
            "Epoch 7/20\n",
            "1875/1875 [==============================] - 3s 1ms/step - loss: 0.5249 - accuracy: 0.2023\n",
            "Epoch 8/20\n",
            "1875/1875 [==============================] - 3s 1ms/step - loss: 0.4864 - accuracy: 0.2027\n",
            "Epoch 9/20\n",
            "1875/1875 [==============================] - 3s 1ms/step - loss: 0.4544 - accuracy: 0.2030\n",
            "Epoch 10/20\n",
            "1875/1875 [==============================] - 3s 1ms/step - loss: 0.4198 - accuracy: 0.2033\n",
            "Epoch 11/20\n",
            "1875/1875 [==============================] - 3s 1ms/step - loss: 0.3959 - accuracy: 0.2035\n",
            "Epoch 12/20\n",
            "1875/1875 [==============================] - 3s 1ms/step - loss: 0.3754 - accuracy: 0.2047\n",
            "Epoch 13/20\n",
            "1875/1875 [==============================] - 3s 1ms/step - loss: 0.3595 - accuracy: 0.2041\n",
            "Epoch 14/20\n",
            "1875/1875 [==============================] - 3s 1ms/step - loss: 0.3371 - accuracy: 0.2051\n",
            "Epoch 15/20\n",
            "1875/1875 [==============================] - 3s 1ms/step - loss: 0.3283 - accuracy: 0.2052\n",
            "Epoch 16/20\n",
            "1875/1875 [==============================] - 3s 1ms/step - loss: 0.3132 - accuracy: 0.2051\n",
            "Epoch 17/20\n",
            "1875/1875 [==============================] - 3s 1ms/step - loss: 0.2982 - accuracy: 0.2050\n",
            "Epoch 18/20\n",
            "1875/1875 [==============================] - 3s 1ms/step - loss: 0.2818 - accuracy: 0.2057\n",
            "Epoch 19/20\n",
            "1875/1875 [==============================] - 3s 1ms/step - loss: 0.2715 - accuracy: 0.2062\n",
            "Epoch 20/20\n",
            "1875/1875 [==============================] - 2s 1ms/step - loss: 0.2706 - accuracy: 0.2062\n"
          ],
          "name": "stdout"
        }
      ]
    },
    {
      "cell_type": "code",
      "metadata": {
        "id": "ndv-8X6DkPcA",
        "colab_type": "code",
        "colab": {
          "base_uri": "https://localhost:8080/",
          "height": 51
        },
        "outputId": "6a4b4270-33bb-4b22-8a82-dcf8cde13c83"
      },
      "source": [
        "model_cust.evaluate(X_test,Y_test)"
      ],
      "execution_count": null,
      "outputs": [
        {
          "output_type": "stream",
          "text": [
            "313/313 [==============================] - 0s 943us/step - loss: 0.5641 - accuracy: 0.2071\n"
          ],
          "name": "stdout"
        },
        {
          "output_type": "execute_result",
          "data": {
            "text/plain": [
              "[0.5641304850578308, 0.2071000039577484]"
            ]
          },
          "metadata": {
            "tags": []
          },
          "execution_count": 99
        }
      ]
    },
    {
      "cell_type": "code",
      "metadata": {
        "id": "GywQcr1VkeoK",
        "colab_type": "code",
        "colab": {}
      },
      "source": [
        "model_cust_loss = DNN_model(1)\n",
        "#model_cust_loss.compile(optimizer='adam', loss = mse_fn, metrics=['accuracy'])"
      ],
      "execution_count": 123,
      "outputs": []
    },
    {
      "cell_type": "code",
      "metadata": {
        "id": "fAFWjPGykvno",
        "colab_type": "code",
        "colab": {
          "base_uri": "https://localhost:8080/",
          "height": 323
        },
        "outputId": "6dadfa44-543f-4bc8-a01c-168351d6b04e"
      },
      "source": [
        "input_shape = (None, 28, 28)\n",
        "model_cust_loss.build(input_shape)\n",
        "model_cust_loss.summary()"
      ],
      "execution_count": 114,
      "outputs": [
        {
          "output_type": "stream",
          "text": [
            "Model: \"dnn_model_16\"\n",
            "_________________________________________________________________\n",
            "Layer (type)                 Output Shape              Param #   \n",
            "=================================================================\n",
            "flatten_17 (Flatten)         multiple                  0         \n",
            "_________________________________________________________________\n",
            "my_dense_64 (MyDense)        multiple                  25120     \n",
            "_________________________________________________________________\n",
            "my_dense_65 (MyDense)        multiple                  528       \n",
            "_________________________________________________________________\n",
            "my_dense_66 (MyDense)        multiple                  136       \n",
            "_________________________________________________________________\n",
            "my_dense_67 (MyDense)        multiple                  9         \n",
            "=================================================================\n",
            "Total params: 25,793\n",
            "Trainable params: 25,793\n",
            "Non-trainable params: 0\n",
            "_________________________________________________________________\n"
          ],
          "name": "stdout"
        }
      ]
    },
    {
      "cell_type": "code",
      "metadata": {
        "id": "CGuLDsZhlC4j",
        "colab_type": "code",
        "colab": {
          "base_uri": "https://localhost:8080/",
          "height": 697
        },
        "outputId": "8bfe834b-aa32-421c-cd0d-7e40ded0e605"
      },
      "source": [
        "history = model_cust_loss.fit(X_train, Y_train, epochs=20 , batch_size=32)"
      ],
      "execution_count": 115,
      "outputs": [
        {
          "output_type": "stream",
          "text": [
            "Epoch 1/20\n",
            "1875/1875 [==============================] - 3s 1ms/step - loss: 2.1894 - accuracy: 0.1825\n",
            "Epoch 2/20\n",
            "1875/1875 [==============================] - 3s 1ms/step - loss: 0.9855 - accuracy: 0.2002\n",
            "Epoch 3/20\n",
            "1875/1875 [==============================] - 3s 1ms/step - loss: 0.7960 - accuracy: 0.2022\n",
            "Epoch 4/20\n",
            "1875/1875 [==============================] - 3s 1ms/step - loss: 0.6821 - accuracy: 0.2034\n",
            "Epoch 5/20\n",
            "1875/1875 [==============================] - 3s 1ms/step - loss: 0.6060 - accuracy: 0.2043\n",
            "Epoch 6/20\n",
            "1875/1875 [==============================] - 3s 1ms/step - loss: 0.5428 - accuracy: 0.2048\n",
            "Epoch 7/20\n",
            "1875/1875 [==============================] - 3s 1ms/step - loss: 0.4893 - accuracy: 0.2061\n",
            "Epoch 8/20\n",
            "1875/1875 [==============================] - 3s 1ms/step - loss: 0.4588 - accuracy: 0.2061\n",
            "Epoch 9/20\n",
            "1875/1875 [==============================] - 3s 1ms/step - loss: 0.4237 - accuracy: 0.2068\n",
            "Epoch 10/20\n",
            "1875/1875 [==============================] - 3s 1ms/step - loss: 0.3831 - accuracy: 0.2069\n",
            "Epoch 11/20\n",
            "1875/1875 [==============================] - 3s 1ms/step - loss: 0.3652 - accuracy: 0.2075\n",
            "Epoch 12/20\n",
            "1875/1875 [==============================] - 3s 1ms/step - loss: 0.3424 - accuracy: 0.2077\n",
            "Epoch 13/20\n",
            "1875/1875 [==============================] - 3s 1ms/step - loss: 0.3213 - accuracy: 0.2081\n",
            "Epoch 14/20\n",
            "1875/1875 [==============================] - 3s 1ms/step - loss: 0.2995 - accuracy: 0.2086\n",
            "Epoch 15/20\n",
            "1875/1875 [==============================] - 3s 1ms/step - loss: 0.2899 - accuracy: 0.2087\n",
            "Epoch 16/20\n",
            "1875/1875 [==============================] - 3s 1ms/step - loss: 0.2722 - accuracy: 0.2086\n",
            "Epoch 17/20\n",
            "1875/1875 [==============================] - 3s 1ms/step - loss: 0.2697 - accuracy: 0.2087\n",
            "Epoch 18/20\n",
            "1875/1875 [==============================] - 3s 1ms/step - loss: 0.2548 - accuracy: 0.2088\n",
            "Epoch 19/20\n",
            "1875/1875 [==============================] - 3s 1ms/step - loss: 0.2450 - accuracy: 0.2090\n",
            "Epoch 20/20\n",
            "1875/1875 [==============================] - 3s 1ms/step - loss: 0.2359 - accuracy: 0.2090\n"
          ],
          "name": "stdout"
        }
      ]
    },
    {
      "cell_type": "code",
      "metadata": {
        "id": "tkEOnxpS7kgR",
        "colab_type": "code",
        "colab": {
          "base_uri": "https://localhost:8080/",
          "height": 51
        },
        "outputId": "efe8611a-7b30-406f-ca8e-fb8235704d6b"
      },
      "source": [
        "model_cust_loss.evaluate(X_test,Y_test)"
      ],
      "execution_count": 66,
      "outputs": [
        {
          "output_type": "stream",
          "text": [
            "313/313 [==============================] - 0s 1ms/step - loss: 0.6128 - accuracy: 0.2078\n"
          ],
          "name": "stdout"
        },
        {
          "output_type": "execute_result",
          "data": {
            "text/plain": [
              "[0.6127731204032898, 0.2078000009059906]"
            ]
          },
          "metadata": {
            "tags": []
          },
          "execution_count": 66
        }
      ]
    },
    {
      "cell_type": "code",
      "metadata": {
        "id": "0NXSmdun8Ppq",
        "colab_type": "code",
        "colab": {}
      },
      "source": [
        "# Custom loop\n",
        "\n",
        "def random_batch(X, y, batch_size=32):\n",
        "  idx = np.random.randint(len(X), size=batch_size)\n",
        "  return X[idx], y[idx]\n",
        "\n",
        "def print_status_bar(iteration, total, loss, metrics=None):\n",
        "  metrics= \"-\".join([\"{:.4f}\".format(m.result()) for m in [loss]+(metrics or [])])\n",
        "  end = \"\" if iteration < total else \"\\n\"\n",
        "  print(\"\\r{}/{}-\".format(iteration, total)+metrics,end=end)"
      ],
      "execution_count": 79,
      "outputs": []
    },
    {
      "cell_type": "code",
      "metadata": {
        "id": "bvpTipCiAMT5",
        "colab_type": "code",
        "colab": {
          "base_uri": "https://localhost:8080/",
          "height": 34
        },
        "outputId": "3906fed8-3949-405c-bab1-0c48f315f22f"
      },
      "source": [
        "n_epochs = 30\n",
        "batch_size = 32\n",
        "n_steps = len(X_train)//batch_size\n",
        "optimizer = keras.optimizers.Adam()\n",
        "loss_fn = keras.losses.mean_squared_error \n",
        "mean_loss = keras.metrics.Mean() \n",
        "metrics = [keras.metrics.MeanAbsoluteError()]\n",
        "print(\"n_steps: \", n_steps)"
      ],
      "execution_count": 130,
      "outputs": [
        {
          "output_type": "stream",
          "text": [
            "n_steps:  1875\n"
          ],
          "name": "stdout"
        }
      ]
    },
    {
      "cell_type": "code",
      "metadata": {
        "id": "k32ocFT1rHQN",
        "colab_type": "code",
        "colab": {}
      },
      "source": [
        "def grad(model, inputs, targets, wd):\n",
        "    with tf.GradientTape() as tape:\n",
        "        loss_value = loss(model, inputs, targets, wd)\n",
        "    return loss_value, tape.gradient(loss_value, model.trainable_variables)"
      ],
      "execution_count": null,
      "outputs": []
    },
    {
      "cell_type": "code",
      "metadata": {
        "id": "VO4v35NhBiQF",
        "colab_type": "code",
        "colab": {
          "base_uri": "https://localhost:8080/",
          "height": 249
        },
        "outputId": "5abd04a6-3465-4718-acd6-60bea0b81f63"
      },
      "source": [
        "epoch_losses = []\n",
        "for epoch in range (1,n_epochs+1):\n",
        "  print(\"Epoch {}/{}\".format(epoch, n_epochs))\n",
        "  batch_losses = []\n",
        "  for step in range(1, n_steps+1):\n",
        "    #print(\"step:\",step)\n",
        "    X_batch, Y_batch = random_batch(X_train, Y_train, batch_size = 32)\n",
        "    with tf.GradientTape() as tape:\n",
        "      Y_pred = model_cust_loss(X_batch, training=True)\n",
        "      current_loss = mse_fn(Y_batch, Y_pred) \n",
        "      #print(\"loss shape: \", loss.shape)\n",
        "      #loss_reduced = tf.reduce_mean(mse_fn(Y_batch,Y_pred))\n",
        "      #print(\"loss_reduced: \", loss_reduced)\n",
        "      gradients = tape.gradient(current_loss, model_cust_loss.trainable_variables)\n",
        "    batch_losses.append(current_loss)\n",
        "    current_loss.reset_states()\n",
        "    optimizer.apply_gradients(zip(gradients,model_cust_loss.trainable_variables))\n",
        "  epoch_losses.append(np.mean(batch_losses))\n",
        "  print(\"loss:\",epoch_losses[epoch-1])"
      ],
      "execution_count": 132,
      "outputs": [
        {
          "output_type": "stream",
          "text": [
            "Epoch 1/30\n"
          ],
          "name": "stdout"
        },
        {
          "output_type": "error",
          "ename": "AttributeError",
          "evalue": "ignored",
          "traceback": [
            "\u001b[0;31m---------------------------------------------------------------------------\u001b[0m",
            "\u001b[0;31mAttributeError\u001b[0m                            Traceback (most recent call last)",
            "\u001b[0;32m<ipython-input-132-645a41779e6a>\u001b[0m in \u001b[0;36m<module>\u001b[0;34m()\u001b[0m\n\u001b[1;32m     14\u001b[0m     \u001b[0mgradients\u001b[0m \u001b[0;34m=\u001b[0m \u001b[0mtape\u001b[0m\u001b[0;34m.\u001b[0m\u001b[0mgradient\u001b[0m\u001b[0;34m(\u001b[0m\u001b[0mcurrent_loss\u001b[0m\u001b[0;34m,\u001b[0m \u001b[0mmodel_cust_loss\u001b[0m\u001b[0;34m.\u001b[0m\u001b[0mtrainable_variables\u001b[0m\u001b[0;34m)\u001b[0m\u001b[0;34m\u001b[0m\u001b[0;34m\u001b[0m\u001b[0m\n\u001b[1;32m     15\u001b[0m     \u001b[0mbatch_losses\u001b[0m\u001b[0;34m.\u001b[0m\u001b[0mappend\u001b[0m\u001b[0;34m(\u001b[0m\u001b[0mcurrent_loss\u001b[0m\u001b[0;34m)\u001b[0m\u001b[0;34m\u001b[0m\u001b[0;34m\u001b[0m\u001b[0m\n\u001b[0;32m---> 16\u001b[0;31m     \u001b[0mcurrent_loss\u001b[0m\u001b[0;34m.\u001b[0m\u001b[0mreset_states\u001b[0m\u001b[0;34m(\u001b[0m\u001b[0;34m)\u001b[0m\u001b[0;34m\u001b[0m\u001b[0;34m\u001b[0m\u001b[0m\n\u001b[0m\u001b[1;32m     17\u001b[0m     \u001b[0moptimizer\u001b[0m\u001b[0;34m.\u001b[0m\u001b[0mapply_gradients\u001b[0m\u001b[0;34m(\u001b[0m\u001b[0mzip\u001b[0m\u001b[0;34m(\u001b[0m\u001b[0mgradients\u001b[0m\u001b[0;34m,\u001b[0m\u001b[0mmodel_cust_loss\u001b[0m\u001b[0;34m.\u001b[0m\u001b[0mtrainable_variables\u001b[0m\u001b[0;34m)\u001b[0m\u001b[0;34m)\u001b[0m\u001b[0;34m\u001b[0m\u001b[0;34m\u001b[0m\u001b[0m\n\u001b[1;32m     18\u001b[0m   \u001b[0mepoch_losses\u001b[0m\u001b[0;34m.\u001b[0m\u001b[0mappend\u001b[0m\u001b[0;34m(\u001b[0m\u001b[0mnp\u001b[0m\u001b[0;34m.\u001b[0m\u001b[0mmean\u001b[0m\u001b[0;34m(\u001b[0m\u001b[0mbatch_losses\u001b[0m\u001b[0;34m)\u001b[0m\u001b[0;34m)\u001b[0m\u001b[0;34m\u001b[0m\u001b[0;34m\u001b[0m\u001b[0m\n",
            "\u001b[0;31mAttributeError\u001b[0m: 'tensorflow.python.framework.ops.EagerTensor' object has no attribute 'reset_states'"
          ]
        }
      ]
    }
  ]
}