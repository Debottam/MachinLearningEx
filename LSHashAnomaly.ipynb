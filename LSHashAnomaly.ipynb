{
  "nbformat": 4,
  "nbformat_minor": 0,
  "metadata": {
    "colab": {
      "name": "Untitled3.ipynb",
      "provenance": [],
      "include_colab_link": true
    },
    "kernelspec": {
      "name": "python3",
      "display_name": "Python 3"
    }
  },
  "cells": [
    {
      "cell_type": "markdown",
      "metadata": {
        "id": "view-in-github",
        "colab_type": "text"
      },
      "source": [
        "<a href=\"https://colab.research.google.com/github/Debottam/MachinLearningEx/blob/master/LSHashAnomaly.ipynb\" target=\"_parent\"><img src=\"https://colab.research.google.com/assets/colab-badge.svg\" alt=\"Open In Colab\"/></a>"
      ]
    },
    {
      "cell_type": "code",
      "metadata": {
        "id": "tm1MXu46kpo1",
        "colab_type": "code",
        "outputId": "2834a242-c2ef-41a1-e20d-e234ad6ea59a",
        "colab": {
          "base_uri": "https://localhost:8080/",
          "height": 202
        }
      },
      "source": [
        "from keras.layers import Input, Dense\n",
        "from keras.models import Model\n",
        "from keras.optimizers import RMSprop\n",
        "from matplotlib import pyplot as plt\n",
        "\n",
        "# this is the size of our encoded representations\n",
        "encoding_dim = 32  # 32 floats -> compression of factor 24.5, assuming the input is 784 floats\n",
        "\n",
        "# this is our input placeholder\n",
        "input_img = Input(shape=(784,))\n",
        "# \"encoded\" is the encoded representation of the input\n",
        "encoded = Dense(encoding_dim, activation='relu')(input_img)\n",
        "# \"decoded\" is the lossy reconstruction of the input\n",
        "decoded = Dense(784, activation='sigmoid')(encoded)\n",
        "\n",
        "# this model maps an input to its reconstruction\n",
        "autoencoder = Model(input_img, decoded)"
      ],
      "execution_count": 2,
      "outputs": [
        {
          "output_type": "stream",
          "text": [
            "Using TensorFlow backend.\n"
          ],
          "name": "stderr"
        },
        {
          "output_type": "display_data",
          "data": {
            "text/html": [
              "<p style=\"color: red;\">\n",
              "The default version of TensorFlow in Colab will soon switch to TensorFlow 2.x.<br>\n",
              "We recommend you <a href=\"https://www.tensorflow.org/guide/migrate\" target=\"_blank\">upgrade</a> now \n",
              "or ensure your notebook will continue to use TensorFlow 1.x via the <code>%tensorflow_version 1.x</code> magic:\n",
              "<a href=\"https://colab.research.google.com/notebooks/tensorflow_version.ipynb\" target=\"_blank\">more info</a>.</p>\n"
            ],
            "text/plain": [
              "<IPython.core.display.HTML object>"
            ]
          },
          "metadata": {
            "tags": []
          }
        },
        {
          "output_type": "stream",
          "text": [
            "WARNING:tensorflow:From /usr/local/lib/python3.6/dist-packages/keras/backend/tensorflow_backend.py:66: The name tf.get_default_graph is deprecated. Please use tf.compat.v1.get_default_graph instead.\n",
            "\n",
            "WARNING:tensorflow:From /usr/local/lib/python3.6/dist-packages/keras/backend/tensorflow_backend.py:541: The name tf.placeholder is deprecated. Please use tf.compat.v1.placeholder instead.\n",
            "\n",
            "WARNING:tensorflow:From /usr/local/lib/python3.6/dist-packages/keras/backend/tensorflow_backend.py:4432: The name tf.random_uniform is deprecated. Please use tf.random.uniform instead.\n",
            "\n"
          ],
          "name": "stdout"
        }
      ]
    },
    {
      "cell_type": "code",
      "metadata": {
        "id": "fzsFe2YNlFI0",
        "colab_type": "code",
        "colab": {}
      },
      "source": [
        "# this model maps an input to its encoded representation\n",
        "encoder = Model(input_img, encoded)"
      ],
      "execution_count": 0,
      "outputs": []
    },
    {
      "cell_type": "code",
      "metadata": {
        "id": "uztUyFM3lQR4",
        "colab_type": "code",
        "colab": {}
      },
      "source": [
        "# create a placeholder for an encoded (32-dimensional) input\n",
        "encoded_input = Input(shape=(encoding_dim,))\n",
        "# retrieve the last layer of the autoencoder model\n",
        "decoder_layer = autoencoder.layers[-1]\n",
        "# create the decoder model\n",
        "decoder = Model(encoded_input, decoder_layer(encoded_input))"
      ],
      "execution_count": 0,
      "outputs": []
    },
    {
      "cell_type": "code",
      "metadata": {
        "id": "IJV0xBsRluZU",
        "colab_type": "code",
        "outputId": "bd79f6d3-06a5-41ad-9efd-8d3740ea8de1",
        "colab": {
          "base_uri": "https://localhost:8080/",
          "height": 71
        }
      },
      "source": [
        "autoencoder.compile(loss='mean_squared_error', optimizer = RMSprop())"
      ],
      "execution_count": 5,
      "outputs": [
        {
          "output_type": "stream",
          "text": [
            "WARNING:tensorflow:From /usr/local/lib/python3.6/dist-packages/keras/optimizers.py:793: The name tf.train.Optimizer is deprecated. Please use tf.compat.v1.train.Optimizer instead.\n",
            "\n"
          ],
          "name": "stdout"
        }
      ]
    },
    {
      "cell_type": "code",
      "metadata": {
        "id": "5E2XZYqll2Dz",
        "colab_type": "code",
        "outputId": "088fba4b-7fb4-45a8-f06f-2b47b1815488",
        "colab": {
          "base_uri": "https://localhost:8080/",
          "height": 255
        }
      },
      "source": [
        "autoencoder.summary()"
      ],
      "execution_count": 6,
      "outputs": [
        {
          "output_type": "stream",
          "text": [
            "Model: \"model_1\"\n",
            "_________________________________________________________________\n",
            "Layer (type)                 Output Shape              Param #   \n",
            "=================================================================\n",
            "input_1 (InputLayer)         (None, 784)               0         \n",
            "_________________________________________________________________\n",
            "dense_1 (Dense)              (None, 32)                25120     \n",
            "_________________________________________________________________\n",
            "dense_2 (Dense)              (None, 784)               25872     \n",
            "=================================================================\n",
            "Total params: 50,992\n",
            "Trainable params: 50,992\n",
            "Non-trainable params: 0\n",
            "_________________________________________________________________\n"
          ],
          "name": "stdout"
        }
      ]
    },
    {
      "cell_type": "code",
      "metadata": {
        "id": "qeYnfrbll7VX",
        "colab_type": "code",
        "outputId": "e11eeda2-6d6e-42e6-f156-774f7fa49f8b",
        "colab": {
          "base_uri": "https://localhost:8080/",
          "height": 221
        }
      },
      "source": [
        "encoder.summary()"
      ],
      "execution_count": 7,
      "outputs": [
        {
          "output_type": "stream",
          "text": [
            "Model: \"model_2\"\n",
            "_________________________________________________________________\n",
            "Layer (type)                 Output Shape              Param #   \n",
            "=================================================================\n",
            "input_1 (InputLayer)         (None, 784)               0         \n",
            "_________________________________________________________________\n",
            "dense_1 (Dense)              (None, 32)                25120     \n",
            "=================================================================\n",
            "Total params: 25,120\n",
            "Trainable params: 25,120\n",
            "Non-trainable params: 0\n",
            "_________________________________________________________________\n"
          ],
          "name": "stdout"
        }
      ]
    },
    {
      "cell_type": "code",
      "metadata": {
        "id": "WgfsxqZ_mAcc",
        "colab_type": "code",
        "outputId": "367f5c85-feb4-42de-907b-9db13ef8a662",
        "colab": {
          "base_uri": "https://localhost:8080/",
          "height": 51
        }
      },
      "source": [
        "from keras.datasets import mnist\n",
        "import numpy as np\n",
        "(x_train, y_train), (x_test, y_test) = mnist.load_data()"
      ],
      "execution_count": 8,
      "outputs": [
        {
          "output_type": "stream",
          "text": [
            "Downloading data from https://s3.amazonaws.com/img-datasets/mnist.npz\n",
            "11493376/11490434 [==============================] - 1s 0us/step\n"
          ],
          "name": "stdout"
        }
      ]
    },
    {
      "cell_type": "code",
      "metadata": {
        "id": "72BuawF0mPWX",
        "colab_type": "code",
        "outputId": "49ead63e-e3f8-4351-8cd6-4c256554031a",
        "colab": {
          "base_uri": "https://localhost:8080/",
          "height": 51
        }
      },
      "source": [
        "x_train = x_train.astype('float32') / 255.\n",
        "x_test = x_test.astype('float32') / 255.\n",
        "x_train = x_train.reshape((len(x_train), np.prod(x_train.shape[1:])))\n",
        "x_test = x_test.reshape((len(x_test), np.prod(x_test.shape[1:])))\n",
        "print(x_train.shape)\n",
        "print(x_test.shape)"
      ],
      "execution_count": 9,
      "outputs": [
        {
          "output_type": "stream",
          "text": [
            "(60000, 784)\n",
            "(10000, 784)\n"
          ],
          "name": "stdout"
        }
      ]
    },
    {
      "cell_type": "code",
      "metadata": {
        "id": "Ko1y8lmzs0fT",
        "colab_type": "code",
        "colab": {}
      },
      "source": [
        "x_train_bkg = x_train[np.where((y_train!=4)&(y_train!=5)&(y_train!=6))]"
      ],
      "execution_count": 0,
      "outputs": []
    },
    {
      "cell_type": "code",
      "metadata": {
        "id": "e2zJPX6Hwqau",
        "colab_type": "code",
        "colab": {
          "base_uri": "https://localhost:8080/",
          "height": 34
        },
        "outputId": "39585d1b-e20b-4413-a5fb-0b1f15339a07"
      },
      "source": [
        "x_train_bkg.shape"
      ],
      "execution_count": 11,
      "outputs": [
        {
          "output_type": "execute_result",
          "data": {
            "text/plain": [
              "(42819, 784)"
            ]
          },
          "metadata": {
            "tags": []
          },
          "execution_count": 11
        }
      ]
    },
    {
      "cell_type": "code",
      "metadata": {
        "id": "uHE3Uhss3mfz",
        "colab_type": "code",
        "colab": {}
      },
      "source": [
        "from sklearn.model_selection import train_test_split\n",
        "x_train_bkg,valid_x_train_bkg = train_test_split(x_train_bkg,\n",
        "                                                 test_size=0.2, \n",
        "                                                 random_state=13)"
      ],
      "execution_count": 0,
      "outputs": []
    },
    {
      "cell_type": "code",
      "metadata": {
        "id": "PShZj4LrmToq",
        "colab_type": "code",
        "outputId": "fcd221bd-10a9-4fb6-90dd-d4d3a3a7a2e0",
        "colab": {
          "base_uri": "https://localhost:8080/",
          "height": 1000
        }
      },
      "source": [
        "autoencoder_train = autoencoder.fit(x_train_bkg, x_train_bkg,\n",
        "                                epochs=50,\n",
        "                                batch_size=256,\n",
        "                                shuffle=True,\n",
        "                                validation_data=(valid_x_train_bkg, valid_x_train_bkg))"
      ],
      "execution_count": 13,
      "outputs": [
        {
          "output_type": "stream",
          "text": [
            "WARNING:tensorflow:From /usr/local/lib/python3.6/dist-packages/keras/backend/tensorflow_backend.py:1033: The name tf.assign_add is deprecated. Please use tf.compat.v1.assign_add instead.\n",
            "\n",
            "WARNING:tensorflow:From /usr/local/lib/python3.6/dist-packages/keras/backend/tensorflow_backend.py:1020: The name tf.assign is deprecated. Please use tf.compat.v1.assign instead.\n",
            "\n",
            "WARNING:tensorflow:From /usr/local/lib/python3.6/dist-packages/keras/backend/tensorflow_backend.py:3005: The name tf.Session is deprecated. Please use tf.compat.v1.Session instead.\n",
            "\n",
            "Train on 34255 samples, validate on 8564 samples\n",
            "Epoch 1/50\n",
            "WARNING:tensorflow:From /usr/local/lib/python3.6/dist-packages/keras/backend/tensorflow_backend.py:190: The name tf.get_default_session is deprecated. Please use tf.compat.v1.get_default_session instead.\n",
            "\n",
            "WARNING:tensorflow:From /usr/local/lib/python3.6/dist-packages/keras/backend/tensorflow_backend.py:197: The name tf.ConfigProto is deprecated. Please use tf.compat.v1.ConfigProto instead.\n",
            "\n",
            "WARNING:tensorflow:From /usr/local/lib/python3.6/dist-packages/keras/backend/tensorflow_backend.py:207: The name tf.global_variables is deprecated. Please use tf.compat.v1.global_variables instead.\n",
            "\n",
            "WARNING:tensorflow:From /usr/local/lib/python3.6/dist-packages/keras/backend/tensorflow_backend.py:216: The name tf.is_variable_initialized is deprecated. Please use tf.compat.v1.is_variable_initialized instead.\n",
            "\n",
            "WARNING:tensorflow:From /usr/local/lib/python3.6/dist-packages/keras/backend/tensorflow_backend.py:223: The name tf.variables_initializer is deprecated. Please use tf.compat.v1.variables_initializer instead.\n",
            "\n",
            "34255/34255 [==============================] - 1s 41us/step - loss: 0.0692 - val_loss: 0.0421\n",
            "Epoch 2/50\n",
            "34255/34255 [==============================] - 1s 27us/step - loss: 0.0342 - val_loss: 0.0285\n",
            "Epoch 3/50\n",
            "34255/34255 [==============================] - 1s 27us/step - loss: 0.0253 - val_loss: 0.0228\n",
            "Epoch 4/50\n",
            "34255/34255 [==============================] - 1s 27us/step - loss: 0.0209 - val_loss: 0.0195\n",
            "Epoch 5/50\n",
            "34255/34255 [==============================] - 1s 26us/step - loss: 0.0183 - val_loss: 0.0174\n",
            "Epoch 6/50\n",
            "34255/34255 [==============================] - 1s 26us/step - loss: 0.0165 - val_loss: 0.0160\n",
            "Epoch 7/50\n",
            "34255/34255 [==============================] - 1s 26us/step - loss: 0.0153 - val_loss: 0.0149\n",
            "Epoch 8/50\n",
            "34255/34255 [==============================] - 1s 27us/step - loss: 0.0143 - val_loss: 0.0140\n",
            "Epoch 9/50\n",
            "34255/34255 [==============================] - 1s 27us/step - loss: 0.0136 - val_loss: 0.0134\n",
            "Epoch 10/50\n",
            "34255/34255 [==============================] - 1s 27us/step - loss: 0.0130 - val_loss: 0.0129\n",
            "Epoch 11/50\n",
            "34255/34255 [==============================] - 1s 27us/step - loss: 0.0126 - val_loss: 0.0128\n",
            "Epoch 12/50\n",
            "34255/34255 [==============================] - 1s 27us/step - loss: 0.0122 - val_loss: 0.0121\n",
            "Epoch 13/50\n",
            "34255/34255 [==============================] - 1s 27us/step - loss: 0.0119 - val_loss: 0.0118\n",
            "Epoch 14/50\n",
            "34255/34255 [==============================] - 1s 27us/step - loss: 0.0116 - val_loss: 0.0115\n",
            "Epoch 15/50\n",
            "34255/34255 [==============================] - 1s 27us/step - loss: 0.0114 - val_loss: 0.0116\n",
            "Epoch 16/50\n",
            "34255/34255 [==============================] - 1s 26us/step - loss: 0.0112 - val_loss: 0.0114\n",
            "Epoch 17/50\n",
            "34255/34255 [==============================] - 1s 26us/step - loss: 0.0111 - val_loss: 0.0113\n",
            "Epoch 18/50\n",
            "34255/34255 [==============================] - 1s 26us/step - loss: 0.0109 - val_loss: 0.0116\n",
            "Epoch 19/50\n",
            "34255/34255 [==============================] - 1s 26us/step - loss: 0.0108 - val_loss: 0.0110\n",
            "Epoch 20/50\n",
            "34255/34255 [==============================] - 1s 26us/step - loss: 0.0107 - val_loss: 0.0108\n",
            "Epoch 21/50\n",
            "34255/34255 [==============================] - 1s 27us/step - loss: 0.0106 - val_loss: 0.0114\n",
            "Epoch 22/50\n",
            "34255/34255 [==============================] - 1s 27us/step - loss: 0.0106 - val_loss: 0.0106\n",
            "Epoch 23/50\n",
            "34255/34255 [==============================] - 1s 26us/step - loss: 0.0105 - val_loss: 0.0107\n",
            "Epoch 24/50\n",
            "34255/34255 [==============================] - 1s 27us/step - loss: 0.0104 - val_loss: 0.0109\n",
            "Epoch 25/50\n",
            "34255/34255 [==============================] - 1s 24us/step - loss: 0.0104 - val_loss: 0.0106\n",
            "Epoch 26/50\n",
            "34255/34255 [==============================] - 1s 24us/step - loss: 0.0103 - val_loss: 0.0106\n",
            "Epoch 27/50\n",
            "34255/34255 [==============================] - 1s 24us/step - loss: 0.0102 - val_loss: 0.0104\n",
            "Epoch 28/50\n",
            "34255/34255 [==============================] - 1s 24us/step - loss: 0.0102 - val_loss: 0.0103\n",
            "Epoch 29/50\n",
            "34255/34255 [==============================] - 1s 25us/step - loss: 0.0102 - val_loss: 0.0108\n",
            "Epoch 30/50\n",
            "34255/34255 [==============================] - 1s 25us/step - loss: 0.0101 - val_loss: 0.0106\n",
            "Epoch 31/50\n",
            "34255/34255 [==============================] - 1s 24us/step - loss: 0.0101 - val_loss: 0.0103\n",
            "Epoch 32/50\n",
            "34255/34255 [==============================] - 1s 24us/step - loss: 0.0101 - val_loss: 0.0100\n",
            "Epoch 33/50\n",
            "34255/34255 [==============================] - 1s 25us/step - loss: 0.0100 - val_loss: 0.0100\n",
            "Epoch 34/50\n",
            "34255/34255 [==============================] - 1s 27us/step - loss: 0.0100 - val_loss: 0.0102\n",
            "Epoch 35/50\n",
            "34255/34255 [==============================] - 1s 25us/step - loss: 0.0100 - val_loss: 0.0105\n",
            "Epoch 36/50\n",
            "34255/34255 [==============================] - 1s 25us/step - loss: 0.0099 - val_loss: 0.0103\n",
            "Epoch 37/50\n",
            "34255/34255 [==============================] - 1s 26us/step - loss: 0.0099 - val_loss: 0.0103\n",
            "Epoch 38/50\n",
            "34255/34255 [==============================] - 1s 26us/step - loss: 0.0099 - val_loss: 0.0101\n",
            "Epoch 39/50\n",
            "34255/34255 [==============================] - 1s 26us/step - loss: 0.0099 - val_loss: 0.0099\n",
            "Epoch 40/50\n",
            "34255/34255 [==============================] - 1s 25us/step - loss: 0.0099 - val_loss: 0.0097\n",
            "Epoch 41/50\n",
            "34255/34255 [==============================] - 1s 26us/step - loss: 0.0099 - val_loss: 0.0099\n",
            "Epoch 42/50\n",
            "34255/34255 [==============================] - 1s 25us/step - loss: 0.0098 - val_loss: 0.0098\n",
            "Epoch 43/50\n",
            "34255/34255 [==============================] - 1s 26us/step - loss: 0.0098 - val_loss: 0.0099\n",
            "Epoch 44/50\n",
            "34255/34255 [==============================] - 1s 26us/step - loss: 0.0098 - val_loss: 0.0100\n",
            "Epoch 45/50\n",
            "34255/34255 [==============================] - 1s 25us/step - loss: 0.0098 - val_loss: 0.0097\n",
            "Epoch 46/50\n",
            "34255/34255 [==============================] - 1s 25us/step - loss: 0.0097 - val_loss: 0.0102\n",
            "Epoch 47/50\n",
            "34255/34255 [==============================] - 1s 25us/step - loss: 0.0098 - val_loss: 0.0099\n",
            "Epoch 48/50\n",
            "34255/34255 [==============================] - 1s 25us/step - loss: 0.0097 - val_loss: 0.0100\n",
            "Epoch 49/50\n",
            "34255/34255 [==============================] - 1s 25us/step - loss: 0.0097 - val_loss: 0.0106\n",
            "Epoch 50/50\n",
            "34255/34255 [==============================] - 1s 27us/step - loss: 0.0097 - val_loss: 0.0103\n"
          ],
          "name": "stdout"
        }
      ]
    },
    {
      "cell_type": "code",
      "metadata": {
        "id": "vcal0L3a6FJx",
        "colab_type": "code",
        "colab": {
          "base_uri": "https://localhost:8080/",
          "height": 281
        },
        "outputId": "74a953b5-f617-4dfc-9fa8-c806cf9b01b8"
      },
      "source": [
        "loss = autoencoder_train.history['loss']\n",
        "val_loss = autoencoder_train.history['val_loss']\n",
        "epochs = range(50)\n",
        "plt.figure()\n",
        "plt.plot(epochs, loss, 'bo', label='Training loss')\n",
        "plt.plot(epochs, val_loss, 'b', label='Validation loss')\n",
        "plt.title('Training and validation loss')\n",
        "plt.legend()\n",
        "plt.show()"
      ],
      "execution_count": 14,
      "outputs": [
        {
          "output_type": "display_data",
          "data": {
            "image/png": "[encoded data removed]",
            "text/plain": [
              "<Figure size 432x288 with 1 Axes>"
            ]
          },
          "metadata": {
            "tags": []
          }
        }
      ]
    },
    {
      "cell_type": "code",
      "metadata": {
        "id": "eVpCRysomkv8",
        "colab_type": "code",
        "colab": {}
      },
      "source": [
        "truth = np.zeros(len(y_test))"
      ],
      "execution_count": 0,
      "outputs": []
    },
    {
      "cell_type": "code",
      "metadata": {
        "id": "LFSfYAZEO0r2",
        "colab_type": "code",
        "colab": {}
      },
      "source": [
        "truth[np.where((y_test==4)|(y_test==5)|(y_test==6))]= 1"
      ],
      "execution_count": 0,
      "outputs": []
    },
    {
      "cell_type": "code",
      "metadata": {
        "id": "YFTOWuBZPdsg",
        "colab_type": "code",
        "colab": {}
      },
      "source": [
        "predict_nums=autoencoder.predict(x_test)"
      ],
      "execution_count": 0,
      "outputs": []
    },
    {
      "cell_type": "code",
      "metadata": {
        "id": "TxoydJuyRXK4",
        "colab_type": "code",
        "colab": {
          "base_uri": "https://localhost:8080/",
          "height": 34
        },
        "outputId": "aa8577cb-499d-4306-bb56-6f575719f0dc"
      },
      "source": [
        "predict_nums.shape"
      ],
      "execution_count": 18,
      "outputs": [
        {
          "output_type": "execute_result",
          "data": {
            "text/plain": [
              "(10000, 784)"
            ]
          },
          "metadata": {
            "tags": []
          },
          "execution_count": 18
        }
      ]
    },
    {
      "cell_type": "code",
      "metadata": {
        "id": "PkhefGkQRH0f",
        "colab_type": "code",
        "colab": {}
      },
      "source": [
        "predict_loss_mse= np.mean(np.power(x_test - predict_nums, 2), axis =1)"
      ],
      "execution_count": 0,
      "outputs": []
    },
    {
      "cell_type": "code",
      "metadata": {
        "id": "PCmDDVpxRQms",
        "colab_type": "code",
        "colab": {
          "base_uri": "https://localhost:8080/",
          "height": 34
        },
        "outputId": "b00f07eb-4726-4c79-9744-aba9cd9ab676"
      },
      "source": [
        "predict_loss_mse.shape"
      ],
      "execution_count": 20,
      "outputs": [
        {
          "output_type": "execute_result",
          "data": {
            "text/plain": [
              "(10000,)"
            ]
          },
          "metadata": {
            "tags": []
          },
          "execution_count": 20
        }
      ]
    },
    {
      "cell_type": "code",
      "metadata": {
        "id": "v9h8e9L0RtH6",
        "colab_type": "code",
        "colab": {
          "base_uri": "https://localhost:8080/",
          "height": 279
        },
        "outputId": "19a4b602-9c07-4140-b6b2-ba437b736749"
      },
      "source": [
        "\n",
        "l_rec_0=[]\n",
        "l_rec_1=[]\n",
        "\n",
        "for i in range(10000):\n",
        "    if truth[i]==0:\n",
        "        l_rec_0.append(predict_loss_mse[i])\n",
        "    else:\n",
        "        l_rec_1.append(predict_loss_mse[i])\n",
        "\n",
        "l_rec_0=np.array(l_rec_0)\n",
        "l_rec_1=np.array(l_rec_1)\n",
        "plt.hist(l_rec_0, histtype=\"step\", label='Bkg', density=True)\n",
        "plt.hist(l_rec_1, histtype='step', label='4,5,6', density=True)\n",
        "plt.legend(loc='best')\n",
        "#plt.title('FCN AutoEncoder ($D_{in}$=80, $D_{hidden}$=6)')\n",
        "plt.xlabel('$mse$')\n",
        "plt.show()"
      ],
      "execution_count": 22,
      "outputs": [
        {
          "output_type": "display_data",
          "data": {
            "image/png": "[encoded data removed]",
            "text/plain": [
              "<Figure size 432x288 with 1 Axes>"
            ]
          },
          "metadata": {
            "tags": []
          }
        }
      ]
    },
    {
      "cell_type": "code",
      "metadata": {
        "id": "PRFqpizPxSrF",
        "colab_type": "code",
        "colab": {}
      },
      "source": [
        "# Utility function to visualize the outputs of PCA and t-SNE\n",
        "\n",
        "def num_scatter(x, colors):\n",
        "    # choose a color palette with seaborn.\n",
        "    num_classes = len(np.unique(colors))\n",
        "    palette = np.array(sns.color_palette(\"hls\", num_classes))\n",
        "\n",
        "    # create a scatter plot.\n",
        "    f = plt.figure(figsize=(8, 8))\n",
        "    ax = plt.subplot(aspect='equal')\n",
        "    sc = ax.scatter(x[:,0], x[:,1], lw=0, s=40, c=palette[colors.astype(np.int)])\n",
        "    plt.xlim(-25, 25)\n",
        "    plt.ylim(-25, 25)\n",
        "    ax.axis('off')\n",
        "    ax.axis('tight')\n",
        "\n",
        "    # add the labels for each digit corresponding to the label\n",
        "    txts = []\n",
        "\n",
        "    for i in range(num_classes):\n",
        "\n",
        "        # Position of each label at median of data points.\n",
        "\n",
        "        xtext, ytext = np.median(x[colors == i, :], axis=0)\n",
        "        txt = ax.text(xtext, ytext, str(i), fontsize=24)\n",
        "        txt.set_path_effects([\n",
        "            PathEffects.Stroke(linewidth=5, foreground=\"w\"),\n",
        "            PathEffects.Normal()])\n",
        "        txts.append(txt)\n",
        "\n",
        "    return f, ax, sc, txts"
      ],
      "execution_count": 0,
      "outputs": []
    },
    {
      "cell_type": "code",
      "metadata": {
        "id": "DXygeLP5TCqu",
        "colab_type": "code",
        "colab": {
          "base_uri": "https://localhost:8080/",
          "height": 34
        },
        "outputId": "d2f7b994-8d94-401b-e00a-bfe0371e4750"
      },
      "source": [
        "from sklearn.manifold import TSNE\n",
        "import time\n",
        "time_start = time.time()\n",
        "RS = 123\n",
        "fashion_tsne = TSNE(random_state=RS).fit_transform(predict_nums)\n",
        "\n",
        "print ('t-SNE done! Time elapsed: {} seconds'.format(time.time()-time_start))"
      ],
      "execution_count": 26,
      "outputs": [
        {
          "output_type": "stream",
          "text": [
            "t-SNE done! Time elapsed: 268.53718638420105 seconds\n"
          ],
          "name": "stdout"
        }
      ]
    },
    {
      "cell_type": "code",
      "metadata": {
        "id": "SZ8HlvVnTUlS",
        "colab_type": "code",
        "colab": {}
      },
      "source": [
        ""
      ],
      "execution_count": 0,
      "outputs": []
    }
  ]
}