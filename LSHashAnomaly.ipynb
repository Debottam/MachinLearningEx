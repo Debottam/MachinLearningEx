{
  "nbformat": 4,
  "nbformat_minor": 0,
  "metadata": {
    "colab": {
      "name": "Untitled3.ipynb",
      "provenance": [],
      "include_colab_link": true
    },
    "kernelspec": {
      "name": "python3",
      "display_name": "Python 3"
    }
  },
  "cells": [
    {
      "cell_type": "markdown",
      "metadata": {
        "id": "view-in-github",
        "colab_type": "text"
      },
      "source": [
        "<a href=\"https://colab.research.google.com/github/Debottam/MachinLearningEx/blob/master/LSHashAnomaly.ipynb\" target=\"_parent\"><img src=\"https://colab.research.google.com/assets/colab-badge.svg\" alt=\"Open In Colab\"/></a>"
      ]
    },
    {
      "cell_type": "code",
      "metadata": {
        "id": "tm1MXu46kpo1",
        "colab_type": "code",
        "colab": {}
      },
      "source": [
        "from keras.layers import Input, Dense\n",
        "from keras.models import Model\n",
        "from keras.optimizers import RMSprop\n",
        "from matplotlib import pyplot as plt\n",
        "\n",
        "# this is the size of our encoded representations\n",
        "encoding_dim = 32  # 32 floats -> compression of factor 24.5, assuming the input is 784 floats\n",
        "\n",
        "# this is our input placeholder\n",
        "input_img = Input(shape=(784,))\n",
        "# \"encoded\" is the encoded representation of the input\n",
        "encoded = Dense(encoding_dim, activation='relu')(input_img)\n",
        "# \"decoded\" is the lossy reconstruction of the input\n",
        "decoded = Dense(784, activation='sigmoid')(encoded)\n",
        "\n",
        "# this model maps an input to its reconstruction\n",
        "autoencoder = Model(input_img, decoded)"
      ],
      "execution_count": 0,
      "outputs": []
    },
    {
      "cell_type": "code",
      "metadata": {
        "id": "fzsFe2YNlFI0",
        "colab_type": "code",
        "colab": {}
      },
      "source": [
        "# this model maps an input to its encoded representation\n",
        "encoder = Model(input_img, encoded)"
      ],
      "execution_count": 0,
      "outputs": []
    },
    {
      "cell_type": "code",
      "metadata": {
        "id": "uztUyFM3lQR4",
        "colab_type": "code",
        "colab": {}
      },
      "source": [
        "# create a placeholder for an encoded (32-dimensional) input\n",
        "encoded_input = Input(shape=(encoding_dim,))\n",
        "# retrieve the last layer of the autoencoder model\n",
        "decoder_layer = autoencoder.layers[-1]\n",
        "# create the decoder model\n",
        "decoder = Model(encoded_input, decoder_layer(encoded_input))"
      ],
      "execution_count": 0,
      "outputs": []
    },
    {
      "cell_type": "code",
      "metadata": {
        "id": "IJV0xBsRluZU",
        "colab_type": "code",
        "colab": {}
      },
      "source": [
        "autoencoder.compile(loss='mean_squared_error', optimizer = RMSprop())"
      ],
      "execution_count": 0,
      "outputs": []
    },
    {
      "cell_type": "code",
      "metadata": {
        "id": "5E2XZYqll2Dz",
        "colab_type": "code",
        "outputId": "fadd3eb0-c956-4304-e33e-b69d113f6c55",
        "colab": {
          "base_uri": "https://localhost:8080/",
          "height": 255
        }
      },
      "source": [
        "autoencoder.summary()"
      ],
      "execution_count": 54,
      "outputs": [
        {
          "output_type": "stream",
          "text": [
            "Model: \"model_9\"\n",
            "_________________________________________________________________\n",
            "Layer (type)                 Output Shape              Param #   \n",
            "=================================================================\n",
            "input_6 (InputLayer)         (None, 784)               0         \n",
            "_________________________________________________________________\n",
            "dense_5 (Dense)              (None, 32)                25120     \n",
            "_________________________________________________________________\n",
            "dense_6 (Dense)              (None, 784)               25872     \n",
            "=================================================================\n",
            "Total params: 50,992\n",
            "Trainable params: 50,992\n",
            "Non-trainable params: 0\n",
            "_________________________________________________________________\n"
          ],
          "name": "stdout"
        }
      ]
    },
    {
      "cell_type": "code",
      "metadata": {
        "id": "qeYnfrbll7VX",
        "colab_type": "code",
        "outputId": "aff3a183-47fa-4266-d3cd-dbfa4e846095",
        "colab": {
          "base_uri": "https://localhost:8080/",
          "height": 221
        }
      },
      "source": [
        "encoder.summary()"
      ],
      "execution_count": 55,
      "outputs": [
        {
          "output_type": "stream",
          "text": [
            "Model: \"model_10\"\n",
            "_________________________________________________________________\n",
            "Layer (type)                 Output Shape              Param #   \n",
            "=================================================================\n",
            "input_6 (InputLayer)         (None, 784)               0         \n",
            "_________________________________________________________________\n",
            "dense_5 (Dense)              (None, 32)                25120     \n",
            "=================================================================\n",
            "Total params: 25,120\n",
            "Trainable params: 25,120\n",
            "Non-trainable params: 0\n",
            "_________________________________________________________________\n"
          ],
          "name": "stdout"
        }
      ]
    },
    {
      "cell_type": "code",
      "metadata": {
        "id": "WgfsxqZ_mAcc",
        "colab_type": "code",
        "colab": {}
      },
      "source": [
        "from keras.datasets import mnist\n",
        "import numpy as np\n",
        "(x_train, y_train), (x_test, y_test) = mnist.load_data()"
      ],
      "execution_count": 0,
      "outputs": []
    },
    {
      "cell_type": "code",
      "metadata": {
        "id": "72BuawF0mPWX",
        "colab_type": "code",
        "outputId": "a8ce4c9a-570d-43b4-d329-099990d04c8b",
        "colab": {
          "base_uri": "https://localhost:8080/",
          "height": 51
        }
      },
      "source": [
        "x_train = x_train.astype('float32') / 255.\n",
        "x_test = x_test.astype('float32') / 255.\n",
        "x_train = x_train.reshape((len(x_train), np.prod(x_train.shape[1:])))\n",
        "x_test = x_test.reshape((len(x_test), np.prod(x_test.shape[1:])))\n",
        "print(x_train.shape)\n",
        "print(x_test.shape)"
      ],
      "execution_count": 57,
      "outputs": [
        {
          "output_type": "stream",
          "text": [
            "(60000, 784)\n",
            "(10000, 784)\n"
          ],
          "name": "stdout"
        }
      ]
    },
    {
      "cell_type": "code",
      "metadata": {
        "id": "Ko1y8lmzs0fT",
        "colab_type": "code",
        "colab": {}
      },
      "source": [
        "x_train_bkg = x_train[np.where((y_train!=4)&(y_train!=5)&(y_train!=6))]"
      ],
      "execution_count": 0,
      "outputs": []
    },
    {
      "cell_type": "code",
      "metadata": {
        "id": "e2zJPX6Hwqau",
        "colab_type": "code",
        "colab": {
          "base_uri": "https://localhost:8080/",
          "height": 34
        },
        "outputId": "ecfc041c-35f4-4778-9d4c-19ab774c43a1"
      },
      "source": [
        "x_train_bkg.shape"
      ],
      "execution_count": 59,
      "outputs": [
        {
          "output_type": "execute_result",
          "data": {
            "text/plain": [
              "(42819, 784)"
            ]
          },
          "metadata": {
            "tags": []
          },
          "execution_count": 59
        }
      ]
    },
    {
      "cell_type": "code",
      "metadata": {
        "id": "uHE3Uhss3mfz",
        "colab_type": "code",
        "colab": {}
      },
      "source": [
        "from sklearn.model_selection import train_test_split\n",
        "x_train_bkg,valid_x_train_bkg = train_test_split(x_train_bkg,\n",
        "                                                 test_size=0.2, \n",
        "                                                 random_state=13)"
      ],
      "execution_count": 0,
      "outputs": []
    },
    {
      "cell_type": "code",
      "metadata": {
        "id": "PShZj4LrmToq",
        "colab_type": "code",
        "outputId": "4af447b2-627b-4de6-bc7b-869623d0fd7d",
        "colab": {
          "base_uri": "https://localhost:8080/",
          "height": 1000
        }
      },
      "source": [
        "autoencoder_train = autoencoder.fit(x_train_bkg, x_train_bkg,\n",
        "                                epochs=50,\n",
        "                                batch_size=256,\n",
        "                                shuffle=True,\n",
        "                                validation_data=(valid_x_train_bkg, valid_x_train_bkg))"
      ],
      "execution_count": 61,
      "outputs": [
        {
          "output_type": "stream",
          "text": [
            "WARNING:tensorflow:From /usr/local/lib/python3.6/dist-packages/keras/backend/tensorflow_backend.py:1033: The name tf.assign_add is deprecated. Please use tf.compat.v1.assign_add instead.\n",
            "\n",
            "WARNING:tensorflow:From /usr/local/lib/python3.6/dist-packages/keras/backend/tensorflow_backend.py:1020: The name tf.assign is deprecated. Please use tf.compat.v1.assign instead.\n",
            "\n",
            "WARNING:tensorflow:From /usr/local/lib/python3.6/dist-packages/keras/backend/tensorflow_backend.py:3005: The name tf.Session is deprecated. Please use tf.compat.v1.Session instead.\n",
            "\n",
            "Train on 34255 samples, validate on 8564 samples\n",
            "Epoch 1/50\n",
            "WARNING:tensorflow:From /usr/local/lib/python3.6/dist-packages/keras/backend/tensorflow_backend.py:190: The name tf.get_default_session is deprecated. Please use tf.compat.v1.get_default_session instead.\n",
            "\n",
            "WARNING:tensorflow:From /usr/local/lib/python3.6/dist-packages/keras/backend/tensorflow_backend.py:197: The name tf.ConfigProto is deprecated. Please use tf.compat.v1.ConfigProto instead.\n",
            "\n",
            "WARNING:tensorflow:From /usr/local/lib/python3.6/dist-packages/keras/backend/tensorflow_backend.py:207: The name tf.global_variables is deprecated. Please use tf.compat.v1.global_variables instead.\n",
            "\n",
            "WARNING:tensorflow:From /usr/local/lib/python3.6/dist-packages/keras/backend/tensorflow_backend.py:216: The name tf.is_variable_initialized is deprecated. Please use tf.compat.v1.is_variable_initialized instead.\n",
            "\n",
            "WARNING:tensorflow:From /usr/local/lib/python3.6/dist-packages/keras/backend/tensorflow_backend.py:223: The name tf.variables_initializer is deprecated. Please use tf.compat.v1.variables_initializer instead.\n",
            "\n",
            "34255/34255 [==============================] - 1s 41us/step - loss: 0.0698 - val_loss: 0.0414\n",
            "Epoch 2/50\n",
            "34255/34255 [==============================] - 1s 27us/step - loss: 0.0334 - val_loss: 0.0280\n",
            "Epoch 3/50\n",
            "34255/34255 [==============================] - 1s 26us/step - loss: 0.0249 - val_loss: 0.0223\n",
            "Epoch 4/50\n",
            "34255/34255 [==============================] - 1s 27us/step - loss: 0.0206 - val_loss: 0.0191\n",
            "Epoch 5/50\n",
            "34255/34255 [==============================] - 1s 27us/step - loss: 0.0180 - val_loss: 0.0171\n",
            "Epoch 6/50\n",
            "34255/34255 [==============================] - 1s 27us/step - loss: 0.0163 - val_loss: 0.0157\n",
            "Epoch 7/50\n",
            "34255/34255 [==============================] - 1s 26us/step - loss: 0.0150 - val_loss: 0.0146\n",
            "Epoch 8/50\n",
            "34255/34255 [==============================] - 1s 27us/step - loss: 0.0141 - val_loss: 0.0138\n",
            "Epoch 9/50\n",
            "34255/34255 [==============================] - 1s 27us/step - loss: 0.0134 - val_loss: 0.0132\n",
            "Epoch 10/50\n",
            "34255/34255 [==============================] - 1s 27us/step - loss: 0.0129 - val_loss: 0.0130\n",
            "Epoch 11/50\n",
            "34255/34255 [==============================] - 1s 26us/step - loss: 0.0125 - val_loss: 0.0128\n",
            "Epoch 12/50\n",
            "34255/34255 [==============================] - 1s 25us/step - loss: 0.0121 - val_loss: 0.0120\n",
            "Epoch 13/50\n",
            "34255/34255 [==============================] - 1s 26us/step - loss: 0.0118 - val_loss: 0.0117\n",
            "Epoch 14/50\n",
            "34255/34255 [==============================] - 1s 26us/step - loss: 0.0115 - val_loss: 0.0115\n",
            "Epoch 15/50\n",
            "34255/34255 [==============================] - 1s 26us/step - loss: 0.0114 - val_loss: 0.0114\n",
            "Epoch 16/50\n",
            "34255/34255 [==============================] - 1s 26us/step - loss: 0.0112 - val_loss: 0.0111\n",
            "Epoch 17/50\n",
            "34255/34255 [==============================] - 1s 26us/step - loss: 0.0110 - val_loss: 0.0111\n",
            "Epoch 18/50\n",
            "34255/34255 [==============================] - 1s 25us/step - loss: 0.0109 - val_loss: 0.0108\n",
            "Epoch 19/50\n",
            "34255/34255 [==============================] - 1s 27us/step - loss: 0.0108 - val_loss: 0.0114\n",
            "Epoch 20/50\n",
            "34255/34255 [==============================] - 1s 27us/step - loss: 0.0107 - val_loss: 0.0111\n",
            "Epoch 21/50\n",
            "34255/34255 [==============================] - 1s 27us/step - loss: 0.0106 - val_loss: 0.0108\n",
            "Epoch 22/50\n",
            "34255/34255 [==============================] - 1s 25us/step - loss: 0.0105 - val_loss: 0.0105\n",
            "Epoch 23/50\n",
            "34255/34255 [==============================] - 1s 27us/step - loss: 0.0104 - val_loss: 0.0108\n",
            "Epoch 24/50\n",
            "34255/34255 [==============================] - 1s 26us/step - loss: 0.0104 - val_loss: 0.0108\n",
            "Epoch 25/50\n",
            "34255/34255 [==============================] - 1s 27us/step - loss: 0.0103 - val_loss: 0.0103\n",
            "Epoch 26/50\n",
            "34255/34255 [==============================] - 1s 27us/step - loss: 0.0103 - val_loss: 0.0108\n",
            "Epoch 27/50\n",
            "34255/34255 [==============================] - 1s 27us/step - loss: 0.0102 - val_loss: 0.0104\n",
            "Epoch 28/50\n",
            "34255/34255 [==============================] - 1s 26us/step - loss: 0.0102 - val_loss: 0.0104\n",
            "Epoch 29/50\n",
            "34255/34255 [==============================] - 1s 26us/step - loss: 0.0102 - val_loss: 0.0104\n",
            "Epoch 30/50\n",
            "34255/34255 [==============================] - 1s 27us/step - loss: 0.0101 - val_loss: 0.0104\n",
            "Epoch 31/50\n",
            "34255/34255 [==============================] - 1s 27us/step - loss: 0.0101 - val_loss: 0.0103\n",
            "Epoch 32/50\n",
            "34255/34255 [==============================] - 1s 26us/step - loss: 0.0100 - val_loss: 0.0104\n",
            "Epoch 33/50\n",
            "34255/34255 [==============================] - 1s 26us/step - loss: 0.0100 - val_loss: 0.0103\n",
            "Epoch 34/50\n",
            "34255/34255 [==============================] - 1s 27us/step - loss: 0.0100 - val_loss: 0.0100\n",
            "Epoch 35/50\n",
            "34255/34255 [==============================] - 1s 26us/step - loss: 0.0100 - val_loss: 0.0102\n",
            "Epoch 36/50\n",
            "34255/34255 [==============================] - 1s 27us/step - loss: 0.0099 - val_loss: 0.0099\n",
            "Epoch 37/50\n",
            "34255/34255 [==============================] - 1s 26us/step - loss: 0.0099 - val_loss: 0.0102\n",
            "Epoch 38/50\n",
            "34255/34255 [==============================] - 1s 27us/step - loss: 0.0099 - val_loss: 0.0099\n",
            "Epoch 39/50\n",
            "34255/34255 [==============================] - 1s 27us/step - loss: 0.0099 - val_loss: 0.0100\n",
            "Epoch 40/50\n",
            "34255/34255 [==============================] - 1s 27us/step - loss: 0.0099 - val_loss: 0.0099\n",
            "Epoch 41/50\n",
            "34255/34255 [==============================] - 1s 26us/step - loss: 0.0098 - val_loss: 0.0099\n",
            "Epoch 42/50\n",
            "34255/34255 [==============================] - 1s 26us/step - loss: 0.0098 - val_loss: 0.0101\n",
            "Epoch 43/50\n",
            "34255/34255 [==============================] - 1s 27us/step - loss: 0.0098 - val_loss: 0.0097\n",
            "Epoch 44/50\n",
            "34255/34255 [==============================] - 1s 26us/step - loss: 0.0098 - val_loss: 0.0097\n",
            "Epoch 45/50\n",
            "34255/34255 [==============================] - 1s 26us/step - loss: 0.0097 - val_loss: 0.0098\n",
            "Epoch 46/50\n",
            "34255/34255 [==============================] - 1s 27us/step - loss: 0.0097 - val_loss: 0.0100\n",
            "Epoch 47/50\n",
            "34255/34255 [==============================] - 1s 27us/step - loss: 0.0097 - val_loss: 0.0099\n",
            "Epoch 48/50\n",
            "34255/34255 [==============================] - 1s 27us/step - loss: 0.0097 - val_loss: 0.0100\n",
            "Epoch 49/50\n",
            "34255/34255 [==============================] - 1s 27us/step - loss: 0.0097 - val_loss: 0.0100\n",
            "Epoch 50/50\n",
            "34255/34255 [==============================] - 1s 27us/step - loss: 0.0097 - val_loss: 0.0099\n"
          ],
          "name": "stdout"
        }
      ]
    },
    {
      "cell_type": "code",
      "metadata": {
        "id": "vcal0L3a6FJx",
        "colab_type": "code",
        "colab": {
          "base_uri": "https://localhost:8080/",
          "height": 281
        },
        "outputId": "54aad2a1-80d1-4e62-8647-ae4acd9a7b20"
      },
      "source": [
        "loss = autoencoder_train.history['loss']\n",
        "val_loss = autoencoder_train.history['val_loss']\n",
        "epochs = range(50)\n",
        "plt.figure()\n",
        "plt.plot(epochs, loss, 'bo', label='Training loss')\n",
        "plt.plot(epochs, val_loss, 'b', label='Validation loss')\n",
        "plt.title('Training and validation loss')\n",
        "plt.legend()\n",
        "plt.show()"
      ],
      "execution_count": 67,
      "outputs": [
        {
          "output_type": "display_data",
          "data": {
            "image/png": "[encoded data removed]",
            "text/plain": [
              "<Figure size 432x288 with 1 Axes>"
            ]
          },
          "metadata": {
            "tags": []
          }
        }
      ]
    },
    {
      "cell_type": "code",
      "metadata": {
        "id": "eVpCRysomkv8",
        "colab_type": "code",
        "colab": {}
      },
      "source": [
        "(_, y_train), (_, y_test) = mnist.load_data()"
      ],
      "execution_count": 0,
      "outputs": []
    },
    {
      "cell_type": "code",
      "metadata": {
        "id": "OcAgj9cRnmoh",
        "colab_type": "code",
        "outputId": "f34d9071-aedf-40a6-de67-18a398403c38",
        "colab": {
          "base_uri": "https://localhost:8080/",
          "height": 51
        }
      },
      "source": [
        "print(y_train.shape)\n",
        "print(y_test.shape)"
      ],
      "execution_count": 0,
      "outputs": [
        {
          "output_type": "stream",
          "text": [
            "(60000,)\n",
            "(10000,)\n"
          ],
          "name": "stdout"
        }
      ]
    },
    {
      "cell_type": "code",
      "metadata": {
        "id": "alrG_515ntKP",
        "colab_type": "code",
        "colab": {}
      },
      "source": [
        "import numpy as np"
      ],
      "execution_count": 0,
      "outputs": []
    },
    {
      "cell_type": "code",
      "metadata": {
        "id": "qDKqdjgsn6tl",
        "colab_type": "code",
        "colab": {}
      },
      "source": [
        "class HashTable:\n",
        "    def __init__(self, hash_size, inp_dimensions):\n",
        "        self.hash_size = hash_size\n",
        "        self.inp_dimensions = inp_dimensions\n",
        "        self.hash_table = dict()\n",
        "        self.projections = np.random.randn(self.hash_size, inp_dimensions)\n",
        "        \n",
        "    def generate_hash(self, inp_vector):\n",
        "        bools = (np.dot(inp_vector, self.projections.T) > 0).astype('int')\n",
        "        return ''.join(bools.astype('str'))\n",
        "\n",
        "    def __setitem__(self, inp_vec, label):\n",
        "        hash_value = self.generate_hash(inp_vec)\n",
        "        self.hash_table[hash_value] = self.hash_table.get(hash_value, list()) + [label]\n",
        "        \n",
        "    def __getitem__(self, inp_vec):\n",
        "        hash_value = self.generate_hash(inp_vec)\n",
        "        return self.hash_table.get(hash_value, [])"
      ],
      "execution_count": 0,
      "outputs": []
    },
    {
      "cell_type": "code",
      "metadata": {
        "id": "mhZZ7-BkoGZX",
        "colab_type": "code",
        "colab": {}
      },
      "source": [
        "input_vec = encoder.predict(x_train)\n",
        "input_vec_test = encoder.predict(x_test)"
      ],
      "execution_count": 0,
      "outputs": []
    },
    {
      "cell_type": "code",
      "metadata": {
        "id": "oOHpmP0DpOuY",
        "colab_type": "code",
        "outputId": "96024d18-dd3d-4f08-91cf-d1abb5f34354",
        "colab": {
          "base_uri": "https://localhost:8080/",
          "height": 34
        }
      },
      "source": [
        "print(input_vec.shape)"
      ],
      "execution_count": 0,
      "outputs": [
        {
          "output_type": "stream",
          "text": [
            "(60000, 32)\n"
          ],
          "name": "stdout"
        }
      ]
    },
    {
      "cell_type": "code",
      "metadata": {
        "id": "QGgocDAfpT9q",
        "colab_type": "code",
        "colab": {}
      },
      "source": [
        "hash_table = HashTable(hash_size=30, inp_dimensions=32)"
      ],
      "execution_count": 0,
      "outputs": []
    },
    {
      "cell_type": "code",
      "metadata": {
        "id": "DLUr7ayatafa",
        "colab_type": "code",
        "outputId": "27d26120-a955-4a6b-ba81-4c8d75848bf7",
        "colab": {
          "base_uri": "https://localhost:8080/",
          "height": 34
        }
      },
      "source": [
        "hash_table.generate_hash(input_vec[0])"
      ],
      "execution_count": 0,
      "outputs": [
        {
          "output_type": "execute_result",
          "data": {
            "text/plain": [
              "'010001000010000000011101110001'"
            ]
          },
          "metadata": {
            "tags": []
          },
          "execution_count": 18
        }
      ]
    },
    {
      "cell_type": "code",
      "metadata": {
        "id": "h79uUm7rt3oy",
        "colab_type": "code",
        "outputId": "8da0d446-64e8-42c7-b2b7-209737e63c88",
        "colab": {
          "base_uri": "https://localhost:8080/",
          "height": 34
        }
      },
      "source": [
        "hash_table.generate_hash(input_vec[1])"
      ],
      "execution_count": 0,
      "outputs": [
        {
          "output_type": "execute_result",
          "data": {
            "text/plain": [
              "'010001101010000000011101010001'"
            ]
          },
          "metadata": {
            "tags": []
          },
          "execution_count": 19
        }
      ]
    },
    {
      "cell_type": "code",
      "metadata": {
        "id": "_Ou17Lh0uIlQ",
        "colab_type": "code",
        "outputId": "9b7c1c11-3f7c-4280-af7c-6e65e015c377",
        "colab": {
          "base_uri": "https://localhost:8080/",
          "height": 34
        }
      },
      "source": [
        "hash_table.generate_hash(input_vec[2])"
      ],
      "execution_count": 0,
      "outputs": [
        {
          "output_type": "execute_result",
          "data": {
            "text/plain": [
              "'010011000010000000001011110001'"
            ]
          },
          "metadata": {
            "tags": []
          },
          "execution_count": 20
        }
      ]
    },
    {
      "cell_type": "code",
      "metadata": {
        "id": "JSuvQObHpkoX",
        "colab_type": "code",
        "colab": {}
      },
      "source": [
        "for i in range(60000):\n",
        "  hash_table.__setitem__(input_vec[i], y_train[i])"
      ],
      "execution_count": 0,
      "outputs": []
    },
    {
      "cell_type": "code",
      "metadata": {
        "id": "RVqmqk4_p9PI",
        "colab_type": "code",
        "outputId": "de6618c4-317a-42c2-a9a4-85dd70a6dd3e",
        "colab": {
          "base_uri": "https://localhost:8080/",
          "height": 34
        }
      },
      "source": [
        "y_test[5]"
      ],
      "execution_count": 0,
      "outputs": [
        {
          "output_type": "execute_result",
          "data": {
            "text/plain": [
              "1"
            ]
          },
          "metadata": {
            "tags": []
          },
          "execution_count": 40
        }
      ]
    },
    {
      "cell_type": "code",
      "metadata": {
        "id": "Ay4BLZt5qy_V",
        "colab_type": "code",
        "outputId": "5774e50d-c653-45ed-e946-40de9eeb2410",
        "colab": {
          "base_uri": "https://localhost:8080/",
          "height": 34
        }
      },
      "source": [
        "hash_table.__getitem__(input_vec_test[5])"
      ],
      "execution_count": 0,
      "outputs": [
        {
          "output_type": "execute_result",
          "data": {
            "text/plain": [
              "[1, 1, 1, 1, 1, 2, 1, 1, 1, 1, 1, 1, 1]"
            ]
          },
          "metadata": {
            "tags": []
          },
          "execution_count": 41
        }
      ]
    },
    {
      "cell_type": "code",
      "metadata": {
        "id": "7KThD5b3rYoV",
        "colab_type": "code",
        "colab": {}
      },
      "source": [
        "xs, ys=zip(*((int(x), k) for k in hash_table.hash_table for x in hash_table.hash_table[k]))"
      ],
      "execution_count": 0,
      "outputs": []
    },
    {
      "cell_type": "code",
      "metadata": {
        "id": "W9e6_kLXthtl",
        "colab_type": "code",
        "colab": {}
      },
      "source": [
        "import matplotlib.pyplot as plt"
      ],
      "execution_count": 0,
      "outputs": []
    },
    {
      "cell_type": "code",
      "metadata": {
        "id": "9krubGgouKhl",
        "colab_type": "code",
        "colab": {}
      },
      "source": [
        "#plt.plot(xs, ys, 'ro')"
      ],
      "execution_count": 0,
      "outputs": []
    },
    {
      "cell_type": "code",
      "metadata": {
        "id": "PRFqpizPxSrF",
        "colab_type": "code",
        "colab": {}
      },
      "source": [
        ""
      ],
      "execution_count": 0,
      "outputs": []
    }
  ]
}