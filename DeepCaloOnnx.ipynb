{
 "cells": [
  {
   "cell_type": "code",
   "execution_count": 2,
   "metadata": {},
   "outputs": [],
   "source": [
    "import deepcalo as dpcal\n",
    "import json\n",
    "import keras as ks\n",
    "import tensorflow as tf\n",
    "import sys\n",
    "import onnxruntime as ort\n",
    "import os\n",
    "import tensorflow as tf\n",
    "import tf2onnx"
   ]
  },
  {
   "cell_type": "code",
   "execution_count": 4,
   "metadata": {},
   "outputs": [
    {
     "name": "stdout",
     "output_type": "stream",
     "text": [
      "0.2.3\n",
      "3.8.6 (v3.8.6:db455296be, Sep 23 2020, 13:31:39) \n",
      "[Clang 6.0 (clang-600.0.57)]\n",
      "1.7.0\n",
      "1.8.5\n"
     ]
    }
   ],
   "source": [
    "print(dpcal.__version__)\n",
    "print(sys.version)\n",
    "print(ort.__version__)\n",
    "print(tf2onnx.__version__)"
   ]
  },
  {
   "cell_type": "code",
   "execution_count": 14,
   "metadata": {},
   "outputs": [
    {
     "name": "stdout",
     "output_type": "stream",
     "text": [
      "combine_model.0008-31.3847.hdf5 model.0046-2.9464.json\r\n",
      "dataparams.pkl                  model.h5\r\n",
      "dataparams.txt                  weights.0046-2.9464.hdf5\r\n"
     ]
    }
   ],
   "source": [
    "!ls ../Downloads/Zee_mc_1000_epochs_3_8_5"
   ]
  },
  {
   "cell_type": "code",
   "execution_count": 15,
   "metadata": {},
   "outputs": [
    {
     "name": "stdout",
     "output_type": "stream",
     "text": [
      "../Downloads/Zee_mc_1000_epochs_3_8_5/model.0046-2.9464.json\n"
     ]
    }
   ],
   "source": [
    "model_path = '../Downloads/Zee_mc_1000_epochs_3_8_5/model.0046-2.9464.json'\n",
    "print(model_path)"
   ]
  },
  {
   "cell_type": "code",
   "execution_count": 16,
   "metadata": {},
   "outputs": [],
   "source": [
    "with open(model_path, 'r') as model_json:\n",
    "    arch = json.load(model_json)\n",
    "    model = ks.models.model_from_json(arch, custom_objects={'FiLM': dpcal.layers.FiLM()})"
   ]
  },
  {
   "cell_type": "code",
   "execution_count": 17,
   "metadata": {},
   "outputs": [
    {
     "name": "stdout",
     "output_type": "stream",
     "text": [
      "Model: \"model_2\"\n",
      "__________________________________________________________________________________________________\n",
      "Layer (type)                    Output Shape         Param #     Connected to                     \n",
      "==================================================================================================\n",
      "em_barrel (InputLayer)          [(None, 56, 11, 4)]  0                                            \n",
      "__________________________________________________________________________________________________\n",
      "scalars (InputLayer)            [(None, 16)]         0                                            \n",
      "__________________________________________________________________________________________________\n",
      "up_sampling2d (UpSampling2D)    (None, 56, 55, 4)    0           em_barrel[0][0]                  \n",
      "__________________________________________________________________________________________________\n",
      "scalar_net (Functional)         (None, 256)          5120        scalars[0][0]                    \n",
      "__________________________________________________________________________________________________\n",
      "lambda (Lambda)                 (None, 56, 55, 4)    0           up_sampling2d[0][0]              \n",
      "__________________________________________________________________________________________________\n",
      "FiLM_generator (Functional)     [(None, 32), (None,  1678304     scalar_net[0][0]                 \n",
      "__________________________________________________________________________________________________\n",
      "cnn (Functional)                (None, 3, 3, 256)    1180528     lambda[0][0]                     \n",
      "                                                                 FiLM_generator[0][0]             \n",
      "                                                                 FiLM_generator[0][1]             \n",
      "                                                                 FiLM_generator[0][2]             \n",
      "                                                                 FiLM_generator[0][3]             \n",
      "                                                                 FiLM_generator[0][4]             \n",
      "__________________________________________________________________________________________________\n",
      "tracks (InputLayer)             [(None, 10, 13, 1)]  0                                            \n",
      "__________________________________________________________________________________________________\n",
      "flatten_1 (Flatten)             (None, 2304)         0           cnn[0][0]                        \n",
      "__________________________________________________________________________________________________\n",
      "model_1 (Functional)            (None, 32)           8970        tracks[0][0]                     \n",
      "__________________________________________________________________________________________________\n",
      "concatenate (Concatenate)       (None, 2336)         0           flatten_1[0][0]                  \n",
      "                                                                 model_1[0][0]                    \n",
      "__________________________________________________________________________________________________\n",
      "top (Functional)                (None, 1)            665857      concatenate[0][0]                \n",
      "__________________________________________________________________________________________________\n",
      "multiply_output_with (InputLaye [(None, 1)]          0                                            \n",
      "__________________________________________________________________________________________________\n",
      "event_info (InputLayer)         [(None, 5)]          0                                            \n",
      "__________________________________________________________________________________________________\n",
      "multiply (Multiply)             (None, 1)            0           top[0][0]                        \n",
      "                                                                 multiply_output_with[0][0]       \n",
      "==================================================================================================\n",
      "Total params: 3,538,779\n",
      "Trainable params: 3,532,071\n",
      "Non-trainable params: 6,708\n",
      "__________________________________________________________________________________________________\n"
     ]
    }
   ],
   "source": [
    "model.summary()"
   ]
  },
  {
   "cell_type": "code",
   "execution_count": 19,
   "metadata": {},
   "outputs": [],
   "source": [
    "model.load_weights(\"../Downloads/Zee_mc_1000_epochs_3_8_5/weights.0046-2.9464.hdf5\")"
   ]
  },
  {
   "cell_type": "code",
   "execution_count": 20,
   "metadata": {},
   "outputs": [],
   "source": [
    "spec = (\n",
    "\n",
    "    tf.TensorSpec((None,  5), tf.float32, name=\"event_info\"),\n",
    "\n",
    "    tf.TensorSpec((None,  10, 13, 1), tf.float32, name=\"tracks\"),\n",
    "\n",
    "    tf.TensorSpec((None,  56, 11, 4), tf.float32, name=\"em_barrel\"),\n",
    "\n",
    "    tf.TensorSpec((None,  1), tf.float32, name=\"multiply_output_with\"),\n",
    "\n",
    "    tf.TensorSpec((None,  16), tf.float32, name=\"scalars\"),\n",
    "\n",
    ")"
   ]
  },
  {
   "cell_type": "markdown",
   "metadata": {},
   "source": [
    "## Convert keras model to Onnx"
   ]
  },
  {
   "cell_type": "code",
   "execution_count": 21,
   "metadata": {},
   "outputs": [
    {
     "name": "stdout",
     "output_type": "stream",
     "text": [
      "WARNING:tensorflow:From /Users/bakshiguptad/Dpenv/lib/python3.8/site-packages/tf2onnx/tf_loader.py:603: extract_sub_graph (from tensorflow.python.framework.graph_util_impl) is deprecated and will be removed in a future version.\n",
      "Instructions for updating:\n",
      "Use `tf.compat.v1.graph_util.extract_sub_graph`\n"
     ]
    }
   ],
   "source": [
    "model_proto, _ = tf2onnx.convert.from_keras(\n",
    "\n",
    "    model, input_signature=spec, opset=13, output_path=\"../Downloads/model.0046_2.9464.onnx\")"
   ]
  },
  {
   "cell_type": "markdown",
   "metadata": {},
   "source": [
    "## Validating the Onnx model"
   ]
  },
  {
   "cell_type": "code",
   "execution_count": 22,
   "metadata": {},
   "outputs": [],
   "source": [
    "sess_ort = ort.InferenceSession(\"../Downloads/model.0046_2.9464.onnx\")"
   ]
  },
  {
   "cell_type": "code",
   "execution_count": 25,
   "metadata": {},
   "outputs": [
    {
     "name": "stdout",
     "output_type": "stream",
     "text": [
      "event_info : ['unk__224', 5]\n",
      "tracks : ['unk__225', 10, 13, 1]\n",
      "em_barrel : ['unk__226', 56, 11, 4]\n",
      "multiply_output_with : ['unk__227', 1]\n",
      "scalars : ['unk__228', 16]\n"
     ]
    }
   ],
   "source": [
    "for i in range(len(sess_ort.get_inputs())):\n",
    "    print(sess_ort.get_inputs()[i].name,\":\",sess_ort.get_inputs()[i].shape)"
   ]
  },
  {
   "cell_type": "code",
   "execution_count": 27,
   "metadata": {},
   "outputs": [
    {
     "name": "stdout",
     "output_type": "stream",
     "text": [
      "output_name multiply\n",
      "output shape ['unk__229', 1]\n",
      "output type tensor(float)\n"
     ]
    }
   ],
   "source": [
    "output_name = sess_ort.get_outputs()[0].name\n",
    "print(\"output_name\", output_name)\n",
    "output_shape = sess_ort.get_outputs()[0].shape\n",
    "print(\"output shape\", output_shape)\n",
    "output_type = sess_ort.get_outputs()[0].type\n",
    "print(\"output type\", output_type)"
   ]
  },
  {
   "cell_type": "code",
   "execution_count": null,
   "metadata": {},
   "outputs": [],
   "source": []
  }
 ],
 "metadata": {
  "kernelspec": {
   "display_name": "Dpenv",
   "language": "python",
   "name": "dpenv"
  },
  "language_info": {
   "codemirror_mode": {
    "name": "ipython",
    "version": 3
   },
   "file_extension": ".py",
   "mimetype": "text/x-python",
   "name": "python",
   "nbconvert_exporter": "python",
   "pygments_lexer": "ipython3",
   "version": "3.8.6"
  }
 },
 "nbformat": 4,
 "nbformat_minor": 2
}
